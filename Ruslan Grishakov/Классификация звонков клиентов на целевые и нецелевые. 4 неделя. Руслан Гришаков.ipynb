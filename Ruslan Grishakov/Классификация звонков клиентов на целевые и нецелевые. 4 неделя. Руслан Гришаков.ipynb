{
  "nbformat": 4,
  "nbformat_minor": 0,
  "metadata": {
    "colab": {
      "provenance": [],
      "collapsed_sections": [
        "GeEu96leTaL6",
        "DssdFPlnTNpa",
        "KB1Wiug_ZY6x",
        "q3aQ_fFIbDPd",
        "WoVMhXE6WRNt",
        "djvjpOhGX0Wp",
        "9KnEF1y6Xg0f",
        "GGz7wEECi7j-",
        "T2VRdFJJY1jU",
        "jv1TUrlvTXIb",
        "DiQ8o_nqSIR5",
        "BmATuWUcY81I",
        "pYrliV6_TEln",
        "DdsSP-pVZs0D",
        "VMADoAw7pOYM",
        "AhfLN_vja4Pr",
        "nUvjMachbwzK",
        "LJLJblPRRxrd",
        "QefYCR7ySy5r",
        "yAGfK8yiSsBt",
        "F7aY3huuVI8I",
        "6p4mq_dy8kIv",
        "BY8-HoCK836U",
        "pjlJV3B0Ycz-",
        "ckYt_8I-IpbI",
        "crK3VvgbXyrm",
        "hswt2p0kh8dL",
        "8gglGeNEzUIg",
        "fyq4Zl3_2LHx",
        "gP1wSDEL9prZ",
        "Xxx4B_5597gd",
        "2Bph-ybyS8oq",
        "ZZ60FcqYVtBx",
        "AfVMqGC415Wf",
        "BqsybOr_9Z8t",
        "BvXz6JTL9mZO",
        "scUjk_Eo-Au5",
        "85mLNw7zY71z",
        "gjlKeRchMw5p",
        "bZlngnPyKz2W",
        "huDsAVZWdDMk",
        "q69G8GDedTDO",
        "eTl1lZyXQ5A0"
      ]
    },
    "kernelspec": {
      "name": "python3",
      "display_name": "Python 3"
    },
    "language_info": {
      "name": "python"
    }
  },
  "cells": [
    {
      "cell_type": "markdown",
      "source": [
        "# [Датафреймы](https://drive.google.com/drive/folders/13K24GVmATfSxGF0K0LcWFHBiLxJRuRyN?usp=sharing)"
      ],
      "metadata": {
        "id": "GeEu96leTaL6"
      }
    },
    {
      "cell_type": "markdown",
      "source": [
        "*   [`Headliner_df.pkl` Датафрейм информации о звонках `Headliner`](https://drive.google.com/file/d/1-86JPhdac5Y-YIggqYWVh9rFCDoe8Uej/view?usp=sharing)\n",
        "*   [`Primavera_df.pkl` Датафрейм информации о звонках `Primavera`](https://drive.google.com/file/d/16vejQ6aIN1VprZ8RuaG0Dx4SSj3eebbP/view?usp=sharing)\n",
        "*   [`Paveletskaya_city_df.pkl` Датафрейм информации о звонках `Paveletskaya_city`](https://drive.google.com/file/d/1-0RLElus9y3f3xJ7PovfTDFoLh_2HnPK/view?usp=sharing)\n",
        "*   [`Paveletskaya_df.pkl` Датафрейм информации о звонках `Paveletskaya`](https://drive.google.com/file/d/1-3V7Dyjq-N3m0dc-7FztObG4PeRrMfHl/view?usp=sharing)\n",
        "*   [`total_df.pkl` Общий датафрейм информации о звонках](https://drive.google.com/file/d/18LdqvkasD_NMNbB025jQDyWmuTWfXrin/view?usp=sharing)\n",
        "*   [`total_not_match_df.pkl` Общий датафрейм информации о звонках без файлов записей звонков](https://drive.google.com/file/d/1-0C7m74ofUqLCH4C-eX3ARZMWRLOQeMJ/view?usp=sharing)\n",
        "*   [`total_match_df.pkl` Общий датафрейм информации о звонках с файлами записей звонков](https://drive.google.com/file/d/1-JerYBfZ95fZX698-N25-gC1HNC0jwTy/view?usp=sharing)\n",
        "*   [`files_for_transcription_df.pkl` Файлы записей звонков для транскрибации](https://drive.google.com/file/d/1zYs0ioydR3cNvn2GItm3t4-_DOHELmcz/view?usp=sharing)\n",
        "*   [`Headliner_transcriptions_duplicates_df.pkl` Дубликаты файлов транскрибации записей звонков `Headliner`](https://drive.google.com/file/d/1AipPmqtkKenGn3FeT6j9bRpmhLE4Nb52/view?usp=sharing)\n",
        "*   [`Headliner_transcriptions_df.pkl` Файлы транскрибации записей звонков `Headliner`](https://drive.google.com/file/d/1-6nvHviEZcJhQN_5ayJHWi915VZSaH85/view?usp=sharing)\n",
        "*   [`Primavera_transcriptions_df.pkl` Файлы транскрибации записей звонков `Primavera`](https://drive.google.com/file/d/1-95iMVyyHCY3TLw7MjTuvhKged0F7Fvk/view?usp=sharing)\n",
        "*   [`Paveletskaya_city_transcriptions_df.pkl` Файлы транскрибации записей звонков `Paveletskaya_city`](https://drive.google.com/file/d/1-AEMld0GLwY8F9eb8Zl-i4JR0iMriDG3/view?usp=sharing)\n",
        "*   [`Headliner_transcriptions_text_df.pkl` Датафрейм с текстами транскрибации записей звонков `Headliner`](https://drive.google.com/file/d/1-BW6FuH533sHste2-G3lsz5UwgCHq-tA/view?usp=sharing)\n",
        "*   [`Primavera_transcriptions_text_df.pkl` Датафрейм с текстами транскрибации записей звонков `Primavera`](https://drive.google.com/file/d/1-GtHNxJsJXLeJ3caAmEeLSnC8hKI9IHS/view?usp=sharing)\n",
        "*   [`Paveletskaya_city_transcriptions_text_df.pkl` Датафрейм с текстами транскрибации записей звонков `Paveletskaya_city`](https://drive.google.com/file/d/1-JJd74nlGwpV5AOkTFjCagZ9GACk1-Jr/view?usp=sharing)\n",
        "*   [`transcriptions_df.pkl` Общий датафрейм из файлов транскрибации звонков](https://drive.google.com/file/d/1-4XFnmUfM5XSlobGbxjYNvqIC5mIETKa/view?usp=sharing)\n",
        "*   [`empty_transcriptions_text_df.pkl` Датафрейм с пустыми текстами транскрибации звонков](https://drive.google.com/file/d/1k9BBo6NHO3P6wC39FHPS4L1HU6hUc1CC/view?usp=sharing)\n",
        "*   [`total_transcriptions_text_df.pkl` Общий датафрейм информации о звонках с добавленными текстами транскрибации Whisper](https://drive.google.com/file/d/1-9aVRx43rM7eXesI8Q8Rp-ClfjKMLK4e/view?usp=sharing)"
      ],
      "metadata": {
        "id": "HL74CBRlSfIX"
      }
    },
    {
      "cell_type": "markdown",
      "source": [
        "# [Таблицы](https://drive.google.com/drive/folders/1Wr3rQQkQtTuTFMRSdAbz1rMPHxdHCeLZ?usp=sharing)"
      ],
      "metadata": {
        "id": "DssdFPlnTNpa"
      }
    },
    {
      "cell_type": "markdown",
      "source": [
        "*   [Записи звонков без информации в csv-файлах.xlsx](https://docs.google.com/spreadsheets/d/1-5hKNi2yH7Vy94H_LatiNmscocsK7U5m/edit?usp=sharing&ouid=103791142604649006389&rtpof=true&sd=true)\n",
        "*   [Информация о звонках в csv-файлах без файлов записи звонков.xlsx](https://docs.google.com/spreadsheets/d/1-DpzEGSH02laE7cKinwxNzPj2zhXgN6J/edit?usp=sharing&ouid=103791142604649006389&rtpof=true&sd=true)\n",
        "*   [Информация о звонках в csv-файлах с файлами записи звонков.xlsx](https://docs.google.com/spreadsheets/d/1-QR-Xng6RHZGsJCRVQQP3jCosBAQAIIF/edit?usp=sharing&ouid=103791142604649006389&rtpof=true&sd=true)\n",
        "*   [Файлы для транскрибации.xlsx](https://docs.google.com/spreadsheets/d/1--RU4rTU--Zyb--3brX7sPPb30Z--YGl/edit?usp=sharing&ouid=103791142604649006389&rtpof=true&sd=true)\n",
        "*   [Дубликаты файлов транскрибации звонков Headliner.xlsx](https://docs.google.com/spreadsheets/d/1-6TFKVSaEAkXlIKS5TGpHi9_Thv3pK3p/edit?usp=sharing&ouid=103791142604649006389&rtpof=true&sd=true)\n",
        "*   [Файлы с пустыми текстами транскрибации звонков.xlsx](https://docs.google.com/spreadsheets/d/1-1Y5i4nVLA5O1rjwDfX1LkZbMnZywaIO/edit?usp=sharing&ouid=103791142604649006389&rtpof=true&sd=true)\n",
        "*   [Теги.xlsx](https://docs.google.com/spreadsheets/d/1-56Uq5KmszbHheKOxVL7BPUmmYz2bKhb/edit?usp=sharing&ouid=103791142604649006389&rtpof=true&sd=true)"
      ],
      "metadata": {
        "id": "c2ZBxaiMVwgy"
      }
    },
    {
      "cell_type": "markdown",
      "source": [
        "# 4 неделя"
      ],
      "metadata": {
        "id": "KB1Wiug_ZY6x"
      }
    },
    {
      "cell_type": "code",
      "source": [
        "!rm -r sample_data"
      ],
      "metadata": {
        "id": "3Vq6q_AeZcE_"
      },
      "execution_count": null,
      "outputs": []
    },
    {
      "cell_type": "code",
      "source": [
        "# Подключаем google-диск\n",
        "from google.colab import drive\n",
        "drive.mount('/content/drive')\n",
        "my_drv_path = '/content/drive/MyDrive/'"
      ],
      "metadata": {
        "id": "3y-K3JHEZo8X",
        "colab": {
          "base_uri": "https://localhost:8080/"
        },
        "outputId": "4e2ee5e0-9d86-4519-e1f9-dee37f14c613"
      },
      "execution_count": null,
      "outputs": [
        {
          "output_type": "stream",
          "name": "stdout",
          "text": [
            "Mounted at /content/drive\n"
          ]
        }
      ]
    },
    {
      "cell_type": "markdown",
      "source": [
        "## Библиотеки и переменные"
      ],
      "metadata": {
        "id": "q3aQ_fFIbDPd"
      }
    },
    {
      "cell_type": "code",
      "source": [
        "import pickle as pkl # для сохранения и загрузки переменных\n",
        "import pandas as pd  # для работы с таблицами\n",
        "import os\n",
        "\n",
        "# Параметры отображения датафреймов\n",
        "pd.options.display.max_rows     = 99\n",
        "pd.options.display.max_colwidth = 999\n",
        "\n",
        "df_path    = my_drv_path + 'media108.ru/Датафреймы/' # путь к папке для датафреймов\n",
        "table_path = my_drv_path + 'media108.ru/Таблицы/'    # путь к папке для таблиц"
      ],
      "metadata": {
        "id": "Mxq5J0ZWbDPf"
      },
      "execution_count": null,
      "outputs": []
    },
    {
      "cell_type": "markdown",
      "source": [
        "## Верификация датафреймов и получение перечня файлов для траскрибации"
      ],
      "metadata": {
        "id": "WoVMhXE6WRNt"
      }
    },
    {
      "cell_type": "markdown",
      "source": [
        "### Загрузка датафреймов"
      ],
      "metadata": {
        "id": "djvjpOhGX0Wp"
      }
    },
    {
      "cell_type": "code",
      "source": [
        "# Загружаем total_df из файла\n",
        "with open(df_path + 'total_df.pkl', 'rb') as f:\n",
        "  total_df = pkl.load(f)\n",
        "\n",
        "# Загружаем calls_not_match_info_df из файла\n",
        "with open(df_path + 'calls_not_match_info_df.pkl', 'rb') as f:\n",
        "  calls_not_match_info_df = pkl.load(f)\n",
        "\n",
        "# Загружаем Headliner_calls_df из файла\n",
        "with open(df_path + 'Headliner_calls_df.pkl', 'rb') as f:\n",
        "  Headliner_calls_df = pkl.load(f)\n",
        "\n",
        "# Загружаем Primavera_calls_df из файла\n",
        "with open(df_path + 'Primavera_calls_df.pkl', 'rb') as f:\n",
        "  Primavera_calls_df = pkl.load(f)\n",
        "\n",
        "# Загружаем Paveletskaya_city_calls_df из файла\n",
        "with open(df_path + 'Paveletskaya_city_calls_df.pkl', 'rb') as f:\n",
        "  Paveletskaya_city_calls_df = pkl.load(f)"
      ],
      "metadata": {
        "id": "CAZBRCwlX0W2"
      },
      "execution_count": null,
      "outputs": []
    },
    {
      "cell_type": "markdown",
      "source": [
        "### Верификация записей звонков"
      ],
      "metadata": {
        "id": "9KnEF1y6Xg0f"
      }
    },
    {
      "cell_type": "code",
      "source": [
        "# Количество записей звонков в проекте Headliner\n",
        "Headliner_calls_df.shape[0]"
      ],
      "metadata": {
        "colab": {
          "base_uri": "https://localhost:8080/"
        },
        "id": "-5XEMQdl5wZp",
        "outputId": "4c0902d7-5d8a-4606-c1e2-f11cc426e80e"
      },
      "execution_count": null,
      "outputs": [
        {
          "output_type": "execute_result",
          "data": {
            "text/plain": [
              "2045"
            ]
          },
          "metadata": {},
          "execution_count": 5
        }
      ]
    },
    {
      "cell_type": "code",
      "source": [
        "# Количество записей звонков без информации в проекте Headliner\n",
        "Headliner_calls_df[~Headliner_calls_df['Идентификатор сессии звонка'].isin(total_df['Идентификатор сессии звонка'])].shape[0]"
      ],
      "metadata": {
        "colab": {
          "base_uri": "https://localhost:8080/"
        },
        "id": "Bf8VvQqFXlS5",
        "outputId": "5fbd3cb2-a433-4131-8f2a-d677ee6544c0"
      },
      "execution_count": null,
      "outputs": [
        {
          "output_type": "execute_result",
          "data": {
            "text/plain": [
              "0"
            ]
          },
          "metadata": {},
          "execution_count": 6
        }
      ]
    },
    {
      "cell_type": "code",
      "source": [
        "# Количество записей звонков в проекте Primavera\n",
        "Primavera_calls_df.shape[0]"
      ],
      "metadata": {
        "colab": {
          "base_uri": "https://localhost:8080/"
        },
        "id": "FA1rnx1Y6XuY",
        "outputId": "fbc73c93-7147-4b6d-b0b8-10626f06833b"
      },
      "execution_count": null,
      "outputs": [
        {
          "output_type": "execute_result",
          "data": {
            "text/plain": [
              "1983"
            ]
          },
          "metadata": {},
          "execution_count": 7
        }
      ]
    },
    {
      "cell_type": "code",
      "source": [
        "# Количество записей звонков без информации в проекте Primavera\n",
        "Primavera_calls_df[~Primavera_calls_df['Идентификатор сессии звонка'].isin(total_df['Идентификатор сессии звонка'])].shape[0]"
      ],
      "metadata": {
        "colab": {
          "base_uri": "https://localhost:8080/"
        },
        "id": "JC0b1XkzbFcy",
        "outputId": "16705d33-9a95-46b9-8a8c-bcb93162000c"
      },
      "execution_count": null,
      "outputs": [
        {
          "output_type": "execute_result",
          "data": {
            "text/plain": [
              "466"
            ]
          },
          "metadata": {},
          "execution_count": 8
        }
      ]
    },
    {
      "cell_type": "code",
      "source": [
        "# Количество записей звонков в проекте Paveletskaya_city\n",
        "Paveletskaya_city_calls_df.shape[0]"
      ],
      "metadata": {
        "colab": {
          "base_uri": "https://localhost:8080/"
        },
        "id": "j-LGtz4x6xGp",
        "outputId": "8c33e823-2a17-4e4a-c441-1151c077f906"
      },
      "execution_count": null,
      "outputs": [
        {
          "output_type": "execute_result",
          "data": {
            "text/plain": [
              "1000"
            ]
          },
          "metadata": {},
          "execution_count": 9
        }
      ]
    },
    {
      "cell_type": "code",
      "source": [
        "# Количество записей звонков без информации в проекте Paveletskaya_city\n",
        "Paveletskaya_city_calls_df[~Paveletskaya_city_calls_df['Идентификатор сессии звонка'].isin(total_df['Идентификатор сессии звонка'])].shape[0]"
      ],
      "metadata": {
        "colab": {
          "base_uri": "https://localhost:8080/"
        },
        "id": "YpsmtxMJbofE",
        "outputId": "99028fc0-040c-45df-8f73-d7bd5365ae75"
      },
      "execution_count": null,
      "outputs": [
        {
          "output_type": "execute_result",
          "data": {
            "text/plain": [
              "0"
            ]
          },
          "metadata": {},
          "execution_count": 10
        }
      ]
    },
    {
      "cell_type": "code",
      "source": [
        "# Общее количество отсутствующих записей звонков\n",
        "calls_not_match_info_df.shape[0]"
      ],
      "metadata": {
        "colab": {
          "base_uri": "https://localhost:8080/"
        },
        "id": "AnUHyRYEdd-p",
        "outputId": "9dd27a9e-28e6-4275-9d83-43912f9a0fd4"
      },
      "execution_count": null,
      "outputs": [
        {
          "output_type": "execute_result",
          "data": {
            "text/plain": [
              "466"
            ]
          },
          "metadata": {},
          "execution_count": 11
        }
      ]
    },
    {
      "cell_type": "markdown",
      "source": [
        "### Файлы для траскрибации"
      ],
      "metadata": {
        "id": "GGz7wEECi7j-"
      }
    },
    {
      "cell_type": "code",
      "source": [
        "# Количество файлов для транскрибации\n",
        "total_df['Файл записи звонка'][total_df['Файл записи звонка'] != 'нет файла'].shape[0]"
      ],
      "metadata": {
        "colab": {
          "base_uri": "https://localhost:8080/"
        },
        "id": "oJx5tx0Y49Wv",
        "outputId": "093aaa75-933a-4034-a700-1efa5b68661e"
      },
      "execution_count": null,
      "outputs": [
        {
          "output_type": "execute_result",
          "data": {
            "text/plain": [
              "4562"
            ]
          },
          "metadata": {},
          "execution_count": 12
        }
      ]
    },
    {
      "cell_type": "code",
      "source": [
        "# Файлы для транскрибации\n",
        "files_for_transcription_df = total_df['Файл записи звонка'][total_df['Файл записи звонка'] != 'нет файла']\n",
        "files_for_transcription_df.index = range(files_for_transcription_df.shape[0])\n",
        "files_for_transcription_df.head()"
      ],
      "metadata": {
        "colab": {
          "base_uri": "https://localhost:8080/"
        },
        "id": "I2hvW5N2jCgn",
        "outputId": "6c16c3d2-2e79-4896-ef55-6a631eba0a82"
      },
      "execution_count": null,
      "outputs": [
        {
          "output_type": "execute_result",
          "data": {
            "text/plain": [
              "0    Записи звонков/Записи звонков_хедлайнер/2023-05-08_16-14-10.247769_from_74955199580_to_74997552563_session_2918538922_talk.mp3\n",
              "1    Записи звонков/Записи звонков_хедлайнер/2023-05-09_11-53-48.291185_from_79910665524_to_74997552563_session_2919161802_talk.mp3\n",
              "2        Записи звонков/Записи звонков_хедлайнер/2023-05-09_17-51-30.193682_from_79670165153_to_0188880_session_2919520238_talk.mp3\n",
              "3    Записи звонков/Записи звонков_хедлайнер/2023-05-09_18-34-04.371381_from_79274431546_to_74997552563_session_2919550530_talk.mp3\n",
              "4    Записи звонков/Записи звонков_хедлайнер/2023-05-09_20-19-21.050197_from_79274432048_to_74997552563_session_2919615074_talk.mp3\n",
              "Name: Файл записи звонка, dtype: object"
            ]
          },
          "metadata": {},
          "execution_count": 14
        }
      ]
    },
    {
      "cell_type": "code",
      "source": [
        "# Сохраняем files_for_transcription_df в файл\n",
        "with open(df_path + 'files_for_transcription_df.pkl', 'wb') as f:\n",
        "  pkl.dump(files_for_transcription_df, f)"
      ],
      "metadata": {
        "id": "CwMyVq9YRFv1"
      },
      "execution_count": null,
      "outputs": []
    },
    {
      "cell_type": "code",
      "source": [
        "# Сохраняем files_for_transcription_df в файл Microsoft Excell\n",
        "with pd.ExcelWriter(table_path + 'Файлы для транскрибации.xlsx') as excel_writer:\n",
        "  files_for_transcription_df.to_excel(excel_writer, sheet_name='Файлы для транскрибации', index=False)"
      ],
      "metadata": {
        "id": "7VgMcXvxRmzE"
      },
      "execution_count": null,
      "outputs": []
    },
    {
      "cell_type": "markdown",
      "source": [
        "## API ChatGPT"
      ],
      "metadata": {
        "id": "T2VRdFJJY1jU"
      }
    },
    {
      "cell_type": "markdown",
      "source": [
        "### Библиотеки"
      ],
      "metadata": {
        "id": "jv1TUrlvTXIb"
      }
    },
    {
      "cell_type": "code",
      "source": [
        "# Установка библиотек\n",
        "!pip -q install openai langchain tiktoken faiss-cpu"
      ],
      "metadata": {
        "colab": {
          "base_uri": "https://localhost:8080/"
        },
        "outputId": "f175d7e4-b3d7-4680-c940-14b8666fc660",
        "id": "UWA7cUilTXIr"
      },
      "execution_count": null,
      "outputs": [
        {
          "output_type": "stream",
          "name": "stdout",
          "text": [
            "\u001b[2K     \u001b[90m━━━━━━━━━━━━━━━━━━━━━━━━━━━━━━━━━━━━━━━━\u001b[0m \u001b[32m77.0/77.0 kB\u001b[0m \u001b[31m2.2 MB/s\u001b[0m eta \u001b[36m0:00:00\u001b[0m\n",
            "\u001b[2K     \u001b[90m━━━━━━━━━━━━━━━━━━━━━━━━━━━━━━━━━━━━━━━━\u001b[0m \u001b[32m1.8/1.8 MB\u001b[0m \u001b[31m13.0 MB/s\u001b[0m eta \u001b[36m0:00:00\u001b[0m\n",
            "\u001b[2K     \u001b[90m━━━━━━━━━━━━━━━━━━━━━━━━━━━━━━━━━━━━━━━━\u001b[0m \u001b[32m2.0/2.0 MB\u001b[0m \u001b[31m21.7 MB/s\u001b[0m eta \u001b[36m0:00:00\u001b[0m\n",
            "\u001b[2K     \u001b[90m━━━━━━━━━━━━━━━━━━━━━━━━━━━━━━━━━━━━━━━━\u001b[0m \u001b[32m17.6/17.6 MB\u001b[0m \u001b[31m34.1 MB/s\u001b[0m eta \u001b[36m0:00:00\u001b[0m\n",
            "\u001b[2K     \u001b[90m━━━━━━━━━━━━━━━━━━━━━━━━━━━━━━━━━━━━━━━━\u001b[0m \u001b[32m49.4/49.4 kB\u001b[0m \u001b[31m3.9 MB/s\u001b[0m eta \u001b[36m0:00:00\u001b[0m\n",
            "\u001b[?25h"
          ]
        }
      ]
    },
    {
      "cell_type": "code",
      "source": [
        "import getpass\n",
        "import openai\n",
        "import tiktoken\n",
        "import re\n",
        "import requests\n",
        "from   langchain.chat_models       import ChatOpenAI\n",
        "from   langchain.schema            import AIMessage, HumanMessage, SystemMessage\n",
        "from   langchain.embeddings.openai import OpenAIEmbeddings\n",
        "from   langchain.text_splitter     import CharacterTextSplitter\n",
        "from   langchain.vectorstores      import FAISS\n",
        "from   langchain.document_loaders  import TextLoader\n",
        "from   langchain.docstore.document import Document\n",
        "from   textwrap                    import fill\n",
        "from   time                        import sleep"
      ],
      "metadata": {
        "id": "meaDZisHTXIr"
      },
      "execution_count": null,
      "outputs": []
    },
    {
      "cell_type": "markdown",
      "source": [
        "### Функции"
      ],
      "metadata": {
        "id": "DiQ8o_nqSIR5"
      }
    },
    {
      "cell_type": "code",
      "source": [
        "# Функция для ввода ключа OpenAI API\n",
        "def get_openai_api_key():\n",
        "  openai_key = getpass.getpass('OpenAI API Key:')\n",
        "  os.environ['OPENAI_API_KEY'] = openai_key\n",
        "  openai.api_key = openai_key\n",
        "\n",
        "\n",
        "# Функция для деления текста на части\n",
        "def get_chunks_from_text(text_file):\n",
        "\n",
        "  loader        = TextLoader(text_file)\n",
        "  documents     = loader.load()\n",
        "  text_splitter = CharacterTextSplitter(separator='\\n', chunk_size=1000, chunk_overlap=0)\n",
        "\n",
        "  return text_splitter.split_documents(documents)\n",
        "\n",
        "\n",
        "# Функция для отправки запроса к chatGPT по API с дообучением на своей базе\n",
        "def get_chatGPT_answer_from_own_knowledge_base(prompt, query, knowledge_base, model='gpt-3.5-turbo', temperature=0):\n",
        "\n",
        "  docs = knowledge_base.similarity_search(query, k=4)\n",
        "  message_content = re.sub(r'\\n{2}', ' ', '\\n '.join([f'\\nОтрывок документа №{i+1}\\n=====================' + doc.page_content + '\\n' for i, doc in enumerate(docs)]))\n",
        "\n",
        "  messages = [{'role': 'system', 'content': prompt},\n",
        "             {'role': 'user', 'content': f'Документ с информацией для ответа клиенту: {message_content}\\n\\nВопрос клиента: \\n{query}'}]\n",
        "\n",
        "  completion = openai.ChatCompletion.create(model=model,messages=messages,temperature=temperature)\n",
        "\n",
        "  return message_content, fill(completion.choices[0].message.content)"
      ],
      "metadata": {
        "id": "TNsWZmTGSOBe"
      },
      "execution_count": null,
      "outputs": []
    },
    {
      "cell_type": "markdown",
      "source": [
        "### Классификация отзывов по автомобилю Tesla с помощью ChatGPT"
      ],
      "metadata": {
        "id": "BmATuWUcY81I"
      }
    },
    {
      "cell_type": "markdown",
      "source": [
        "#### Библиотеки"
      ],
      "metadata": {
        "id": "pYrliV6_TEln"
      }
    },
    {
      "cell_type": "code",
      "source": [
        "import gdown"
      ],
      "metadata": {
        "id": "6sLUw9xATIO4"
      },
      "execution_count": null,
      "outputs": []
    },
    {
      "cell_type": "markdown",
      "source": [
        "#### Загрузка датасета отзывов по автомобилю Tesla"
      ],
      "metadata": {
        "id": "DdsSP-pVZs0D"
      }
    },
    {
      "cell_type": "code",
      "source": [
        "# Загружаем архив\n",
        "gdown.download('https://storage.yandexcloud.net/aiueducation/Content/base/l7/tesla.zip', None, quiet=True)"
      ],
      "metadata": {
        "colab": {
          "base_uri": "https://localhost:8080/",
          "height": 35
        },
        "id": "KkN4AVdYZFz-",
        "outputId": "82acd9c2-54ce-4fc4-dc56-fc86913dde72"
      },
      "execution_count": null,
      "outputs": [
        {
          "output_type": "execute_result",
          "data": {
            "text/plain": [
              "'tesla.zip'"
            ],
            "application/vnd.google.colaboratory.intrinsic+json": {
              "type": "string"
            }
          },
          "metadata": {},
          "execution_count": 1
        }
      ]
    },
    {
      "cell_type": "code",
      "source": [
        "# Распаковываем архив\n",
        "!unzip -qo tesla.zip -d tesla/\n",
        "\n",
        "# Смотрим содержимое папки\n",
        "!ls tesla"
      ],
      "metadata": {
        "colab": {
          "base_uri": "https://localhost:8080/"
        },
        "id": "JsqpOmQnaczw",
        "outputId": "0af6e6d2-828b-48dc-b513-b9ddc58ad787"
      },
      "execution_count": null,
      "outputs": [
        {
          "output_type": "stream",
          "name": "stdout",
          "text": [
            "'Негативный отзыв.txt'\t'Позитивный отзыв.txt'\n"
          ]
        }
      ]
    },
    {
      "cell_type": "markdown",
      "source": [
        "#### Функции"
      ],
      "metadata": {
        "id": "VMADoAw7pOYM"
      }
    },
    {
      "cell_type": "code",
      "source": [
        "# Функция для чтения текстового файла в список\n",
        "def read_textfile(filename):\n",
        "\n",
        "  with open(filename, 'r') as f:\n",
        "    lines = f.readlines()\n",
        "  return_list = []\n",
        "  for l in lines:\n",
        "    return_list.append(l.rstrip('\\n'))\n",
        "\n",
        "  return return_list\n",
        "\n",
        "\n",
        "# Функция для убирания части строк из текстового файла\n",
        "def truncate_textfile(filename, n=10):\n",
        "\n",
        "  with open(filename, 'r') as f:\n",
        "    lines = f.readlines()\n",
        "\n",
        "  with open(filename.rstrip('.txt') + ' (для базы знаний).txt', 'w') as f:\n",
        "    for l in lines[:-n]:\n",
        "      f.write(l)\n",
        "\n",
        "\n",
        "# Функция для создания файла базы знаний для ChatGPT из файлов с отзывами\n",
        "def make_knowledge_base(bad_reviews_filename, good_reviews_filename, n=10):\n",
        "\n",
        "  # Убираем часть строк из файлов с отзывами для базы знаний\n",
        "  truncate_textfile(bad_reviews_filename, n)\n",
        "  truncate_textfile(good_reviews_filename, n)\n",
        "\n",
        "  with open('База знаний.txt', 'a') as output_file:\n",
        "\n",
        "    with open(bad_reviews_filename.rstrip('.txt') + ' (для базы знаний).txt', 'r') as f:\n",
        "      lines = f.readlines()\n",
        "      for l in lines[:-n]:\n",
        "        output_file.write(f'Негативный отзыв: {l}')\n",
        "\n",
        "    with open(good_reviews_filename.rstrip('.txt') + ' (для базы знаний).txt', 'r') as f:\n",
        "      lines = f.readlines()\n",
        "      for l in lines[:-n]:\n",
        "        output_file.write(f'Позитивный отзыв: {l}')"
      ],
      "metadata": {
        "id": "-2IRlAfGpZNN"
      },
      "execution_count": null,
      "outputs": []
    },
    {
      "cell_type": "markdown",
      "source": [
        "#### Загрузка текстов в списки и датафреймы"
      ],
      "metadata": {
        "id": "AhfLN_vja4Pr"
      }
    },
    {
      "cell_type": "code",
      "source": [
        "# Смотрим начало файла с негативными отзывами\n",
        "!head '/content/tesla/Негативный отзыв.txt'"
      ],
      "metadata": {
        "colab": {
          "base_uri": "https://localhost:8080/"
        },
        "id": "hpvvSUMJh3DL",
        "outputId": "c5f6d047-6291-4d09-87db-ca3ab64c8089"
      },
      "execution_count": null,
      "outputs": [
        {
          "output_type": "stream",
          "name": "stdout",
          "text": [
            "После 170 на трассе она чувствует себя неуверенно. \n",
            "Кстати сидения очень удобными тоже не назовёшь. ... Это моё личное впечатление об автомобиле.\n",
            "Шляпа, а не авто, все не продумано до мелочей. Пока это гаджет а не авто. Это не авто, а бренд. Стремнные материалы, стремно все.\n",
            "Прям фу фу фу и дизайн снаружи и внутри. Продал  слава богу, экран менять целое дело через полтора года\n",
            ", негодование обычно возникает из-за несостоявшихся обманутых ожиданий. Не нужно воспринимать теслу как эталон, верх совершенства и т.п.\n",
            "Относитесь к тесле как гаджету и тогда не будет несбывшихся ожиданий от него гаджету можно простить и заоблачную цену при скромных характеристиках и зазоры на дверях при выдвигающихся ручках дверей.\n",
            "Походу ещё один бот и видите как тезисы выкидывает не нужно воспринимать Теслу как эталон, Тесла это гаджет, который нет смысла покупать... \n",
            "Как я уже и писал к предыдущему посту КАЧЕСТВО СБОРКИ ХРОМАЕТ!\n",
            "Я пару дней назад указал на не совсем качественную подгонку деталей Model Y, и напомнил что третья модель на старте производства тоже страдала данной болезнью. \n",
            "Большинство знакомых говорит что фигня\n"
          ]
        }
      ]
    },
    {
      "cell_type": "code",
      "source": [
        "# Читаем файл с негативными отзывами в список\n",
        "bad_reviews_list = read_textfile('/content/tesla/Негативный отзыв.txt')"
      ],
      "metadata": {
        "id": "r__fJC5DmUjk"
      },
      "execution_count": null,
      "outputs": []
    },
    {
      "cell_type": "code",
      "source": [
        "# Создаём датафрейм с негативными отзывами\n",
        "bad_reviews_df = pd.DataFrame(bad_reviews_list, columns = ['Негативный отзыв'])\n",
        "bad_reviews_df.head(10)"
      ],
      "metadata": {
        "colab": {
          "base_uri": "https://localhost:8080/",
          "height": 398
        },
        "id": "qrnE2scJi7lS",
        "outputId": "7364530c-f759-445f-a369-4e1724bb9c3c"
      },
      "execution_count": null,
      "outputs": [
        {
          "output_type": "execute_result",
          "data": {
            "text/plain": [
              "                                                                                                                                                                                         Негативный отзыв\n",
              "0                                                                                                                                                     После 170 на трассе она чувствует себя неуверенно. \n",
              "1                                                                                                           Кстати сидения очень удобными тоже не назовёшь. ... Это моё личное впечатление об автомобиле.\n",
              "2                                                                       Шляпа, а не авто, все не продумано до мелочей. Пока это гаджет а не авто. Это не авто, а бренд. Стремнные материалы, стремно все.\n",
              "3                                                                                                 Прям фу фу фу и дизайн снаружи и внутри. Продал  слава богу, экран менять целое дело через полтора года\n",
              "4                                                                , негодование обычно возникает из-за несостоявшихся обманутых ожиданий. Не нужно воспринимать теслу как эталон, верх совершенства и т.п.\n",
              "5  Относитесь к тесле как гаджету и тогда не будет несбывшихся ожиданий от него гаджету можно простить и заоблачную цену при скромных характеристиках и зазоры на дверях при выдвигающихся ручках дверей.\n",
              "6                                                            Походу ещё один бот и видите как тезисы выкидывает не нужно воспринимать Теслу как эталон, Тесла это гаджет, который нет смысла покупать... \n",
              "7                                                                                                                                          Как я уже и писал к предыдущему посту КАЧЕСТВО СБОРКИ ХРОМАЕТ!\n",
              "8                                        Я пару дней назад указал на не совсем качественную подгонку деталей Model Y, и напомнил что третья модель на старте производства тоже страдала данной болезнью. \n",
              "9                                                                                                                                                                  Большинство знакомых говорит что фигня"
            ],
            "text/html": [
              "\n",
              "  <div id=\"df-3aab199e-66d5-4ad4-bf08-1fb003af267b\" class=\"colab-df-container\">\n",
              "    <div>\n",
              "<style scoped>\n",
              "    .dataframe tbody tr th:only-of-type {\n",
              "        vertical-align: middle;\n",
              "    }\n",
              "\n",
              "    .dataframe tbody tr th {\n",
              "        vertical-align: top;\n",
              "    }\n",
              "\n",
              "    .dataframe thead th {\n",
              "        text-align: right;\n",
              "    }\n",
              "</style>\n",
              "<table border=\"1\" class=\"dataframe\">\n",
              "  <thead>\n",
              "    <tr style=\"text-align: right;\">\n",
              "      <th></th>\n",
              "      <th>Негативный отзыв</th>\n",
              "    </tr>\n",
              "  </thead>\n",
              "  <tbody>\n",
              "    <tr>\n",
              "      <th>0</th>\n",
              "      <td>После 170 на трассе она чувствует себя неуверенно.</td>\n",
              "    </tr>\n",
              "    <tr>\n",
              "      <th>1</th>\n",
              "      <td>Кстати сидения очень удобными тоже не назовёшь. ... Это моё личное впечатление об автомобиле.</td>\n",
              "    </tr>\n",
              "    <tr>\n",
              "      <th>2</th>\n",
              "      <td>Шляпа, а не авто, все не продумано до мелочей. Пока это гаджет а не авто. Это не авто, а бренд. Стремнные материалы, стремно все.</td>\n",
              "    </tr>\n",
              "    <tr>\n",
              "      <th>3</th>\n",
              "      <td>Прям фу фу фу и дизайн снаружи и внутри. Продал  слава богу, экран менять целое дело через полтора года</td>\n",
              "    </tr>\n",
              "    <tr>\n",
              "      <th>4</th>\n",
              "      <td>, негодование обычно возникает из-за несостоявшихся обманутых ожиданий. Не нужно воспринимать теслу как эталон, верх совершенства и т.п.</td>\n",
              "    </tr>\n",
              "    <tr>\n",
              "      <th>5</th>\n",
              "      <td>Относитесь к тесле как гаджету и тогда не будет несбывшихся ожиданий от него гаджету можно простить и заоблачную цену при скромных характеристиках и зазоры на дверях при выдвигающихся ручках дверей.</td>\n",
              "    </tr>\n",
              "    <tr>\n",
              "      <th>6</th>\n",
              "      <td>Походу ещё один бот и видите как тезисы выкидывает не нужно воспринимать Теслу как эталон, Тесла это гаджет, который нет смысла покупать...</td>\n",
              "    </tr>\n",
              "    <tr>\n",
              "      <th>7</th>\n",
              "      <td>Как я уже и писал к предыдущему посту КАЧЕСТВО СБОРКИ ХРОМАЕТ!</td>\n",
              "    </tr>\n",
              "    <tr>\n",
              "      <th>8</th>\n",
              "      <td>Я пару дней назад указал на не совсем качественную подгонку деталей Model Y, и напомнил что третья модель на старте производства тоже страдала данной болезнью.</td>\n",
              "    </tr>\n",
              "    <tr>\n",
              "      <th>9</th>\n",
              "      <td>Большинство знакомых говорит что фигня</td>\n",
              "    </tr>\n",
              "  </tbody>\n",
              "</table>\n",
              "</div>\n",
              "    <div class=\"colab-df-buttons\">\n",
              "\n",
              "  <div class=\"colab-df-container\">\n",
              "    <button class=\"colab-df-convert\" onclick=\"convertToInteractive('df-3aab199e-66d5-4ad4-bf08-1fb003af267b')\"\n",
              "            title=\"Convert this dataframe to an interactive table.\"\n",
              "            style=\"display:none;\">\n",
              "\n",
              "  <svg xmlns=\"http://www.w3.org/2000/svg\" height=\"24px\" viewBox=\"0 -960 960 960\">\n",
              "    <path d=\"M120-120v-720h720v720H120Zm60-500h600v-160H180v160Zm220 220h160v-160H400v160Zm0 220h160v-160H400v160ZM180-400h160v-160H180v160Zm440 0h160v-160H620v160ZM180-180h160v-160H180v160Zm440 0h160v-160H620v160Z\"/>\n",
              "  </svg>\n",
              "    </button>\n",
              "\n",
              "  <style>\n",
              "    .colab-df-container {\n",
              "      display:flex;\n",
              "      gap: 12px;\n",
              "    }\n",
              "\n",
              "    .colab-df-convert {\n",
              "      background-color: #E8F0FE;\n",
              "      border: none;\n",
              "      border-radius: 50%;\n",
              "      cursor: pointer;\n",
              "      display: none;\n",
              "      fill: #1967D2;\n",
              "      height: 32px;\n",
              "      padding: 0 0 0 0;\n",
              "      width: 32px;\n",
              "    }\n",
              "\n",
              "    .colab-df-convert:hover {\n",
              "      background-color: #E2EBFA;\n",
              "      box-shadow: 0px 1px 2px rgba(60, 64, 67, 0.3), 0px 1px 3px 1px rgba(60, 64, 67, 0.15);\n",
              "      fill: #174EA6;\n",
              "    }\n",
              "\n",
              "    .colab-df-buttons div {\n",
              "      margin-bottom: 4px;\n",
              "    }\n",
              "\n",
              "    [theme=dark] .colab-df-convert {\n",
              "      background-color: #3B4455;\n",
              "      fill: #D2E3FC;\n",
              "    }\n",
              "\n",
              "    [theme=dark] .colab-df-convert:hover {\n",
              "      background-color: #434B5C;\n",
              "      box-shadow: 0px 1px 3px 1px rgba(0, 0, 0, 0.15);\n",
              "      filter: drop-shadow(0px 1px 2px rgba(0, 0, 0, 0.3));\n",
              "      fill: #FFFFFF;\n",
              "    }\n",
              "  </style>\n",
              "\n",
              "    <script>\n",
              "      const buttonEl =\n",
              "        document.querySelector('#df-3aab199e-66d5-4ad4-bf08-1fb003af267b button.colab-df-convert');\n",
              "      buttonEl.style.display =\n",
              "        google.colab.kernel.accessAllowed ? 'block' : 'none';\n",
              "\n",
              "      async function convertToInteractive(key) {\n",
              "        const element = document.querySelector('#df-3aab199e-66d5-4ad4-bf08-1fb003af267b');\n",
              "        const dataTable =\n",
              "          await google.colab.kernel.invokeFunction('convertToInteractive',\n",
              "                                                    [key], {});\n",
              "        if (!dataTable) return;\n",
              "\n",
              "        const docLinkHtml = 'Like what you see? Visit the ' +\n",
              "          '<a target=\"_blank\" href=https://colab.research.google.com/notebooks/data_table.ipynb>data table notebook</a>'\n",
              "          + ' to learn more about interactive tables.';\n",
              "        element.innerHTML = '';\n",
              "        dataTable['output_type'] = 'display_data';\n",
              "        await google.colab.output.renderOutput(dataTable, element);\n",
              "        const docLink = document.createElement('div');\n",
              "        docLink.innerHTML = docLinkHtml;\n",
              "        element.appendChild(docLink);\n",
              "      }\n",
              "    </script>\n",
              "  </div>\n",
              "\n",
              "\n",
              "<div id=\"df-4452c74a-226b-4409-a532-06c7b5812572\">\n",
              "  <button class=\"colab-df-quickchart\" onclick=\"quickchart('df-4452c74a-226b-4409-a532-06c7b5812572')\"\n",
              "            title=\"Suggest charts.\"\n",
              "            style=\"display:none;\">\n",
              "\n",
              "<svg xmlns=\"http://www.w3.org/2000/svg\" height=\"24px\"viewBox=\"0 0 24 24\"\n",
              "     width=\"24px\">\n",
              "    <g>\n",
              "        <path d=\"M19 3H5c-1.1 0-2 .9-2 2v14c0 1.1.9 2 2 2h14c1.1 0 2-.9 2-2V5c0-1.1-.9-2-2-2zM9 17H7v-7h2v7zm4 0h-2V7h2v10zm4 0h-2v-4h2v4z\"/>\n",
              "    </g>\n",
              "</svg>\n",
              "  </button>\n",
              "\n",
              "<style>\n",
              "  .colab-df-quickchart {\n",
              "      --bg-color: #E8F0FE;\n",
              "      --fill-color: #1967D2;\n",
              "      --hover-bg-color: #E2EBFA;\n",
              "      --hover-fill-color: #174EA6;\n",
              "      --disabled-fill-color: #AAA;\n",
              "      --disabled-bg-color: #DDD;\n",
              "  }\n",
              "\n",
              "  [theme=dark] .colab-df-quickchart {\n",
              "      --bg-color: #3B4455;\n",
              "      --fill-color: #D2E3FC;\n",
              "      --hover-bg-color: #434B5C;\n",
              "      --hover-fill-color: #FFFFFF;\n",
              "      --disabled-bg-color: #3B4455;\n",
              "      --disabled-fill-color: #666;\n",
              "  }\n",
              "\n",
              "  .colab-df-quickchart {\n",
              "    background-color: var(--bg-color);\n",
              "    border: none;\n",
              "    border-radius: 50%;\n",
              "    cursor: pointer;\n",
              "    display: none;\n",
              "    fill: var(--fill-color);\n",
              "    height: 32px;\n",
              "    padding: 0;\n",
              "    width: 32px;\n",
              "  }\n",
              "\n",
              "  .colab-df-quickchart:hover {\n",
              "    background-color: var(--hover-bg-color);\n",
              "    box-shadow: 0 1px 2px rgba(60, 64, 67, 0.3), 0 1px 3px 1px rgba(60, 64, 67, 0.15);\n",
              "    fill: var(--button-hover-fill-color);\n",
              "  }\n",
              "\n",
              "  .colab-df-quickchart-complete:disabled,\n",
              "  .colab-df-quickchart-complete:disabled:hover {\n",
              "    background-color: var(--disabled-bg-color);\n",
              "    fill: var(--disabled-fill-color);\n",
              "    box-shadow: none;\n",
              "  }\n",
              "\n",
              "  .colab-df-spinner {\n",
              "    border: 2px solid var(--fill-color);\n",
              "    border-color: transparent;\n",
              "    border-bottom-color: var(--fill-color);\n",
              "    animation:\n",
              "      spin 1s steps(1) infinite;\n",
              "  }\n",
              "\n",
              "  @keyframes spin {\n",
              "    0% {\n",
              "      border-color: transparent;\n",
              "      border-bottom-color: var(--fill-color);\n",
              "      border-left-color: var(--fill-color);\n",
              "    }\n",
              "    20% {\n",
              "      border-color: transparent;\n",
              "      border-left-color: var(--fill-color);\n",
              "      border-top-color: var(--fill-color);\n",
              "    }\n",
              "    30% {\n",
              "      border-color: transparent;\n",
              "      border-left-color: var(--fill-color);\n",
              "      border-top-color: var(--fill-color);\n",
              "      border-right-color: var(--fill-color);\n",
              "    }\n",
              "    40% {\n",
              "      border-color: transparent;\n",
              "      border-right-color: var(--fill-color);\n",
              "      border-top-color: var(--fill-color);\n",
              "    }\n",
              "    60% {\n",
              "      border-color: transparent;\n",
              "      border-right-color: var(--fill-color);\n",
              "    }\n",
              "    80% {\n",
              "      border-color: transparent;\n",
              "      border-right-color: var(--fill-color);\n",
              "      border-bottom-color: var(--fill-color);\n",
              "    }\n",
              "    90% {\n",
              "      border-color: transparent;\n",
              "      border-bottom-color: var(--fill-color);\n",
              "    }\n",
              "  }\n",
              "</style>\n",
              "\n",
              "  <script>\n",
              "    async function quickchart(key) {\n",
              "      const quickchartButtonEl =\n",
              "        document.querySelector('#' + key + ' button');\n",
              "      quickchartButtonEl.disabled = true;  // To prevent multiple clicks.\n",
              "      quickchartButtonEl.classList.add('colab-df-spinner');\n",
              "      try {\n",
              "        const charts = await google.colab.kernel.invokeFunction(\n",
              "            'suggestCharts', [key], {});\n",
              "      } catch (error) {\n",
              "        console.error('Error during call to suggestCharts:', error);\n",
              "      }\n",
              "      quickchartButtonEl.classList.remove('colab-df-spinner');\n",
              "      quickchartButtonEl.classList.add('colab-df-quickchart-complete');\n",
              "    }\n",
              "    (() => {\n",
              "      let quickchartButtonEl =\n",
              "        document.querySelector('#df-4452c74a-226b-4409-a532-06c7b5812572 button');\n",
              "      quickchartButtonEl.style.display =\n",
              "        google.colab.kernel.accessAllowed ? 'block' : 'none';\n",
              "    })();\n",
              "  </script>\n",
              "</div>\n",
              "    </div>\n",
              "  </div>\n"
            ]
          },
          "metadata": {},
          "execution_count": 40
        }
      ]
    },
    {
      "cell_type": "code",
      "source": [
        "# Смотрим начало файла с позитивными отзывами\n",
        "!head '/content/tesla/Позитивный отзыв.txt'"
      ],
      "metadata": {
        "colab": {
          "base_uri": "https://localhost:8080/"
        },
        "id": "TrFZTS7yirSq",
        "outputId": "2a8d4b80-a431-4281-e662-f9520567af73"
      },
      "execution_count": null,
      "outputs": [
        {
          "output_type": "stream",
          "name": "stdout",
          "text": [
            " Водитель наслаждается от такого авто и вождения\n",
            " Красивая машина нужно брать\n",
            " Тесла топ, тащусь от этой тачки\n",
            "Плюсы - зарядка бесплатная. \n",
            "Машина топ Технологии по автоматизации не стоят на месте!\n",
            "Красивая машина нужно брать\n",
            " Хочу радоваться езде на своей тесле! \n",
            " Это вам не приора \n",
            " Автомобиль - мечта!!! \n",
            " Эта машина моя мечта\n"
          ]
        }
      ]
    },
    {
      "cell_type": "code",
      "source": [
        "# Читаем файл с позитивными отзывами в список\n",
        "good_reviews_list = read_textfile('/content/tesla/Позитивный отзыв.txt')"
      ],
      "metadata": {
        "id": "o_--xpl1q90G"
      },
      "execution_count": null,
      "outputs": []
    },
    {
      "cell_type": "code",
      "source": [
        "# Создаём датафрейм с позитивными отзывами\n",
        "good_reviews_df = pd.DataFrame(good_reviews_list, columns = ['Позитивный отзыв'])\n",
        "good_reviews_df.head(10)"
      ],
      "metadata": {
        "colab": {
          "base_uri": "https://localhost:8080/",
          "height": 363
        },
        "id": "t5Phvl80rm-a",
        "outputId": "63831cd3-3ace-4103-a5b6-fb678b7a68f6"
      },
      "execution_count": null,
      "outputs": [
        {
          "output_type": "execute_result",
          "data": {
            "text/plain": [
              "                                            Позитивный отзыв\n",
              "0            Водитель наслаждается от такого авто и вождения\n",
              "1                                Красивая машина нужно брать\n",
              "2                            Тесла топ, тащусь от этой тачки\n",
              "3                               Плюсы - зарядка бесплатная. \n",
              "4  Машина топ Технологии по автоматизации не стоят на месте!\n",
              "5                                Красивая машина нужно брать\n",
              "6                      Хочу радоваться езде на своей тесле! \n",
              "7                                         Это вам не приора \n",
              "8                                     Автомобиль - мечта!!! \n",
              "9                                       Эта машина моя мечта"
            ],
            "text/html": [
              "\n",
              "  <div id=\"df-72da39d9-71db-463a-8ae6-d99cb88294a9\" class=\"colab-df-container\">\n",
              "    <div>\n",
              "<style scoped>\n",
              "    .dataframe tbody tr th:only-of-type {\n",
              "        vertical-align: middle;\n",
              "    }\n",
              "\n",
              "    .dataframe tbody tr th {\n",
              "        vertical-align: top;\n",
              "    }\n",
              "\n",
              "    .dataframe thead th {\n",
              "        text-align: right;\n",
              "    }\n",
              "</style>\n",
              "<table border=\"1\" class=\"dataframe\">\n",
              "  <thead>\n",
              "    <tr style=\"text-align: right;\">\n",
              "      <th></th>\n",
              "      <th>Позитивный отзыв</th>\n",
              "    </tr>\n",
              "  </thead>\n",
              "  <tbody>\n",
              "    <tr>\n",
              "      <th>0</th>\n",
              "      <td>Водитель наслаждается от такого авто и вождения</td>\n",
              "    </tr>\n",
              "    <tr>\n",
              "      <th>1</th>\n",
              "      <td>Красивая машина нужно брать</td>\n",
              "    </tr>\n",
              "    <tr>\n",
              "      <th>2</th>\n",
              "      <td>Тесла топ, тащусь от этой тачки</td>\n",
              "    </tr>\n",
              "    <tr>\n",
              "      <th>3</th>\n",
              "      <td>Плюсы - зарядка бесплатная.</td>\n",
              "    </tr>\n",
              "    <tr>\n",
              "      <th>4</th>\n",
              "      <td>Машина топ Технологии по автоматизации не стоят на месте!</td>\n",
              "    </tr>\n",
              "    <tr>\n",
              "      <th>5</th>\n",
              "      <td>Красивая машина нужно брать</td>\n",
              "    </tr>\n",
              "    <tr>\n",
              "      <th>6</th>\n",
              "      <td>Хочу радоваться езде на своей тесле!</td>\n",
              "    </tr>\n",
              "    <tr>\n",
              "      <th>7</th>\n",
              "      <td>Это вам не приора</td>\n",
              "    </tr>\n",
              "    <tr>\n",
              "      <th>8</th>\n",
              "      <td>Автомобиль - мечта!!!</td>\n",
              "    </tr>\n",
              "    <tr>\n",
              "      <th>9</th>\n",
              "      <td>Эта машина моя мечта</td>\n",
              "    </tr>\n",
              "  </tbody>\n",
              "</table>\n",
              "</div>\n",
              "    <div class=\"colab-df-buttons\">\n",
              "\n",
              "  <div class=\"colab-df-container\">\n",
              "    <button class=\"colab-df-convert\" onclick=\"convertToInteractive('df-72da39d9-71db-463a-8ae6-d99cb88294a9')\"\n",
              "            title=\"Convert this dataframe to an interactive table.\"\n",
              "            style=\"display:none;\">\n",
              "\n",
              "  <svg xmlns=\"http://www.w3.org/2000/svg\" height=\"24px\" viewBox=\"0 -960 960 960\">\n",
              "    <path d=\"M120-120v-720h720v720H120Zm60-500h600v-160H180v160Zm220 220h160v-160H400v160Zm0 220h160v-160H400v160ZM180-400h160v-160H180v160Zm440 0h160v-160H620v160ZM180-180h160v-160H180v160Zm440 0h160v-160H620v160Z\"/>\n",
              "  </svg>\n",
              "    </button>\n",
              "\n",
              "  <style>\n",
              "    .colab-df-container {\n",
              "      display:flex;\n",
              "      gap: 12px;\n",
              "    }\n",
              "\n",
              "    .colab-df-convert {\n",
              "      background-color: #E8F0FE;\n",
              "      border: none;\n",
              "      border-radius: 50%;\n",
              "      cursor: pointer;\n",
              "      display: none;\n",
              "      fill: #1967D2;\n",
              "      height: 32px;\n",
              "      padding: 0 0 0 0;\n",
              "      width: 32px;\n",
              "    }\n",
              "\n",
              "    .colab-df-convert:hover {\n",
              "      background-color: #E2EBFA;\n",
              "      box-shadow: 0px 1px 2px rgba(60, 64, 67, 0.3), 0px 1px 3px 1px rgba(60, 64, 67, 0.15);\n",
              "      fill: #174EA6;\n",
              "    }\n",
              "\n",
              "    .colab-df-buttons div {\n",
              "      margin-bottom: 4px;\n",
              "    }\n",
              "\n",
              "    [theme=dark] .colab-df-convert {\n",
              "      background-color: #3B4455;\n",
              "      fill: #D2E3FC;\n",
              "    }\n",
              "\n",
              "    [theme=dark] .colab-df-convert:hover {\n",
              "      background-color: #434B5C;\n",
              "      box-shadow: 0px 1px 3px 1px rgba(0, 0, 0, 0.15);\n",
              "      filter: drop-shadow(0px 1px 2px rgba(0, 0, 0, 0.3));\n",
              "      fill: #FFFFFF;\n",
              "    }\n",
              "  </style>\n",
              "\n",
              "    <script>\n",
              "      const buttonEl =\n",
              "        document.querySelector('#df-72da39d9-71db-463a-8ae6-d99cb88294a9 button.colab-df-convert');\n",
              "      buttonEl.style.display =\n",
              "        google.colab.kernel.accessAllowed ? 'block' : 'none';\n",
              "\n",
              "      async function convertToInteractive(key) {\n",
              "        const element = document.querySelector('#df-72da39d9-71db-463a-8ae6-d99cb88294a9');\n",
              "        const dataTable =\n",
              "          await google.colab.kernel.invokeFunction('convertToInteractive',\n",
              "                                                    [key], {});\n",
              "        if (!dataTable) return;\n",
              "\n",
              "        const docLinkHtml = 'Like what you see? Visit the ' +\n",
              "          '<a target=\"_blank\" href=https://colab.research.google.com/notebooks/data_table.ipynb>data table notebook</a>'\n",
              "          + ' to learn more about interactive tables.';\n",
              "        element.innerHTML = '';\n",
              "        dataTable['output_type'] = 'display_data';\n",
              "        await google.colab.output.renderOutput(dataTable, element);\n",
              "        const docLink = document.createElement('div');\n",
              "        docLink.innerHTML = docLinkHtml;\n",
              "        element.appendChild(docLink);\n",
              "      }\n",
              "    </script>\n",
              "  </div>\n",
              "\n",
              "\n",
              "<div id=\"df-8f4c7079-f111-4b6e-8a23-6b279e2e91c4\">\n",
              "  <button class=\"colab-df-quickchart\" onclick=\"quickchart('df-8f4c7079-f111-4b6e-8a23-6b279e2e91c4')\"\n",
              "            title=\"Suggest charts.\"\n",
              "            style=\"display:none;\">\n",
              "\n",
              "<svg xmlns=\"http://www.w3.org/2000/svg\" height=\"24px\"viewBox=\"0 0 24 24\"\n",
              "     width=\"24px\">\n",
              "    <g>\n",
              "        <path d=\"M19 3H5c-1.1 0-2 .9-2 2v14c0 1.1.9 2 2 2h14c1.1 0 2-.9 2-2V5c0-1.1-.9-2-2-2zM9 17H7v-7h2v7zm4 0h-2V7h2v10zm4 0h-2v-4h2v4z\"/>\n",
              "    </g>\n",
              "</svg>\n",
              "  </button>\n",
              "\n",
              "<style>\n",
              "  .colab-df-quickchart {\n",
              "      --bg-color: #E8F0FE;\n",
              "      --fill-color: #1967D2;\n",
              "      --hover-bg-color: #E2EBFA;\n",
              "      --hover-fill-color: #174EA6;\n",
              "      --disabled-fill-color: #AAA;\n",
              "      --disabled-bg-color: #DDD;\n",
              "  }\n",
              "\n",
              "  [theme=dark] .colab-df-quickchart {\n",
              "      --bg-color: #3B4455;\n",
              "      --fill-color: #D2E3FC;\n",
              "      --hover-bg-color: #434B5C;\n",
              "      --hover-fill-color: #FFFFFF;\n",
              "      --disabled-bg-color: #3B4455;\n",
              "      --disabled-fill-color: #666;\n",
              "  }\n",
              "\n",
              "  .colab-df-quickchart {\n",
              "    background-color: var(--bg-color);\n",
              "    border: none;\n",
              "    border-radius: 50%;\n",
              "    cursor: pointer;\n",
              "    display: none;\n",
              "    fill: var(--fill-color);\n",
              "    height: 32px;\n",
              "    padding: 0;\n",
              "    width: 32px;\n",
              "  }\n",
              "\n",
              "  .colab-df-quickchart:hover {\n",
              "    background-color: var(--hover-bg-color);\n",
              "    box-shadow: 0 1px 2px rgba(60, 64, 67, 0.3), 0 1px 3px 1px rgba(60, 64, 67, 0.15);\n",
              "    fill: var(--button-hover-fill-color);\n",
              "  }\n",
              "\n",
              "  .colab-df-quickchart-complete:disabled,\n",
              "  .colab-df-quickchart-complete:disabled:hover {\n",
              "    background-color: var(--disabled-bg-color);\n",
              "    fill: var(--disabled-fill-color);\n",
              "    box-shadow: none;\n",
              "  }\n",
              "\n",
              "  .colab-df-spinner {\n",
              "    border: 2px solid var(--fill-color);\n",
              "    border-color: transparent;\n",
              "    border-bottom-color: var(--fill-color);\n",
              "    animation:\n",
              "      spin 1s steps(1) infinite;\n",
              "  }\n",
              "\n",
              "  @keyframes spin {\n",
              "    0% {\n",
              "      border-color: transparent;\n",
              "      border-bottom-color: var(--fill-color);\n",
              "      border-left-color: var(--fill-color);\n",
              "    }\n",
              "    20% {\n",
              "      border-color: transparent;\n",
              "      border-left-color: var(--fill-color);\n",
              "      border-top-color: var(--fill-color);\n",
              "    }\n",
              "    30% {\n",
              "      border-color: transparent;\n",
              "      border-left-color: var(--fill-color);\n",
              "      border-top-color: var(--fill-color);\n",
              "      border-right-color: var(--fill-color);\n",
              "    }\n",
              "    40% {\n",
              "      border-color: transparent;\n",
              "      border-right-color: var(--fill-color);\n",
              "      border-top-color: var(--fill-color);\n",
              "    }\n",
              "    60% {\n",
              "      border-color: transparent;\n",
              "      border-right-color: var(--fill-color);\n",
              "    }\n",
              "    80% {\n",
              "      border-color: transparent;\n",
              "      border-right-color: var(--fill-color);\n",
              "      border-bottom-color: var(--fill-color);\n",
              "    }\n",
              "    90% {\n",
              "      border-color: transparent;\n",
              "      border-bottom-color: var(--fill-color);\n",
              "    }\n",
              "  }\n",
              "</style>\n",
              "\n",
              "  <script>\n",
              "    async function quickchart(key) {\n",
              "      const quickchartButtonEl =\n",
              "        document.querySelector('#' + key + ' button');\n",
              "      quickchartButtonEl.disabled = true;  // To prevent multiple clicks.\n",
              "      quickchartButtonEl.classList.add('colab-df-spinner');\n",
              "      try {\n",
              "        const charts = await google.colab.kernel.invokeFunction(\n",
              "            'suggestCharts', [key], {});\n",
              "      } catch (error) {\n",
              "        console.error('Error during call to suggestCharts:', error);\n",
              "      }\n",
              "      quickchartButtonEl.classList.remove('colab-df-spinner');\n",
              "      quickchartButtonEl.classList.add('colab-df-quickchart-complete');\n",
              "    }\n",
              "    (() => {\n",
              "      let quickchartButtonEl =\n",
              "        document.querySelector('#df-8f4c7079-f111-4b6e-8a23-6b279e2e91c4 button');\n",
              "      quickchartButtonEl.style.display =\n",
              "        google.colab.kernel.accessAllowed ? 'block' : 'none';\n",
              "    })();\n",
              "  </script>\n",
              "</div>\n",
              "    </div>\n",
              "  </div>\n"
            ]
          },
          "metadata": {},
          "execution_count": 43
        }
      ]
    },
    {
      "cell_type": "code",
      "source": [
        "# Смотрим размеры датафреймов\n",
        "print(bad_reviews_df.shape)\n",
        "print(good_reviews_df.shape)"
      ],
      "metadata": {
        "colab": {
          "base_uri": "https://localhost:8080/"
        },
        "id": "Nw2xlOylvecK",
        "outputId": "0fd5e998-3a70-40e0-e6f0-b947a8c6d160"
      },
      "execution_count": null,
      "outputs": [
        {
          "output_type": "stream",
          "name": "stdout",
          "text": [
            "(1188, 1)\n",
            "(2191, 1)\n"
          ]
        }
      ]
    },
    {
      "cell_type": "markdown",
      "source": [
        "#### Запросы в ChatGPT"
      ],
      "metadata": {
        "id": "nUvjMachbwzK"
      }
    },
    {
      "cell_type": "code",
      "source": [
        "# Получаем ключ OpenAI API\n",
        "get_openai_api_key()"
      ],
      "metadata": {
        "colab": {
          "base_uri": "https://localhost:8080/"
        },
        "id": "AmSI5-TP3LVa",
        "outputId": "6eaf5dd4-ce49-445f-a3d7-86ce11f6eff2"
      },
      "execution_count": null,
      "outputs": [
        {
          "name": "stdout",
          "output_type": "stream",
          "text": [
            "OpenAI API Key:··········\n"
          ]
        }
      ]
    },
    {
      "cell_type": "code",
      "source": [
        "# Создаём файл базы знаний для ChatGPT\n",
        "make_knowledge_base('/content/tesla/Негативный отзыв.txt', '/content/tesla/Позитивный отзыв.txt')"
      ],
      "metadata": {
        "id": "2uw2hCLe9wpO"
      },
      "execution_count": null,
      "outputs": []
    },
    {
      "cell_type": "code",
      "source": [
        "# Делим текст базы знаний на чанки\n",
        "docs = get_chunks_from_text('/content/База знаний.txt')"
      ],
      "metadata": {
        "colab": {
          "base_uri": "https://localhost:8080/"
        },
        "id": "jj9rHrZDCtst",
        "outputId": "d0bb26bd-4801-48ad-80ce-aeb43f7bf1ff"
      },
      "execution_count": null,
      "outputs": [
        {
          "output_type": "stream",
          "name": "stderr",
          "text": [
            "WARNING:langchain.text_splitter:Created a chunk of size 1042, which is longer than the specified 1000\n"
          ]
        }
      ]
    },
    {
      "cell_type": "code",
      "source": [
        "print(f'Всего фрагментов: {len(docs)}')"
      ],
      "metadata": {
        "colab": {
          "base_uri": "https://localhost:8080/"
        },
        "id": "dcRMYM_XDysB",
        "outputId": "733530b2-822a-421a-bd10-8afbcccb5f6e"
      },
      "execution_count": null,
      "outputs": [
        {
          "output_type": "stream",
          "name": "stdout",
          "text": [
            "Всего фрагментов: 449\n"
          ]
        }
      ]
    },
    {
      "cell_type": "code",
      "source": [
        "# Первый чанк\n",
        "print(docs[0])\n",
        "page_content = docs[0].page_content\n",
        "\n",
        "# Длина первого чанка\n",
        "print(len(page_content))"
      ],
      "metadata": {
        "colab": {
          "base_uri": "https://localhost:8080/"
        },
        "id": "-sEjCpBGD3iU",
        "outputId": "7c0c9f41-0bb2-4a95-b20b-b403c9bb1995"
      },
      "execution_count": null,
      "outputs": [
        {
          "output_type": "stream",
          "name": "stdout",
          "text": [
            "page_content='Негативный отзыв: После 170 на трассе она чувствует себя неуверенно.\\xa0\\nНегативный отзыв: Кстати сидения очень удобными тоже не назовёшь. ... Это моё личное впечатление об автомобиле.\\nНегативный отзыв: Шляпа, а не авто, все не продумано до мелочей. Пока это гаджет а не авто. Это не авто, а бренд. Стремнные материалы, стремно все.\\nНегативный отзыв: Прям фу фу фу и дизайн снаружи и внутри. Продал\\xa0 слава богу, экран менять целое дело через полтора года\\nНегативный отзыв: , негодование обычно возникает из-за несостоявшихся обманутых ожиданий. Не нужно воспринимать теслу как эталон, верх совершенства и т.п.\\nНегативный отзыв: Относитесь к тесле как гаджету и тогда не будет несбывшихся ожиданий от него гаджету можно простить и заоблачную цену при скромных характеристиках и зазоры на дверях при выдвигающихся ручках дверей.\\nНегативный отзыв: Походу ещё один бот и видите как тезисы выкидывает не нужно воспринимать Теслу как эталон, Тесла это гаджет, который нет смысла покупать...' metadata={'source': '/content/База знаний.txt'}\n",
            "981\n"
          ]
        }
      ]
    },
    {
      "cell_type": "code",
      "source": [
        "# Инициализирум модель эмбеддингов\n",
        "embeddings = OpenAIEmbeddings()"
      ],
      "metadata": {
        "id": "z-dtY9YxEJE6"
      },
      "execution_count": null,
      "outputs": []
    },
    {
      "cell_type": "code",
      "source": [
        "# Создаём первую часть индексной базы из разделённых фрагментов текста\n",
        "db1 = FAISS.from_documents(docs[:int(len(docs)/2)], embeddings)"
      ],
      "metadata": {
        "id": "AOrmLnBdENZH"
      },
      "execution_count": null,
      "outputs": []
    },
    {
      "cell_type": "code",
      "source": [
        "# Создаём вторую часть индексной базы из разделённых фрагментов текста\n",
        "db2 = FAISS.from_documents(docs[int(len(docs)/2):], embeddings)"
      ],
      "metadata": {
        "id": "7SZLBuroEn2m"
      },
      "execution_count": null,
      "outputs": []
    },
    {
      "cell_type": "code",
      "source": [
        "# Соединяем части индексной базы\n",
        "db1.merge_from(db2)"
      ],
      "metadata": {
        "id": "0EKBHrV3Erna"
      },
      "execution_count": null,
      "outputs": []
    },
    {
      "cell_type": "code",
      "source": [
        "# Сохраняем индексную базу в 'knowledge_base_index'\n",
        "db1.save_local('knowledge_base_index')"
      ],
      "metadata": {
        "id": "KnQVB-ebEvqt"
      },
      "execution_count": null,
      "outputs": []
    },
    {
      "cell_type": "code",
      "source": [
        "# Архивируем 'knowledge_base_index'\n",
        "!zip -r 'knowledge_base_index.zip' 'knowledge_base_index'"
      ],
      "metadata": {
        "colab": {
          "base_uri": "https://localhost:8080/"
        },
        "id": "_bMg2de-E_LG",
        "outputId": "9f76f510-17a1-478e-a423-ea7661009c16"
      },
      "execution_count": null,
      "outputs": [
        {
          "output_type": "stream",
          "name": "stdout",
          "text": [
            "  adding: knowledge_base_index/ (stored 0%)\n",
            "  adding: knowledge_base_index/index.faiss (deflated 16%)\n",
            "  adding: knowledge_base_index/index.pkl (deflated 72%)\n"
          ]
        }
      ]
    },
    {
      "cell_type": "code",
      "source": [
        "# Загружаем индексную базу из 'knowledge_base_index'\n",
        "db = FAISS.load_local('knowledge_base_index', embeddings)"
      ],
      "metadata": {
        "id": "t3FDaI_rFHFc"
      },
      "execution_count": null,
      "outputs": []
    },
    {
      "cell_type": "code",
      "source": [
        "# Задаём промпт\n",
        "prompt = \"\"\"Ты менеджер, анализирующий отзывы пользователей автомобиля Тесла. У тебя есть большой документ с негативными и позитивными отзывами ползователей автомобиля Тесла.\n",
        "Тебе дают очередной отзыв. Опираясь на документ, дай односложный ответ относительно данного отзыва: негативный отзыв или позитивный отзыв.\n",
        "Не придумывай ничего от себя. Не упоминай документ при ответе. Ответ должен быть либо Негативный отзыв, либо Позитивный отзыв.\"\"\""
      ],
      "metadata": {
        "id": "V_wtM8EFFOPY"
      },
      "execution_count": null,
      "outputs": []
    },
    {
      "cell_type": "code",
      "source": [
        "# Посылаем отзывы в ChatGPT\n",
        "true_answers  = 0\n",
        "false_answers = 0\n",
        "for review in bad_reviews_list[-10:]:\n",
        "  message_content, answer = get_chatGPT_answer_from_own_knowledge_base(prompt, review, db)\n",
        "  print(f'Отзыв: {review}\\nОтвет ChatGPT: {answer}\\n\\n')\n",
        "  if answer == 'Негативный отзыв':\n",
        "    true_answers += 1\n",
        "  else:\n",
        "    false_answers +=1\n",
        "  sleep(10)"
      ],
      "metadata": {
        "colab": {
          "base_uri": "https://localhost:8080/"
        },
        "id": "mNPyZoMEICTY",
        "outputId": "81801885-4ad9-4c0e-e7be-7969087a73bf"
      },
      "execution_count": null,
      "outputs": [
        {
          "output_type": "stream",
          "name": "stdout",
          "text": [
            "Отзыв: с дизелем тесла долго не сравнится по пробегу, факт\n",
            "Ответ ChatGPT: Негативный отзыв\n",
            "\n",
            "\n",
            "Отзыв: Тесла всего произвела около 1млн авто и далеко не все они ездят по дорогам прогрессивной Калифорнии\n",
            "Ответ ChatGPT: Позитивный отзыв\n",
            "\n",
            "\n",
            "Отзыв: тесла с дизайном перебарщивает, и потом может спецом покупал где угодно, только бы не у него\n",
            "Ответ ChatGPT: Негативный отзыв\n",
            "\n",
            "\n",
            "Отзыв: Если разгоняться на тесле за 2.4 секунды, то трансмиссия теслы превращается в расходник, в отличии от реально спортивных авто\n",
            "Ответ ChatGPT: Негативный отзыв\n",
            "\n",
            "\n",
            "Отзыв: купив Теслу однажды покупают следующей машиной также ТеслУ когда вышел s я долго пытался себя з год и врядли куплю еще одну теслу.  Я лично не смог продраться сквозь убожество салона и общий уров онялась да.  Каждому свое короче. Тесла была 4ой машиной в семье  в гараже и в какой то момент я просто понял что я ее избегаю просто.\n",
            "Ответ ChatGPT: Негативный отзыв\n",
            "\n",
            "\n"
          ]
        },
        {
          "output_type": "stream",
          "name": "stderr",
          "text": [
            "WARNING:langchain.embeddings.openai:Retrying langchain.embeddings.openai.embed_with_retry.<locals>._embed_with_retry in 4.0 seconds as it raised RateLimitError: Rate limit reached for default-text-embedding-ada-002 in organization org-yre0AhTPSH1gs8UbrcnPGQ35 on requests per min. Limit: 3 / min. Please try again in 20s. Contact us through our help center at help.openai.com if you continue to have issues. Please add a payment method to your account to increase your rate limit. Visit https://platform.openai.com/account/billing to add a payment method..\n",
            "WARNING:langchain.embeddings.openai:Retrying langchain.embeddings.openai.embed_with_retry.<locals>._embed_with_retry in 4.0 seconds as it raised RateLimitError: Rate limit reached for default-text-embedding-ada-002 in organization org-yre0AhTPSH1gs8UbrcnPGQ35 on requests per min. Limit: 3 / min. Please try again in 20s. Contact us through our help center at help.openai.com if you continue to have issues. Please add a payment method to your account to increase your rate limit. Visit https://platform.openai.com/account/billing to add a payment method..\n"
          ]
        },
        {
          "output_type": "stream",
          "name": "stdout",
          "text": [
            "Отзыв: Только есть нюанс. На сколько я знаю, производство литий-ионных батарей очень токсичное. Поэтому это авто явно не за экологию\n",
            "Ответ ChatGPT: Негативный отзыв\n",
            "\n",
            "\n"
          ]
        },
        {
          "output_type": "stream",
          "name": "stderr",
          "text": [
            "WARNING:langchain.embeddings.openai:Retrying langchain.embeddings.openai.embed_with_retry.<locals>._embed_with_retry in 4.0 seconds as it raised RateLimitError: Rate limit reached for default-text-embedding-ada-002 in organization org-yre0AhTPSH1gs8UbrcnPGQ35 on requests per min. Limit: 3 / min. Please try again in 20s. Contact us through our help center at help.openai.com if you continue to have issues. Please add a payment method to your account to increase your rate limit. Visit https://platform.openai.com/account/billing to add a payment method..\n",
            "WARNING:langchain.embeddings.openai:Retrying langchain.embeddings.openai.embed_with_retry.<locals>._embed_with_retry in 4.0 seconds as it raised RateLimitError: Rate limit reached for default-text-embedding-ada-002 in organization org-yre0AhTPSH1gs8UbrcnPGQ35 on requests per min. Limit: 3 / min. Please try again in 20s. Contact us through our help center at help.openai.com if you continue to have issues. Please add a payment method to your account to increase your rate limit. Visit https://platform.openai.com/account/billing to add a payment method..\n"
          ]
        },
        {
          "output_type": "stream",
          "name": "stdout",
          "text": [
            "Отзыв: По нашим дорогам на одних лобовых разоришься , щебень летит так что нужно танк покупать\n",
            "Ответ ChatGPT: Негативный отзыв\n",
            "\n",
            "\n"
          ]
        },
        {
          "output_type": "stream",
          "name": "stderr",
          "text": [
            "WARNING:langchain.embeddings.openai:Retrying langchain.embeddings.openai.embed_with_retry.<locals>._embed_with_retry in 4.0 seconds as it raised RateLimitError: Rate limit reached for default-text-embedding-ada-002 in organization org-yre0AhTPSH1gs8UbrcnPGQ35 on requests per min. Limit: 3 / min. Please try again in 20s. Contact us through our help center at help.openai.com if you continue to have issues. Please add a payment method to your account to increase your rate limit. Visit https://platform.openai.com/account/billing to add a payment method..\n",
            "WARNING:langchain.embeddings.openai:Retrying langchain.embeddings.openai.embed_with_retry.<locals>._embed_with_retry in 4.0 seconds as it raised RateLimitError: Rate limit reached for default-text-embedding-ada-002 in organization org-yre0AhTPSH1gs8UbrcnPGQ35 on requests per min. Limit: 3 / min. Please try again in 20s. Contact us through our help center at help.openai.com if you continue to have issues. Please add a payment method to your account to increase your rate limit. Visit https://platform.openai.com/account/billing to add a payment method..\n"
          ]
        },
        {
          "output_type": "stream",
          "name": "stdout",
          "text": [
            "Отзыв: Ну да верно и у Теслы нет проблемы закипел мотор в пробке при резких дерганых ускорений .\n",
            "Ответ ChatGPT: Негативный отзыв\n",
            "\n",
            "\n"
          ]
        },
        {
          "output_type": "stream",
          "name": "stderr",
          "text": [
            "WARNING:langchain.embeddings.openai:Retrying langchain.embeddings.openai.embed_with_retry.<locals>._embed_with_retry in 4.0 seconds as it raised RateLimitError: Rate limit reached for default-text-embedding-ada-002 in organization org-yre0AhTPSH1gs8UbrcnPGQ35 on requests per min. Limit: 3 / min. Please try again in 20s. Contact us through our help center at help.openai.com if you continue to have issues. Please add a payment method to your account to increase your rate limit. Visit https://platform.openai.com/account/billing to add a payment method..\n",
            "WARNING:langchain.embeddings.openai:Retrying langchain.embeddings.openai.embed_with_retry.<locals>._embed_with_retry in 4.0 seconds as it raised RateLimitError: Rate limit reached for default-text-embedding-ada-002 in organization org-yre0AhTPSH1gs8UbrcnPGQ35 on requests per min. Limit: 3 / min. Please try again in 20s. Contact us through our help center at help.openai.com if you continue to have issues. Please add a payment method to your account to increase your rate limit. Visit https://platform.openai.com/account/billing to add a payment method..\n"
          ]
        },
        {
          "output_type": "stream",
          "name": "stdout",
          "text": [
            "Отзыв: На плотной парковке задняя дверь может не открыться и тогда вместо королевского выхода будет карабканье по салону.\n",
            "Ответ ChatGPT: Негативный отзыв\n",
            "\n",
            "\n"
          ]
        },
        {
          "output_type": "stream",
          "name": "stderr",
          "text": [
            "WARNING:langchain.embeddings.openai:Retrying langchain.embeddings.openai.embed_with_retry.<locals>._embed_with_retry in 4.0 seconds as it raised RateLimitError: Rate limit reached for default-text-embedding-ada-002 in organization org-yre0AhTPSH1gs8UbrcnPGQ35 on requests per min. Limit: 3 / min. Please try again in 20s. Contact us through our help center at help.openai.com if you continue to have issues. Please add a payment method to your account to increase your rate limit. Visit https://platform.openai.com/account/billing to add a payment method..\n",
            "WARNING:langchain.embeddings.openai:Retrying langchain.embeddings.openai.embed_with_retry.<locals>._embed_with_retry in 4.0 seconds as it raised RateLimitError: Rate limit reached for default-text-embedding-ada-002 in organization org-yre0AhTPSH1gs8UbrcnPGQ35 on requests per min. Limit: 3 / min. Please try again in 20s. Contact us through our help center at help.openai.com if you continue to have issues. Please add a payment method to your account to increase your rate limit. Visit https://platform.openai.com/account/billing to add a payment method..\n",
            "WARNING:langchain.embeddings.openai:Retrying langchain.embeddings.openai.embed_with_retry.<locals>._embed_with_retry in 4.0 seconds as it raised RateLimitError: Rate limit reached for default-text-embedding-ada-002 in organization org-yre0AhTPSH1gs8UbrcnPGQ35 on requests per min. Limit: 3 / min. Please try again in 20s. Contact us through our help center at help.openai.com if you continue to have issues. Please add a payment method to your account to increase your rate limit. Visit https://platform.openai.com/account/billing to add a payment method..\n"
          ]
        },
        {
          "output_type": "stream",
          "name": "stdout",
          "text": [
            "Отзыв: в мороз на такой много не проедешь\n",
            "Ответ ChatGPT: Негативный отзыв\n",
            "\n",
            "\n"
          ]
        }
      ]
    },
    {
      "cell_type": "code",
      "source": [
        "print(f'  Количество правильных ответов: {true_answers}')\n",
        "print(f'Количество неправильных ответов: {false_answers}')\n",
        "print(f'          Процент распознавания: {true_answers*10}%')"
      ],
      "metadata": {
        "colab": {
          "base_uri": "https://localhost:8080/"
        },
        "id": "6av4vh2LPUWw",
        "outputId": "66931404-92b6-4b3e-89ba-e6da585925cc"
      },
      "execution_count": null,
      "outputs": [
        {
          "output_type": "stream",
          "name": "stdout",
          "text": [
            "  Количество правильных ответов: 9\n",
            "Количество неправильных ответов: 1\n",
            "          Процент распознавания: 90%\n"
          ]
        }
      ]
    },
    {
      "cell_type": "code",
      "source": [
        "# Посылаем отзывы в ChatGPT\n",
        "true_answers  = 0\n",
        "false_answers = 0\n",
        "for review in good_reviews_list[-10:]:\n",
        "  message_content, answer = get_chatGPT_answer_from_own_knowledge_base(prompt, review, db)\n",
        "  print(f'Отзыв: {review}\\nОтвет ChatGPT: {answer}\\n\\n')\n",
        "  if answer == 'Позитивный отзыв':\n",
        "    true_answers += 1\n",
        "  else:\n",
        "    false_answers +=1\n",
        "  sleep(10)"
      ],
      "metadata": {
        "colab": {
          "base_uri": "https://localhost:8080/"
        },
        "id": "56dmTuesQFeU",
        "outputId": "84002ea3-9501-421e-e0c7-76da843ee8a4"
      },
      "execution_count": null,
      "outputs": [
        {
          "output_type": "stream",
          "name": "stdout",
          "text": [
            "Отзыв:  Бомбовенькое продолжение))\n",
            "Ответ ChatGPT: Позитивный отзыв\n",
            "\n",
            "\n",
            "Отзыв:  Интересный автомобиль, который приоткрывает пока только дверь в светлое будущее.\n",
            "Ответ ChatGPT: Позитивный отзыв\n",
            "\n",
            "\n",
            "Отзыв:  Я ездил на всех Теслах. У них дури больше чем на феррари а реакция на нажатие педали мгновенно ших тиражах всегда будет шанс бракованной детали и неважно Тесла это или тоёта.\n",
            "Ответ ChatGPT: Позитивный отзыв\n",
            "\n",
            "\n",
            "Отзыв:  Я отлично езжу на Тесле. 325 миль - это дофига и хватает почти везде\n",
            "Ответ ChatGPT: Позитивный отзыв\n",
            "\n",
            "\n",
            "Отзыв:  Тесла уже давно прошла стадию \"крутая дорогая электротачка\" а тайк ан только неделю назад появился. то есть Порше сейчас учится в школе где Тесла преподавала.\n",
            "Ответ ChatGPT: Позитивный отзыв\n",
            "\n",
            "\n"
          ]
        },
        {
          "output_type": "stream",
          "name": "stderr",
          "text": [
            "WARNING:langchain.embeddings.openai:Retrying langchain.embeddings.openai.embed_with_retry.<locals>._embed_with_retry in 4.0 seconds as it raised RateLimitError: Rate limit reached for default-text-embedding-ada-002 in organization org-yre0AhTPSH1gs8UbrcnPGQ35 on requests per min. Limit: 3 / min. Please try again in 20s. Contact us through our help center at help.openai.com if you continue to have issues. Please add a payment method to your account to increase your rate limit. Visit https://platform.openai.com/account/billing to add a payment method..\n",
            "WARNING:langchain.embeddings.openai:Retrying langchain.embeddings.openai.embed_with_retry.<locals>._embed_with_retry in 4.0 seconds as it raised RateLimitError: Rate limit reached for default-text-embedding-ada-002 in organization org-yre0AhTPSH1gs8UbrcnPGQ35 on requests per min. Limit: 3 / min. Please try again in 20s. Contact us through our help center at help.openai.com if you continue to have issues. Please add a payment method to your account to increase your rate limit. Visit https://platform.openai.com/account/billing to add a payment method..\n"
          ]
        },
        {
          "output_type": "stream",
          "name": "stdout",
          "text": [
            "Отзыв:  Тесла летает как ракета \n",
            "Ответ ChatGPT: Позитивный отзыв\n",
            "\n",
            "\n"
          ]
        },
        {
          "output_type": "stream",
          "name": "stderr",
          "text": [
            "WARNING:langchain.embeddings.openai:Retrying langchain.embeddings.openai.embed_with_retry.<locals>._embed_with_retry in 4.0 seconds as it raised RateLimitError: Rate limit reached for default-text-embedding-ada-002 in organization org-yre0AhTPSH1gs8UbrcnPGQ35 on requests per min. Limit: 3 / min. Please try again in 20s. Contact us through our help center at help.openai.com if you continue to have issues. Please add a payment method to your account to increase your rate limit. Visit https://platform.openai.com/account/billing to add a payment method..\n",
            "WARNING:langchain.embeddings.openai:Retrying langchain.embeddings.openai.embed_with_retry.<locals>._embed_with_retry in 4.0 seconds as it raised RateLimitError: Rate limit reached for default-text-embedding-ada-002 in organization org-yre0AhTPSH1gs8UbrcnPGQ35 on requests per min. Limit: 3 / min. Please try again in 20s. Contact us through our help center at help.openai.com if you continue to have issues. Please add a payment method to your account to increase your rate limit. Visit https://platform.openai.com/account/billing to add a payment method..\n"
          ]
        },
        {
          "output_type": "stream",
          "name": "stdout",
          "text": [
            "Отзыв:  космос\n",
            "Ответ ChatGPT: Позитивный отзыв\n",
            "\n",
            "\n"
          ]
        },
        {
          "output_type": "stream",
          "name": "stderr",
          "text": [
            "WARNING:langchain.embeddings.openai:Retrying langchain.embeddings.openai.embed_with_retry.<locals>._embed_with_retry in 4.0 seconds as it raised RateLimitError: Rate limit reached for default-text-embedding-ada-002 in organization org-yre0AhTPSH1gs8UbrcnPGQ35 on requests per min. Limit: 3 / min. Please try again in 20s. Contact us through our help center at help.openai.com if you continue to have issues. Please add a payment method to your account to increase your rate limit. Visit https://platform.openai.com/account/billing to add a payment method..\n",
            "WARNING:langchain.embeddings.openai:Retrying langchain.embeddings.openai.embed_with_retry.<locals>._embed_with_retry in 4.0 seconds as it raised RateLimitError: Rate limit reached for default-text-embedding-ada-002 in organization org-yre0AhTPSH1gs8UbrcnPGQ35 on requests per min. Limit: 3 / min. Please try again in 20s. Contact us through our help center at help.openai.com if you continue to have issues. Please add a payment method to your account to increase your rate limit. Visit https://platform.openai.com/account/billing to add a payment method..\n"
          ]
        },
        {
          "output_type": "stream",
          "name": "stdout",
          "text": [
            "Отзыв:  КРУТОТЕНЬ👍👍👍😎😎😎\n",
            "Ответ ChatGPT: Позитивный отзыв\n",
            "\n",
            "\n"
          ]
        },
        {
          "output_type": "stream",
          "name": "stderr",
          "text": [
            "WARNING:langchain.embeddings.openai:Retrying langchain.embeddings.openai.embed_with_retry.<locals>._embed_with_retry in 4.0 seconds as it raised RateLimitError: Rate limit reached for default-text-embedding-ada-002 in organization org-yre0AhTPSH1gs8UbrcnPGQ35 on requests per min. Limit: 3 / min. Please try again in 20s. Contact us through our help center at help.openai.com if you continue to have issues. Please add a payment method to your account to increase your rate limit. Visit https://platform.openai.com/account/billing to add a payment method..\n",
            "WARNING:langchain.embeddings.openai:Retrying langchain.embeddings.openai.embed_with_retry.<locals>._embed_with_retry in 4.0 seconds as it raised RateLimitError: Rate limit reached for default-text-embedding-ada-002 in organization org-yre0AhTPSH1gs8UbrcnPGQ35 on requests per min. Limit: 3 / min. Please try again in 20s. Contact us through our help center at help.openai.com if you continue to have issues. Please add a payment method to your account to increase your rate limit. Visit https://platform.openai.com/account/billing to add a payment method..\n"
          ]
        },
        {
          "output_type": "stream",
          "name": "stdout",
          "text": [
            "Отзыв:  космомобиль\n",
            "Ответ ChatGPT: Позитивный отзыв\n",
            "\n",
            "\n"
          ]
        },
        {
          "output_type": "stream",
          "name": "stderr",
          "text": [
            "WARNING:langchain.embeddings.openai:Retrying langchain.embeddings.openai.embed_with_retry.<locals>._embed_with_retry in 4.0 seconds as it raised RateLimitError: Rate limit reached for default-text-embedding-ada-002 in organization org-yre0AhTPSH1gs8UbrcnPGQ35 on requests per min. Limit: 3 / min. Please try again in 20s. Contact us through our help center at help.openai.com if you continue to have issues. Please add a payment method to your account to increase your rate limit. Visit https://platform.openai.com/account/billing to add a payment method..\n",
            "WARNING:langchain.embeddings.openai:Retrying langchain.embeddings.openai.embed_with_retry.<locals>._embed_with_retry in 4.0 seconds as it raised RateLimitError: Rate limit reached for default-text-embedding-ada-002 in organization org-yre0AhTPSH1gs8UbrcnPGQ35 on requests per min. Limit: 3 / min. Please try again in 20s. Contact us through our help center at help.openai.com if you continue to have issues. Please add a payment method to your account to increase your rate limit. Visit https://platform.openai.com/account/billing to add a payment method..\n",
            "WARNING:langchain.embeddings.openai:Retrying langchain.embeddings.openai.embed_with_retry.<locals>._embed_with_retry in 4.0 seconds as it raised RateLimitError: Rate limit reached for default-text-embedding-ada-002 in organization org-yre0AhTPSH1gs8UbrcnPGQ35 on requests per min. Limit: 3 / min. Please try again in 20s. Contact us through our help center at help.openai.com if you continue to have issues. Please add a payment method to your account to increase your rate limit. Visit https://platform.openai.com/account/billing to add a payment method..\n"
          ]
        },
        {
          "output_type": "stream",
          "name": "stdout",
          "text": [
            "Отзыв:  офигенная тачка!\n",
            "Ответ ChatGPT: Позитивный отзыв\n",
            "\n",
            "\n"
          ]
        }
      ]
    },
    {
      "cell_type": "code",
      "source": [
        "print(f'  Количество правильных ответов: {true_answers}')\n",
        "print(f'Количество неправильных ответов: {false_answers}')\n",
        "print(f'          Процент распознавания: {true_answers*10}%')"
      ],
      "metadata": {
        "colab": {
          "base_uri": "https://localhost:8080/"
        },
        "id": "P21GrCXaQUvV",
        "outputId": "b19be94d-7d28-44cb-9c50-8c606abc9e10"
      },
      "execution_count": null,
      "outputs": [
        {
          "output_type": "stream",
          "name": "stdout",
          "text": [
            "  Количество правильных ответов: 10\n",
            "Количество неправильных ответов: 0\n",
            "          Процент распознавания: 100%\n"
          ]
        }
      ]
    },
    {
      "cell_type": "markdown",
      "source": [
        "### Тесты классификации звонков клиентов с помощью ChatGPT"
      ],
      "metadata": {
        "id": "LJLJblPRRxrd"
      }
    },
    {
      "cell_type": "markdown",
      "source": [
        "#### Библиотеки"
      ],
      "metadata": {
        "id": "QefYCR7ySy5r"
      }
    },
    {
      "cell_type": "code",
      "source": [
        "# Устанавливка библиотек\n",
        "!pip -q install ffmpeg-python SpeechRecognition pydub"
      ],
      "metadata": {
        "id": "E-TSFOhoS83g"
      },
      "execution_count": null,
      "outputs": []
    },
    {
      "cell_type": "code",
      "source": [
        "import speech_recognition as sR"
      ],
      "metadata": {
        "id": "5Pd-htCVUjY9"
      },
      "execution_count": null,
      "outputs": []
    },
    {
      "cell_type": "markdown",
      "source": [
        "#### Функции"
      ],
      "metadata": {
        "id": "yAGfK8yiSsBt"
      }
    },
    {
      "cell_type": "code",
      "source": [
        "# Функция для распознавания речи\n",
        "def recognizeAudio(filename, duration=None):\n",
        "\n",
        "  # Задаём путь к аудиофайлу\n",
        "  AUDIO_FILE = os.path.join(filename)\n",
        "\n",
        "  # Создаём объект класса Recognizer\n",
        "  r = sR.Recognizer()\n",
        "\n",
        "  # Считываем аудиофайл\n",
        "  with sR.AudioFile(AUDIO_FILE) as source:\n",
        "    audio = r.record(source, duration=duration)\n",
        "\n",
        "  return r.recognize_google(audio, language='ru')"
      ],
      "metadata": {
        "id": "A30aRaBeSC4K"
      },
      "execution_count": null,
      "outputs": []
    },
    {
      "cell_type": "markdown",
      "source": [
        "#### Распознавание аудиозаписей"
      ],
      "metadata": {
        "id": "F7aY3huuVI8I"
      }
    },
    {
      "cell_type": "code",
      "source": [],
      "metadata": {
        "id": "9TRpf2_nVQP9"
      },
      "execution_count": null,
      "outputs": []
    },
    {
      "cell_type": "markdown",
      "source": [
        "## Файлы транскрибации звонков"
      ],
      "metadata": {
        "id": "6p4mq_dy8kIv"
      }
    },
    {
      "cell_type": "markdown",
      "source": [
        "### Библиотеки и переменные"
      ],
      "metadata": {
        "id": "BY8-HoCK836U"
      }
    },
    {
      "cell_type": "code",
      "source": [
        "transcription_path                   = my_drv_path + 'media108.ru/Transkribathion/'                      # путь к папке транскрибации звонков\n",
        "Headliner_transcription_path         = transcription_path + 'Расшифровки_Записи звонков_хедлайнер'       # путь к папке транскрибации звонков Headliner\n",
        "Primavera_transcription_path         = transcription_path + 'Расшифровки_Записи звонков_primavera'       # путь к папке транскрибации звонков Primavera\n",
        "Paveletskaya_city_transcription_path = transcription_path + 'Расшифровки_Записи звонков_павелецкая сити' # путь к папке транскрибации звонков Paveletskaya_city"
      ],
      "metadata": {
        "id": "cbbastJS8sID"
      },
      "execution_count": null,
      "outputs": []
    },
    {
      "cell_type": "markdown",
      "source": [
        "### Функции"
      ],
      "metadata": {
        "id": "pjlJV3B0Ycz-"
      }
    },
    {
      "cell_type": "code",
      "source": [
        "# Функция для создания датафрейма из списка файлов транскрибации звонков\n",
        "def transcriptions_list_to_df(transcriptions_list):\n",
        "\n",
        "  datetime_list    = [] # список для 'Дата и время'\n",
        "  from_number_list = [] # список для 'Номер абонента'\n",
        "  to_number_list   = [] # список для 'Номер сотрудника'\n",
        "  session_list     = [] # список для 'Идентификатор сессии звонка'\n",
        "  transcriber_list = [] # список для 'Транскрибатор'\n",
        "\n",
        "  # Проходим по списку записей звонков\n",
        "  for transcription in transcriptions_list:\n",
        "\n",
        "    transcription_item_list = transcription.split('_')\n",
        "    time_item_list = transcription_item_list[1].split('.')\n",
        "    time_item_list = time_item_list[0].split('-')\n",
        "\n",
        "    # Заполняем списки для столбцов\n",
        "    datetime_list.append(transcription_item_list[0] + ' ' + time_item_list[0] + ':' + time_item_list[1] + ':' + time_item_list[2])\n",
        "    from_number_list.append(transcription_item_list[3])\n",
        "    to_number_list.append(transcription_item_list[5])\n",
        "    session_list.append(transcription_item_list[7])\n",
        "    transcriber_list.append(transcription_item_list[9])\n",
        "\n",
        "  # Собираем созданные списки в словарь\n",
        "  transcriptions_dict = dict.fromkeys(['Дата и время', 'Номер абонента', 'Номер сотрудника', 'Идентификатор сессии звонка', 'Транскрибатор', 'Файл транскрибации звонка'], [])\n",
        "  transcriptions_dict['Дата и время']                = datetime_list\n",
        "  transcriptions_dict['Номер абонента']              = from_number_list\n",
        "  transcriptions_dict['Номер сотрудника']            = to_number_list\n",
        "  transcriptions_dict['Идентификатор сессии звонка'] = session_list\n",
        "  transcriptions_dict['Транскрибатор']               = transcriber_list\n",
        "  transcriptions_dict['Файл транскрибации звонка']   = transcriptions_list\n",
        "\n",
        "  # Возвращаем датафрейм\n",
        "  return pd.DataFrame(transcriptions_dict)"
      ],
      "metadata": {
        "id": "eU4_l2QjYglZ"
      },
      "execution_count": null,
      "outputs": []
    },
    {
      "cell_type": "markdown",
      "source": [
        "### Верификация количества файлов"
      ],
      "metadata": {
        "id": "ckYt_8I-IpbI"
      }
    },
    {
      "cell_type": "code",
      "source": [
        "# Загрузка датафреймов\n",
        "with open(df_path + 'total_df.pkl', 'rb') as f:\n",
        "  total_df = pkl.load(f)\n",
        "\n",
        "with open(df_path + 'calls_not_match_info_df.pkl', 'rb') as f:\n",
        "  calls_not_match_info_df = pkl.load(f)\n",
        "\n",
        "with open(df_path + 'Headliner_calls_df.pkl', 'rb') as f:\n",
        "  Headliner_calls_df = pkl.load(f)\n",
        "\n",
        "with open(df_path + 'Primavera_calls_df.pkl', 'rb') as f:\n",
        "  Primavera_calls_df = pkl.load(f)\n",
        "\n",
        "with open(df_path + 'Paveletskaya_city_calls_df.pkl', 'rb') as f:\n",
        "  Paveletskaya_city_calls_df = pkl.load(f)\n",
        "\n",
        "with open(df_path + 'files_for_transcription_df.pkl', 'rb') as f:\n",
        "  files_for_transcription_df = pkl.load(f)"
      ],
      "metadata": {
        "id": "fAAEUf8wI7Is"
      },
      "execution_count": null,
      "outputs": []
    },
    {
      "cell_type": "code",
      "source": [
        "print(f'                                  Headliner: {Headliner_calls_df.shape[0]} файлов записей звонков')\n",
        "print(f'                                  Primavera: {Primavera_calls_df.shape[0]} файлов записей звонков')\n",
        "print(f'                          Paveletskaya_city: {Paveletskaya_city_calls_df.shape[0]} файлов записей звонков')\n",
        "print()\n",
        "print(f'           Всего строк информации о звонках: {total_df.shape[0]}')\n",
        "print(f'               Всего файлов записей звонков: {Headliner_calls_df.shape[0] + Primavera_calls_df.shape[0] + Paveletskaya_city_calls_df.shape[0]}')\n",
        "print(f'Всего файлов записей звонков без информации: {calls_not_match_info_df.shape[0]}')\n",
        "print(f' Всего файлов записей звонков c информацией: {files_for_transcription_df.shape[0]}')\n",
        "print()\n",
        "print(f'                                  Headliner: {len(os.listdir(Headliner_transcription_path))} файлов транскрибации звонков')\n",
        "print(f'                                  Primavera: {len(os.listdir(Primavera_transcription_path))} файлов транскрибации звонков')\n",
        "print(f'                          Paveletskaya_city: {len(os.listdir(Paveletskaya_city_transcription_path))} файлов транскрибации звонков')\n",
        "print()\n",
        "print(f'         Всего файлов транскрибации звонков: {len(os.listdir(Headliner_transcription_path)) + len(os.listdir(Primavera_transcription_path)) + len(os.listdir(Paveletskaya_city_transcription_path))}')"
      ],
      "metadata": {
        "colab": {
          "base_uri": "https://localhost:8080/"
        },
        "id": "dEiSuSOKLFIK",
        "outputId": "df118206-b2be-47fe-a943-6ddeddcdedd5"
      },
      "execution_count": null,
      "outputs": [
        {
          "output_type": "stream",
          "name": "stdout",
          "text": [
            "                                  Headliner: 2045 файлов записей звонков\n",
            "                                  Primavera: 1983 файлов записей звонков\n",
            "                          Paveletskaya_city: 1000 файлов записей звонков\n",
            "\n",
            "           Всего строк информации о звонках: 18803\n",
            "               Всего файлов записей звонков: 5028\n",
            "Всего файлов записей звонков без информации: 466\n",
            " Всего файлов записей звонков c информацией: 4562\n",
            "\n",
            "                                  Headliner: 2055 файлов транскрибации звонков\n",
            "                                  Primavera: 1983 файлов транскрибации звонков\n",
            "                          Paveletskaya_city: 1000 файлов транскрибации звонков\n",
            "\n",
            "         Всего файлов транскрибации звонков: 5038\n"
          ]
        }
      ]
    },
    {
      "cell_type": "markdown",
      "source": [
        "### Создание датафреймов из списков файлов транскрибации звонков"
      ],
      "metadata": {
        "id": "crK3VvgbXyrm"
      }
    },
    {
      "cell_type": "markdown",
      "source": [
        "#### Headliner"
      ],
      "metadata": {
        "id": "hswt2p0kh8dL"
      }
    },
    {
      "cell_type": "code",
      "source": [
        "# Создаём датафрейм из списка файлов транскрибации звонков Headliner\n",
        "Headliner_transcriptions_df = transcriptions_list_to_df(os.listdir(Headliner_transcription_path))\n",
        "Headliner_transcriptions_df.head()"
      ],
      "metadata": {
        "colab": {
          "base_uri": "https://localhost:8080/",
          "height": 310
        },
        "id": "CEDDLYxRYZi9",
        "outputId": "7f2dc3da-2c8b-4bee-d546-164890d2ad7d"
      },
      "execution_count": null,
      "outputs": [
        {
          "output_type": "execute_result",
          "data": {
            "text/plain": [
              "          Дата и время Номер абонента Номер сотрудника  \\\n",
              "0  2023-06-13 16:34:55    79253130521          0188880   \n",
              "1  2023-06-13 16:38:19    79854420972          0188880   \n",
              "2  2023-06-13 16:38:32    79010377117      74959339902   \n",
              "3  2023-06-13 16:41:01    79067578107          0188880   \n",
              "4  2023-06-13 16:41:49    79067578107          0188880   \n",
              "\n",
              "  Идентификатор сессии звонка Транскрибатор  \\\n",
              "0                  3020550704       whisper   \n",
              "1                  3001367639       whisper   \n",
              "2                  2983982802       whisper   \n",
              "3                  3002111697       whisper   \n",
              "4                  3002112889       whisper   \n",
              "\n",
              "                                                                              Файл транскрибации звонка  \n",
              "0      2023-06-13_16-34-55.323535_from_79253130521_to_0188880_session_3020550704_talk_whisper_large.txt  \n",
              "1      2023-06-13_16-38-19.167809_from_79854420972_to_0188880_session_3001367639_talk_whisper_large.txt  \n",
              "2  2023-06-13_16-38-32.031681_from_79010377117_to_74959339902_session_2983982802_talk_whisper_large.txt  \n",
              "3      2023-06-13_16-41-01.418697_from_79067578107_to_0188880_session_3002111697_talk_whisper_large.txt  \n",
              "4      2023-06-13_16-41-49.321187_from_79067578107_to_0188880_session_3002112889_talk_whisper_large.txt  "
            ],
            "text/html": [
              "\n",
              "  <div id=\"df-8036ab36-0a6c-4bd2-8be8-b4dd5f12cfbe\" class=\"colab-df-container\">\n",
              "    <div>\n",
              "<style scoped>\n",
              "    .dataframe tbody tr th:only-of-type {\n",
              "        vertical-align: middle;\n",
              "    }\n",
              "\n",
              "    .dataframe tbody tr th {\n",
              "        vertical-align: top;\n",
              "    }\n",
              "\n",
              "    .dataframe thead th {\n",
              "        text-align: right;\n",
              "    }\n",
              "</style>\n",
              "<table border=\"1\" class=\"dataframe\">\n",
              "  <thead>\n",
              "    <tr style=\"text-align: right;\">\n",
              "      <th></th>\n",
              "      <th>Дата и время</th>\n",
              "      <th>Номер абонента</th>\n",
              "      <th>Номер сотрудника</th>\n",
              "      <th>Идентификатор сессии звонка</th>\n",
              "      <th>Транскрибатор</th>\n",
              "      <th>Файл транскрибации звонка</th>\n",
              "    </tr>\n",
              "  </thead>\n",
              "  <tbody>\n",
              "    <tr>\n",
              "      <th>0</th>\n",
              "      <td>2023-06-13 16:34:55</td>\n",
              "      <td>79253130521</td>\n",
              "      <td>0188880</td>\n",
              "      <td>3020550704</td>\n",
              "      <td>whisper</td>\n",
              "      <td>2023-06-13_16-34-55.323535_from_79253130521_to_0188880_session_3020550704_talk_whisper_large.txt</td>\n",
              "    </tr>\n",
              "    <tr>\n",
              "      <th>1</th>\n",
              "      <td>2023-06-13 16:38:19</td>\n",
              "      <td>79854420972</td>\n",
              "      <td>0188880</td>\n",
              "      <td>3001367639</td>\n",
              "      <td>whisper</td>\n",
              "      <td>2023-06-13_16-38-19.167809_from_79854420972_to_0188880_session_3001367639_talk_whisper_large.txt</td>\n",
              "    </tr>\n",
              "    <tr>\n",
              "      <th>2</th>\n",
              "      <td>2023-06-13 16:38:32</td>\n",
              "      <td>79010377117</td>\n",
              "      <td>74959339902</td>\n",
              "      <td>2983982802</td>\n",
              "      <td>whisper</td>\n",
              "      <td>2023-06-13_16-38-32.031681_from_79010377117_to_74959339902_session_2983982802_talk_whisper_large.txt</td>\n",
              "    </tr>\n",
              "    <tr>\n",
              "      <th>3</th>\n",
              "      <td>2023-06-13 16:41:01</td>\n",
              "      <td>79067578107</td>\n",
              "      <td>0188880</td>\n",
              "      <td>3002111697</td>\n",
              "      <td>whisper</td>\n",
              "      <td>2023-06-13_16-41-01.418697_from_79067578107_to_0188880_session_3002111697_talk_whisper_large.txt</td>\n",
              "    </tr>\n",
              "    <tr>\n",
              "      <th>4</th>\n",
              "      <td>2023-06-13 16:41:49</td>\n",
              "      <td>79067578107</td>\n",
              "      <td>0188880</td>\n",
              "      <td>3002112889</td>\n",
              "      <td>whisper</td>\n",
              "      <td>2023-06-13_16-41-49.321187_from_79067578107_to_0188880_session_3002112889_talk_whisper_large.txt</td>\n",
              "    </tr>\n",
              "  </tbody>\n",
              "</table>\n",
              "</div>\n",
              "    <div class=\"colab-df-buttons\">\n",
              "\n",
              "  <div class=\"colab-df-container\">\n",
              "    <button class=\"colab-df-convert\" onclick=\"convertToInteractive('df-8036ab36-0a6c-4bd2-8be8-b4dd5f12cfbe')\"\n",
              "            title=\"Convert this dataframe to an interactive table.\"\n",
              "            style=\"display:none;\">\n",
              "\n",
              "  <svg xmlns=\"http://www.w3.org/2000/svg\" height=\"24px\" viewBox=\"0 -960 960 960\">\n",
              "    <path d=\"M120-120v-720h720v720H120Zm60-500h600v-160H180v160Zm220 220h160v-160H400v160Zm0 220h160v-160H400v160ZM180-400h160v-160H180v160Zm440 0h160v-160H620v160ZM180-180h160v-160H180v160Zm440 0h160v-160H620v160Z\"/>\n",
              "  </svg>\n",
              "    </button>\n",
              "\n",
              "  <style>\n",
              "    .colab-df-container {\n",
              "      display:flex;\n",
              "      gap: 12px;\n",
              "    }\n",
              "\n",
              "    .colab-df-convert {\n",
              "      background-color: #E8F0FE;\n",
              "      border: none;\n",
              "      border-radius: 50%;\n",
              "      cursor: pointer;\n",
              "      display: none;\n",
              "      fill: #1967D2;\n",
              "      height: 32px;\n",
              "      padding: 0 0 0 0;\n",
              "      width: 32px;\n",
              "    }\n",
              "\n",
              "    .colab-df-convert:hover {\n",
              "      background-color: #E2EBFA;\n",
              "      box-shadow: 0px 1px 2px rgba(60, 64, 67, 0.3), 0px 1px 3px 1px rgba(60, 64, 67, 0.15);\n",
              "      fill: #174EA6;\n",
              "    }\n",
              "\n",
              "    .colab-df-buttons div {\n",
              "      margin-bottom: 4px;\n",
              "    }\n",
              "\n",
              "    [theme=dark] .colab-df-convert {\n",
              "      background-color: #3B4455;\n",
              "      fill: #D2E3FC;\n",
              "    }\n",
              "\n",
              "    [theme=dark] .colab-df-convert:hover {\n",
              "      background-color: #434B5C;\n",
              "      box-shadow: 0px 1px 3px 1px rgba(0, 0, 0, 0.15);\n",
              "      filter: drop-shadow(0px 1px 2px rgba(0, 0, 0, 0.3));\n",
              "      fill: #FFFFFF;\n",
              "    }\n",
              "  </style>\n",
              "\n",
              "    <script>\n",
              "      const buttonEl =\n",
              "        document.querySelector('#df-8036ab36-0a6c-4bd2-8be8-b4dd5f12cfbe button.colab-df-convert');\n",
              "      buttonEl.style.display =\n",
              "        google.colab.kernel.accessAllowed ? 'block' : 'none';\n",
              "\n",
              "      async function convertToInteractive(key) {\n",
              "        const element = document.querySelector('#df-8036ab36-0a6c-4bd2-8be8-b4dd5f12cfbe');\n",
              "        const dataTable =\n",
              "          await google.colab.kernel.invokeFunction('convertToInteractive',\n",
              "                                                    [key], {});\n",
              "        if (!dataTable) return;\n",
              "\n",
              "        const docLinkHtml = 'Like what you see? Visit the ' +\n",
              "          '<a target=\"_blank\" href=https://colab.research.google.com/notebooks/data_table.ipynb>data table notebook</a>'\n",
              "          + ' to learn more about interactive tables.';\n",
              "        element.innerHTML = '';\n",
              "        dataTable['output_type'] = 'display_data';\n",
              "        await google.colab.output.renderOutput(dataTable, element);\n",
              "        const docLink = document.createElement('div');\n",
              "        docLink.innerHTML = docLinkHtml;\n",
              "        element.appendChild(docLink);\n",
              "      }\n",
              "    </script>\n",
              "  </div>\n",
              "\n",
              "\n",
              "<div id=\"df-2217f434-c77f-4013-bcc1-8c698fe194f6\">\n",
              "  <button class=\"colab-df-quickchart\" onclick=\"quickchart('df-2217f434-c77f-4013-bcc1-8c698fe194f6')\"\n",
              "            title=\"Suggest charts.\"\n",
              "            style=\"display:none;\">\n",
              "\n",
              "<svg xmlns=\"http://www.w3.org/2000/svg\" height=\"24px\"viewBox=\"0 0 24 24\"\n",
              "     width=\"24px\">\n",
              "    <g>\n",
              "        <path d=\"M19 3H5c-1.1 0-2 .9-2 2v14c0 1.1.9 2 2 2h14c1.1 0 2-.9 2-2V5c0-1.1-.9-2-2-2zM9 17H7v-7h2v7zm4 0h-2V7h2v10zm4 0h-2v-4h2v4z\"/>\n",
              "    </g>\n",
              "</svg>\n",
              "  </button>\n",
              "\n",
              "<style>\n",
              "  .colab-df-quickchart {\n",
              "      --bg-color: #E8F0FE;\n",
              "      --fill-color: #1967D2;\n",
              "      --hover-bg-color: #E2EBFA;\n",
              "      --hover-fill-color: #174EA6;\n",
              "      --disabled-fill-color: #AAA;\n",
              "      --disabled-bg-color: #DDD;\n",
              "  }\n",
              "\n",
              "  [theme=dark] .colab-df-quickchart {\n",
              "      --bg-color: #3B4455;\n",
              "      --fill-color: #D2E3FC;\n",
              "      --hover-bg-color: #434B5C;\n",
              "      --hover-fill-color: #FFFFFF;\n",
              "      --disabled-bg-color: #3B4455;\n",
              "      --disabled-fill-color: #666;\n",
              "  }\n",
              "\n",
              "  .colab-df-quickchart {\n",
              "    background-color: var(--bg-color);\n",
              "    border: none;\n",
              "    border-radius: 50%;\n",
              "    cursor: pointer;\n",
              "    display: none;\n",
              "    fill: var(--fill-color);\n",
              "    height: 32px;\n",
              "    padding: 0;\n",
              "    width: 32px;\n",
              "  }\n",
              "\n",
              "  .colab-df-quickchart:hover {\n",
              "    background-color: var(--hover-bg-color);\n",
              "    box-shadow: 0 1px 2px rgba(60, 64, 67, 0.3), 0 1px 3px 1px rgba(60, 64, 67, 0.15);\n",
              "    fill: var(--button-hover-fill-color);\n",
              "  }\n",
              "\n",
              "  .colab-df-quickchart-complete:disabled,\n",
              "  .colab-df-quickchart-complete:disabled:hover {\n",
              "    background-color: var(--disabled-bg-color);\n",
              "    fill: var(--disabled-fill-color);\n",
              "    box-shadow: none;\n",
              "  }\n",
              "\n",
              "  .colab-df-spinner {\n",
              "    border: 2px solid var(--fill-color);\n",
              "    border-color: transparent;\n",
              "    border-bottom-color: var(--fill-color);\n",
              "    animation:\n",
              "      spin 1s steps(1) infinite;\n",
              "  }\n",
              "\n",
              "  @keyframes spin {\n",
              "    0% {\n",
              "      border-color: transparent;\n",
              "      border-bottom-color: var(--fill-color);\n",
              "      border-left-color: var(--fill-color);\n",
              "    }\n",
              "    20% {\n",
              "      border-color: transparent;\n",
              "      border-left-color: var(--fill-color);\n",
              "      border-top-color: var(--fill-color);\n",
              "    }\n",
              "    30% {\n",
              "      border-color: transparent;\n",
              "      border-left-color: var(--fill-color);\n",
              "      border-top-color: var(--fill-color);\n",
              "      border-right-color: var(--fill-color);\n",
              "    }\n",
              "    40% {\n",
              "      border-color: transparent;\n",
              "      border-right-color: var(--fill-color);\n",
              "      border-top-color: var(--fill-color);\n",
              "    }\n",
              "    60% {\n",
              "      border-color: transparent;\n",
              "      border-right-color: var(--fill-color);\n",
              "    }\n",
              "    80% {\n",
              "      border-color: transparent;\n",
              "      border-right-color: var(--fill-color);\n",
              "      border-bottom-color: var(--fill-color);\n",
              "    }\n",
              "    90% {\n",
              "      border-color: transparent;\n",
              "      border-bottom-color: var(--fill-color);\n",
              "    }\n",
              "  }\n",
              "</style>\n",
              "\n",
              "  <script>\n",
              "    async function quickchart(key) {\n",
              "      const quickchartButtonEl =\n",
              "        document.querySelector('#' + key + ' button');\n",
              "      quickchartButtonEl.disabled = true;  // To prevent multiple clicks.\n",
              "      quickchartButtonEl.classList.add('colab-df-spinner');\n",
              "      try {\n",
              "        const charts = await google.colab.kernel.invokeFunction(\n",
              "            'suggestCharts', [key], {});\n",
              "      } catch (error) {\n",
              "        console.error('Error during call to suggestCharts:', error);\n",
              "      }\n",
              "      quickchartButtonEl.classList.remove('colab-df-spinner');\n",
              "      quickchartButtonEl.classList.add('colab-df-quickchart-complete');\n",
              "    }\n",
              "    (() => {\n",
              "      let quickchartButtonEl =\n",
              "        document.querySelector('#df-2217f434-c77f-4013-bcc1-8c698fe194f6 button');\n",
              "      quickchartButtonEl.style.display =\n",
              "        google.colab.kernel.accessAllowed ? 'block' : 'none';\n",
              "    })();\n",
              "  </script>\n",
              "</div>\n",
              "    </div>\n",
              "  </div>\n"
            ]
          },
          "metadata": {},
          "execution_count": 31
        }
      ]
    },
    {
      "cell_type": "code",
      "source": [
        "# Проверяем количество строк\n",
        "print(len(os.listdir(Headliner_transcription_path)))\n",
        "print(Headliner_transcriptions_df.shape[0])"
      ],
      "metadata": {
        "colab": {
          "base_uri": "https://localhost:8080/"
        },
        "id": "HIGbprUYhdMm",
        "outputId": "388e8ad0-f2dd-4d1b-8f58-df355f6e7058"
      },
      "execution_count": null,
      "outputs": [
        {
          "output_type": "stream",
          "name": "stdout",
          "text": [
            "2055\n",
            "2055\n"
          ]
        }
      ]
    },
    {
      "cell_type": "code",
      "source": [
        "# Смотрим количество уникальных значений столбца 'Идентификатор сессии звонка'\n",
        "Headliner_transcriptions_df['Идентификатор сессии звонка'].nunique()"
      ],
      "metadata": {
        "colab": {
          "base_uri": "https://localhost:8080/"
        },
        "id": "iI4d3nY0hyGM",
        "outputId": "7ca8386c-d5c0-413b-efbb-f7fb5c36b7bf"
      },
      "execution_count": null,
      "outputs": [
        {
          "output_type": "execute_result",
          "data": {
            "text/plain": [
              "2045"
            ]
          },
          "metadata": {},
          "execution_count": 34
        }
      ]
    },
    {
      "cell_type": "code",
      "source": [
        "# Смотрим количество дубликатов в столбце 'Идентификатор сессии звонка'\n",
        "print(Headliner_transcriptions_df[Headliner_transcriptions_df['Идентификатор сессии звонка'].duplicated(keep='last')].shape[0])\n",
        "print(Headliner_transcriptions_df[Headliner_transcriptions_df['Идентификатор сессии звонка'].duplicated()].shape[0])"
      ],
      "metadata": {
        "colab": {
          "base_uri": "https://localhost:8080/"
        },
        "id": "Ve9iqUdEiJZv",
        "outputId": "ce6a7100-27ce-48b8-b7ee-d75de7d0a830"
      },
      "execution_count": null,
      "outputs": [
        {
          "output_type": "stream",
          "name": "stdout",
          "text": [
            "10\n",
            "10\n"
          ]
        }
      ]
    },
    {
      "cell_type": "code",
      "source": [
        "# Смотрим дубликаты в столбце 'Идентификатор сессии звонка'\n",
        "pd.concat([Headliner_transcriptions_df[Headliner_transcriptions_df['Идентификатор сессии звонка'].duplicated(keep='last')],\n",
        "           Headliner_transcriptions_df[Headliner_transcriptions_df['Идентификатор сессии звонка'].duplicated()]])"
      ],
      "metadata": {
        "colab": {
          "base_uri": "https://localhost:8080/",
          "height": 1000
        },
        "id": "xlw_0sz1ibHR",
        "outputId": "71816bfc-c054-45f1-ead8-278ffcb86b6a"
      },
      "execution_count": null,
      "outputs": [
        {
          "output_type": "execute_result",
          "data": {
            "text/plain": [
              "             Дата и время Номер абонента Номер сотрудника  \\\n",
              "1923  2023-06-09 16:51:36    79999835117      74959339929   \n",
              "1925  2023-06-09 20:36:38    74951626925      74997552563   \n",
              "1927  2023-06-10 12:19:27    79855320219      74959339902   \n",
              "1929  2023-06-10 12:20:01    79855320219      74959339902   \n",
              "1931  2023-06-10 12:41:39    79932311337      74997552563   \n",
              "1933  2023-06-10 12:50:13    79057912134      74997552563   \n",
              "1935  2023-06-10 12:51:20    74957457444      74959339929   \n",
              "1938  2023-06-10 14:03:42    74957457444      74959339929   \n",
              "1940  2023-06-10 17:09:27    79636310102      74997552563   \n",
              "1942  2023-06-10 17:21:35    79015530030      74959339929   \n",
              "1924  2023-06-09 16:51:36    79999835117      74959339929   \n",
              "1926  2023-06-09 20:36:38    74951626925      74997552563   \n",
              "1928  2023-06-10 12:19:27    79855320219      74959339902   \n",
              "1930  2023-06-10 12:20:01    79855320219      74959339902   \n",
              "1932  2023-06-10 12:41:39    79932311337      74997552563   \n",
              "1934  2023-06-10 12:50:13    79057912134      74997552563   \n",
              "1936  2023-06-10 12:51:20    74957457444      74959339929   \n",
              "1939  2023-06-10 14:03:42    74957457444      74959339929   \n",
              "1941  2023-06-10 17:09:27    79636310102      74997552563   \n",
              "1943  2023-06-10 17:21:35    79015530030      74959339929   \n",
              "\n",
              "     Идентификатор сессии звонка Транскрибатор  \\\n",
              "1923                  3013731244       whisper   \n",
              "1925                  3014157308       whisper   \n",
              "1927                  2996201671       whisper   \n",
              "1929                  2996196943       whisper   \n",
              "1931                  3014808800       whisper   \n",
              "1933                  2996260363       whisper   \n",
              "1935                  2996988633       whisper   \n",
              "1938                  2979520234       whisper   \n",
              "1940                  2979780790       whisper   \n",
              "1942                  2996704435       whisper   \n",
              "1924                  3013731244       whisper   \n",
              "1926                  3014157308       whisper   \n",
              "1928                  2996201671       whisper   \n",
              "1930                  2996196943       whisper   \n",
              "1932                  3014808800       whisper   \n",
              "1934                  2996260363       whisper   \n",
              "1936                  2996988633       whisper   \n",
              "1939                  2979520234       whisper   \n",
              "1941                  2979780790       whisper   \n",
              "1943                  2996704435       whisper   \n",
              "\n",
              "                                                                                    Файл транскрибации звонка  \n",
              "1923  2023-06-09_16-51-36.409159_from_79999835117_to_74959339929_session_3013731244_talk(1)_whisper_large.txt  \n",
              "1925  2023-06-09_20-36-38.855885_from_74951626925_to_74997552563_session_3014157308_talk(1)_whisper_large.txt  \n",
              "1927  2023-06-10_12-19-27.677250_from_79855320219_to_74959339902_session_2996201671_talk(1)_whisper_large.txt  \n",
              "1929  2023-06-10_12-20-01.703751_from_79855320219_to_74959339902_session_2996196943_talk(1)_whisper_large.txt  \n",
              "1931  2023-06-10_12-41-39.438371_from_79932311337_to_74997552563_session_3014808800_talk(1)_whisper_large.txt  \n",
              "1933  2023-06-10_12-50-13.808032_from_79057912134_to_74997552563_session_2996260363_talk(1)_whisper_large.txt  \n",
              "1935  2023-06-10_12-51-20.873488_from_74957457444_to_74959339929_session_2996988633_talk(1)_whisper_large.txt  \n",
              "1938  2023-06-10_14-03-42.287232_from_74957457444_to_74959339929_session_2979520234_talk(1)_whisper_large.txt  \n",
              "1940  2023-06-10_17-09-27.282329_from_79636310102_to_74997552563_session_2979780790_talk(1)_whisper_large.txt  \n",
              "1942  2023-06-10_17-21-35.269125_from_79015530030_to_74959339929_session_2996704435_talk(1)_whisper_large.txt  \n",
              "1924     2023-06-09_16-51-36.409159_from_79999835117_to_74959339929_session_3013731244_talk_whisper_large.txt  \n",
              "1926     2023-06-09_20-36-38.855885_from_74951626925_to_74997552563_session_3014157308_talk_whisper_large.txt  \n",
              "1928     2023-06-10_12-19-27.677250_from_79855320219_to_74959339902_session_2996201671_talk_whisper_large.txt  \n",
              "1930     2023-06-10_12-20-01.703751_from_79855320219_to_74959339902_session_2996196943_talk_whisper_large.txt  \n",
              "1932     2023-06-10_12-41-39.438371_from_79932311337_to_74997552563_session_3014808800_talk_whisper_large.txt  \n",
              "1934     2023-06-10_12-50-13.808032_from_79057912134_to_74997552563_session_2996260363_talk_whisper_large.txt  \n",
              "1936     2023-06-10_12-51-20.873488_from_74957457444_to_74959339929_session_2996988633_talk_whisper_large.txt  \n",
              "1939     2023-06-10_14-03-42.287232_from_74957457444_to_74959339929_session_2979520234_talk_whisper_large.txt  \n",
              "1941     2023-06-10_17-09-27.282329_from_79636310102_to_74997552563_session_2979780790_talk_whisper_large.txt  \n",
              "1943     2023-06-10_17-21-35.269125_from_79015530030_to_74959339929_session_2996704435_talk_whisper_large.txt  "
            ],
            "text/html": [
              "\n",
              "  <div id=\"df-bf77a118-18c5-4ed4-b87d-7dbfe7375d97\" class=\"colab-df-container\">\n",
              "    <div>\n",
              "<style scoped>\n",
              "    .dataframe tbody tr th:only-of-type {\n",
              "        vertical-align: middle;\n",
              "    }\n",
              "\n",
              "    .dataframe tbody tr th {\n",
              "        vertical-align: top;\n",
              "    }\n",
              "\n",
              "    .dataframe thead th {\n",
              "        text-align: right;\n",
              "    }\n",
              "</style>\n",
              "<table border=\"1\" class=\"dataframe\">\n",
              "  <thead>\n",
              "    <tr style=\"text-align: right;\">\n",
              "      <th></th>\n",
              "      <th>Дата и время</th>\n",
              "      <th>Номер абонента</th>\n",
              "      <th>Номер сотрудника</th>\n",
              "      <th>Идентификатор сессии звонка</th>\n",
              "      <th>Транскрибатор</th>\n",
              "      <th>Файл транскрибации звонка</th>\n",
              "    </tr>\n",
              "  </thead>\n",
              "  <tbody>\n",
              "    <tr>\n",
              "      <th>1923</th>\n",
              "      <td>2023-06-09 16:51:36</td>\n",
              "      <td>79999835117</td>\n",
              "      <td>74959339929</td>\n",
              "      <td>3013731244</td>\n",
              "      <td>whisper</td>\n",
              "      <td>2023-06-09_16-51-36.409159_from_79999835117_to_74959339929_session_3013731244_talk(1)_whisper_large.txt</td>\n",
              "    </tr>\n",
              "    <tr>\n",
              "      <th>1925</th>\n",
              "      <td>2023-06-09 20:36:38</td>\n",
              "      <td>74951626925</td>\n",
              "      <td>74997552563</td>\n",
              "      <td>3014157308</td>\n",
              "      <td>whisper</td>\n",
              "      <td>2023-06-09_20-36-38.855885_from_74951626925_to_74997552563_session_3014157308_talk(1)_whisper_large.txt</td>\n",
              "    </tr>\n",
              "    <tr>\n",
              "      <th>1927</th>\n",
              "      <td>2023-06-10 12:19:27</td>\n",
              "      <td>79855320219</td>\n",
              "      <td>74959339902</td>\n",
              "      <td>2996201671</td>\n",
              "      <td>whisper</td>\n",
              "      <td>2023-06-10_12-19-27.677250_from_79855320219_to_74959339902_session_2996201671_talk(1)_whisper_large.txt</td>\n",
              "    </tr>\n",
              "    <tr>\n",
              "      <th>1929</th>\n",
              "      <td>2023-06-10 12:20:01</td>\n",
              "      <td>79855320219</td>\n",
              "      <td>74959339902</td>\n",
              "      <td>2996196943</td>\n",
              "      <td>whisper</td>\n",
              "      <td>2023-06-10_12-20-01.703751_from_79855320219_to_74959339902_session_2996196943_talk(1)_whisper_large.txt</td>\n",
              "    </tr>\n",
              "    <tr>\n",
              "      <th>1931</th>\n",
              "      <td>2023-06-10 12:41:39</td>\n",
              "      <td>79932311337</td>\n",
              "      <td>74997552563</td>\n",
              "      <td>3014808800</td>\n",
              "      <td>whisper</td>\n",
              "      <td>2023-06-10_12-41-39.438371_from_79932311337_to_74997552563_session_3014808800_talk(1)_whisper_large.txt</td>\n",
              "    </tr>\n",
              "    <tr>\n",
              "      <th>1933</th>\n",
              "      <td>2023-06-10 12:50:13</td>\n",
              "      <td>79057912134</td>\n",
              "      <td>74997552563</td>\n",
              "      <td>2996260363</td>\n",
              "      <td>whisper</td>\n",
              "      <td>2023-06-10_12-50-13.808032_from_79057912134_to_74997552563_session_2996260363_talk(1)_whisper_large.txt</td>\n",
              "    </tr>\n",
              "    <tr>\n",
              "      <th>1935</th>\n",
              "      <td>2023-06-10 12:51:20</td>\n",
              "      <td>74957457444</td>\n",
              "      <td>74959339929</td>\n",
              "      <td>2996988633</td>\n",
              "      <td>whisper</td>\n",
              "      <td>2023-06-10_12-51-20.873488_from_74957457444_to_74959339929_session_2996988633_talk(1)_whisper_large.txt</td>\n",
              "    </tr>\n",
              "    <tr>\n",
              "      <th>1938</th>\n",
              "      <td>2023-06-10 14:03:42</td>\n",
              "      <td>74957457444</td>\n",
              "      <td>74959339929</td>\n",
              "      <td>2979520234</td>\n",
              "      <td>whisper</td>\n",
              "      <td>2023-06-10_14-03-42.287232_from_74957457444_to_74959339929_session_2979520234_talk(1)_whisper_large.txt</td>\n",
              "    </tr>\n",
              "    <tr>\n",
              "      <th>1940</th>\n",
              "      <td>2023-06-10 17:09:27</td>\n",
              "      <td>79636310102</td>\n",
              "      <td>74997552563</td>\n",
              "      <td>2979780790</td>\n",
              "      <td>whisper</td>\n",
              "      <td>2023-06-10_17-09-27.282329_from_79636310102_to_74997552563_session_2979780790_talk(1)_whisper_large.txt</td>\n",
              "    </tr>\n",
              "    <tr>\n",
              "      <th>1942</th>\n",
              "      <td>2023-06-10 17:21:35</td>\n",
              "      <td>79015530030</td>\n",
              "      <td>74959339929</td>\n",
              "      <td>2996704435</td>\n",
              "      <td>whisper</td>\n",
              "      <td>2023-06-10_17-21-35.269125_from_79015530030_to_74959339929_session_2996704435_talk(1)_whisper_large.txt</td>\n",
              "    </tr>\n",
              "    <tr>\n",
              "      <th>1924</th>\n",
              "      <td>2023-06-09 16:51:36</td>\n",
              "      <td>79999835117</td>\n",
              "      <td>74959339929</td>\n",
              "      <td>3013731244</td>\n",
              "      <td>whisper</td>\n",
              "      <td>2023-06-09_16-51-36.409159_from_79999835117_to_74959339929_session_3013731244_talk_whisper_large.txt</td>\n",
              "    </tr>\n",
              "    <tr>\n",
              "      <th>1926</th>\n",
              "      <td>2023-06-09 20:36:38</td>\n",
              "      <td>74951626925</td>\n",
              "      <td>74997552563</td>\n",
              "      <td>3014157308</td>\n",
              "      <td>whisper</td>\n",
              "      <td>2023-06-09_20-36-38.855885_from_74951626925_to_74997552563_session_3014157308_talk_whisper_large.txt</td>\n",
              "    </tr>\n",
              "    <tr>\n",
              "      <th>1928</th>\n",
              "      <td>2023-06-10 12:19:27</td>\n",
              "      <td>79855320219</td>\n",
              "      <td>74959339902</td>\n",
              "      <td>2996201671</td>\n",
              "      <td>whisper</td>\n",
              "      <td>2023-06-10_12-19-27.677250_from_79855320219_to_74959339902_session_2996201671_talk_whisper_large.txt</td>\n",
              "    </tr>\n",
              "    <tr>\n",
              "      <th>1930</th>\n",
              "      <td>2023-06-10 12:20:01</td>\n",
              "      <td>79855320219</td>\n",
              "      <td>74959339902</td>\n",
              "      <td>2996196943</td>\n",
              "      <td>whisper</td>\n",
              "      <td>2023-06-10_12-20-01.703751_from_79855320219_to_74959339902_session_2996196943_talk_whisper_large.txt</td>\n",
              "    </tr>\n",
              "    <tr>\n",
              "      <th>1932</th>\n",
              "      <td>2023-06-10 12:41:39</td>\n",
              "      <td>79932311337</td>\n",
              "      <td>74997552563</td>\n",
              "      <td>3014808800</td>\n",
              "      <td>whisper</td>\n",
              "      <td>2023-06-10_12-41-39.438371_from_79932311337_to_74997552563_session_3014808800_talk_whisper_large.txt</td>\n",
              "    </tr>\n",
              "    <tr>\n",
              "      <th>1934</th>\n",
              "      <td>2023-06-10 12:50:13</td>\n",
              "      <td>79057912134</td>\n",
              "      <td>74997552563</td>\n",
              "      <td>2996260363</td>\n",
              "      <td>whisper</td>\n",
              "      <td>2023-06-10_12-50-13.808032_from_79057912134_to_74997552563_session_2996260363_talk_whisper_large.txt</td>\n",
              "    </tr>\n",
              "    <tr>\n",
              "      <th>1936</th>\n",
              "      <td>2023-06-10 12:51:20</td>\n",
              "      <td>74957457444</td>\n",
              "      <td>74959339929</td>\n",
              "      <td>2996988633</td>\n",
              "      <td>whisper</td>\n",
              "      <td>2023-06-10_12-51-20.873488_from_74957457444_to_74959339929_session_2996988633_talk_whisper_large.txt</td>\n",
              "    </tr>\n",
              "    <tr>\n",
              "      <th>1939</th>\n",
              "      <td>2023-06-10 14:03:42</td>\n",
              "      <td>74957457444</td>\n",
              "      <td>74959339929</td>\n",
              "      <td>2979520234</td>\n",
              "      <td>whisper</td>\n",
              "      <td>2023-06-10_14-03-42.287232_from_74957457444_to_74959339929_session_2979520234_talk_whisper_large.txt</td>\n",
              "    </tr>\n",
              "    <tr>\n",
              "      <th>1941</th>\n",
              "      <td>2023-06-10 17:09:27</td>\n",
              "      <td>79636310102</td>\n",
              "      <td>74997552563</td>\n",
              "      <td>2979780790</td>\n",
              "      <td>whisper</td>\n",
              "      <td>2023-06-10_17-09-27.282329_from_79636310102_to_74997552563_session_2979780790_talk_whisper_large.txt</td>\n",
              "    </tr>\n",
              "    <tr>\n",
              "      <th>1943</th>\n",
              "      <td>2023-06-10 17:21:35</td>\n",
              "      <td>79015530030</td>\n",
              "      <td>74959339929</td>\n",
              "      <td>2996704435</td>\n",
              "      <td>whisper</td>\n",
              "      <td>2023-06-10_17-21-35.269125_from_79015530030_to_74959339929_session_2996704435_talk_whisper_large.txt</td>\n",
              "    </tr>\n",
              "  </tbody>\n",
              "</table>\n",
              "</div>\n",
              "    <div class=\"colab-df-buttons\">\n",
              "\n",
              "  <div class=\"colab-df-container\">\n",
              "    <button class=\"colab-df-convert\" onclick=\"convertToInteractive('df-bf77a118-18c5-4ed4-b87d-7dbfe7375d97')\"\n",
              "            title=\"Convert this dataframe to an interactive table.\"\n",
              "            style=\"display:none;\">\n",
              "\n",
              "  <svg xmlns=\"http://www.w3.org/2000/svg\" height=\"24px\" viewBox=\"0 -960 960 960\">\n",
              "    <path d=\"M120-120v-720h720v720H120Zm60-500h600v-160H180v160Zm220 220h160v-160H400v160Zm0 220h160v-160H400v160ZM180-400h160v-160H180v160Zm440 0h160v-160H620v160ZM180-180h160v-160H180v160Zm440 0h160v-160H620v160Z\"/>\n",
              "  </svg>\n",
              "    </button>\n",
              "\n",
              "  <style>\n",
              "    .colab-df-container {\n",
              "      display:flex;\n",
              "      gap: 12px;\n",
              "    }\n",
              "\n",
              "    .colab-df-convert {\n",
              "      background-color: #E8F0FE;\n",
              "      border: none;\n",
              "      border-radius: 50%;\n",
              "      cursor: pointer;\n",
              "      display: none;\n",
              "      fill: #1967D2;\n",
              "      height: 32px;\n",
              "      padding: 0 0 0 0;\n",
              "      width: 32px;\n",
              "    }\n",
              "\n",
              "    .colab-df-convert:hover {\n",
              "      background-color: #E2EBFA;\n",
              "      box-shadow: 0px 1px 2px rgba(60, 64, 67, 0.3), 0px 1px 3px 1px rgba(60, 64, 67, 0.15);\n",
              "      fill: #174EA6;\n",
              "    }\n",
              "\n",
              "    .colab-df-buttons div {\n",
              "      margin-bottom: 4px;\n",
              "    }\n",
              "\n",
              "    [theme=dark] .colab-df-convert {\n",
              "      background-color: #3B4455;\n",
              "      fill: #D2E3FC;\n",
              "    }\n",
              "\n",
              "    [theme=dark] .colab-df-convert:hover {\n",
              "      background-color: #434B5C;\n",
              "      box-shadow: 0px 1px 3px 1px rgba(0, 0, 0, 0.15);\n",
              "      filter: drop-shadow(0px 1px 2px rgba(0, 0, 0, 0.3));\n",
              "      fill: #FFFFFF;\n",
              "    }\n",
              "  </style>\n",
              "\n",
              "    <script>\n",
              "      const buttonEl =\n",
              "        document.querySelector('#df-bf77a118-18c5-4ed4-b87d-7dbfe7375d97 button.colab-df-convert');\n",
              "      buttonEl.style.display =\n",
              "        google.colab.kernel.accessAllowed ? 'block' : 'none';\n",
              "\n",
              "      async function convertToInteractive(key) {\n",
              "        const element = document.querySelector('#df-bf77a118-18c5-4ed4-b87d-7dbfe7375d97');\n",
              "        const dataTable =\n",
              "          await google.colab.kernel.invokeFunction('convertToInteractive',\n",
              "                                                    [key], {});\n",
              "        if (!dataTable) return;\n",
              "\n",
              "        const docLinkHtml = 'Like what you see? Visit the ' +\n",
              "          '<a target=\"_blank\" href=https://colab.research.google.com/notebooks/data_table.ipynb>data table notebook</a>'\n",
              "          + ' to learn more about interactive tables.';\n",
              "        element.innerHTML = '';\n",
              "        dataTable['output_type'] = 'display_data';\n",
              "        await google.colab.output.renderOutput(dataTable, element);\n",
              "        const docLink = document.createElement('div');\n",
              "        docLink.innerHTML = docLinkHtml;\n",
              "        element.appendChild(docLink);\n",
              "      }\n",
              "    </script>\n",
              "  </div>\n",
              "\n",
              "\n",
              "<div id=\"df-bb830479-3228-4208-b5ee-31bf616b3f35\">\n",
              "  <button class=\"colab-df-quickchart\" onclick=\"quickchart('df-bb830479-3228-4208-b5ee-31bf616b3f35')\"\n",
              "            title=\"Suggest charts.\"\n",
              "            style=\"display:none;\">\n",
              "\n",
              "<svg xmlns=\"http://www.w3.org/2000/svg\" height=\"24px\"viewBox=\"0 0 24 24\"\n",
              "     width=\"24px\">\n",
              "    <g>\n",
              "        <path d=\"M19 3H5c-1.1 0-2 .9-2 2v14c0 1.1.9 2 2 2h14c1.1 0 2-.9 2-2V5c0-1.1-.9-2-2-2zM9 17H7v-7h2v7zm4 0h-2V7h2v10zm4 0h-2v-4h2v4z\"/>\n",
              "    </g>\n",
              "</svg>\n",
              "  </button>\n",
              "\n",
              "<style>\n",
              "  .colab-df-quickchart {\n",
              "      --bg-color: #E8F0FE;\n",
              "      --fill-color: #1967D2;\n",
              "      --hover-bg-color: #E2EBFA;\n",
              "      --hover-fill-color: #174EA6;\n",
              "      --disabled-fill-color: #AAA;\n",
              "      --disabled-bg-color: #DDD;\n",
              "  }\n",
              "\n",
              "  [theme=dark] .colab-df-quickchart {\n",
              "      --bg-color: #3B4455;\n",
              "      --fill-color: #D2E3FC;\n",
              "      --hover-bg-color: #434B5C;\n",
              "      --hover-fill-color: #FFFFFF;\n",
              "      --disabled-bg-color: #3B4455;\n",
              "      --disabled-fill-color: #666;\n",
              "  }\n",
              "\n",
              "  .colab-df-quickchart {\n",
              "    background-color: var(--bg-color);\n",
              "    border: none;\n",
              "    border-radius: 50%;\n",
              "    cursor: pointer;\n",
              "    display: none;\n",
              "    fill: var(--fill-color);\n",
              "    height: 32px;\n",
              "    padding: 0;\n",
              "    width: 32px;\n",
              "  }\n",
              "\n",
              "  .colab-df-quickchart:hover {\n",
              "    background-color: var(--hover-bg-color);\n",
              "    box-shadow: 0 1px 2px rgba(60, 64, 67, 0.3), 0 1px 3px 1px rgba(60, 64, 67, 0.15);\n",
              "    fill: var(--button-hover-fill-color);\n",
              "  }\n",
              "\n",
              "  .colab-df-quickchart-complete:disabled,\n",
              "  .colab-df-quickchart-complete:disabled:hover {\n",
              "    background-color: var(--disabled-bg-color);\n",
              "    fill: var(--disabled-fill-color);\n",
              "    box-shadow: none;\n",
              "  }\n",
              "\n",
              "  .colab-df-spinner {\n",
              "    border: 2px solid var(--fill-color);\n",
              "    border-color: transparent;\n",
              "    border-bottom-color: var(--fill-color);\n",
              "    animation:\n",
              "      spin 1s steps(1) infinite;\n",
              "  }\n",
              "\n",
              "  @keyframes spin {\n",
              "    0% {\n",
              "      border-color: transparent;\n",
              "      border-bottom-color: var(--fill-color);\n",
              "      border-left-color: var(--fill-color);\n",
              "    }\n",
              "    20% {\n",
              "      border-color: transparent;\n",
              "      border-left-color: var(--fill-color);\n",
              "      border-top-color: var(--fill-color);\n",
              "    }\n",
              "    30% {\n",
              "      border-color: transparent;\n",
              "      border-left-color: var(--fill-color);\n",
              "      border-top-color: var(--fill-color);\n",
              "      border-right-color: var(--fill-color);\n",
              "    }\n",
              "    40% {\n",
              "      border-color: transparent;\n",
              "      border-right-color: var(--fill-color);\n",
              "      border-top-color: var(--fill-color);\n",
              "    }\n",
              "    60% {\n",
              "      border-color: transparent;\n",
              "      border-right-color: var(--fill-color);\n",
              "    }\n",
              "    80% {\n",
              "      border-color: transparent;\n",
              "      border-right-color: var(--fill-color);\n",
              "      border-bottom-color: var(--fill-color);\n",
              "    }\n",
              "    90% {\n",
              "      border-color: transparent;\n",
              "      border-bottom-color: var(--fill-color);\n",
              "    }\n",
              "  }\n",
              "</style>\n",
              "\n",
              "  <script>\n",
              "    async function quickchart(key) {\n",
              "      const quickchartButtonEl =\n",
              "        document.querySelector('#' + key + ' button');\n",
              "      quickchartButtonEl.disabled = true;  // To prevent multiple clicks.\n",
              "      quickchartButtonEl.classList.add('colab-df-spinner');\n",
              "      try {\n",
              "        const charts = await google.colab.kernel.invokeFunction(\n",
              "            'suggestCharts', [key], {});\n",
              "      } catch (error) {\n",
              "        console.error('Error during call to suggestCharts:', error);\n",
              "      }\n",
              "      quickchartButtonEl.classList.remove('colab-df-spinner');\n",
              "      quickchartButtonEl.classList.add('colab-df-quickchart-complete');\n",
              "    }\n",
              "    (() => {\n",
              "      let quickchartButtonEl =\n",
              "        document.querySelector('#df-bb830479-3228-4208-b5ee-31bf616b3f35 button');\n",
              "      quickchartButtonEl.style.display =\n",
              "        google.colab.kernel.accessAllowed ? 'block' : 'none';\n",
              "    })();\n",
              "  </script>\n",
              "</div>\n",
              "    </div>\n",
              "  </div>\n"
            ]
          },
          "metadata": {},
          "execution_count": 36
        }
      ]
    },
    {
      "cell_type": "code",
      "source": [
        "Headliner_transcriptions_duplicates_df = Headliner_transcriptions_df[Headliner_transcriptions_df['Идентификатор сессии звонка'].duplicated(keep='last')]\n",
        "Headliner_transcriptions_duplicates_df.index = range(Headliner_transcriptions_duplicates_df.shape[0])\n",
        "Headliner_transcriptions_duplicates_df"
      ],
      "metadata": {
        "colab": {
          "base_uri": "https://localhost:8080/",
          "height": 554
        },
        "id": "EL2gMW3yjOjJ",
        "outputId": "7b1e3ca7-af43-4613-d68c-fe18c9afa089"
      },
      "execution_count": null,
      "outputs": [
        {
          "output_type": "execute_result",
          "data": {
            "text/plain": [
              "          Дата и время Номер абонента Номер сотрудника  \\\n",
              "0  2023-06-09 16:51:36    79999835117      74959339929   \n",
              "1  2023-06-09 20:36:38    74951626925      74997552563   \n",
              "2  2023-06-10 12:19:27    79855320219      74959339902   \n",
              "3  2023-06-10 12:20:01    79855320219      74959339902   \n",
              "4  2023-06-10 12:41:39    79932311337      74997552563   \n",
              "5  2023-06-10 12:50:13    79057912134      74997552563   \n",
              "6  2023-06-10 12:51:20    74957457444      74959339929   \n",
              "7  2023-06-10 14:03:42    74957457444      74959339929   \n",
              "8  2023-06-10 17:09:27    79636310102      74997552563   \n",
              "9  2023-06-10 17:21:35    79015530030      74959339929   \n",
              "\n",
              "  Идентификатор сессии звонка Транскрибатор  \\\n",
              "0                  3013731244       whisper   \n",
              "1                  3014157308       whisper   \n",
              "2                  2996201671       whisper   \n",
              "3                  2996196943       whisper   \n",
              "4                  3014808800       whisper   \n",
              "5                  2996260363       whisper   \n",
              "6                  2996988633       whisper   \n",
              "7                  2979520234       whisper   \n",
              "8                  2979780790       whisper   \n",
              "9                  2996704435       whisper   \n",
              "\n",
              "                                                                                 Файл транскрибации звонка  \n",
              "0  2023-06-09_16-51-36.409159_from_79999835117_to_74959339929_session_3013731244_talk(1)_whisper_large.txt  \n",
              "1  2023-06-09_20-36-38.855885_from_74951626925_to_74997552563_session_3014157308_talk(1)_whisper_large.txt  \n",
              "2  2023-06-10_12-19-27.677250_from_79855320219_to_74959339902_session_2996201671_talk(1)_whisper_large.txt  \n",
              "3  2023-06-10_12-20-01.703751_from_79855320219_to_74959339902_session_2996196943_talk(1)_whisper_large.txt  \n",
              "4  2023-06-10_12-41-39.438371_from_79932311337_to_74997552563_session_3014808800_talk(1)_whisper_large.txt  \n",
              "5  2023-06-10_12-50-13.808032_from_79057912134_to_74997552563_session_2996260363_talk(1)_whisper_large.txt  \n",
              "6  2023-06-10_12-51-20.873488_from_74957457444_to_74959339929_session_2996988633_talk(1)_whisper_large.txt  \n",
              "7  2023-06-10_14-03-42.287232_from_74957457444_to_74959339929_session_2979520234_talk(1)_whisper_large.txt  \n",
              "8  2023-06-10_17-09-27.282329_from_79636310102_to_74997552563_session_2979780790_talk(1)_whisper_large.txt  \n",
              "9  2023-06-10_17-21-35.269125_from_79015530030_to_74959339929_session_2996704435_talk(1)_whisper_large.txt  "
            ],
            "text/html": [
              "\n",
              "  <div id=\"df-a77ba5bb-fc92-4944-aede-c113c39712db\" class=\"colab-df-container\">\n",
              "    <div>\n",
              "<style scoped>\n",
              "    .dataframe tbody tr th:only-of-type {\n",
              "        vertical-align: middle;\n",
              "    }\n",
              "\n",
              "    .dataframe tbody tr th {\n",
              "        vertical-align: top;\n",
              "    }\n",
              "\n",
              "    .dataframe thead th {\n",
              "        text-align: right;\n",
              "    }\n",
              "</style>\n",
              "<table border=\"1\" class=\"dataframe\">\n",
              "  <thead>\n",
              "    <tr style=\"text-align: right;\">\n",
              "      <th></th>\n",
              "      <th>Дата и время</th>\n",
              "      <th>Номер абонента</th>\n",
              "      <th>Номер сотрудника</th>\n",
              "      <th>Идентификатор сессии звонка</th>\n",
              "      <th>Транскрибатор</th>\n",
              "      <th>Файл транскрибации звонка</th>\n",
              "    </tr>\n",
              "  </thead>\n",
              "  <tbody>\n",
              "    <tr>\n",
              "      <th>0</th>\n",
              "      <td>2023-06-09 16:51:36</td>\n",
              "      <td>79999835117</td>\n",
              "      <td>74959339929</td>\n",
              "      <td>3013731244</td>\n",
              "      <td>whisper</td>\n",
              "      <td>2023-06-09_16-51-36.409159_from_79999835117_to_74959339929_session_3013731244_talk(1)_whisper_large.txt</td>\n",
              "    </tr>\n",
              "    <tr>\n",
              "      <th>1</th>\n",
              "      <td>2023-06-09 20:36:38</td>\n",
              "      <td>74951626925</td>\n",
              "      <td>74997552563</td>\n",
              "      <td>3014157308</td>\n",
              "      <td>whisper</td>\n",
              "      <td>2023-06-09_20-36-38.855885_from_74951626925_to_74997552563_session_3014157308_talk(1)_whisper_large.txt</td>\n",
              "    </tr>\n",
              "    <tr>\n",
              "      <th>2</th>\n",
              "      <td>2023-06-10 12:19:27</td>\n",
              "      <td>79855320219</td>\n",
              "      <td>74959339902</td>\n",
              "      <td>2996201671</td>\n",
              "      <td>whisper</td>\n",
              "      <td>2023-06-10_12-19-27.677250_from_79855320219_to_74959339902_session_2996201671_talk(1)_whisper_large.txt</td>\n",
              "    </tr>\n",
              "    <tr>\n",
              "      <th>3</th>\n",
              "      <td>2023-06-10 12:20:01</td>\n",
              "      <td>79855320219</td>\n",
              "      <td>74959339902</td>\n",
              "      <td>2996196943</td>\n",
              "      <td>whisper</td>\n",
              "      <td>2023-06-10_12-20-01.703751_from_79855320219_to_74959339902_session_2996196943_talk(1)_whisper_large.txt</td>\n",
              "    </tr>\n",
              "    <tr>\n",
              "      <th>4</th>\n",
              "      <td>2023-06-10 12:41:39</td>\n",
              "      <td>79932311337</td>\n",
              "      <td>74997552563</td>\n",
              "      <td>3014808800</td>\n",
              "      <td>whisper</td>\n",
              "      <td>2023-06-10_12-41-39.438371_from_79932311337_to_74997552563_session_3014808800_talk(1)_whisper_large.txt</td>\n",
              "    </tr>\n",
              "    <tr>\n",
              "      <th>5</th>\n",
              "      <td>2023-06-10 12:50:13</td>\n",
              "      <td>79057912134</td>\n",
              "      <td>74997552563</td>\n",
              "      <td>2996260363</td>\n",
              "      <td>whisper</td>\n",
              "      <td>2023-06-10_12-50-13.808032_from_79057912134_to_74997552563_session_2996260363_talk(1)_whisper_large.txt</td>\n",
              "    </tr>\n",
              "    <tr>\n",
              "      <th>6</th>\n",
              "      <td>2023-06-10 12:51:20</td>\n",
              "      <td>74957457444</td>\n",
              "      <td>74959339929</td>\n",
              "      <td>2996988633</td>\n",
              "      <td>whisper</td>\n",
              "      <td>2023-06-10_12-51-20.873488_from_74957457444_to_74959339929_session_2996988633_talk(1)_whisper_large.txt</td>\n",
              "    </tr>\n",
              "    <tr>\n",
              "      <th>7</th>\n",
              "      <td>2023-06-10 14:03:42</td>\n",
              "      <td>74957457444</td>\n",
              "      <td>74959339929</td>\n",
              "      <td>2979520234</td>\n",
              "      <td>whisper</td>\n",
              "      <td>2023-06-10_14-03-42.287232_from_74957457444_to_74959339929_session_2979520234_talk(1)_whisper_large.txt</td>\n",
              "    </tr>\n",
              "    <tr>\n",
              "      <th>8</th>\n",
              "      <td>2023-06-10 17:09:27</td>\n",
              "      <td>79636310102</td>\n",
              "      <td>74997552563</td>\n",
              "      <td>2979780790</td>\n",
              "      <td>whisper</td>\n",
              "      <td>2023-06-10_17-09-27.282329_from_79636310102_to_74997552563_session_2979780790_talk(1)_whisper_large.txt</td>\n",
              "    </tr>\n",
              "    <tr>\n",
              "      <th>9</th>\n",
              "      <td>2023-06-10 17:21:35</td>\n",
              "      <td>79015530030</td>\n",
              "      <td>74959339929</td>\n",
              "      <td>2996704435</td>\n",
              "      <td>whisper</td>\n",
              "      <td>2023-06-10_17-21-35.269125_from_79015530030_to_74959339929_session_2996704435_talk(1)_whisper_large.txt</td>\n",
              "    </tr>\n",
              "  </tbody>\n",
              "</table>\n",
              "</div>\n",
              "    <div class=\"colab-df-buttons\">\n",
              "\n",
              "  <div class=\"colab-df-container\">\n",
              "    <button class=\"colab-df-convert\" onclick=\"convertToInteractive('df-a77ba5bb-fc92-4944-aede-c113c39712db')\"\n",
              "            title=\"Convert this dataframe to an interactive table.\"\n",
              "            style=\"display:none;\">\n",
              "\n",
              "  <svg xmlns=\"http://www.w3.org/2000/svg\" height=\"24px\" viewBox=\"0 -960 960 960\">\n",
              "    <path d=\"M120-120v-720h720v720H120Zm60-500h600v-160H180v160Zm220 220h160v-160H400v160Zm0 220h160v-160H400v160ZM180-400h160v-160H180v160Zm440 0h160v-160H620v160ZM180-180h160v-160H180v160Zm440 0h160v-160H620v160Z\"/>\n",
              "  </svg>\n",
              "    </button>\n",
              "\n",
              "  <style>\n",
              "    .colab-df-container {\n",
              "      display:flex;\n",
              "      gap: 12px;\n",
              "    }\n",
              "\n",
              "    .colab-df-convert {\n",
              "      background-color: #E8F0FE;\n",
              "      border: none;\n",
              "      border-radius: 50%;\n",
              "      cursor: pointer;\n",
              "      display: none;\n",
              "      fill: #1967D2;\n",
              "      height: 32px;\n",
              "      padding: 0 0 0 0;\n",
              "      width: 32px;\n",
              "    }\n",
              "\n",
              "    .colab-df-convert:hover {\n",
              "      background-color: #E2EBFA;\n",
              "      box-shadow: 0px 1px 2px rgba(60, 64, 67, 0.3), 0px 1px 3px 1px rgba(60, 64, 67, 0.15);\n",
              "      fill: #174EA6;\n",
              "    }\n",
              "\n",
              "    .colab-df-buttons div {\n",
              "      margin-bottom: 4px;\n",
              "    }\n",
              "\n",
              "    [theme=dark] .colab-df-convert {\n",
              "      background-color: #3B4455;\n",
              "      fill: #D2E3FC;\n",
              "    }\n",
              "\n",
              "    [theme=dark] .colab-df-convert:hover {\n",
              "      background-color: #434B5C;\n",
              "      box-shadow: 0px 1px 3px 1px rgba(0, 0, 0, 0.15);\n",
              "      filter: drop-shadow(0px 1px 2px rgba(0, 0, 0, 0.3));\n",
              "      fill: #FFFFFF;\n",
              "    }\n",
              "  </style>\n",
              "\n",
              "    <script>\n",
              "      const buttonEl =\n",
              "        document.querySelector('#df-a77ba5bb-fc92-4944-aede-c113c39712db button.colab-df-convert');\n",
              "      buttonEl.style.display =\n",
              "        google.colab.kernel.accessAllowed ? 'block' : 'none';\n",
              "\n",
              "      async function convertToInteractive(key) {\n",
              "        const element = document.querySelector('#df-a77ba5bb-fc92-4944-aede-c113c39712db');\n",
              "        const dataTable =\n",
              "          await google.colab.kernel.invokeFunction('convertToInteractive',\n",
              "                                                    [key], {});\n",
              "        if (!dataTable) return;\n",
              "\n",
              "        const docLinkHtml = 'Like what you see? Visit the ' +\n",
              "          '<a target=\"_blank\" href=https://colab.research.google.com/notebooks/data_table.ipynb>data table notebook</a>'\n",
              "          + ' to learn more about interactive tables.';\n",
              "        element.innerHTML = '';\n",
              "        dataTable['output_type'] = 'display_data';\n",
              "        await google.colab.output.renderOutput(dataTable, element);\n",
              "        const docLink = document.createElement('div');\n",
              "        docLink.innerHTML = docLinkHtml;\n",
              "        element.appendChild(docLink);\n",
              "      }\n",
              "    </script>\n",
              "  </div>\n",
              "\n",
              "\n",
              "<div id=\"df-b1a05925-cff9-4302-ae86-6113037b4109\">\n",
              "  <button class=\"colab-df-quickchart\" onclick=\"quickchart('df-b1a05925-cff9-4302-ae86-6113037b4109')\"\n",
              "            title=\"Suggest charts.\"\n",
              "            style=\"display:none;\">\n",
              "\n",
              "<svg xmlns=\"http://www.w3.org/2000/svg\" height=\"24px\"viewBox=\"0 0 24 24\"\n",
              "     width=\"24px\">\n",
              "    <g>\n",
              "        <path d=\"M19 3H5c-1.1 0-2 .9-2 2v14c0 1.1.9 2 2 2h14c1.1 0 2-.9 2-2V5c0-1.1-.9-2-2-2zM9 17H7v-7h2v7zm4 0h-2V7h2v10zm4 0h-2v-4h2v4z\"/>\n",
              "    </g>\n",
              "</svg>\n",
              "  </button>\n",
              "\n",
              "<style>\n",
              "  .colab-df-quickchart {\n",
              "      --bg-color: #E8F0FE;\n",
              "      --fill-color: #1967D2;\n",
              "      --hover-bg-color: #E2EBFA;\n",
              "      --hover-fill-color: #174EA6;\n",
              "      --disabled-fill-color: #AAA;\n",
              "      --disabled-bg-color: #DDD;\n",
              "  }\n",
              "\n",
              "  [theme=dark] .colab-df-quickchart {\n",
              "      --bg-color: #3B4455;\n",
              "      --fill-color: #D2E3FC;\n",
              "      --hover-bg-color: #434B5C;\n",
              "      --hover-fill-color: #FFFFFF;\n",
              "      --disabled-bg-color: #3B4455;\n",
              "      --disabled-fill-color: #666;\n",
              "  }\n",
              "\n",
              "  .colab-df-quickchart {\n",
              "    background-color: var(--bg-color);\n",
              "    border: none;\n",
              "    border-radius: 50%;\n",
              "    cursor: pointer;\n",
              "    display: none;\n",
              "    fill: var(--fill-color);\n",
              "    height: 32px;\n",
              "    padding: 0;\n",
              "    width: 32px;\n",
              "  }\n",
              "\n",
              "  .colab-df-quickchart:hover {\n",
              "    background-color: var(--hover-bg-color);\n",
              "    box-shadow: 0 1px 2px rgba(60, 64, 67, 0.3), 0 1px 3px 1px rgba(60, 64, 67, 0.15);\n",
              "    fill: var(--button-hover-fill-color);\n",
              "  }\n",
              "\n",
              "  .colab-df-quickchart-complete:disabled,\n",
              "  .colab-df-quickchart-complete:disabled:hover {\n",
              "    background-color: var(--disabled-bg-color);\n",
              "    fill: var(--disabled-fill-color);\n",
              "    box-shadow: none;\n",
              "  }\n",
              "\n",
              "  .colab-df-spinner {\n",
              "    border: 2px solid var(--fill-color);\n",
              "    border-color: transparent;\n",
              "    border-bottom-color: var(--fill-color);\n",
              "    animation:\n",
              "      spin 1s steps(1) infinite;\n",
              "  }\n",
              "\n",
              "  @keyframes spin {\n",
              "    0% {\n",
              "      border-color: transparent;\n",
              "      border-bottom-color: var(--fill-color);\n",
              "      border-left-color: var(--fill-color);\n",
              "    }\n",
              "    20% {\n",
              "      border-color: transparent;\n",
              "      border-left-color: var(--fill-color);\n",
              "      border-top-color: var(--fill-color);\n",
              "    }\n",
              "    30% {\n",
              "      border-color: transparent;\n",
              "      border-left-color: var(--fill-color);\n",
              "      border-top-color: var(--fill-color);\n",
              "      border-right-color: var(--fill-color);\n",
              "    }\n",
              "    40% {\n",
              "      border-color: transparent;\n",
              "      border-right-color: var(--fill-color);\n",
              "      border-top-color: var(--fill-color);\n",
              "    }\n",
              "    60% {\n",
              "      border-color: transparent;\n",
              "      border-right-color: var(--fill-color);\n",
              "    }\n",
              "    80% {\n",
              "      border-color: transparent;\n",
              "      border-right-color: var(--fill-color);\n",
              "      border-bottom-color: var(--fill-color);\n",
              "    }\n",
              "    90% {\n",
              "      border-color: transparent;\n",
              "      border-bottom-color: var(--fill-color);\n",
              "    }\n",
              "  }\n",
              "</style>\n",
              "\n",
              "  <script>\n",
              "    async function quickchart(key) {\n",
              "      const quickchartButtonEl =\n",
              "        document.querySelector('#' + key + ' button');\n",
              "      quickchartButtonEl.disabled = true;  // To prevent multiple clicks.\n",
              "      quickchartButtonEl.classList.add('colab-df-spinner');\n",
              "      try {\n",
              "        const charts = await google.colab.kernel.invokeFunction(\n",
              "            'suggestCharts', [key], {});\n",
              "      } catch (error) {\n",
              "        console.error('Error during call to suggestCharts:', error);\n",
              "      }\n",
              "      quickchartButtonEl.classList.remove('colab-df-spinner');\n",
              "      quickchartButtonEl.classList.add('colab-df-quickchart-complete');\n",
              "    }\n",
              "    (() => {\n",
              "      let quickchartButtonEl =\n",
              "        document.querySelector('#df-b1a05925-cff9-4302-ae86-6113037b4109 button');\n",
              "      quickchartButtonEl.style.display =\n",
              "        google.colab.kernel.accessAllowed ? 'block' : 'none';\n",
              "    })();\n",
              "  </script>\n",
              "</div>\n",
              "    </div>\n",
              "  </div>\n"
            ]
          },
          "metadata": {},
          "execution_count": 39
        }
      ]
    },
    {
      "cell_type": "code",
      "source": [
        "# Сохраняем Headliner_transcriptions_duplicates_df в файл\n",
        "with open(df_path + 'Headliner_transcriptions_duplicates_df.pkl', 'wb') as f:\n",
        "  pkl.dump(Headliner_transcriptions_duplicates_df, f)"
      ],
      "metadata": {
        "id": "kftYPgXkkqzf"
      },
      "execution_count": null,
      "outputs": []
    },
    {
      "cell_type": "code",
      "source": [
        "# Сохраняем Headliner_transcriptions_duplicates_df в файл Microsoft Excell\n",
        "with pd.ExcelWriter(table_path + 'Дубликаты файлов транскрибации звонков Headliner.xlsx') as excel_writer:\n",
        "  Headliner_transcriptions_duplicates_df.to_excel(excel_writer, sheet_name='Дубликаты файлов транскрибации звонков Headliner', index=False)"
      ],
      "metadata": {
        "id": "TtlpLMTol2B_"
      },
      "execution_count": null,
      "outputs": []
    },
    {
      "cell_type": "code",
      "source": [
        "# Удаляем дубликаты\n",
        "Headliner_transcriptions_df = Headliner_transcriptions_df.drop_duplicates(subset=['Идентификатор сессии звонка']).sort_values('Идентификатор сессии звонка')\n",
        "Headliner_transcriptions_df.index = range(Headliner_transcriptions_df.shape[0])\n",
        "Headliner_transcriptions_df.head()"
      ],
      "metadata": {
        "colab": {
          "base_uri": "https://localhost:8080/",
          "height": 310
        },
        "id": "O_Pnw2oxsuhQ",
        "outputId": "7c9f001f-237a-4b77-968a-399ac7ffd451"
      },
      "execution_count": null,
      "outputs": [
        {
          "output_type": "execute_result",
          "data": {
            "text/plain": [
              "          Дата и время Номер абонента Номер сотрудника  \\\n",
              "0  2023-05-08 16:14:10    74955199580      74997552563   \n",
              "1  2023-05-09 11:53:48    79910665524      74997552563   \n",
              "2  2023-05-09 17:51:30    79670165153          0188880   \n",
              "3  2023-05-09 18:34:04    79274431546      74997552563   \n",
              "4  2023-05-09 20:19:21    79274432048      74997552563   \n",
              "\n",
              "  Идентификатор сессии звонка Транскрибатор  \\\n",
              "0                  2918538922       whisper   \n",
              "1                  2919161802       whisper   \n",
              "2                  2919520238       whisper   \n",
              "3                  2919550530       whisper   \n",
              "4                  2919615074       whisper   \n",
              "\n",
              "                                                                              Файл транскрибации звонка  \n",
              "0  2023-05-08_16-14-10.247769_from_74955199580_to_74997552563_session_2918538922_talk_whisper_large.txt  \n",
              "1  2023-05-09_11-53-48.291185_from_79910665524_to_74997552563_session_2919161802_talk_whisper_large.txt  \n",
              "2      2023-05-09_17-51-30.193682_from_79670165153_to_0188880_session_2919520238_talk_whisper_large.txt  \n",
              "3  2023-05-09_18-34-04.371381_from_79274431546_to_74997552563_session_2919550530_talk_whisper_large.txt  \n",
              "4  2023-05-09_20-19-21.050197_from_79274432048_to_74997552563_session_2919615074_talk_whisper_large.txt  "
            ],
            "text/html": [
              "\n",
              "  <div id=\"df-d1ee3219-0a87-4ef2-b9e9-6f39628150e6\" class=\"colab-df-container\">\n",
              "    <div>\n",
              "<style scoped>\n",
              "    .dataframe tbody tr th:only-of-type {\n",
              "        vertical-align: middle;\n",
              "    }\n",
              "\n",
              "    .dataframe tbody tr th {\n",
              "        vertical-align: top;\n",
              "    }\n",
              "\n",
              "    .dataframe thead th {\n",
              "        text-align: right;\n",
              "    }\n",
              "</style>\n",
              "<table border=\"1\" class=\"dataframe\">\n",
              "  <thead>\n",
              "    <tr style=\"text-align: right;\">\n",
              "      <th></th>\n",
              "      <th>Дата и время</th>\n",
              "      <th>Номер абонента</th>\n",
              "      <th>Номер сотрудника</th>\n",
              "      <th>Идентификатор сессии звонка</th>\n",
              "      <th>Транскрибатор</th>\n",
              "      <th>Файл транскрибации звонка</th>\n",
              "    </tr>\n",
              "  </thead>\n",
              "  <tbody>\n",
              "    <tr>\n",
              "      <th>0</th>\n",
              "      <td>2023-05-08 16:14:10</td>\n",
              "      <td>74955199580</td>\n",
              "      <td>74997552563</td>\n",
              "      <td>2918538922</td>\n",
              "      <td>whisper</td>\n",
              "      <td>2023-05-08_16-14-10.247769_from_74955199580_to_74997552563_session_2918538922_talk_whisper_large.txt</td>\n",
              "    </tr>\n",
              "    <tr>\n",
              "      <th>1</th>\n",
              "      <td>2023-05-09 11:53:48</td>\n",
              "      <td>79910665524</td>\n",
              "      <td>74997552563</td>\n",
              "      <td>2919161802</td>\n",
              "      <td>whisper</td>\n",
              "      <td>2023-05-09_11-53-48.291185_from_79910665524_to_74997552563_session_2919161802_talk_whisper_large.txt</td>\n",
              "    </tr>\n",
              "    <tr>\n",
              "      <th>2</th>\n",
              "      <td>2023-05-09 17:51:30</td>\n",
              "      <td>79670165153</td>\n",
              "      <td>0188880</td>\n",
              "      <td>2919520238</td>\n",
              "      <td>whisper</td>\n",
              "      <td>2023-05-09_17-51-30.193682_from_79670165153_to_0188880_session_2919520238_talk_whisper_large.txt</td>\n",
              "    </tr>\n",
              "    <tr>\n",
              "      <th>3</th>\n",
              "      <td>2023-05-09 18:34:04</td>\n",
              "      <td>79274431546</td>\n",
              "      <td>74997552563</td>\n",
              "      <td>2919550530</td>\n",
              "      <td>whisper</td>\n",
              "      <td>2023-05-09_18-34-04.371381_from_79274431546_to_74997552563_session_2919550530_talk_whisper_large.txt</td>\n",
              "    </tr>\n",
              "    <tr>\n",
              "      <th>4</th>\n",
              "      <td>2023-05-09 20:19:21</td>\n",
              "      <td>79274432048</td>\n",
              "      <td>74997552563</td>\n",
              "      <td>2919615074</td>\n",
              "      <td>whisper</td>\n",
              "      <td>2023-05-09_20-19-21.050197_from_79274432048_to_74997552563_session_2919615074_talk_whisper_large.txt</td>\n",
              "    </tr>\n",
              "  </tbody>\n",
              "</table>\n",
              "</div>\n",
              "    <div class=\"colab-df-buttons\">\n",
              "\n",
              "  <div class=\"colab-df-container\">\n",
              "    <button class=\"colab-df-convert\" onclick=\"convertToInteractive('df-d1ee3219-0a87-4ef2-b9e9-6f39628150e6')\"\n",
              "            title=\"Convert this dataframe to an interactive table.\"\n",
              "            style=\"display:none;\">\n",
              "\n",
              "  <svg xmlns=\"http://www.w3.org/2000/svg\" height=\"24px\" viewBox=\"0 -960 960 960\">\n",
              "    <path d=\"M120-120v-720h720v720H120Zm60-500h600v-160H180v160Zm220 220h160v-160H400v160Zm0 220h160v-160H400v160ZM180-400h160v-160H180v160Zm440 0h160v-160H620v160ZM180-180h160v-160H180v160Zm440 0h160v-160H620v160Z\"/>\n",
              "  </svg>\n",
              "    </button>\n",
              "\n",
              "  <style>\n",
              "    .colab-df-container {\n",
              "      display:flex;\n",
              "      gap: 12px;\n",
              "    }\n",
              "\n",
              "    .colab-df-convert {\n",
              "      background-color: #E8F0FE;\n",
              "      border: none;\n",
              "      border-radius: 50%;\n",
              "      cursor: pointer;\n",
              "      display: none;\n",
              "      fill: #1967D2;\n",
              "      height: 32px;\n",
              "      padding: 0 0 0 0;\n",
              "      width: 32px;\n",
              "    }\n",
              "\n",
              "    .colab-df-convert:hover {\n",
              "      background-color: #E2EBFA;\n",
              "      box-shadow: 0px 1px 2px rgba(60, 64, 67, 0.3), 0px 1px 3px 1px rgba(60, 64, 67, 0.15);\n",
              "      fill: #174EA6;\n",
              "    }\n",
              "\n",
              "    .colab-df-buttons div {\n",
              "      margin-bottom: 4px;\n",
              "    }\n",
              "\n",
              "    [theme=dark] .colab-df-convert {\n",
              "      background-color: #3B4455;\n",
              "      fill: #D2E3FC;\n",
              "    }\n",
              "\n",
              "    [theme=dark] .colab-df-convert:hover {\n",
              "      background-color: #434B5C;\n",
              "      box-shadow: 0px 1px 3px 1px rgba(0, 0, 0, 0.15);\n",
              "      filter: drop-shadow(0px 1px 2px rgba(0, 0, 0, 0.3));\n",
              "      fill: #FFFFFF;\n",
              "    }\n",
              "  </style>\n",
              "\n",
              "    <script>\n",
              "      const buttonEl =\n",
              "        document.querySelector('#df-d1ee3219-0a87-4ef2-b9e9-6f39628150e6 button.colab-df-convert');\n",
              "      buttonEl.style.display =\n",
              "        google.colab.kernel.accessAllowed ? 'block' : 'none';\n",
              "\n",
              "      async function convertToInteractive(key) {\n",
              "        const element = document.querySelector('#df-d1ee3219-0a87-4ef2-b9e9-6f39628150e6');\n",
              "        const dataTable =\n",
              "          await google.colab.kernel.invokeFunction('convertToInteractive',\n",
              "                                                    [key], {});\n",
              "        if (!dataTable) return;\n",
              "\n",
              "        const docLinkHtml = 'Like what you see? Visit the ' +\n",
              "          '<a target=\"_blank\" href=https://colab.research.google.com/notebooks/data_table.ipynb>data table notebook</a>'\n",
              "          + ' to learn more about interactive tables.';\n",
              "        element.innerHTML = '';\n",
              "        dataTable['output_type'] = 'display_data';\n",
              "        await google.colab.output.renderOutput(dataTable, element);\n",
              "        const docLink = document.createElement('div');\n",
              "        docLink.innerHTML = docLinkHtml;\n",
              "        element.appendChild(docLink);\n",
              "      }\n",
              "    </script>\n",
              "  </div>\n",
              "\n",
              "\n",
              "<div id=\"df-672a1b74-02f9-4256-a1fa-285645a709cb\">\n",
              "  <button class=\"colab-df-quickchart\" onclick=\"quickchart('df-672a1b74-02f9-4256-a1fa-285645a709cb')\"\n",
              "            title=\"Suggest charts.\"\n",
              "            style=\"display:none;\">\n",
              "\n",
              "<svg xmlns=\"http://www.w3.org/2000/svg\" height=\"24px\"viewBox=\"0 0 24 24\"\n",
              "     width=\"24px\">\n",
              "    <g>\n",
              "        <path d=\"M19 3H5c-1.1 0-2 .9-2 2v14c0 1.1.9 2 2 2h14c1.1 0 2-.9 2-2V5c0-1.1-.9-2-2-2zM9 17H7v-7h2v7zm4 0h-2V7h2v10zm4 0h-2v-4h2v4z\"/>\n",
              "    </g>\n",
              "</svg>\n",
              "  </button>\n",
              "\n",
              "<style>\n",
              "  .colab-df-quickchart {\n",
              "      --bg-color: #E8F0FE;\n",
              "      --fill-color: #1967D2;\n",
              "      --hover-bg-color: #E2EBFA;\n",
              "      --hover-fill-color: #174EA6;\n",
              "      --disabled-fill-color: #AAA;\n",
              "      --disabled-bg-color: #DDD;\n",
              "  }\n",
              "\n",
              "  [theme=dark] .colab-df-quickchart {\n",
              "      --bg-color: #3B4455;\n",
              "      --fill-color: #D2E3FC;\n",
              "      --hover-bg-color: #434B5C;\n",
              "      --hover-fill-color: #FFFFFF;\n",
              "      --disabled-bg-color: #3B4455;\n",
              "      --disabled-fill-color: #666;\n",
              "  }\n",
              "\n",
              "  .colab-df-quickchart {\n",
              "    background-color: var(--bg-color);\n",
              "    border: none;\n",
              "    border-radius: 50%;\n",
              "    cursor: pointer;\n",
              "    display: none;\n",
              "    fill: var(--fill-color);\n",
              "    height: 32px;\n",
              "    padding: 0;\n",
              "    width: 32px;\n",
              "  }\n",
              "\n",
              "  .colab-df-quickchart:hover {\n",
              "    background-color: var(--hover-bg-color);\n",
              "    box-shadow: 0 1px 2px rgba(60, 64, 67, 0.3), 0 1px 3px 1px rgba(60, 64, 67, 0.15);\n",
              "    fill: var(--button-hover-fill-color);\n",
              "  }\n",
              "\n",
              "  .colab-df-quickchart-complete:disabled,\n",
              "  .colab-df-quickchart-complete:disabled:hover {\n",
              "    background-color: var(--disabled-bg-color);\n",
              "    fill: var(--disabled-fill-color);\n",
              "    box-shadow: none;\n",
              "  }\n",
              "\n",
              "  .colab-df-spinner {\n",
              "    border: 2px solid var(--fill-color);\n",
              "    border-color: transparent;\n",
              "    border-bottom-color: var(--fill-color);\n",
              "    animation:\n",
              "      spin 1s steps(1) infinite;\n",
              "  }\n",
              "\n",
              "  @keyframes spin {\n",
              "    0% {\n",
              "      border-color: transparent;\n",
              "      border-bottom-color: var(--fill-color);\n",
              "      border-left-color: var(--fill-color);\n",
              "    }\n",
              "    20% {\n",
              "      border-color: transparent;\n",
              "      border-left-color: var(--fill-color);\n",
              "      border-top-color: var(--fill-color);\n",
              "    }\n",
              "    30% {\n",
              "      border-color: transparent;\n",
              "      border-left-color: var(--fill-color);\n",
              "      border-top-color: var(--fill-color);\n",
              "      border-right-color: var(--fill-color);\n",
              "    }\n",
              "    40% {\n",
              "      border-color: transparent;\n",
              "      border-right-color: var(--fill-color);\n",
              "      border-top-color: var(--fill-color);\n",
              "    }\n",
              "    60% {\n",
              "      border-color: transparent;\n",
              "      border-right-color: var(--fill-color);\n",
              "    }\n",
              "    80% {\n",
              "      border-color: transparent;\n",
              "      border-right-color: var(--fill-color);\n",
              "      border-bottom-color: var(--fill-color);\n",
              "    }\n",
              "    90% {\n",
              "      border-color: transparent;\n",
              "      border-bottom-color: var(--fill-color);\n",
              "    }\n",
              "  }\n",
              "</style>\n",
              "\n",
              "  <script>\n",
              "    async function quickchart(key) {\n",
              "      const quickchartButtonEl =\n",
              "        document.querySelector('#' + key + ' button');\n",
              "      quickchartButtonEl.disabled = true;  // To prevent multiple clicks.\n",
              "      quickchartButtonEl.classList.add('colab-df-spinner');\n",
              "      try {\n",
              "        const charts = await google.colab.kernel.invokeFunction(\n",
              "            'suggestCharts', [key], {});\n",
              "      } catch (error) {\n",
              "        console.error('Error during call to suggestCharts:', error);\n",
              "      }\n",
              "      quickchartButtonEl.classList.remove('colab-df-spinner');\n",
              "      quickchartButtonEl.classList.add('colab-df-quickchart-complete');\n",
              "    }\n",
              "    (() => {\n",
              "      let quickchartButtonEl =\n",
              "        document.querySelector('#df-672a1b74-02f9-4256-a1fa-285645a709cb button');\n",
              "      quickchartButtonEl.style.display =\n",
              "        google.colab.kernel.accessAllowed ? 'block' : 'none';\n",
              "    })();\n",
              "  </script>\n",
              "</div>\n",
              "    </div>\n",
              "  </div>\n"
            ]
          },
          "metadata": {},
          "execution_count": 42
        }
      ]
    },
    {
      "cell_type": "code",
      "source": [
        "Headliner_transcriptions_df.shape"
      ],
      "metadata": {
        "colab": {
          "base_uri": "https://localhost:8080/"
        },
        "id": "CKEOCt-yt4N9",
        "outputId": "34a56c1c-ba0d-426b-caf0-f7a5daa1a582"
      },
      "execution_count": null,
      "outputs": [
        {
          "output_type": "execute_result",
          "data": {
            "text/plain": [
              "(2045, 6)"
            ]
          },
          "metadata": {},
          "execution_count": 44
        }
      ]
    },
    {
      "cell_type": "code",
      "source": [
        "Headliner_transcriptions_df.dtypes"
      ],
      "metadata": {
        "colab": {
          "base_uri": "https://localhost:8080/"
        },
        "id": "9fBeUanJuCbW",
        "outputId": "5260a46e-d18c-44e2-f161-72822d1886bb"
      },
      "execution_count": null,
      "outputs": [
        {
          "output_type": "execute_result",
          "data": {
            "text/plain": [
              "Дата и время                   object\n",
              "Номер абонента                 object\n",
              "Номер сотрудника               object\n",
              "Идентификатор сессии звонка    object\n",
              "Транскрибатор                  object\n",
              "Файл транскрибации звонка      object\n",
              "dtype: object"
            ]
          },
          "metadata": {},
          "execution_count": 45
        }
      ]
    },
    {
      "cell_type": "code",
      "source": [
        "# Приводим типы данных\n",
        "Headliner_transcriptions_df['Дата и время'] = pd.to_datetime(Headliner_transcriptions_df['Дата и время'])\n",
        "Headliner_transcriptions_df = Headliner_transcriptions_df.astype({'Номер абонента': int})\n",
        "Headliner_transcriptions_df = Headliner_transcriptions_df.astype({'Номер сотрудника': int})\n",
        "Headliner_transcriptions_df = Headliner_transcriptions_df.astype({'Идентификатор сессии звонка': int})"
      ],
      "metadata": {
        "id": "JLD8psAJuLHY"
      },
      "execution_count": null,
      "outputs": []
    },
    {
      "cell_type": "code",
      "source": [
        "Headliner_transcriptions_df.dtypes"
      ],
      "metadata": {
        "colab": {
          "base_uri": "https://localhost:8080/"
        },
        "id": "_7uLBRA6v7r1",
        "outputId": "d6018fc4-6288-40aa-a2d5-eaa8dcf40ae9"
      },
      "execution_count": null,
      "outputs": [
        {
          "output_type": "execute_result",
          "data": {
            "text/plain": [
              "Дата и время                   datetime64[ns]\n",
              "Номер абонента                          int64\n",
              "Номер сотрудника                        int64\n",
              "Идентификатор сессии звонка             int64\n",
              "Транскрибатор                          object\n",
              "Файл транскрибации звонка              object\n",
              "dtype: object"
            ]
          },
          "metadata": {},
          "execution_count": 47
        }
      ]
    },
    {
      "cell_type": "code",
      "source": [
        "# Добавляем относительные пути в столбец 'Файл транскрибации звонка'\n",
        "Headliner_transcriptions_df['Файл транскрибации звонка'] = Headliner_transcriptions_df['Файл транскрибации звонка'].apply(lambda x: 'Расшифровки_Записи звонков_хедлайнер/' + x)\n",
        "Headliner_transcriptions_df['Файл транскрибации звонка'].head()"
      ],
      "metadata": {
        "colab": {
          "base_uri": "https://localhost:8080/"
        },
        "id": "R7dylJnow8TS",
        "outputId": "a5c751b6-e85f-40de-92f6-2148f1b9730f"
      },
      "execution_count": null,
      "outputs": [
        {
          "output_type": "execute_result",
          "data": {
            "text/plain": [
              "0    Расшифровки_Записи звонков_хедлайнер/2023-05-08_16-14-10.247769_from_74955199580_to_74997552563_session_2918538922_talk_whisper_large.txt\n",
              "1    Расшифровки_Записи звонков_хедлайнер/2023-05-09_11-53-48.291185_from_79910665524_to_74997552563_session_2919161802_talk_whisper_large.txt\n",
              "2        Расшифровки_Записи звонков_хедлайнер/2023-05-09_17-51-30.193682_from_79670165153_to_0188880_session_2919520238_talk_whisper_large.txt\n",
              "3    Расшифровки_Записи звонков_хедлайнер/2023-05-09_18-34-04.371381_from_79274431546_to_74997552563_session_2919550530_talk_whisper_large.txt\n",
              "4    Расшифровки_Записи звонков_хедлайнер/2023-05-09_20-19-21.050197_from_79274432048_to_74997552563_session_2919615074_talk_whisper_large.txt\n",
              "Name: Файл транскрибации звонка, dtype: object"
            ]
          },
          "metadata": {},
          "execution_count": 48
        }
      ]
    },
    {
      "cell_type": "code",
      "source": [
        "# Сохраняем Headliner_transcriptions_df в файл\n",
        "with open(df_path + 'Headliner_transcriptions_df.pkl', 'wb') as f:\n",
        "  pkl.dump(Headliner_transcriptions_df, f)"
      ],
      "metadata": {
        "id": "jA9pU47swEQu"
      },
      "execution_count": null,
      "outputs": []
    },
    {
      "cell_type": "markdown",
      "source": [
        "#### Primavera"
      ],
      "metadata": {
        "id": "8gglGeNEzUIg"
      }
    },
    {
      "cell_type": "code",
      "source": [
        "# Создаём датафрейм из списка файлов транскрибации звонков Primavera\n",
        "Primavera_transcriptions_df = transcriptions_list_to_df(os.listdir(Primavera_transcription_path))\n",
        "Primavera_transcriptions_df.head()"
      ],
      "metadata": {
        "colab": {
          "base_uri": "https://localhost:8080/",
          "height": 310
        },
        "outputId": "a80f7bb5-ed9c-4d0d-c344-3440fbe2bbd0",
        "id": "JycDSL9hzUIi"
      },
      "execution_count": null,
      "outputs": [
        {
          "output_type": "execute_result",
          "data": {
            "text/plain": [
              "          Дата и время Номер абонента Номер сотрудника  \\\n",
              "0  2023-05-30 17:50:53    79264254292          0197875   \n",
              "1  2023-05-30 18:03:54    79258608972          0111642   \n",
              "2  2023-05-30 18:20:56    79255210338          0197879   \n",
              "3  2023-05-30 19:19:50    79165220654          0111652   \n",
              "4  2023-05-31 11:35:31    79051447861          0197875   \n",
              "\n",
              "  Идентификатор сессии звонка Транскрибатор  \\\n",
              "0                  2974454505       whisper   \n",
              "1                  2959172642       whisper   \n",
              "2                  2989586940       whisper   \n",
              "3                  2959295102       whisper   \n",
              "4                  2974889895       whisper   \n",
              "\n",
              "                                                                          Файл транскрибации звонка  \n",
              "0  2023-05-30_17-50-53.271117_from_79264254292_to_0197875_session_2974454505_talk_whisper_large.txt  \n",
              "1  2023-05-30_18-03-54.199516_from_79258608972_to_0111642_session_2959172642_talk_whisper_large.txt  \n",
              "2  2023-05-30_18-20-56.881493_from_79255210338_to_0197879_session_2989586940_talk_whisper_large.txt  \n",
              "3  2023-05-30_19-19-50.688195_from_79165220654_to_0111652_session_2959295102_talk_whisper_large.txt  \n",
              "4  2023-05-31_11-35-31.261521_from_79051447861_to_0197875_session_2974889895_talk_whisper_large.txt  "
            ],
            "text/html": [
              "\n",
              "  <div id=\"df-e9b46bec-c21c-4d13-82c4-0eaadde5db2d\" class=\"colab-df-container\">\n",
              "    <div>\n",
              "<style scoped>\n",
              "    .dataframe tbody tr th:only-of-type {\n",
              "        vertical-align: middle;\n",
              "    }\n",
              "\n",
              "    .dataframe tbody tr th {\n",
              "        vertical-align: top;\n",
              "    }\n",
              "\n",
              "    .dataframe thead th {\n",
              "        text-align: right;\n",
              "    }\n",
              "</style>\n",
              "<table border=\"1\" class=\"dataframe\">\n",
              "  <thead>\n",
              "    <tr style=\"text-align: right;\">\n",
              "      <th></th>\n",
              "      <th>Дата и время</th>\n",
              "      <th>Номер абонента</th>\n",
              "      <th>Номер сотрудника</th>\n",
              "      <th>Идентификатор сессии звонка</th>\n",
              "      <th>Транскрибатор</th>\n",
              "      <th>Файл транскрибации звонка</th>\n",
              "    </tr>\n",
              "  </thead>\n",
              "  <tbody>\n",
              "    <tr>\n",
              "      <th>0</th>\n",
              "      <td>2023-05-30 17:50:53</td>\n",
              "      <td>79264254292</td>\n",
              "      <td>0197875</td>\n",
              "      <td>2974454505</td>\n",
              "      <td>whisper</td>\n",
              "      <td>2023-05-30_17-50-53.271117_from_79264254292_to_0197875_session_2974454505_talk_whisper_large.txt</td>\n",
              "    </tr>\n",
              "    <tr>\n",
              "      <th>1</th>\n",
              "      <td>2023-05-30 18:03:54</td>\n",
              "      <td>79258608972</td>\n",
              "      <td>0111642</td>\n",
              "      <td>2959172642</td>\n",
              "      <td>whisper</td>\n",
              "      <td>2023-05-30_18-03-54.199516_from_79258608972_to_0111642_session_2959172642_talk_whisper_large.txt</td>\n",
              "    </tr>\n",
              "    <tr>\n",
              "      <th>2</th>\n",
              "      <td>2023-05-30 18:20:56</td>\n",
              "      <td>79255210338</td>\n",
              "      <td>0197879</td>\n",
              "      <td>2989586940</td>\n",
              "      <td>whisper</td>\n",
              "      <td>2023-05-30_18-20-56.881493_from_79255210338_to_0197879_session_2989586940_talk_whisper_large.txt</td>\n",
              "    </tr>\n",
              "    <tr>\n",
              "      <th>3</th>\n",
              "      <td>2023-05-30 19:19:50</td>\n",
              "      <td>79165220654</td>\n",
              "      <td>0111652</td>\n",
              "      <td>2959295102</td>\n",
              "      <td>whisper</td>\n",
              "      <td>2023-05-30_19-19-50.688195_from_79165220654_to_0111652_session_2959295102_talk_whisper_large.txt</td>\n",
              "    </tr>\n",
              "    <tr>\n",
              "      <th>4</th>\n",
              "      <td>2023-05-31 11:35:31</td>\n",
              "      <td>79051447861</td>\n",
              "      <td>0197875</td>\n",
              "      <td>2974889895</td>\n",
              "      <td>whisper</td>\n",
              "      <td>2023-05-31_11-35-31.261521_from_79051447861_to_0197875_session_2974889895_talk_whisper_large.txt</td>\n",
              "    </tr>\n",
              "  </tbody>\n",
              "</table>\n",
              "</div>\n",
              "    <div class=\"colab-df-buttons\">\n",
              "\n",
              "  <div class=\"colab-df-container\">\n",
              "    <button class=\"colab-df-convert\" onclick=\"convertToInteractive('df-e9b46bec-c21c-4d13-82c4-0eaadde5db2d')\"\n",
              "            title=\"Convert this dataframe to an interactive table.\"\n",
              "            style=\"display:none;\">\n",
              "\n",
              "  <svg xmlns=\"http://www.w3.org/2000/svg\" height=\"24px\" viewBox=\"0 -960 960 960\">\n",
              "    <path d=\"M120-120v-720h720v720H120Zm60-500h600v-160H180v160Zm220 220h160v-160H400v160Zm0 220h160v-160H400v160ZM180-400h160v-160H180v160Zm440 0h160v-160H620v160ZM180-180h160v-160H180v160Zm440 0h160v-160H620v160Z\"/>\n",
              "  </svg>\n",
              "    </button>\n",
              "\n",
              "  <style>\n",
              "    .colab-df-container {\n",
              "      display:flex;\n",
              "      gap: 12px;\n",
              "    }\n",
              "\n",
              "    .colab-df-convert {\n",
              "      background-color: #E8F0FE;\n",
              "      border: none;\n",
              "      border-radius: 50%;\n",
              "      cursor: pointer;\n",
              "      display: none;\n",
              "      fill: #1967D2;\n",
              "      height: 32px;\n",
              "      padding: 0 0 0 0;\n",
              "      width: 32px;\n",
              "    }\n",
              "\n",
              "    .colab-df-convert:hover {\n",
              "      background-color: #E2EBFA;\n",
              "      box-shadow: 0px 1px 2px rgba(60, 64, 67, 0.3), 0px 1px 3px 1px rgba(60, 64, 67, 0.15);\n",
              "      fill: #174EA6;\n",
              "    }\n",
              "\n",
              "    .colab-df-buttons div {\n",
              "      margin-bottom: 4px;\n",
              "    }\n",
              "\n",
              "    [theme=dark] .colab-df-convert {\n",
              "      background-color: #3B4455;\n",
              "      fill: #D2E3FC;\n",
              "    }\n",
              "\n",
              "    [theme=dark] .colab-df-convert:hover {\n",
              "      background-color: #434B5C;\n",
              "      box-shadow: 0px 1px 3px 1px rgba(0, 0, 0, 0.15);\n",
              "      filter: drop-shadow(0px 1px 2px rgba(0, 0, 0, 0.3));\n",
              "      fill: #FFFFFF;\n",
              "    }\n",
              "  </style>\n",
              "\n",
              "    <script>\n",
              "      const buttonEl =\n",
              "        document.querySelector('#df-e9b46bec-c21c-4d13-82c4-0eaadde5db2d button.colab-df-convert');\n",
              "      buttonEl.style.display =\n",
              "        google.colab.kernel.accessAllowed ? 'block' : 'none';\n",
              "\n",
              "      async function convertToInteractive(key) {\n",
              "        const element = document.querySelector('#df-e9b46bec-c21c-4d13-82c4-0eaadde5db2d');\n",
              "        const dataTable =\n",
              "          await google.colab.kernel.invokeFunction('convertToInteractive',\n",
              "                                                    [key], {});\n",
              "        if (!dataTable) return;\n",
              "\n",
              "        const docLinkHtml = 'Like what you see? Visit the ' +\n",
              "          '<a target=\"_blank\" href=https://colab.research.google.com/notebooks/data_table.ipynb>data table notebook</a>'\n",
              "          + ' to learn more about interactive tables.';\n",
              "        element.innerHTML = '';\n",
              "        dataTable['output_type'] = 'display_data';\n",
              "        await google.colab.output.renderOutput(dataTable, element);\n",
              "        const docLink = document.createElement('div');\n",
              "        docLink.innerHTML = docLinkHtml;\n",
              "        element.appendChild(docLink);\n",
              "      }\n",
              "    </script>\n",
              "  </div>\n",
              "\n",
              "\n",
              "<div id=\"df-afa815de-66f5-4f3a-b0da-ddd97645677a\">\n",
              "  <button class=\"colab-df-quickchart\" onclick=\"quickchart('df-afa815de-66f5-4f3a-b0da-ddd97645677a')\"\n",
              "            title=\"Suggest charts.\"\n",
              "            style=\"display:none;\">\n",
              "\n",
              "<svg xmlns=\"http://www.w3.org/2000/svg\" height=\"24px\"viewBox=\"0 0 24 24\"\n",
              "     width=\"24px\">\n",
              "    <g>\n",
              "        <path d=\"M19 3H5c-1.1 0-2 .9-2 2v14c0 1.1.9 2 2 2h14c1.1 0 2-.9 2-2V5c0-1.1-.9-2-2-2zM9 17H7v-7h2v7zm4 0h-2V7h2v10zm4 0h-2v-4h2v4z\"/>\n",
              "    </g>\n",
              "</svg>\n",
              "  </button>\n",
              "\n",
              "<style>\n",
              "  .colab-df-quickchart {\n",
              "      --bg-color: #E8F0FE;\n",
              "      --fill-color: #1967D2;\n",
              "      --hover-bg-color: #E2EBFA;\n",
              "      --hover-fill-color: #174EA6;\n",
              "      --disabled-fill-color: #AAA;\n",
              "      --disabled-bg-color: #DDD;\n",
              "  }\n",
              "\n",
              "  [theme=dark] .colab-df-quickchart {\n",
              "      --bg-color: #3B4455;\n",
              "      --fill-color: #D2E3FC;\n",
              "      --hover-bg-color: #434B5C;\n",
              "      --hover-fill-color: #FFFFFF;\n",
              "      --disabled-bg-color: #3B4455;\n",
              "      --disabled-fill-color: #666;\n",
              "  }\n",
              "\n",
              "  .colab-df-quickchart {\n",
              "    background-color: var(--bg-color);\n",
              "    border: none;\n",
              "    border-radius: 50%;\n",
              "    cursor: pointer;\n",
              "    display: none;\n",
              "    fill: var(--fill-color);\n",
              "    height: 32px;\n",
              "    padding: 0;\n",
              "    width: 32px;\n",
              "  }\n",
              "\n",
              "  .colab-df-quickchart:hover {\n",
              "    background-color: var(--hover-bg-color);\n",
              "    box-shadow: 0 1px 2px rgba(60, 64, 67, 0.3), 0 1px 3px 1px rgba(60, 64, 67, 0.15);\n",
              "    fill: var(--button-hover-fill-color);\n",
              "  }\n",
              "\n",
              "  .colab-df-quickchart-complete:disabled,\n",
              "  .colab-df-quickchart-complete:disabled:hover {\n",
              "    background-color: var(--disabled-bg-color);\n",
              "    fill: var(--disabled-fill-color);\n",
              "    box-shadow: none;\n",
              "  }\n",
              "\n",
              "  .colab-df-spinner {\n",
              "    border: 2px solid var(--fill-color);\n",
              "    border-color: transparent;\n",
              "    border-bottom-color: var(--fill-color);\n",
              "    animation:\n",
              "      spin 1s steps(1) infinite;\n",
              "  }\n",
              "\n",
              "  @keyframes spin {\n",
              "    0% {\n",
              "      border-color: transparent;\n",
              "      border-bottom-color: var(--fill-color);\n",
              "      border-left-color: var(--fill-color);\n",
              "    }\n",
              "    20% {\n",
              "      border-color: transparent;\n",
              "      border-left-color: var(--fill-color);\n",
              "      border-top-color: var(--fill-color);\n",
              "    }\n",
              "    30% {\n",
              "      border-color: transparent;\n",
              "      border-left-color: var(--fill-color);\n",
              "      border-top-color: var(--fill-color);\n",
              "      border-right-color: var(--fill-color);\n",
              "    }\n",
              "    40% {\n",
              "      border-color: transparent;\n",
              "      border-right-color: var(--fill-color);\n",
              "      border-top-color: var(--fill-color);\n",
              "    }\n",
              "    60% {\n",
              "      border-color: transparent;\n",
              "      border-right-color: var(--fill-color);\n",
              "    }\n",
              "    80% {\n",
              "      border-color: transparent;\n",
              "      border-right-color: var(--fill-color);\n",
              "      border-bottom-color: var(--fill-color);\n",
              "    }\n",
              "    90% {\n",
              "      border-color: transparent;\n",
              "      border-bottom-color: var(--fill-color);\n",
              "    }\n",
              "  }\n",
              "</style>\n",
              "\n",
              "  <script>\n",
              "    async function quickchart(key) {\n",
              "      const quickchartButtonEl =\n",
              "        document.querySelector('#' + key + ' button');\n",
              "      quickchartButtonEl.disabled = true;  // To prevent multiple clicks.\n",
              "      quickchartButtonEl.classList.add('colab-df-spinner');\n",
              "      try {\n",
              "        const charts = await google.colab.kernel.invokeFunction(\n",
              "            'suggestCharts', [key], {});\n",
              "      } catch (error) {\n",
              "        console.error('Error during call to suggestCharts:', error);\n",
              "      }\n",
              "      quickchartButtonEl.classList.remove('colab-df-spinner');\n",
              "      quickchartButtonEl.classList.add('colab-df-quickchart-complete');\n",
              "    }\n",
              "    (() => {\n",
              "      let quickchartButtonEl =\n",
              "        document.querySelector('#df-afa815de-66f5-4f3a-b0da-ddd97645677a button');\n",
              "      quickchartButtonEl.style.display =\n",
              "        google.colab.kernel.accessAllowed ? 'block' : 'none';\n",
              "    })();\n",
              "  </script>\n",
              "</div>\n",
              "    </div>\n",
              "  </div>\n"
            ]
          },
          "metadata": {},
          "execution_count": 50
        }
      ]
    },
    {
      "cell_type": "code",
      "source": [
        "# Проверяем количество строк\n",
        "print(len(os.listdir(Primavera_transcription_path)))\n",
        "print(Primavera_transcriptions_df.shape[0])"
      ],
      "metadata": {
        "colab": {
          "base_uri": "https://localhost:8080/"
        },
        "outputId": "2db788ed-73f7-43bb-b9d0-865348890b34",
        "id": "OlD8YuzYzUIv"
      },
      "execution_count": null,
      "outputs": [
        {
          "output_type": "stream",
          "name": "stdout",
          "text": [
            "1983\n",
            "1983\n"
          ]
        }
      ]
    },
    {
      "cell_type": "code",
      "source": [
        "# Смотрим количество уникальных значений столбца 'Идентификатор сессии звонка'\n",
        "Primavera_transcriptions_df['Идентификатор сессии звонка'].nunique()"
      ],
      "metadata": {
        "colab": {
          "base_uri": "https://localhost:8080/"
        },
        "outputId": "9fef89a0-f562-410c-df3c-22016b991531",
        "id": "PnRb4gWmzUIx"
      },
      "execution_count": null,
      "outputs": [
        {
          "output_type": "execute_result",
          "data": {
            "text/plain": [
              "1983"
            ]
          },
          "metadata": {},
          "execution_count": 52
        }
      ]
    },
    {
      "cell_type": "code",
      "source": [
        "Primavera_transcriptions_df.shape"
      ],
      "metadata": {
        "colab": {
          "base_uri": "https://localhost:8080/"
        },
        "outputId": "057276d1-9749-423e-baaf-5fd3ebf80d9c",
        "id": "1AmTXwBtzUI4"
      },
      "execution_count": null,
      "outputs": [
        {
          "output_type": "execute_result",
          "data": {
            "text/plain": [
              "(1983, 6)"
            ]
          },
          "metadata": {},
          "execution_count": 53
        }
      ]
    },
    {
      "cell_type": "code",
      "source": [
        "Primavera_transcriptions_df.dtypes"
      ],
      "metadata": {
        "colab": {
          "base_uri": "https://localhost:8080/"
        },
        "outputId": "51916f7a-327f-428b-8cff-8fbb5c3a4c5d",
        "id": "3xgHmi-szUJD"
      },
      "execution_count": null,
      "outputs": [
        {
          "output_type": "execute_result",
          "data": {
            "text/plain": [
              "Дата и время                   object\n",
              "Номер абонента                 object\n",
              "Номер сотрудника               object\n",
              "Идентификатор сессии звонка    object\n",
              "Транскрибатор                  object\n",
              "Файл транскрибации звонка      object\n",
              "dtype: object"
            ]
          },
          "metadata": {},
          "execution_count": 54
        }
      ]
    },
    {
      "cell_type": "code",
      "source": [
        "# Приводим типы данных\n",
        "Primavera_transcriptions_df['Дата и время'] = pd.to_datetime(Primavera_transcriptions_df['Дата и время'])\n",
        "Primavera_transcriptions_df = Primavera_transcriptions_df.astype({'Номер абонента': int})\n",
        "Primavera_transcriptions_df = Primavera_transcriptions_df.astype({'Номер сотрудника': int})\n",
        "Primavera_transcriptions_df = Primavera_transcriptions_df.astype({'Идентификатор сессии звонка': int})"
      ],
      "metadata": {
        "id": "XmlkYG3bzUJE"
      },
      "execution_count": null,
      "outputs": []
    },
    {
      "cell_type": "code",
      "source": [
        "Primavera_transcriptions_df.dtypes"
      ],
      "metadata": {
        "colab": {
          "base_uri": "https://localhost:8080/"
        },
        "outputId": "0651a399-ad10-4ad3-f3fd-cfeb16ea3c79",
        "id": "T4HOm6o8zUJG"
      },
      "execution_count": null,
      "outputs": [
        {
          "output_type": "execute_result",
          "data": {
            "text/plain": [
              "Дата и время                   datetime64[ns]\n",
              "Номер абонента                          int64\n",
              "Номер сотрудника                        int64\n",
              "Идентификатор сессии звонка             int64\n",
              "Транскрибатор                          object\n",
              "Файл транскрибации звонка              object\n",
              "dtype: object"
            ]
          },
          "metadata": {},
          "execution_count": 56
        }
      ]
    },
    {
      "cell_type": "code",
      "source": [
        "# Добавляем относительные пути в столбец 'Файл транскрибации звонка'\n",
        "Primavera_transcriptions_df['Файл транскрибации звонка'] = Primavera_transcriptions_df['Файл транскрибации звонка'].apply(lambda x: 'Расшифровки_Записи звонков_primavera/' + x)\n",
        "Primavera_transcriptions_df['Файл транскрибации звонка'].head()"
      ],
      "metadata": {
        "colab": {
          "base_uri": "https://localhost:8080/"
        },
        "outputId": "38f26076-d28d-48cb-ca0f-400402e6c64d",
        "id": "uow4YpGxzUJG"
      },
      "execution_count": null,
      "outputs": [
        {
          "output_type": "execute_result",
          "data": {
            "text/plain": [
              "0    Расшифровки_Записи звонков_primavera/2023-05-30_17-50-53.271117_from_79264254292_to_0197875_session_2974454505_talk_whisper_large.txt\n",
              "1    Расшифровки_Записи звонков_primavera/2023-05-30_18-03-54.199516_from_79258608972_to_0111642_session_2959172642_talk_whisper_large.txt\n",
              "2    Расшифровки_Записи звонков_primavera/2023-05-30_18-20-56.881493_from_79255210338_to_0197879_session_2989586940_talk_whisper_large.txt\n",
              "3    Расшифровки_Записи звонков_primavera/2023-05-30_19-19-50.688195_from_79165220654_to_0111652_session_2959295102_talk_whisper_large.txt\n",
              "4    Расшифровки_Записи звонков_primavera/2023-05-31_11-35-31.261521_from_79051447861_to_0197875_session_2974889895_talk_whisper_large.txt\n",
              "Name: Файл транскрибации звонка, dtype: object"
            ]
          },
          "metadata": {},
          "execution_count": 57
        }
      ]
    },
    {
      "cell_type": "code",
      "source": [
        "# Сортируем\n",
        "Primavera_transcriptions_df = Primavera_transcriptions_df.sort_values('Идентификатор сессии звонка')\n",
        "Primavera_transcriptions_df.index = range(Primavera_transcriptions_df.shape[0])"
      ],
      "metadata": {
        "id": "j5RWugSg1uET"
      },
      "execution_count": null,
      "outputs": []
    },
    {
      "cell_type": "code",
      "source": [
        "# Сохраняем Primavera_transcriptions_df в файл\n",
        "with open(df_path + 'Primavera_transcriptions_df.pkl', 'wb') as f:\n",
        "  pkl.dump(Primavera_transcriptions_df, f)"
      ],
      "metadata": {
        "id": "QQWRionUzUJH"
      },
      "execution_count": null,
      "outputs": []
    },
    {
      "cell_type": "markdown",
      "source": [
        "#### Paveletskaya_city"
      ],
      "metadata": {
        "id": "fyq4Zl3_2LHx"
      }
    },
    {
      "cell_type": "code",
      "source": [
        "# Создаём датафрейм из списка файлов транскрибации звонков Paveletskaya_city\n",
        "Paveletskaya_city_transcriptions_df = transcriptions_list_to_df(os.listdir(Paveletskaya_city_transcription_path))\n",
        "Paveletskaya_city_transcriptions_df.head()"
      ],
      "metadata": {
        "colab": {
          "base_uri": "https://localhost:8080/",
          "height": 310
        },
        "outputId": "48e76704-f7fd-4f45-88cb-656931e06122",
        "id": "yhf_4nvh2LH-"
      },
      "execution_count": null,
      "outputs": [
        {
          "output_type": "execute_result",
          "data": {
            "text/plain": [
              "          Дата и время Номер абонента Номер сотрудника  \\\n",
              "0  2023-06-17 12:54:28    79803286601      74950216267   \n",
              "1  2023-06-17 13:44:17    79066743768      74950216267   \n",
              "2  2023-06-17 14:08:51    74993205445      74955141111   \n",
              "3  2023-06-17 14:21:31    79259041087      74950216267   \n",
              "4  2023-06-17 16:16:05    79680303488      74950216267   \n",
              "\n",
              "  Идентификатор сессии звонка Транскрибатор  \\\n",
              "0                  3029638181       whisper   \n",
              "1                  3029352265       whisper   \n",
              "2                  3029390475       whisper   \n",
              "3                  3029730813       whisper   \n",
              "4                  3029596520       whisper   \n",
              "\n",
              "                                                                              Файл транскрибации звонка  \n",
              "0  2023-06-17_12-54-28.210462_from_79803286601_to_74950216267_session_3029638181_talk_whisper_large.txt  \n",
              "1  2023-06-17_13-44-17.539114_from_79066743768_to_74950216267_session_3029352265_talk_whisper_large.txt  \n",
              "2  2023-06-17_14-08-51.827169_from_74993205445_to_74955141111_session_3029390475_talk_whisper_large.txt  \n",
              "3  2023-06-17_14-21-31.493157_from_79259041087_to_74950216267_session_3029730813_talk_whisper_large.txt  \n",
              "4  2023-06-17_16-16-05.571252_from_79680303488_to_74950216267_session_3029596520_talk_whisper_large.txt  "
            ],
            "text/html": [
              "\n",
              "  <div id=\"df-33b3443c-6d4b-4f67-9648-e32a949f8fe3\" class=\"colab-df-container\">\n",
              "    <div>\n",
              "<style scoped>\n",
              "    .dataframe tbody tr th:only-of-type {\n",
              "        vertical-align: middle;\n",
              "    }\n",
              "\n",
              "    .dataframe tbody tr th {\n",
              "        vertical-align: top;\n",
              "    }\n",
              "\n",
              "    .dataframe thead th {\n",
              "        text-align: right;\n",
              "    }\n",
              "</style>\n",
              "<table border=\"1\" class=\"dataframe\">\n",
              "  <thead>\n",
              "    <tr style=\"text-align: right;\">\n",
              "      <th></th>\n",
              "      <th>Дата и время</th>\n",
              "      <th>Номер абонента</th>\n",
              "      <th>Номер сотрудника</th>\n",
              "      <th>Идентификатор сессии звонка</th>\n",
              "      <th>Транскрибатор</th>\n",
              "      <th>Файл транскрибации звонка</th>\n",
              "    </tr>\n",
              "  </thead>\n",
              "  <tbody>\n",
              "    <tr>\n",
              "      <th>0</th>\n",
              "      <td>2023-06-17 12:54:28</td>\n",
              "      <td>79803286601</td>\n",
              "      <td>74950216267</td>\n",
              "      <td>3029638181</td>\n",
              "      <td>whisper</td>\n",
              "      <td>2023-06-17_12-54-28.210462_from_79803286601_to_74950216267_session_3029638181_talk_whisper_large.txt</td>\n",
              "    </tr>\n",
              "    <tr>\n",
              "      <th>1</th>\n",
              "      <td>2023-06-17 13:44:17</td>\n",
              "      <td>79066743768</td>\n",
              "      <td>74950216267</td>\n",
              "      <td>3029352265</td>\n",
              "      <td>whisper</td>\n",
              "      <td>2023-06-17_13-44-17.539114_from_79066743768_to_74950216267_session_3029352265_talk_whisper_large.txt</td>\n",
              "    </tr>\n",
              "    <tr>\n",
              "      <th>2</th>\n",
              "      <td>2023-06-17 14:08:51</td>\n",
              "      <td>74993205445</td>\n",
              "      <td>74955141111</td>\n",
              "      <td>3029390475</td>\n",
              "      <td>whisper</td>\n",
              "      <td>2023-06-17_14-08-51.827169_from_74993205445_to_74955141111_session_3029390475_talk_whisper_large.txt</td>\n",
              "    </tr>\n",
              "    <tr>\n",
              "      <th>3</th>\n",
              "      <td>2023-06-17 14:21:31</td>\n",
              "      <td>79259041087</td>\n",
              "      <td>74950216267</td>\n",
              "      <td>3029730813</td>\n",
              "      <td>whisper</td>\n",
              "      <td>2023-06-17_14-21-31.493157_from_79259041087_to_74950216267_session_3029730813_talk_whisper_large.txt</td>\n",
              "    </tr>\n",
              "    <tr>\n",
              "      <th>4</th>\n",
              "      <td>2023-06-17 16:16:05</td>\n",
              "      <td>79680303488</td>\n",
              "      <td>74950216267</td>\n",
              "      <td>3029596520</td>\n",
              "      <td>whisper</td>\n",
              "      <td>2023-06-17_16-16-05.571252_from_79680303488_to_74950216267_session_3029596520_talk_whisper_large.txt</td>\n",
              "    </tr>\n",
              "  </tbody>\n",
              "</table>\n",
              "</div>\n",
              "    <div class=\"colab-df-buttons\">\n",
              "\n",
              "  <div class=\"colab-df-container\">\n",
              "    <button class=\"colab-df-convert\" onclick=\"convertToInteractive('df-33b3443c-6d4b-4f67-9648-e32a949f8fe3')\"\n",
              "            title=\"Convert this dataframe to an interactive table.\"\n",
              "            style=\"display:none;\">\n",
              "\n",
              "  <svg xmlns=\"http://www.w3.org/2000/svg\" height=\"24px\" viewBox=\"0 -960 960 960\">\n",
              "    <path d=\"M120-120v-720h720v720H120Zm60-500h600v-160H180v160Zm220 220h160v-160H400v160Zm0 220h160v-160H400v160ZM180-400h160v-160H180v160Zm440 0h160v-160H620v160ZM180-180h160v-160H180v160Zm440 0h160v-160H620v160Z\"/>\n",
              "  </svg>\n",
              "    </button>\n",
              "\n",
              "  <style>\n",
              "    .colab-df-container {\n",
              "      display:flex;\n",
              "      gap: 12px;\n",
              "    }\n",
              "\n",
              "    .colab-df-convert {\n",
              "      background-color: #E8F0FE;\n",
              "      border: none;\n",
              "      border-radius: 50%;\n",
              "      cursor: pointer;\n",
              "      display: none;\n",
              "      fill: #1967D2;\n",
              "      height: 32px;\n",
              "      padding: 0 0 0 0;\n",
              "      width: 32px;\n",
              "    }\n",
              "\n",
              "    .colab-df-convert:hover {\n",
              "      background-color: #E2EBFA;\n",
              "      box-shadow: 0px 1px 2px rgba(60, 64, 67, 0.3), 0px 1px 3px 1px rgba(60, 64, 67, 0.15);\n",
              "      fill: #174EA6;\n",
              "    }\n",
              "\n",
              "    .colab-df-buttons div {\n",
              "      margin-bottom: 4px;\n",
              "    }\n",
              "\n",
              "    [theme=dark] .colab-df-convert {\n",
              "      background-color: #3B4455;\n",
              "      fill: #D2E3FC;\n",
              "    }\n",
              "\n",
              "    [theme=dark] .colab-df-convert:hover {\n",
              "      background-color: #434B5C;\n",
              "      box-shadow: 0px 1px 3px 1px rgba(0, 0, 0, 0.15);\n",
              "      filter: drop-shadow(0px 1px 2px rgba(0, 0, 0, 0.3));\n",
              "      fill: #FFFFFF;\n",
              "    }\n",
              "  </style>\n",
              "\n",
              "    <script>\n",
              "      const buttonEl =\n",
              "        document.querySelector('#df-33b3443c-6d4b-4f67-9648-e32a949f8fe3 button.colab-df-convert');\n",
              "      buttonEl.style.display =\n",
              "        google.colab.kernel.accessAllowed ? 'block' : 'none';\n",
              "\n",
              "      async function convertToInteractive(key) {\n",
              "        const element = document.querySelector('#df-33b3443c-6d4b-4f67-9648-e32a949f8fe3');\n",
              "        const dataTable =\n",
              "          await google.colab.kernel.invokeFunction('convertToInteractive',\n",
              "                                                    [key], {});\n",
              "        if (!dataTable) return;\n",
              "\n",
              "        const docLinkHtml = 'Like what you see? Visit the ' +\n",
              "          '<a target=\"_blank\" href=https://colab.research.google.com/notebooks/data_table.ipynb>data table notebook</a>'\n",
              "          + ' to learn more about interactive tables.';\n",
              "        element.innerHTML = '';\n",
              "        dataTable['output_type'] = 'display_data';\n",
              "        await google.colab.output.renderOutput(dataTable, element);\n",
              "        const docLink = document.createElement('div');\n",
              "        docLink.innerHTML = docLinkHtml;\n",
              "        element.appendChild(docLink);\n",
              "      }\n",
              "    </script>\n",
              "  </div>\n",
              "\n",
              "\n",
              "<div id=\"df-a5a291fd-9ec6-41de-b03f-81bb4d8f51ec\">\n",
              "  <button class=\"colab-df-quickchart\" onclick=\"quickchart('df-a5a291fd-9ec6-41de-b03f-81bb4d8f51ec')\"\n",
              "            title=\"Suggest charts.\"\n",
              "            style=\"display:none;\">\n",
              "\n",
              "<svg xmlns=\"http://www.w3.org/2000/svg\" height=\"24px\"viewBox=\"0 0 24 24\"\n",
              "     width=\"24px\">\n",
              "    <g>\n",
              "        <path d=\"M19 3H5c-1.1 0-2 .9-2 2v14c0 1.1.9 2 2 2h14c1.1 0 2-.9 2-2V5c0-1.1-.9-2-2-2zM9 17H7v-7h2v7zm4 0h-2V7h2v10zm4 0h-2v-4h2v4z\"/>\n",
              "    </g>\n",
              "</svg>\n",
              "  </button>\n",
              "\n",
              "<style>\n",
              "  .colab-df-quickchart {\n",
              "      --bg-color: #E8F0FE;\n",
              "      --fill-color: #1967D2;\n",
              "      --hover-bg-color: #E2EBFA;\n",
              "      --hover-fill-color: #174EA6;\n",
              "      --disabled-fill-color: #AAA;\n",
              "      --disabled-bg-color: #DDD;\n",
              "  }\n",
              "\n",
              "  [theme=dark] .colab-df-quickchart {\n",
              "      --bg-color: #3B4455;\n",
              "      --fill-color: #D2E3FC;\n",
              "      --hover-bg-color: #434B5C;\n",
              "      --hover-fill-color: #FFFFFF;\n",
              "      --disabled-bg-color: #3B4455;\n",
              "      --disabled-fill-color: #666;\n",
              "  }\n",
              "\n",
              "  .colab-df-quickchart {\n",
              "    background-color: var(--bg-color);\n",
              "    border: none;\n",
              "    border-radius: 50%;\n",
              "    cursor: pointer;\n",
              "    display: none;\n",
              "    fill: var(--fill-color);\n",
              "    height: 32px;\n",
              "    padding: 0;\n",
              "    width: 32px;\n",
              "  }\n",
              "\n",
              "  .colab-df-quickchart:hover {\n",
              "    background-color: var(--hover-bg-color);\n",
              "    box-shadow: 0 1px 2px rgba(60, 64, 67, 0.3), 0 1px 3px 1px rgba(60, 64, 67, 0.15);\n",
              "    fill: var(--button-hover-fill-color);\n",
              "  }\n",
              "\n",
              "  .colab-df-quickchart-complete:disabled,\n",
              "  .colab-df-quickchart-complete:disabled:hover {\n",
              "    background-color: var(--disabled-bg-color);\n",
              "    fill: var(--disabled-fill-color);\n",
              "    box-shadow: none;\n",
              "  }\n",
              "\n",
              "  .colab-df-spinner {\n",
              "    border: 2px solid var(--fill-color);\n",
              "    border-color: transparent;\n",
              "    border-bottom-color: var(--fill-color);\n",
              "    animation:\n",
              "      spin 1s steps(1) infinite;\n",
              "  }\n",
              "\n",
              "  @keyframes spin {\n",
              "    0% {\n",
              "      border-color: transparent;\n",
              "      border-bottom-color: var(--fill-color);\n",
              "      border-left-color: var(--fill-color);\n",
              "    }\n",
              "    20% {\n",
              "      border-color: transparent;\n",
              "      border-left-color: var(--fill-color);\n",
              "      border-top-color: var(--fill-color);\n",
              "    }\n",
              "    30% {\n",
              "      border-color: transparent;\n",
              "      border-left-color: var(--fill-color);\n",
              "      border-top-color: var(--fill-color);\n",
              "      border-right-color: var(--fill-color);\n",
              "    }\n",
              "    40% {\n",
              "      border-color: transparent;\n",
              "      border-right-color: var(--fill-color);\n",
              "      border-top-color: var(--fill-color);\n",
              "    }\n",
              "    60% {\n",
              "      border-color: transparent;\n",
              "      border-right-color: var(--fill-color);\n",
              "    }\n",
              "    80% {\n",
              "      border-color: transparent;\n",
              "      border-right-color: var(--fill-color);\n",
              "      border-bottom-color: var(--fill-color);\n",
              "    }\n",
              "    90% {\n",
              "      border-color: transparent;\n",
              "      border-bottom-color: var(--fill-color);\n",
              "    }\n",
              "  }\n",
              "</style>\n",
              "\n",
              "  <script>\n",
              "    async function quickchart(key) {\n",
              "      const quickchartButtonEl =\n",
              "        document.querySelector('#' + key + ' button');\n",
              "      quickchartButtonEl.disabled = true;  // To prevent multiple clicks.\n",
              "      quickchartButtonEl.classList.add('colab-df-spinner');\n",
              "      try {\n",
              "        const charts = await google.colab.kernel.invokeFunction(\n",
              "            'suggestCharts', [key], {});\n",
              "      } catch (error) {\n",
              "        console.error('Error during call to suggestCharts:', error);\n",
              "      }\n",
              "      quickchartButtonEl.classList.remove('colab-df-spinner');\n",
              "      quickchartButtonEl.classList.add('colab-df-quickchart-complete');\n",
              "    }\n",
              "    (() => {\n",
              "      let quickchartButtonEl =\n",
              "        document.querySelector('#df-a5a291fd-9ec6-41de-b03f-81bb4d8f51ec button');\n",
              "      quickchartButtonEl.style.display =\n",
              "        google.colab.kernel.accessAllowed ? 'block' : 'none';\n",
              "    })();\n",
              "  </script>\n",
              "</div>\n",
              "    </div>\n",
              "  </div>\n"
            ]
          },
          "metadata": {},
          "execution_count": 60
        }
      ]
    },
    {
      "cell_type": "code",
      "source": [
        "# Проверяем количество строк\n",
        "print(len(os.listdir(Paveletskaya_city_transcription_path)))\n",
        "print(Paveletskaya_city_transcriptions_df.shape[0])"
      ],
      "metadata": {
        "colab": {
          "base_uri": "https://localhost:8080/"
        },
        "outputId": "e089a795-eb22-4fc3-ba53-e3c2a81a2ea7",
        "id": "Uf9Yzga22LIB"
      },
      "execution_count": null,
      "outputs": [
        {
          "output_type": "stream",
          "name": "stdout",
          "text": [
            "1000\n",
            "1000\n"
          ]
        }
      ]
    },
    {
      "cell_type": "code",
      "source": [
        "# Смотрим количество уникальных значений столбца 'Идентификатор сессии звонка'\n",
        "Paveletskaya_city_transcriptions_df['Идентификатор сессии звонка'].nunique()"
      ],
      "metadata": {
        "colab": {
          "base_uri": "https://localhost:8080/"
        },
        "outputId": "59e163de-89a8-42dd-f3cc-c71432e94050",
        "id": "9GEZWZ0W2LIB"
      },
      "execution_count": null,
      "outputs": [
        {
          "output_type": "execute_result",
          "data": {
            "text/plain": [
              "1000"
            ]
          },
          "metadata": {},
          "execution_count": 62
        }
      ]
    },
    {
      "cell_type": "code",
      "source": [
        "Paveletskaya_city_transcriptions_df.shape"
      ],
      "metadata": {
        "colab": {
          "base_uri": "https://localhost:8080/"
        },
        "outputId": "7243696b-6bf4-46df-e071-76c3bcfff764",
        "id": "K-u3Mpxd2LIC"
      },
      "execution_count": null,
      "outputs": [
        {
          "output_type": "execute_result",
          "data": {
            "text/plain": [
              "(1000, 6)"
            ]
          },
          "metadata": {},
          "execution_count": 63
        }
      ]
    },
    {
      "cell_type": "code",
      "source": [
        "Paveletskaya_city_transcriptions_df.dtypes"
      ],
      "metadata": {
        "colab": {
          "base_uri": "https://localhost:8080/"
        },
        "outputId": "779a6f4b-f6a3-4942-98ec-5bad1220049a",
        "id": "Oy9u33ar2LIC"
      },
      "execution_count": null,
      "outputs": [
        {
          "output_type": "execute_result",
          "data": {
            "text/plain": [
              "Дата и время                   object\n",
              "Номер абонента                 object\n",
              "Номер сотрудника               object\n",
              "Идентификатор сессии звонка    object\n",
              "Транскрибатор                  object\n",
              "Файл транскрибации звонка      object\n",
              "dtype: object"
            ]
          },
          "metadata": {},
          "execution_count": 64
        }
      ]
    },
    {
      "cell_type": "code",
      "source": [
        "# Приводим типы данных\n",
        "Paveletskaya_city_transcriptions_df['Дата и время'] = pd.to_datetime(Paveletskaya_city_transcriptions_df['Дата и время'])\n",
        "Paveletskaya_city_transcriptions_df = Paveletskaya_city_transcriptions_df.astype({'Номер абонента': int})\n",
        "Paveletskaya_city_transcriptions_df = Paveletskaya_city_transcriptions_df.astype({'Номер сотрудника': int})\n",
        "Paveletskaya_city_transcriptions_df = Paveletskaya_city_transcriptions_df.astype({'Идентификатор сессии звонка': int})"
      ],
      "metadata": {
        "id": "LqdPRQPS2LID"
      },
      "execution_count": null,
      "outputs": []
    },
    {
      "cell_type": "code",
      "source": [
        "Paveletskaya_city_transcriptions_df.dtypes"
      ],
      "metadata": {
        "colab": {
          "base_uri": "https://localhost:8080/"
        },
        "outputId": "d422f4b7-7ec2-4064-b522-35b926f0bcbd",
        "id": "cLTqgpWW2LIE"
      },
      "execution_count": null,
      "outputs": [
        {
          "output_type": "execute_result",
          "data": {
            "text/plain": [
              "Дата и время                   datetime64[ns]\n",
              "Номер абонента                          int64\n",
              "Номер сотрудника                        int64\n",
              "Идентификатор сессии звонка             int64\n",
              "Транскрибатор                          object\n",
              "Файл транскрибации звонка              object\n",
              "dtype: object"
            ]
          },
          "metadata": {},
          "execution_count": 66
        }
      ]
    },
    {
      "cell_type": "code",
      "source": [
        "# Добавляем относительные пути в столбец 'Файл транскрибации звонка'\n",
        "Paveletskaya_city_transcriptions_df['Файл транскрибации звонка'] = Paveletskaya_city_transcriptions_df['Файл транскрибации звонка'].apply(lambda x: 'Расшифровки_Записи звонков_павелецкая сити/' + x)\n",
        "Paveletskaya_city_transcriptions_df['Файл транскрибации звонка'].head()"
      ],
      "metadata": {
        "colab": {
          "base_uri": "https://localhost:8080/"
        },
        "outputId": "ab7b0755-af0c-4cf7-b8bb-41da6841c09a",
        "id": "7xmJZmwi2LIE"
      },
      "execution_count": null,
      "outputs": [
        {
          "output_type": "execute_result",
          "data": {
            "text/plain": [
              "0    Расшифровки_Записи звонков_павелецкая сити/2023-06-17_12-54-28.210462_from_79803286601_to_74950216267_session_3029638181_talk_whisper_large.txt\n",
              "1    Расшифровки_Записи звонков_павелецкая сити/2023-06-17_13-44-17.539114_from_79066743768_to_74950216267_session_3029352265_talk_whisper_large.txt\n",
              "2    Расшифровки_Записи звонков_павелецкая сити/2023-06-17_14-08-51.827169_from_74993205445_to_74955141111_session_3029390475_talk_whisper_large.txt\n",
              "3    Расшифровки_Записи звонков_павелецкая сити/2023-06-17_14-21-31.493157_from_79259041087_to_74950216267_session_3029730813_talk_whisper_large.txt\n",
              "4    Расшифровки_Записи звонков_павелецкая сити/2023-06-17_16-16-05.571252_from_79680303488_to_74950216267_session_3029596520_talk_whisper_large.txt\n",
              "Name: Файл транскрибации звонка, dtype: object"
            ]
          },
          "metadata": {},
          "execution_count": 67
        }
      ]
    },
    {
      "cell_type": "code",
      "source": [
        "# Сортируем\n",
        "Paveletskaya_city_transcriptions_df = Paveletskaya_city_transcriptions_df.sort_values('Идентификатор сессии звонка')\n",
        "Paveletskaya_city_transcriptions_df.index = range(Paveletskaya_city_transcriptions_df.shape[0])"
      ],
      "metadata": {
        "id": "OosEzqFU2LIF"
      },
      "execution_count": null,
      "outputs": []
    },
    {
      "cell_type": "code",
      "source": [
        "# Сохраняем Paveletskaya_city_transcriptions_df в файл\n",
        "with open(df_path + 'Paveletskaya_city_transcriptions_df.pkl', 'wb') as f:\n",
        "  pkl.dump(Paveletskaya_city_transcriptions_df, f)"
      ],
      "metadata": {
        "id": "6l_lcp-42LII"
      },
      "execution_count": null,
      "outputs": []
    },
    {
      "cell_type": "markdown",
      "source": [
        "### Добавление текстов транскрибации звонков в датафреймы"
      ],
      "metadata": {
        "id": "gP1wSDEL9prZ"
      }
    },
    {
      "cell_type": "code",
      "source": [
        "# Загрузка датафреймов\n",
        "with open(df_path + 'Headliner_transcriptions_df.pkl', 'rb') as f:\n",
        "  Headliner_transcriptions_df = pkl.load(f)\n",
        "\n",
        "with open(df_path + 'Primavera_transcriptions_df.pkl', 'rb') as f:\n",
        "  Primavera_transcriptions_df = pkl.load(f)\n",
        "\n",
        "with open(df_path + 'Paveletskaya_city_transcriptions_df.pkl', 'rb') as f:\n",
        "  Paveletskaya_city_transcriptions_df = pkl.load(f)"
      ],
      "metadata": {
        "id": "isgjo3YQ96tL"
      },
      "execution_count": null,
      "outputs": []
    },
    {
      "cell_type": "markdown",
      "source": [
        "#### Headliner"
      ],
      "metadata": {
        "id": "Xxx4B_5597gd"
      }
    },
    {
      "cell_type": "code",
      "source": [
        "# Добавляем столбец 'Текст транскрибации звонка'\n",
        "Headliner_transcriptions_df['Текст транскрибации звонка'] = 'нет текста транскрибации звонка'\n",
        "Headliner_transcriptions_df.head()"
      ],
      "metadata": {
        "colab": {
          "base_uri": "https://localhost:8080/",
          "height": 434
        },
        "id": "C8NkrAc4DIjH",
        "outputId": "52fe5380-a983-4c70-b219-35f18fa3db8d"
      },
      "execution_count": null,
      "outputs": [
        {
          "output_type": "execute_result",
          "data": {
            "text/plain": [
              "         Дата и время  Номер абонента  Номер сотрудника  \\\n",
              "0 2023-05-08 16:14:10     74955199580       74997552563   \n",
              "1 2023-05-09 11:53:48     79910665524       74997552563   \n",
              "2 2023-05-09 17:51:30     79670165153            188880   \n",
              "3 2023-05-09 18:34:04     79274431546       74997552563   \n",
              "4 2023-05-09 20:19:21     79274432048       74997552563   \n",
              "\n",
              "   Идентификатор сессии звонка Транскрибатор  \\\n",
              "0                   2918538922       whisper   \n",
              "1                   2919161802       whisper   \n",
              "2                   2919520238       whisper   \n",
              "3                   2919550530       whisper   \n",
              "4                   2919615074       whisper   \n",
              "\n",
              "                                                                                                                   Файл транскрибации звонка  \\\n",
              "0  Расшифровки_Записи звонков_хедлайнер/2023-05-08_16-14-10.247769_from_74955199580_to_74997552563_session_2918538922_talk_whisper_large.txt   \n",
              "1  Расшифровки_Записи звонков_хедлайнер/2023-05-09_11-53-48.291185_from_79910665524_to_74997552563_session_2919161802_talk_whisper_large.txt   \n",
              "2      Расшифровки_Записи звонков_хедлайнер/2023-05-09_17-51-30.193682_from_79670165153_to_0188880_session_2919520238_talk_whisper_large.txt   \n",
              "3  Расшифровки_Записи звонков_хедлайнер/2023-05-09_18-34-04.371381_from_79274431546_to_74997552563_session_2919550530_talk_whisper_large.txt   \n",
              "4  Расшифровки_Записи звонков_хедлайнер/2023-05-09_20-19-21.050197_from_79274432048_to_74997552563_session_2919615074_talk_whisper_large.txt   \n",
              "\n",
              "        Текст транскрибации звонка  \n",
              "0  нет текста транскрибации звонка  \n",
              "1  нет текста транскрибации звонка  \n",
              "2  нет текста транскрибации звонка  \n",
              "3  нет текста транскрибации звонка  \n",
              "4  нет текста транскрибации звонка  "
            ],
            "text/html": [
              "\n",
              "  <div id=\"df-6fc845a4-ab17-470e-97e2-75a7a2b5dfa5\" class=\"colab-df-container\">\n",
              "    <div>\n",
              "<style scoped>\n",
              "    .dataframe tbody tr th:only-of-type {\n",
              "        vertical-align: middle;\n",
              "    }\n",
              "\n",
              "    .dataframe tbody tr th {\n",
              "        vertical-align: top;\n",
              "    }\n",
              "\n",
              "    .dataframe thead th {\n",
              "        text-align: right;\n",
              "    }\n",
              "</style>\n",
              "<table border=\"1\" class=\"dataframe\">\n",
              "  <thead>\n",
              "    <tr style=\"text-align: right;\">\n",
              "      <th></th>\n",
              "      <th>Дата и время</th>\n",
              "      <th>Номер абонента</th>\n",
              "      <th>Номер сотрудника</th>\n",
              "      <th>Идентификатор сессии звонка</th>\n",
              "      <th>Транскрибатор</th>\n",
              "      <th>Файл транскрибации звонка</th>\n",
              "      <th>Текст транскрибации звонка</th>\n",
              "    </tr>\n",
              "  </thead>\n",
              "  <tbody>\n",
              "    <tr>\n",
              "      <th>0</th>\n",
              "      <td>2023-05-08 16:14:10</td>\n",
              "      <td>74955199580</td>\n",
              "      <td>74997552563</td>\n",
              "      <td>2918538922</td>\n",
              "      <td>whisper</td>\n",
              "      <td>Расшифровки_Записи звонков_хедлайнер/2023-05-08_16-14-10.247769_from_74955199580_to_74997552563_session_2918538922_talk_whisper_large.txt</td>\n",
              "      <td>нет текста транскрибации звонка</td>\n",
              "    </tr>\n",
              "    <tr>\n",
              "      <th>1</th>\n",
              "      <td>2023-05-09 11:53:48</td>\n",
              "      <td>79910665524</td>\n",
              "      <td>74997552563</td>\n",
              "      <td>2919161802</td>\n",
              "      <td>whisper</td>\n",
              "      <td>Расшифровки_Записи звонков_хедлайнер/2023-05-09_11-53-48.291185_from_79910665524_to_74997552563_session_2919161802_talk_whisper_large.txt</td>\n",
              "      <td>нет текста транскрибации звонка</td>\n",
              "    </tr>\n",
              "    <tr>\n",
              "      <th>2</th>\n",
              "      <td>2023-05-09 17:51:30</td>\n",
              "      <td>79670165153</td>\n",
              "      <td>188880</td>\n",
              "      <td>2919520238</td>\n",
              "      <td>whisper</td>\n",
              "      <td>Расшифровки_Записи звонков_хедлайнер/2023-05-09_17-51-30.193682_from_79670165153_to_0188880_session_2919520238_talk_whisper_large.txt</td>\n",
              "      <td>нет текста транскрибации звонка</td>\n",
              "    </tr>\n",
              "    <tr>\n",
              "      <th>3</th>\n",
              "      <td>2023-05-09 18:34:04</td>\n",
              "      <td>79274431546</td>\n",
              "      <td>74997552563</td>\n",
              "      <td>2919550530</td>\n",
              "      <td>whisper</td>\n",
              "      <td>Расшифровки_Записи звонков_хедлайнер/2023-05-09_18-34-04.371381_from_79274431546_to_74997552563_session_2919550530_talk_whisper_large.txt</td>\n",
              "      <td>нет текста транскрибации звонка</td>\n",
              "    </tr>\n",
              "    <tr>\n",
              "      <th>4</th>\n",
              "      <td>2023-05-09 20:19:21</td>\n",
              "      <td>79274432048</td>\n",
              "      <td>74997552563</td>\n",
              "      <td>2919615074</td>\n",
              "      <td>whisper</td>\n",
              "      <td>Расшифровки_Записи звонков_хедлайнер/2023-05-09_20-19-21.050197_from_79274432048_to_74997552563_session_2919615074_talk_whisper_large.txt</td>\n",
              "      <td>нет текста транскрибации звонка</td>\n",
              "    </tr>\n",
              "  </tbody>\n",
              "</table>\n",
              "</div>\n",
              "    <div class=\"colab-df-buttons\">\n",
              "\n",
              "  <div class=\"colab-df-container\">\n",
              "    <button class=\"colab-df-convert\" onclick=\"convertToInteractive('df-6fc845a4-ab17-470e-97e2-75a7a2b5dfa5')\"\n",
              "            title=\"Convert this dataframe to an interactive table.\"\n",
              "            style=\"display:none;\">\n",
              "\n",
              "  <svg xmlns=\"http://www.w3.org/2000/svg\" height=\"24px\" viewBox=\"0 -960 960 960\">\n",
              "    <path d=\"M120-120v-720h720v720H120Zm60-500h600v-160H180v160Zm220 220h160v-160H400v160Zm0 220h160v-160H400v160ZM180-400h160v-160H180v160Zm440 0h160v-160H620v160ZM180-180h160v-160H180v160Zm440 0h160v-160H620v160Z\"/>\n",
              "  </svg>\n",
              "    </button>\n",
              "\n",
              "  <style>\n",
              "    .colab-df-container {\n",
              "      display:flex;\n",
              "      gap: 12px;\n",
              "    }\n",
              "\n",
              "    .colab-df-convert {\n",
              "      background-color: #E8F0FE;\n",
              "      border: none;\n",
              "      border-radius: 50%;\n",
              "      cursor: pointer;\n",
              "      display: none;\n",
              "      fill: #1967D2;\n",
              "      height: 32px;\n",
              "      padding: 0 0 0 0;\n",
              "      width: 32px;\n",
              "    }\n",
              "\n",
              "    .colab-df-convert:hover {\n",
              "      background-color: #E2EBFA;\n",
              "      box-shadow: 0px 1px 2px rgba(60, 64, 67, 0.3), 0px 1px 3px 1px rgba(60, 64, 67, 0.15);\n",
              "      fill: #174EA6;\n",
              "    }\n",
              "\n",
              "    .colab-df-buttons div {\n",
              "      margin-bottom: 4px;\n",
              "    }\n",
              "\n",
              "    [theme=dark] .colab-df-convert {\n",
              "      background-color: #3B4455;\n",
              "      fill: #D2E3FC;\n",
              "    }\n",
              "\n",
              "    [theme=dark] .colab-df-convert:hover {\n",
              "      background-color: #434B5C;\n",
              "      box-shadow: 0px 1px 3px 1px rgba(0, 0, 0, 0.15);\n",
              "      filter: drop-shadow(0px 1px 2px rgba(0, 0, 0, 0.3));\n",
              "      fill: #FFFFFF;\n",
              "    }\n",
              "  </style>\n",
              "\n",
              "    <script>\n",
              "      const buttonEl =\n",
              "        document.querySelector('#df-6fc845a4-ab17-470e-97e2-75a7a2b5dfa5 button.colab-df-convert');\n",
              "      buttonEl.style.display =\n",
              "        google.colab.kernel.accessAllowed ? 'block' : 'none';\n",
              "\n",
              "      async function convertToInteractive(key) {\n",
              "        const element = document.querySelector('#df-6fc845a4-ab17-470e-97e2-75a7a2b5dfa5');\n",
              "        const dataTable =\n",
              "          await google.colab.kernel.invokeFunction('convertToInteractive',\n",
              "                                                    [key], {});\n",
              "        if (!dataTable) return;\n",
              "\n",
              "        const docLinkHtml = 'Like what you see? Visit the ' +\n",
              "          '<a target=\"_blank\" href=https://colab.research.google.com/notebooks/data_table.ipynb>data table notebook</a>'\n",
              "          + ' to learn more about interactive tables.';\n",
              "        element.innerHTML = '';\n",
              "        dataTable['output_type'] = 'display_data';\n",
              "        await google.colab.output.renderOutput(dataTable, element);\n",
              "        const docLink = document.createElement('div');\n",
              "        docLink.innerHTML = docLinkHtml;\n",
              "        element.appendChild(docLink);\n",
              "      }\n",
              "    </script>\n",
              "  </div>\n",
              "\n",
              "\n",
              "<div id=\"df-3d4567b3-a092-4316-a7de-03afdcc0a059\">\n",
              "  <button class=\"colab-df-quickchart\" onclick=\"quickchart('df-3d4567b3-a092-4316-a7de-03afdcc0a059')\"\n",
              "            title=\"Suggest charts.\"\n",
              "            style=\"display:none;\">\n",
              "\n",
              "<svg xmlns=\"http://www.w3.org/2000/svg\" height=\"24px\"viewBox=\"0 0 24 24\"\n",
              "     width=\"24px\">\n",
              "    <g>\n",
              "        <path d=\"M19 3H5c-1.1 0-2 .9-2 2v14c0 1.1.9 2 2 2h14c1.1 0 2-.9 2-2V5c0-1.1-.9-2-2-2zM9 17H7v-7h2v7zm4 0h-2V7h2v10zm4 0h-2v-4h2v4z\"/>\n",
              "    </g>\n",
              "</svg>\n",
              "  </button>\n",
              "\n",
              "<style>\n",
              "  .colab-df-quickchart {\n",
              "      --bg-color: #E8F0FE;\n",
              "      --fill-color: #1967D2;\n",
              "      --hover-bg-color: #E2EBFA;\n",
              "      --hover-fill-color: #174EA6;\n",
              "      --disabled-fill-color: #AAA;\n",
              "      --disabled-bg-color: #DDD;\n",
              "  }\n",
              "\n",
              "  [theme=dark] .colab-df-quickchart {\n",
              "      --bg-color: #3B4455;\n",
              "      --fill-color: #D2E3FC;\n",
              "      --hover-bg-color: #434B5C;\n",
              "      --hover-fill-color: #FFFFFF;\n",
              "      --disabled-bg-color: #3B4455;\n",
              "      --disabled-fill-color: #666;\n",
              "  }\n",
              "\n",
              "  .colab-df-quickchart {\n",
              "    background-color: var(--bg-color);\n",
              "    border: none;\n",
              "    border-radius: 50%;\n",
              "    cursor: pointer;\n",
              "    display: none;\n",
              "    fill: var(--fill-color);\n",
              "    height: 32px;\n",
              "    padding: 0;\n",
              "    width: 32px;\n",
              "  }\n",
              "\n",
              "  .colab-df-quickchart:hover {\n",
              "    background-color: var(--hover-bg-color);\n",
              "    box-shadow: 0 1px 2px rgba(60, 64, 67, 0.3), 0 1px 3px 1px rgba(60, 64, 67, 0.15);\n",
              "    fill: var(--button-hover-fill-color);\n",
              "  }\n",
              "\n",
              "  .colab-df-quickchart-complete:disabled,\n",
              "  .colab-df-quickchart-complete:disabled:hover {\n",
              "    background-color: var(--disabled-bg-color);\n",
              "    fill: var(--disabled-fill-color);\n",
              "    box-shadow: none;\n",
              "  }\n",
              "\n",
              "  .colab-df-spinner {\n",
              "    border: 2px solid var(--fill-color);\n",
              "    border-color: transparent;\n",
              "    border-bottom-color: var(--fill-color);\n",
              "    animation:\n",
              "      spin 1s steps(1) infinite;\n",
              "  }\n",
              "\n",
              "  @keyframes spin {\n",
              "    0% {\n",
              "      border-color: transparent;\n",
              "      border-bottom-color: var(--fill-color);\n",
              "      border-left-color: var(--fill-color);\n",
              "    }\n",
              "    20% {\n",
              "      border-color: transparent;\n",
              "      border-left-color: var(--fill-color);\n",
              "      border-top-color: var(--fill-color);\n",
              "    }\n",
              "    30% {\n",
              "      border-color: transparent;\n",
              "      border-left-color: var(--fill-color);\n",
              "      border-top-color: var(--fill-color);\n",
              "      border-right-color: var(--fill-color);\n",
              "    }\n",
              "    40% {\n",
              "      border-color: transparent;\n",
              "      border-right-color: var(--fill-color);\n",
              "      border-top-color: var(--fill-color);\n",
              "    }\n",
              "    60% {\n",
              "      border-color: transparent;\n",
              "      border-right-color: var(--fill-color);\n",
              "    }\n",
              "    80% {\n",
              "      border-color: transparent;\n",
              "      border-right-color: var(--fill-color);\n",
              "      border-bottom-color: var(--fill-color);\n",
              "    }\n",
              "    90% {\n",
              "      border-color: transparent;\n",
              "      border-bottom-color: var(--fill-color);\n",
              "    }\n",
              "  }\n",
              "</style>\n",
              "\n",
              "  <script>\n",
              "    async function quickchart(key) {\n",
              "      const quickchartButtonEl =\n",
              "        document.querySelector('#' + key + ' button');\n",
              "      quickchartButtonEl.disabled = true;  // To prevent multiple clicks.\n",
              "      quickchartButtonEl.classList.add('colab-df-spinner');\n",
              "      try {\n",
              "        const charts = await google.colab.kernel.invokeFunction(\n",
              "            'suggestCharts', [key], {});\n",
              "      } catch (error) {\n",
              "        console.error('Error during call to suggestCharts:', error);\n",
              "      }\n",
              "      quickchartButtonEl.classList.remove('colab-df-spinner');\n",
              "      quickchartButtonEl.classList.add('colab-df-quickchart-complete');\n",
              "    }\n",
              "    (() => {\n",
              "      let quickchartButtonEl =\n",
              "        document.querySelector('#df-3d4567b3-a092-4316-a7de-03afdcc0a059 button');\n",
              "      quickchartButtonEl.style.display =\n",
              "        google.colab.kernel.accessAllowed ? 'block' : 'none';\n",
              "    })();\n",
              "  </script>\n",
              "</div>\n",
              "    </div>\n",
              "  </div>\n"
            ]
          },
          "metadata": {},
          "execution_count": 84
        }
      ]
    },
    {
      "cell_type": "code",
      "source": [
        "for row in range(Headliner_transcriptions_df.shape[0]):\n",
        "  with open(transcription_path + Headliner_transcriptions_df.loc[row, ['Файл транскрибации звонка']].values[0], 'rb') as f:\n",
        "    contents = f.read()\n",
        "  Headliner_transcriptions_df.loc[row, ['Текст транскрибации звонка']] = contents.decode('utf-16').strip()"
      ],
      "metadata": {
        "id": "vb7yq69e9-LW"
      },
      "execution_count": null,
      "outputs": []
    },
    {
      "cell_type": "code",
      "source": [
        "Headliner_transcriptions_df['Текст транскрибации звонка'].head()"
      ],
      "metadata": {
        "colab": {
          "base_uri": "https://localhost:8080/"
        },
        "id": "Fu67GoSHBuQ9",
        "outputId": "da226efb-6d1a-4094-8c75-bbc08d6316da"
      },
      "execution_count": null,
      "outputs": [
        {
          "output_type": "execute_result",
          "data": {
            "text/plain": [
              "0                                                                                                                                                                                                                                                                                                                                                                                                                                                                                                                                                                                                                                                                                                                                                                                                                                           Ахрилань, Нержавой комплекс, здравствуйте, Светлана. Здравствуйте, скажите, пожалуйста, автопараты КМН А-603. Ой, это вы ошибаетесь, нет-нет, вы позвонили в другую компанию, перезвоните. Угу.\n",
              "1                                                                                                                                                                                                                                                                                                                                                                                                                                                                                                                                                                                                                                                                                                                                                                                                                                                                                                     Звонок по объявлению. Разговор может быть записан. Вам интересно? Позвольте, я продолжу, а потом, если что, зададите вопросы. Хорошо?\n",
              "2    Здравствуйте! Вы позвонили в группу компании «Картроф». Благодарим вас за звонок. Пожалуйста, дождитесь ответа оператора. Добрый вечер, группа компании «Картроф». Меня зовут Любовь. Любовь, добрый день. Виктория рассматривает жилой комплекс «Хедлайнер». Рассматривает трехкомнатную квартиру. Бюджет 40 миллионов. Да, спасибо. Добрый вечер, жилой комплекс «Хедлайнер» соединяется с делом продаж. Здравствуйте! Виктория, добрый день. Меня зовут Алена, менеджер проекта «Хедлайнер». Что могу быть вам полезно? Здравствуйте! Я хотела узнать по поводу вашего проекта. Есть ли квартиры готовые по планировкам, по ремонту, без ремонта, с ремонтом? Что есть вообще? Вы знакомы с нашим проектом? Нет, не совсем так, чуть-чуть совсем. А тогда, ну, а локацию хотя бы знаете, где мы находимся? Локацию, да. Да-да, локацию смотрела уже. Ага. Проект «Хедлайнер» находится у станции метро «Шелепиха». Школы рядом есть, муниципальная, романовская школа в 300 метрах, детский сад, также романовский. Также на тер...\n",
              "3                                                                                                                                                                                                                                                                                                                                                                                                                                                                                                                                                                                                                                                                                                                                                                                                                                                                                                                                                                                                                                     Beep.\n",
              "4                                                                                                                                                                                                                                                                                                                                                                                                                                                                                                                                                                                                                                                                                                                                                                                                                                                                                                                                                                                        📷 Живой комплекс. Хедлайнер Наталья. Здравствуйте!\n",
              "Name: Текст транскрибации звонка, dtype: object"
            ]
          },
          "metadata": {},
          "execution_count": 133
        }
      ]
    },
    {
      "cell_type": "code",
      "source": [
        "# Сохраняем Headliner_transcriptions_df в файл\n",
        "with open(df_path + 'Headliner_transcriptions_text_df.pkl', 'wb') as f:\n",
        "  pkl.dump(Headliner_transcriptions_df, f)"
      ],
      "metadata": {
        "id": "ozywGJW6SVAq"
      },
      "execution_count": null,
      "outputs": []
    },
    {
      "cell_type": "markdown",
      "source": [
        "#### Primavera"
      ],
      "metadata": {
        "id": "2Bph-ybyS8oq"
      }
    },
    {
      "cell_type": "code",
      "source": [
        "# Добавляем столбец 'Текст транскрибации звонка'\n",
        "Primavera_transcriptions_df['Текст транскрибации звонка'] = 'нет текста транскрибации звонка'\n",
        "Primavera_transcriptions_df.head()"
      ],
      "metadata": {
        "colab": {
          "base_uri": "https://localhost:8080/",
          "height": 434
        },
        "outputId": "20f4f73c-c3aa-4250-d507-2cfc36839e4d",
        "id": "Ajz1MHJ0S8or"
      },
      "execution_count": null,
      "outputs": [
        {
          "output_type": "execute_result",
          "data": {
            "text/plain": [
              "         Дата и время  Номер абонента  Номер сотрудника  \\\n",
              "0 2023-04-07 08:37:12     79169245539            197872   \n",
              "1 2023-04-07 11:11:00     79168630327            197872   \n",
              "2 2023-04-07 11:39:20     79168630327            197878   \n",
              "3 2023-04-07 13:16:04     79017716131            197878   \n",
              "4 2023-04-07 15:06:47     79251823056            111642   \n",
              "\n",
              "   Идентификатор сессии звонка Транскрибатор  \\\n",
              "0                   2861446698       whisper   \n",
              "1                   2861874202       whisper   \n",
              "2                   2861973030       whisper   \n",
              "3                   2862271810       whisper   \n",
              "4                   2862592034       whisper   \n",
              "\n",
              "                                                                                                               Файл транскрибации звонка  \\\n",
              "0  Расшифровки_Записи звонков_primavera/2023-04-07_08-37-12.159811_from_79169245539_to_0197872_session_2861446698_talk_whisper_large.txt   \n",
              "1  Расшифровки_Записи звонков_primavera/2023-04-07_11-11-00.578033_from_79168630327_to_0197872_session_2861874202_talk_whisper_large.txt   \n",
              "2  Расшифровки_Записи звонков_primavera/2023-04-07_11-39-20.205581_from_79168630327_to_0197878_session_2861973030_talk_whisper_large.txt   \n",
              "3  Расшифровки_Записи звонков_primavera/2023-04-07_13-16-04.805425_from_79017716131_to_0197878_session_2862271810_talk_whisper_large.txt   \n",
              "4  Расшифровки_Записи звонков_primavera/2023-04-07_15-06-47.669158_from_79251823056_to_0111642_session_2862592034_talk_whisper_large.txt   \n",
              "\n",
              "        Текст транскрибации звонка  \n",
              "0  нет текста транскрибации звонка  \n",
              "1  нет текста транскрибации звонка  \n",
              "2  нет текста транскрибации звонка  \n",
              "3  нет текста транскрибации звонка  \n",
              "4  нет текста транскрибации звонка  "
            ],
            "text/html": [
              "\n",
              "  <div id=\"df-0320f712-fc57-4ec1-9bc8-a95874daec99\" class=\"colab-df-container\">\n",
              "    <div>\n",
              "<style scoped>\n",
              "    .dataframe tbody tr th:only-of-type {\n",
              "        vertical-align: middle;\n",
              "    }\n",
              "\n",
              "    .dataframe tbody tr th {\n",
              "        vertical-align: top;\n",
              "    }\n",
              "\n",
              "    .dataframe thead th {\n",
              "        text-align: right;\n",
              "    }\n",
              "</style>\n",
              "<table border=\"1\" class=\"dataframe\">\n",
              "  <thead>\n",
              "    <tr style=\"text-align: right;\">\n",
              "      <th></th>\n",
              "      <th>Дата и время</th>\n",
              "      <th>Номер абонента</th>\n",
              "      <th>Номер сотрудника</th>\n",
              "      <th>Идентификатор сессии звонка</th>\n",
              "      <th>Транскрибатор</th>\n",
              "      <th>Файл транскрибации звонка</th>\n",
              "      <th>Текст транскрибации звонка</th>\n",
              "    </tr>\n",
              "  </thead>\n",
              "  <tbody>\n",
              "    <tr>\n",
              "      <th>0</th>\n",
              "      <td>2023-04-07 08:37:12</td>\n",
              "      <td>79169245539</td>\n",
              "      <td>197872</td>\n",
              "      <td>2861446698</td>\n",
              "      <td>whisper</td>\n",
              "      <td>Расшифровки_Записи звонков_primavera/2023-04-07_08-37-12.159811_from_79169245539_to_0197872_session_2861446698_talk_whisper_large.txt</td>\n",
              "      <td>нет текста транскрибации звонка</td>\n",
              "    </tr>\n",
              "    <tr>\n",
              "      <th>1</th>\n",
              "      <td>2023-04-07 11:11:00</td>\n",
              "      <td>79168630327</td>\n",
              "      <td>197872</td>\n",
              "      <td>2861874202</td>\n",
              "      <td>whisper</td>\n",
              "      <td>Расшифровки_Записи звонков_primavera/2023-04-07_11-11-00.578033_from_79168630327_to_0197872_session_2861874202_talk_whisper_large.txt</td>\n",
              "      <td>нет текста транскрибации звонка</td>\n",
              "    </tr>\n",
              "    <tr>\n",
              "      <th>2</th>\n",
              "      <td>2023-04-07 11:39:20</td>\n",
              "      <td>79168630327</td>\n",
              "      <td>197878</td>\n",
              "      <td>2861973030</td>\n",
              "      <td>whisper</td>\n",
              "      <td>Расшифровки_Записи звонков_primavera/2023-04-07_11-39-20.205581_from_79168630327_to_0197878_session_2861973030_talk_whisper_large.txt</td>\n",
              "      <td>нет текста транскрибации звонка</td>\n",
              "    </tr>\n",
              "    <tr>\n",
              "      <th>3</th>\n",
              "      <td>2023-04-07 13:16:04</td>\n",
              "      <td>79017716131</td>\n",
              "      <td>197878</td>\n",
              "      <td>2862271810</td>\n",
              "      <td>whisper</td>\n",
              "      <td>Расшифровки_Записи звонков_primavera/2023-04-07_13-16-04.805425_from_79017716131_to_0197878_session_2862271810_talk_whisper_large.txt</td>\n",
              "      <td>нет текста транскрибации звонка</td>\n",
              "    </tr>\n",
              "    <tr>\n",
              "      <th>4</th>\n",
              "      <td>2023-04-07 15:06:47</td>\n",
              "      <td>79251823056</td>\n",
              "      <td>111642</td>\n",
              "      <td>2862592034</td>\n",
              "      <td>whisper</td>\n",
              "      <td>Расшифровки_Записи звонков_primavera/2023-04-07_15-06-47.669158_from_79251823056_to_0111642_session_2862592034_talk_whisper_large.txt</td>\n",
              "      <td>нет текста транскрибации звонка</td>\n",
              "    </tr>\n",
              "  </tbody>\n",
              "</table>\n",
              "</div>\n",
              "    <div class=\"colab-df-buttons\">\n",
              "\n",
              "  <div class=\"colab-df-container\">\n",
              "    <button class=\"colab-df-convert\" onclick=\"convertToInteractive('df-0320f712-fc57-4ec1-9bc8-a95874daec99')\"\n",
              "            title=\"Convert this dataframe to an interactive table.\"\n",
              "            style=\"display:none;\">\n",
              "\n",
              "  <svg xmlns=\"http://www.w3.org/2000/svg\" height=\"24px\" viewBox=\"0 -960 960 960\">\n",
              "    <path d=\"M120-120v-720h720v720H120Zm60-500h600v-160H180v160Zm220 220h160v-160H400v160Zm0 220h160v-160H400v160ZM180-400h160v-160H180v160Zm440 0h160v-160H620v160ZM180-180h160v-160H180v160Zm440 0h160v-160H620v160Z\"/>\n",
              "  </svg>\n",
              "    </button>\n",
              "\n",
              "  <style>\n",
              "    .colab-df-container {\n",
              "      display:flex;\n",
              "      gap: 12px;\n",
              "    }\n",
              "\n",
              "    .colab-df-convert {\n",
              "      background-color: #E8F0FE;\n",
              "      border: none;\n",
              "      border-radius: 50%;\n",
              "      cursor: pointer;\n",
              "      display: none;\n",
              "      fill: #1967D2;\n",
              "      height: 32px;\n",
              "      padding: 0 0 0 0;\n",
              "      width: 32px;\n",
              "    }\n",
              "\n",
              "    .colab-df-convert:hover {\n",
              "      background-color: #E2EBFA;\n",
              "      box-shadow: 0px 1px 2px rgba(60, 64, 67, 0.3), 0px 1px 3px 1px rgba(60, 64, 67, 0.15);\n",
              "      fill: #174EA6;\n",
              "    }\n",
              "\n",
              "    .colab-df-buttons div {\n",
              "      margin-bottom: 4px;\n",
              "    }\n",
              "\n",
              "    [theme=dark] .colab-df-convert {\n",
              "      background-color: #3B4455;\n",
              "      fill: #D2E3FC;\n",
              "    }\n",
              "\n",
              "    [theme=dark] .colab-df-convert:hover {\n",
              "      background-color: #434B5C;\n",
              "      box-shadow: 0px 1px 3px 1px rgba(0, 0, 0, 0.15);\n",
              "      filter: drop-shadow(0px 1px 2px rgba(0, 0, 0, 0.3));\n",
              "      fill: #FFFFFF;\n",
              "    }\n",
              "  </style>\n",
              "\n",
              "    <script>\n",
              "      const buttonEl =\n",
              "        document.querySelector('#df-0320f712-fc57-4ec1-9bc8-a95874daec99 button.colab-df-convert');\n",
              "      buttonEl.style.display =\n",
              "        google.colab.kernel.accessAllowed ? 'block' : 'none';\n",
              "\n",
              "      async function convertToInteractive(key) {\n",
              "        const element = document.querySelector('#df-0320f712-fc57-4ec1-9bc8-a95874daec99');\n",
              "        const dataTable =\n",
              "          await google.colab.kernel.invokeFunction('convertToInteractive',\n",
              "                                                    [key], {});\n",
              "        if (!dataTable) return;\n",
              "\n",
              "        const docLinkHtml = 'Like what you see? Visit the ' +\n",
              "          '<a target=\"_blank\" href=https://colab.research.google.com/notebooks/data_table.ipynb>data table notebook</a>'\n",
              "          + ' to learn more about interactive tables.';\n",
              "        element.innerHTML = '';\n",
              "        dataTable['output_type'] = 'display_data';\n",
              "        await google.colab.output.renderOutput(dataTable, element);\n",
              "        const docLink = document.createElement('div');\n",
              "        docLink.innerHTML = docLinkHtml;\n",
              "        element.appendChild(docLink);\n",
              "      }\n",
              "    </script>\n",
              "  </div>\n",
              "\n",
              "\n",
              "<div id=\"df-0886504c-4d67-4594-813f-a1b703055bb0\">\n",
              "  <button class=\"colab-df-quickchart\" onclick=\"quickchart('df-0886504c-4d67-4594-813f-a1b703055bb0')\"\n",
              "            title=\"Suggest charts.\"\n",
              "            style=\"display:none;\">\n",
              "\n",
              "<svg xmlns=\"http://www.w3.org/2000/svg\" height=\"24px\"viewBox=\"0 0 24 24\"\n",
              "     width=\"24px\">\n",
              "    <g>\n",
              "        <path d=\"M19 3H5c-1.1 0-2 .9-2 2v14c0 1.1.9 2 2 2h14c1.1 0 2-.9 2-2V5c0-1.1-.9-2-2-2zM9 17H7v-7h2v7zm4 0h-2V7h2v10zm4 0h-2v-4h2v4z\"/>\n",
              "    </g>\n",
              "</svg>\n",
              "  </button>\n",
              "\n",
              "<style>\n",
              "  .colab-df-quickchart {\n",
              "      --bg-color: #E8F0FE;\n",
              "      --fill-color: #1967D2;\n",
              "      --hover-bg-color: #E2EBFA;\n",
              "      --hover-fill-color: #174EA6;\n",
              "      --disabled-fill-color: #AAA;\n",
              "      --disabled-bg-color: #DDD;\n",
              "  }\n",
              "\n",
              "  [theme=dark] .colab-df-quickchart {\n",
              "      --bg-color: #3B4455;\n",
              "      --fill-color: #D2E3FC;\n",
              "      --hover-bg-color: #434B5C;\n",
              "      --hover-fill-color: #FFFFFF;\n",
              "      --disabled-bg-color: #3B4455;\n",
              "      --disabled-fill-color: #666;\n",
              "  }\n",
              "\n",
              "  .colab-df-quickchart {\n",
              "    background-color: var(--bg-color);\n",
              "    border: none;\n",
              "    border-radius: 50%;\n",
              "    cursor: pointer;\n",
              "    display: none;\n",
              "    fill: var(--fill-color);\n",
              "    height: 32px;\n",
              "    padding: 0;\n",
              "    width: 32px;\n",
              "  }\n",
              "\n",
              "  .colab-df-quickchart:hover {\n",
              "    background-color: var(--hover-bg-color);\n",
              "    box-shadow: 0 1px 2px rgba(60, 64, 67, 0.3), 0 1px 3px 1px rgba(60, 64, 67, 0.15);\n",
              "    fill: var(--button-hover-fill-color);\n",
              "  }\n",
              "\n",
              "  .colab-df-quickchart-complete:disabled,\n",
              "  .colab-df-quickchart-complete:disabled:hover {\n",
              "    background-color: var(--disabled-bg-color);\n",
              "    fill: var(--disabled-fill-color);\n",
              "    box-shadow: none;\n",
              "  }\n",
              "\n",
              "  .colab-df-spinner {\n",
              "    border: 2px solid var(--fill-color);\n",
              "    border-color: transparent;\n",
              "    border-bottom-color: var(--fill-color);\n",
              "    animation:\n",
              "      spin 1s steps(1) infinite;\n",
              "  }\n",
              "\n",
              "  @keyframes spin {\n",
              "    0% {\n",
              "      border-color: transparent;\n",
              "      border-bottom-color: var(--fill-color);\n",
              "      border-left-color: var(--fill-color);\n",
              "    }\n",
              "    20% {\n",
              "      border-color: transparent;\n",
              "      border-left-color: var(--fill-color);\n",
              "      border-top-color: var(--fill-color);\n",
              "    }\n",
              "    30% {\n",
              "      border-color: transparent;\n",
              "      border-left-color: var(--fill-color);\n",
              "      border-top-color: var(--fill-color);\n",
              "      border-right-color: var(--fill-color);\n",
              "    }\n",
              "    40% {\n",
              "      border-color: transparent;\n",
              "      border-right-color: var(--fill-color);\n",
              "      border-top-color: var(--fill-color);\n",
              "    }\n",
              "    60% {\n",
              "      border-color: transparent;\n",
              "      border-right-color: var(--fill-color);\n",
              "    }\n",
              "    80% {\n",
              "      border-color: transparent;\n",
              "      border-right-color: var(--fill-color);\n",
              "      border-bottom-color: var(--fill-color);\n",
              "    }\n",
              "    90% {\n",
              "      border-color: transparent;\n",
              "      border-bottom-color: var(--fill-color);\n",
              "    }\n",
              "  }\n",
              "</style>\n",
              "\n",
              "  <script>\n",
              "    async function quickchart(key) {\n",
              "      const quickchartButtonEl =\n",
              "        document.querySelector('#' + key + ' button');\n",
              "      quickchartButtonEl.disabled = true;  // To prevent multiple clicks.\n",
              "      quickchartButtonEl.classList.add('colab-df-spinner');\n",
              "      try {\n",
              "        const charts = await google.colab.kernel.invokeFunction(\n",
              "            'suggestCharts', [key], {});\n",
              "      } catch (error) {\n",
              "        console.error('Error during call to suggestCharts:', error);\n",
              "      }\n",
              "      quickchartButtonEl.classList.remove('colab-df-spinner');\n",
              "      quickchartButtonEl.classList.add('colab-df-quickchart-complete');\n",
              "    }\n",
              "    (() => {\n",
              "      let quickchartButtonEl =\n",
              "        document.querySelector('#df-0886504c-4d67-4594-813f-a1b703055bb0 button');\n",
              "      quickchartButtonEl.style.display =\n",
              "        google.colab.kernel.accessAllowed ? 'block' : 'none';\n",
              "    })();\n",
              "  </script>\n",
              "</div>\n",
              "    </div>\n",
              "  </div>\n"
            ]
          },
          "metadata": {},
          "execution_count": 135
        }
      ]
    },
    {
      "cell_type": "code",
      "source": [
        "for row in range(Primavera_transcriptions_df.shape[0]):\n",
        "  with open(transcription_path + Primavera_transcriptions_df.loc[row, ['Файл транскрибации звонка']].values[0], 'rb') as f:\n",
        "    contents = f.read()\n",
        "  Primavera_transcriptions_df.loc[row, ['Текст транскрибации звонка']] = contents.decode('utf-16').strip()"
      ],
      "metadata": {
        "id": "_k3I4EFIS8os"
      },
      "execution_count": null,
      "outputs": []
    },
    {
      "cell_type": "code",
      "source": [
        "Primavera_transcriptions_df['Текст транскрибации звонка'].head()"
      ],
      "metadata": {
        "colab": {
          "base_uri": "https://localhost:8080/"
        },
        "outputId": "5f79f498-0847-4f0f-e258-b1bca3ae7a1a",
        "id": "OjtkhNGFS8ot"
      },
      "execution_count": null,
      "outputs": [
        {
          "output_type": "execute_result",
          "data": {
            "text/plain": [
              "0                                                                                                                                                                                                                                                                                                                                                                                                                                                                                                                                                                                                                                                                                                                                                                                                                                       Надежда, доброе утро. Доброе утро. Расскажите, пожалуйста, Сергея Васильевича можно услышать? Простите, вы позвонили в единый контакт-центр. Ой, извините, что-то не... извините. Всё, доброе утро.\n",
              "1                                                                                                                                                                                                                                                                                                                                                                                                                                                                                                                                                                                                                                                                                                                                                                        Доброе утро! Клубный город на реке Примавера. Лидия, слушаю вас. Добрый день! На линии клиент Андрей. Интересуется приобретением трехкомнатной квартиры в жилом комплексе Примавера. Бюджет у клиента 37 миллионов. Советеляю? Да, спасибо. Продолжение следует...\n",
              "2    Добрый день, главный город на реке Примавера, Ольга, слушаю вас. Добрый день, на линии клиент Андрей, интересуется приобретением трехкомнатной квартиры в жилом комплексе Примавера. Бюджет до 37 миллионов, соединяю. Да, спасибо. Андрей, соединяю вас с собственной продажей, минуту, пожалуйста. Пожалуйста. Здравствуйте. Здравствуйте. Андрей, здравствуйте, меня зовут Кристина, главный город на реке Примавера, что вам подсказать? Кристина, здравствуйте, подскажите мне, пожалуйста, нужна трехкомнатная, в бюджете 39 миллионов, какую площадь можно подобрать? У вас 39 миллионов наличными, или вы с пользованием ипотеки такой бюджет рассматриваете? В банке лежит. Понятно. Андрей, смотрите, у нас есть интересное предложение, квартира в первой очереди, это очень красиво называется, всего два дома на 264 квартиры, прекрасные видовые характеристики на реку, так как у нас первая линия от реки. Квартира есть в 85 квадратных метров, можно посмотреть от второго этажа, первый этаж очень высокий, у на...\n",
              "3                                                                                                                                                                                                                                                                                                                                                                                                                                                                                                                                                                                                                               Добрый день, клубный город на рейте Примавера, Ольга слушает вас. Добрый день, на линии клиент, зовут Вероника, интересуется приобретение двухкомнатной квартиры в жилом комплексе Примавера. Смотрели вариант с ней за 24 700 по цене. Могу соединить? Да, спасибо, соедините. Перевожу. Добрый день, меня зовут Кристина, могу ли я вам перезвонить? Здравствуйте, Кристина, да, можете. Спасибо большое.\n",
              "4    Клубный город на реке Примавыра. Наталья, добрый день. Добрый день. Меня зовут Екатерина. Я хотела бы уточнить у вас о стоимости квартир. У вас указана акция какая-то весенняя. Вот я хотела бы подробно уточнить, что за акция. Екатерина, вы смотрите на сайте, правильное предложение? Да. Да, да. Да, оставайтесь, пожалуйста, на линии. Соединяю вас с менеджером. В качестве услуг разговор может быть записан. Обращаем ваше внимание, что в целях контроля качества услуг разговор может быть записан. Клубный город на реке Примавыра. Меня зовут Антон. Екатерина, добрый день. Чем я могу быть полезен? Добрый день. Подскажите, пожалуйста, меня интересует стоимость трехкомнатной квартиры. Хотелось бы первую линию строения. 1, по-моему, 1, 2. Это в Вивальди. Вот какая цена со скидкой может быть? Что-то уже присмотрели за себя? Какие-то интересные варианты? Ну да. По площади. Я смотрела. Площадь 92, по-моему, квадрата. Сейчас это посмотрю, открою. 92 квадратных метра. Это у нас корпус 13-4-1. Квар...\n",
              "Name: Текст транскрибации звонка, dtype: object"
            ]
          },
          "metadata": {},
          "execution_count": 137
        }
      ]
    },
    {
      "cell_type": "code",
      "source": [
        "# Сохраняем Primavera_transcriptions_df в файл\n",
        "with open(df_path + 'Primavera_transcriptions_text_df.pkl', 'wb') as f:\n",
        "  pkl.dump(Primavera_transcriptions_df, f)"
      ],
      "metadata": {
        "id": "A22q7mCRS8ou"
      },
      "execution_count": null,
      "outputs": []
    },
    {
      "cell_type": "markdown",
      "source": [
        "#### Paveletskaya_city"
      ],
      "metadata": {
        "id": "ZZ60FcqYVtBx"
      }
    },
    {
      "cell_type": "code",
      "source": [
        "# Добавляем столбец 'Текст транскрибации звонка'\n",
        "Paveletskaya_city_transcriptions_df['Текст транскрибации звонка'] = 'нет текста транскрибации звонка'\n",
        "Paveletskaya_city_transcriptions_df.head()"
      ],
      "metadata": {
        "colab": {
          "base_uri": "https://localhost:8080/",
          "height": 434
        },
        "outputId": "34998dd3-dd44-4e34-e3f3-850cb78d6ef2",
        "id": "m5GLi8rJVtBz"
      },
      "execution_count": null,
      "outputs": [
        {
          "output_type": "execute_result",
          "data": {
            "text/plain": [
              "         Дата и время  Номер абонента  Номер сотрудника  \\\n",
              "0 2023-06-17 13:44:17     79066743768       74950216267   \n",
              "1 2023-06-17 14:08:51     74993205445       74955141111   \n",
              "2 2023-06-17 16:16:05     79680303488       74950216267   \n",
              "3 2023-06-17 12:54:28     79803286601       74950216267   \n",
              "4 2023-06-17 14:21:31     79259041087       74950216267   \n",
              "\n",
              "   Идентификатор сессии звонка Транскрибатор  \\\n",
              "0                   3029352265       whisper   \n",
              "1                   3029390475       whisper   \n",
              "2                   3029596520       whisper   \n",
              "3                   3029638181       whisper   \n",
              "4                   3029730813       whisper   \n",
              "\n",
              "                                                                                                                         Файл транскрибации звонка  \\\n",
              "0  Расшифровки_Записи звонков_павелецкая сити/2023-06-17_13-44-17.539114_from_79066743768_to_74950216267_session_3029352265_talk_whisper_large.txt   \n",
              "1  Расшифровки_Записи звонков_павелецкая сити/2023-06-17_14-08-51.827169_from_74993205445_to_74955141111_session_3029390475_talk_whisper_large.txt   \n",
              "2  Расшифровки_Записи звонков_павелецкая сити/2023-06-17_16-16-05.571252_from_79680303488_to_74950216267_session_3029596520_talk_whisper_large.txt   \n",
              "3  Расшифровки_Записи звонков_павелецкая сити/2023-06-17_12-54-28.210462_from_79803286601_to_74950216267_session_3029638181_talk_whisper_large.txt   \n",
              "4  Расшифровки_Записи звонков_павелецкая сити/2023-06-17_14-21-31.493157_from_79259041087_to_74950216267_session_3029730813_talk_whisper_large.txt   \n",
              "\n",
              "        Текст транскрибации звонка  \n",
              "0  нет текста транскрибации звонка  \n",
              "1  нет текста транскрибации звонка  \n",
              "2  нет текста транскрибации звонка  \n",
              "3  нет текста транскрибации звонка  \n",
              "4  нет текста транскрибации звонка  "
            ],
            "text/html": [
              "\n",
              "  <div id=\"df-4caaf0ee-c527-4a6f-b64f-a1f0fe746eed\" class=\"colab-df-container\">\n",
              "    <div>\n",
              "<style scoped>\n",
              "    .dataframe tbody tr th:only-of-type {\n",
              "        vertical-align: middle;\n",
              "    }\n",
              "\n",
              "    .dataframe tbody tr th {\n",
              "        vertical-align: top;\n",
              "    }\n",
              "\n",
              "    .dataframe thead th {\n",
              "        text-align: right;\n",
              "    }\n",
              "</style>\n",
              "<table border=\"1\" class=\"dataframe\">\n",
              "  <thead>\n",
              "    <tr style=\"text-align: right;\">\n",
              "      <th></th>\n",
              "      <th>Дата и время</th>\n",
              "      <th>Номер абонента</th>\n",
              "      <th>Номер сотрудника</th>\n",
              "      <th>Идентификатор сессии звонка</th>\n",
              "      <th>Транскрибатор</th>\n",
              "      <th>Файл транскрибации звонка</th>\n",
              "      <th>Текст транскрибации звонка</th>\n",
              "    </tr>\n",
              "  </thead>\n",
              "  <tbody>\n",
              "    <tr>\n",
              "      <th>0</th>\n",
              "      <td>2023-06-17 13:44:17</td>\n",
              "      <td>79066743768</td>\n",
              "      <td>74950216267</td>\n",
              "      <td>3029352265</td>\n",
              "      <td>whisper</td>\n",
              "      <td>Расшифровки_Записи звонков_павелецкая сити/2023-06-17_13-44-17.539114_from_79066743768_to_74950216267_session_3029352265_talk_whisper_large.txt</td>\n",
              "      <td>нет текста транскрибации звонка</td>\n",
              "    </tr>\n",
              "    <tr>\n",
              "      <th>1</th>\n",
              "      <td>2023-06-17 14:08:51</td>\n",
              "      <td>74993205445</td>\n",
              "      <td>74955141111</td>\n",
              "      <td>3029390475</td>\n",
              "      <td>whisper</td>\n",
              "      <td>Расшифровки_Записи звонков_павелецкая сити/2023-06-17_14-08-51.827169_from_74993205445_to_74955141111_session_3029390475_talk_whisper_large.txt</td>\n",
              "      <td>нет текста транскрибации звонка</td>\n",
              "    </tr>\n",
              "    <tr>\n",
              "      <th>2</th>\n",
              "      <td>2023-06-17 16:16:05</td>\n",
              "      <td>79680303488</td>\n",
              "      <td>74950216267</td>\n",
              "      <td>3029596520</td>\n",
              "      <td>whisper</td>\n",
              "      <td>Расшифровки_Записи звонков_павелецкая сити/2023-06-17_16-16-05.571252_from_79680303488_to_74950216267_session_3029596520_talk_whisper_large.txt</td>\n",
              "      <td>нет текста транскрибации звонка</td>\n",
              "    </tr>\n",
              "    <tr>\n",
              "      <th>3</th>\n",
              "      <td>2023-06-17 12:54:28</td>\n",
              "      <td>79803286601</td>\n",
              "      <td>74950216267</td>\n",
              "      <td>3029638181</td>\n",
              "      <td>whisper</td>\n",
              "      <td>Расшифровки_Записи звонков_павелецкая сити/2023-06-17_12-54-28.210462_from_79803286601_to_74950216267_session_3029638181_talk_whisper_large.txt</td>\n",
              "      <td>нет текста транскрибации звонка</td>\n",
              "    </tr>\n",
              "    <tr>\n",
              "      <th>4</th>\n",
              "      <td>2023-06-17 14:21:31</td>\n",
              "      <td>79259041087</td>\n",
              "      <td>74950216267</td>\n",
              "      <td>3029730813</td>\n",
              "      <td>whisper</td>\n",
              "      <td>Расшифровки_Записи звонков_павелецкая сити/2023-06-17_14-21-31.493157_from_79259041087_to_74950216267_session_3029730813_talk_whisper_large.txt</td>\n",
              "      <td>нет текста транскрибации звонка</td>\n",
              "    </tr>\n",
              "  </tbody>\n",
              "</table>\n",
              "</div>\n",
              "    <div class=\"colab-df-buttons\">\n",
              "\n",
              "  <div class=\"colab-df-container\">\n",
              "    <button class=\"colab-df-convert\" onclick=\"convertToInteractive('df-4caaf0ee-c527-4a6f-b64f-a1f0fe746eed')\"\n",
              "            title=\"Convert this dataframe to an interactive table.\"\n",
              "            style=\"display:none;\">\n",
              "\n",
              "  <svg xmlns=\"http://www.w3.org/2000/svg\" height=\"24px\" viewBox=\"0 -960 960 960\">\n",
              "    <path d=\"M120-120v-720h720v720H120Zm60-500h600v-160H180v160Zm220 220h160v-160H400v160Zm0 220h160v-160H400v160ZM180-400h160v-160H180v160Zm440 0h160v-160H620v160ZM180-180h160v-160H180v160Zm440 0h160v-160H620v160Z\"/>\n",
              "  </svg>\n",
              "    </button>\n",
              "\n",
              "  <style>\n",
              "    .colab-df-container {\n",
              "      display:flex;\n",
              "      gap: 12px;\n",
              "    }\n",
              "\n",
              "    .colab-df-convert {\n",
              "      background-color: #E8F0FE;\n",
              "      border: none;\n",
              "      border-radius: 50%;\n",
              "      cursor: pointer;\n",
              "      display: none;\n",
              "      fill: #1967D2;\n",
              "      height: 32px;\n",
              "      padding: 0 0 0 0;\n",
              "      width: 32px;\n",
              "    }\n",
              "\n",
              "    .colab-df-convert:hover {\n",
              "      background-color: #E2EBFA;\n",
              "      box-shadow: 0px 1px 2px rgba(60, 64, 67, 0.3), 0px 1px 3px 1px rgba(60, 64, 67, 0.15);\n",
              "      fill: #174EA6;\n",
              "    }\n",
              "\n",
              "    .colab-df-buttons div {\n",
              "      margin-bottom: 4px;\n",
              "    }\n",
              "\n",
              "    [theme=dark] .colab-df-convert {\n",
              "      background-color: #3B4455;\n",
              "      fill: #D2E3FC;\n",
              "    }\n",
              "\n",
              "    [theme=dark] .colab-df-convert:hover {\n",
              "      background-color: #434B5C;\n",
              "      box-shadow: 0px 1px 3px 1px rgba(0, 0, 0, 0.15);\n",
              "      filter: drop-shadow(0px 1px 2px rgba(0, 0, 0, 0.3));\n",
              "      fill: #FFFFFF;\n",
              "    }\n",
              "  </style>\n",
              "\n",
              "    <script>\n",
              "      const buttonEl =\n",
              "        document.querySelector('#df-4caaf0ee-c527-4a6f-b64f-a1f0fe746eed button.colab-df-convert');\n",
              "      buttonEl.style.display =\n",
              "        google.colab.kernel.accessAllowed ? 'block' : 'none';\n",
              "\n",
              "      async function convertToInteractive(key) {\n",
              "        const element = document.querySelector('#df-4caaf0ee-c527-4a6f-b64f-a1f0fe746eed');\n",
              "        const dataTable =\n",
              "          await google.colab.kernel.invokeFunction('convertToInteractive',\n",
              "                                                    [key], {});\n",
              "        if (!dataTable) return;\n",
              "\n",
              "        const docLinkHtml = 'Like what you see? Visit the ' +\n",
              "          '<a target=\"_blank\" href=https://colab.research.google.com/notebooks/data_table.ipynb>data table notebook</a>'\n",
              "          + ' to learn more about interactive tables.';\n",
              "        element.innerHTML = '';\n",
              "        dataTable['output_type'] = 'display_data';\n",
              "        await google.colab.output.renderOutput(dataTable, element);\n",
              "        const docLink = document.createElement('div');\n",
              "        docLink.innerHTML = docLinkHtml;\n",
              "        element.appendChild(docLink);\n",
              "      }\n",
              "    </script>\n",
              "  </div>\n",
              "\n",
              "\n",
              "<div id=\"df-8d20ff02-559e-42f6-b9c3-f20c668c25cd\">\n",
              "  <button class=\"colab-df-quickchart\" onclick=\"quickchart('df-8d20ff02-559e-42f6-b9c3-f20c668c25cd')\"\n",
              "            title=\"Suggest charts.\"\n",
              "            style=\"display:none;\">\n",
              "\n",
              "<svg xmlns=\"http://www.w3.org/2000/svg\" height=\"24px\"viewBox=\"0 0 24 24\"\n",
              "     width=\"24px\">\n",
              "    <g>\n",
              "        <path d=\"M19 3H5c-1.1 0-2 .9-2 2v14c0 1.1.9 2 2 2h14c1.1 0 2-.9 2-2V5c0-1.1-.9-2-2-2zM9 17H7v-7h2v7zm4 0h-2V7h2v10zm4 0h-2v-4h2v4z\"/>\n",
              "    </g>\n",
              "</svg>\n",
              "  </button>\n",
              "\n",
              "<style>\n",
              "  .colab-df-quickchart {\n",
              "      --bg-color: #E8F0FE;\n",
              "      --fill-color: #1967D2;\n",
              "      --hover-bg-color: #E2EBFA;\n",
              "      --hover-fill-color: #174EA6;\n",
              "      --disabled-fill-color: #AAA;\n",
              "      --disabled-bg-color: #DDD;\n",
              "  }\n",
              "\n",
              "  [theme=dark] .colab-df-quickchart {\n",
              "      --bg-color: #3B4455;\n",
              "      --fill-color: #D2E3FC;\n",
              "      --hover-bg-color: #434B5C;\n",
              "      --hover-fill-color: #FFFFFF;\n",
              "      --disabled-bg-color: #3B4455;\n",
              "      --disabled-fill-color: #666;\n",
              "  }\n",
              "\n",
              "  .colab-df-quickchart {\n",
              "    background-color: var(--bg-color);\n",
              "    border: none;\n",
              "    border-radius: 50%;\n",
              "    cursor: pointer;\n",
              "    display: none;\n",
              "    fill: var(--fill-color);\n",
              "    height: 32px;\n",
              "    padding: 0;\n",
              "    width: 32px;\n",
              "  }\n",
              "\n",
              "  .colab-df-quickchart:hover {\n",
              "    background-color: var(--hover-bg-color);\n",
              "    box-shadow: 0 1px 2px rgba(60, 64, 67, 0.3), 0 1px 3px 1px rgba(60, 64, 67, 0.15);\n",
              "    fill: var(--button-hover-fill-color);\n",
              "  }\n",
              "\n",
              "  .colab-df-quickchart-complete:disabled,\n",
              "  .colab-df-quickchart-complete:disabled:hover {\n",
              "    background-color: var(--disabled-bg-color);\n",
              "    fill: var(--disabled-fill-color);\n",
              "    box-shadow: none;\n",
              "  }\n",
              "\n",
              "  .colab-df-spinner {\n",
              "    border: 2px solid var(--fill-color);\n",
              "    border-color: transparent;\n",
              "    border-bottom-color: var(--fill-color);\n",
              "    animation:\n",
              "      spin 1s steps(1) infinite;\n",
              "  }\n",
              "\n",
              "  @keyframes spin {\n",
              "    0% {\n",
              "      border-color: transparent;\n",
              "      border-bottom-color: var(--fill-color);\n",
              "      border-left-color: var(--fill-color);\n",
              "    }\n",
              "    20% {\n",
              "      border-color: transparent;\n",
              "      border-left-color: var(--fill-color);\n",
              "      border-top-color: var(--fill-color);\n",
              "    }\n",
              "    30% {\n",
              "      border-color: transparent;\n",
              "      border-left-color: var(--fill-color);\n",
              "      border-top-color: var(--fill-color);\n",
              "      border-right-color: var(--fill-color);\n",
              "    }\n",
              "    40% {\n",
              "      border-color: transparent;\n",
              "      border-right-color: var(--fill-color);\n",
              "      border-top-color: var(--fill-color);\n",
              "    }\n",
              "    60% {\n",
              "      border-color: transparent;\n",
              "      border-right-color: var(--fill-color);\n",
              "    }\n",
              "    80% {\n",
              "      border-color: transparent;\n",
              "      border-right-color: var(--fill-color);\n",
              "      border-bottom-color: var(--fill-color);\n",
              "    }\n",
              "    90% {\n",
              "      border-color: transparent;\n",
              "      border-bottom-color: var(--fill-color);\n",
              "    }\n",
              "  }\n",
              "</style>\n",
              "\n",
              "  <script>\n",
              "    async function quickchart(key) {\n",
              "      const quickchartButtonEl =\n",
              "        document.querySelector('#' + key + ' button');\n",
              "      quickchartButtonEl.disabled = true;  // To prevent multiple clicks.\n",
              "      quickchartButtonEl.classList.add('colab-df-spinner');\n",
              "      try {\n",
              "        const charts = await google.colab.kernel.invokeFunction(\n",
              "            'suggestCharts', [key], {});\n",
              "      } catch (error) {\n",
              "        console.error('Error during call to suggestCharts:', error);\n",
              "      }\n",
              "      quickchartButtonEl.classList.remove('colab-df-spinner');\n",
              "      quickchartButtonEl.classList.add('colab-df-quickchart-complete');\n",
              "    }\n",
              "    (() => {\n",
              "      let quickchartButtonEl =\n",
              "        document.querySelector('#df-8d20ff02-559e-42f6-b9c3-f20c668c25cd button');\n",
              "      quickchartButtonEl.style.display =\n",
              "        google.colab.kernel.accessAllowed ? 'block' : 'none';\n",
              "    })();\n",
              "  </script>\n",
              "</div>\n",
              "    </div>\n",
              "  </div>\n"
            ]
          },
          "metadata": {},
          "execution_count": 139
        }
      ]
    },
    {
      "cell_type": "code",
      "source": [
        "for row in range(Paveletskaya_city_transcriptions_df.shape[0]):\n",
        "  with open(transcription_path + Paveletskaya_city_transcriptions_df.loc[row, ['Файл транскрибации звонка']].values[0], 'rb') as f:\n",
        "    contents = f.read()\n",
        "  Paveletskaya_city_transcriptions_df.loc[row, ['Текст транскрибации звонка']] = contents.decode('utf-16').strip()"
      ],
      "metadata": {
        "id": "rk4r9uXkVtB1"
      },
      "execution_count": null,
      "outputs": []
    },
    {
      "cell_type": "code",
      "source": [
        "Paveletskaya_city_transcriptions_df['Текст транскрибации звонка'].head()"
      ],
      "metadata": {
        "colab": {
          "base_uri": "https://localhost:8080/"
        },
        "outputId": "05c3f7c4-4d85-43c9-e467-289b1b60cb4c",
        "id": "P0M2ZQ8VVtB4"
      },
      "execution_count": null,
      "outputs": [
        {
          "output_type": "execute_result",
          "data": {
            "text/plain": [
              "0    Здравствуйте! Вы позвонили в компанию ЭМР-Групп. Пожалуйста, дождитесь ответа нашего специалиста. Обращаем ваше внимание, что в целях улучшения качества обслуживания клиентов все разговоры записываются. Продолжая разговор, вы соглашаетесь на обработку ваших персональных данных. Компания ЭМР-Групп, меня зовут Ольга, здравствуйте. Здравствуйте, Ольга, звонок от Румбери на линии Дмитрий, интересует Павелецкая сеть, 2-й квартал 23, встреча с тобой 3 евро, интересует около 60 квадратов, наличный расчет в бюджете около 30 плюс-минус. Да. Спасибо. Дмитрий? Да-да. Здравствуйте, мне сказали, что вас не стоит поискать Павелецкая сеть, это все верно? Да. Единственное, что я хотел сказать, знаете, что мы сможем с вами переговорить на эту тему, просто я буквально сейчас через несколько минут должен буду положить трубку. Если во вторник с утра, с первого дня, вы меня наберете по этому вопросу, можно будет так сделать? Так, во вторник, да? Да, и мне предварительно, если можно, скинуть локацию, н...\n",
              "1    Здравствуйте! Вы позвонили в компанию Эмергрупп. Пожалуйста, дождитесь ответа нашего специалиста. Обращаем ваше внимание, что в целях улучшения качества обслуживания клиентов все разговоры записываются. Продолжая разговор, вы соглашаетесь на обработку ваших персональных данных. Компания Эмергрупп, меня зовут Ирина. Здравствуйте! Здравствуйте! Скажите, пожалуйста, я вот был в вашей компании или нет? Я рассматриваю в этой вот локации. Некоторые компании посещал, но что-то вот не знаю. Был я у вас или нет? А у нас-то где? Вот на Павелевской, вот там вот у вас какой-то комплекс. Это с отделом продаж нужно. Если я не ошибаюсь по голосу, Сергей Владимирович. А, да-да-да, с вами разговаривал, да? Мы с вами разговаривали, но я так и не смогла дозвониться до отдела продаж. Я попробую еще раз. Останьтесь, пожалуйста, на линии. По окончании разговора, пожалуйста, оцените качество обслуживания. Нам очень важно ваше мнение о качестве обслуживания, поэтому предлагаем вам ответить на несколько к...\n",
              "2    Здравствуйте! Вы позвонили в компанию MR Group. Пожалуйста, дождитесь ответа нашего специалиста. Обращаем ваше внимание, что в целях улучшения качества обслуживания клиентов все разговоры записываются. Продолжая разговор, вы соглашаетесь на обработку ваших персональных данных. Компания MR Group, меня зовут Ирина. Здравствуйте! Алло, здравствуйте! А с кем бы вы общались по поводу повелевки сети? Вас интересует покупка жилой недвижимости? Да, интересует однокомнатная квартира. Хорошо, я соединю вас с менеджером объекта. Как можно обращаться к вам? Евгению. Благодарю вас. Спасибо. По окончании разговора, пожалуйста, оцените качество обслуживания. Евгения, здравствуйте! Меня зовут Марина, менеджер отдела продаж повелевской сети. Чем могу быть полезна для вас, Евгения? Да, здравствуйте! Меня вот интересует однокомнатная квартира, ну, с полноценной спальней отдельной и, соответственно, гостиная с кухней. Какие, в общем-то, варианты есть интересные? С большим удовольствием с вами общаюсь...\n",
              "3    Здравствуйте! Вы позвонили в компанию Эмергрупп. Пожалуйста, дождитесь ответа нашего специалиста. Обращаем ваше внимание, что в целях улучшения качества обслуживания клиентов все разговоры записываются. Продолжая разговор, вы соглашаетесь на обработку ваших персональных данных. Компания Эмергрупп. Меня зовут Ольга. Здравствуйте. Добрый. Портал «Где этот дом?». Клиент Николай. ЖК «Павелецкая Сити». Смотрит двухкомнатные. Бюджет 30 миллионов. Возможно, больше. Алло. Добрый день. Николай, здравствуйте. Мне сказали, что у вас не присутствует проект «Павелецкая Сити». Все верно? Да. Хорошо. Я вас перейду на менеджера. Оставайтесь у нас на линии. По окончании разговора, пожалуйста, оцените качество обслуживания. Николай, добрый день. Меня зовут Дмитрий. Жилой комплекс «Павелецкая Сити». Чем могу быть полезен? Квартира квадратов порядка 60. 60 квадратных метров. О нашем комплексе уже что-то знаете, слышали? Пока нет. Пока не знаете. Локацию представляете нашу? Да, я знаю. Николай, кварти...\n",
              "4    Здравствуйте! Вы позвонили в компанию MR Group. Пожалуйста, дождитесь ответа нашего специалиста. Обращаем ваше внимание, что в целях улучшения качества обслуживания клиентов все разговоры записываются. Продолжая разговор, вы соглашаетесь на обработку ваших персональных данных. Компания MR Group, меня зовут Ольга, здравствуйте. Здравствуйте. Здравствуйте. Вас интересует покупка квартиры ЖК Провилецкая, Сейси? Ну, скорее, что да, в Плеснице, в Сейси. Хорошо, тогда перейду вас на менеджера. Скажите, как вас зовут? Женя. По окончании разговора, пожалуйста, оцените качество обслуживания. Добрый день, я Дмитрий, Провилецкая Сити. Слушаю вас. Да, здравствуйте. Хотел бы узнать, евро трешки есть у вас в Сахаре? Евро трешки? Да. Да, квартира с двумя спальнями у нас представлена от 58 метров до 66. Угу. Что такое? Что еще раз? Вопрос следующий. Какие-то корпуса есть, данные, которые мы можем видеть, посмотреть, что здесь оказывается? У нас сейчас в первую очередь она введена в эксплуатацию, ...\n",
              "Name: Текст транскрибации звонка, dtype: object"
            ]
          },
          "metadata": {},
          "execution_count": 141
        }
      ]
    },
    {
      "cell_type": "code",
      "source": [
        "# Сохраняем Paveletskaya_city_transcriptions_df в файл\n",
        "with open(df_path + 'Paveletskaya_city_transcriptions_text_df.pkl', 'wb') as f:\n",
        "  pkl.dump(Paveletskaya_city_transcriptions_df, f)"
      ],
      "metadata": {
        "id": "iLWt6-t_VtB5"
      },
      "execution_count": null,
      "outputs": []
    },
    {
      "cell_type": "markdown",
      "source": [
        "### Общий датафрейм"
      ],
      "metadata": {
        "id": "AfVMqGC415Wf"
      }
    },
    {
      "cell_type": "markdown",
      "source": [
        "#### Загрузка датафреймов"
      ],
      "metadata": {
        "id": "BqsybOr_9Z8t"
      }
    },
    {
      "cell_type": "code",
      "source": [
        "# Загрузка датафреймов\n",
        "with open(df_path + 'Headliner_transcriptions_text_df.pkl', 'rb') as f:\n",
        "  Headliner_transcriptions_df = pkl.load(f)\n",
        "\n",
        "with open(df_path + 'Primavera_transcriptions_text_df.pkl', 'rb') as f:\n",
        "  Primavera_transcriptions_df = pkl.load(f)\n",
        "\n",
        "with open(df_path + 'Paveletskaya_city_transcriptions_text_df.pkl', 'rb') as f:\n",
        "  Paveletskaya_city_transcriptions_df = pkl.load(f)\n",
        "\n",
        "with open(df_path + 'total_df.pkl', 'rb') as f:\n",
        "  total_df = pkl.load(f)\n",
        "\n",
        "with open(df_path + 'total_match_df.pkl', 'rb') as f:\n",
        "  total_match_df = pkl.load(f)\n",
        "\n",
        "with open(df_path + 'total_not_match_df.pkl', 'rb') as f:\n",
        "  total_not_match_df = pkl.load(f)"
      ],
      "metadata": {
        "id": "XFQTbQnl2DR4"
      },
      "execution_count": null,
      "outputs": []
    },
    {
      "cell_type": "markdown",
      "source": [
        "#### Количественная информация по датафреймам"
      ],
      "metadata": {
        "id": "BvXz6JTL9mZO"
      }
    },
    {
      "cell_type": "code",
      "source": [
        "print(f'Headliner: {Headliner_transcriptions_df.shape[0]} строк')\n",
        "print(Headliner_transcriptions_df.count())\n",
        "print()\n",
        "print(f'Primavera: {Primavera_transcriptions_df.shape[0]} строк')\n",
        "print(Primavera_transcriptions_df.count())\n",
        "print()\n",
        "print(f'Paveletskaya_city: {Paveletskaya_city_transcriptions_df.shape[0]} строк')\n",
        "print(Paveletskaya_city_transcriptions_df.count())"
      ],
      "metadata": {
        "colab": {
          "base_uri": "https://localhost:8080/"
        },
        "id": "c9Jv2wWQ473L",
        "outputId": "a311f86c-6345-4179-f119-6c9dc5a60d61"
      },
      "execution_count": null,
      "outputs": [
        {
          "output_type": "stream",
          "name": "stdout",
          "text": [
            "Headliner: 2045 строк\n",
            "Дата и время                   2045\n",
            "Номер абонента                 2045\n",
            "Номер сотрудника               2045\n",
            "Идентификатор сессии звонка    2045\n",
            "Транскрибатор                  2045\n",
            "Файл транскрибации звонка      2045\n",
            "Текст транскрибации звонка     2045\n",
            "dtype: int64\n",
            "\n",
            "Primavera: 1983 строк\n",
            "Дата и время                   1983\n",
            "Номер абонента                 1983\n",
            "Номер сотрудника               1983\n",
            "Идентификатор сессии звонка    1983\n",
            "Транскрибатор                  1983\n",
            "Файл транскрибации звонка      1983\n",
            "Текст транскрибации звонка     1983\n",
            "dtype: int64\n",
            "\n",
            "Paveletskaya_city: 1000 строк\n",
            "Дата и время                   1000\n",
            "Номер абонента                 1000\n",
            "Номер сотрудника               1000\n",
            "Идентификатор сессии звонка    1000\n",
            "Транскрибатор                  1000\n",
            "Файл транскрибации звонка      1000\n",
            "Текст транскрибации звонка     1000\n",
            "dtype: int64\n"
          ]
        }
      ]
    },
    {
      "cell_type": "code",
      "source": [
        "# Общий датафрейм из файлов транскрибации звонков\n",
        "transcriptions_df = pd.concat([Headliner_transcriptions_df,\n",
        "                               Primavera_transcriptions_df,\n",
        "                               Paveletskaya_city_transcriptions_df])\n",
        "transcriptions_df.shape[0]"
      ],
      "metadata": {
        "colab": {
          "base_uri": "https://localhost:8080/"
        },
        "id": "etFGFgRPNn28",
        "outputId": "012112eb-7633-4411-f8a5-15e14a0c2c64"
      },
      "execution_count": null,
      "outputs": [
        {
          "output_type": "execute_result",
          "data": {
            "text/plain": [
              "5028"
            ]
          },
          "metadata": {},
          "execution_count": 45
        }
      ]
    },
    {
      "cell_type": "code",
      "source": [
        "print(f'{Headliner_transcriptions_df.shape[0]} + {Primavera_transcriptions_df.shape[0]} + {Paveletskaya_city_transcriptions_df.shape[0]} = {Headliner_transcriptions_df.shape[0] + Primavera_transcriptions_df.shape[0] + Paveletskaya_city_transcriptions_df.shape[0]}')"
      ],
      "metadata": {
        "colab": {
          "base_uri": "https://localhost:8080/"
        },
        "id": "V6IRp1RpPjVz",
        "outputId": "5be9ce35-d315-46f6-9f9a-2ff20f47e6fd"
      },
      "execution_count": null,
      "outputs": [
        {
          "output_type": "stream",
          "name": "stdout",
          "text": [
            "2045 + 1983 + 1000 = 5028\n"
          ]
        }
      ]
    },
    {
      "cell_type": "code",
      "source": [
        "# Сохраняем transcriptions_df в файл\n",
        "with open(df_path + 'transcriptions_df.pkl', 'wb') as f:\n",
        "  pkl.dump(transcriptions_df, f)"
      ],
      "metadata": {
        "id": "y7PTxntQRaMj"
      },
      "execution_count": null,
      "outputs": []
    },
    {
      "cell_type": "code",
      "source": [
        "print(f'Headliner: {Headliner_transcriptions_df.shape[0]} строк')\n",
        "print(f\"Нет текста транскрибации звонка: {Headliner_transcriptions_df['Текст транскрибации звонка'][Headliner_transcriptions_df['Текст транскрибации звонка'] == 'нет текста транскрибации звонка'].count()}\")\n",
        "print()\n",
        "print(f'Primavera: {Primavera_transcriptions_df.shape[0]} строк')\n",
        "print(f\"Нет текста транскрибации звонка: {Primavera_transcriptions_df['Текст транскрибации звонка'][Primavera_transcriptions_df['Текст транскрибации звонка'] == 'нет текста транскрибации звонка'].count()}\")\n",
        "print()\n",
        "print(f'Paveletskaya_city: {Paveletskaya_city_transcriptions_df.shape[0]} строк')\n",
        "print(f\"Нет текста транскрибации звонка: {Paveletskaya_city_transcriptions_df['Текст транскрибации звонка'][Paveletskaya_city_transcriptions_df['Текст транскрибации звонка'] == 'нет текста транскрибации звонка'].count()}\")"
      ],
      "metadata": {
        "colab": {
          "base_uri": "https://localhost:8080/"
        },
        "id": "-Hjf04rZ6Rw_",
        "outputId": "0234e058-15cd-4a8e-e27f-16598c58c706"
      },
      "execution_count": null,
      "outputs": [
        {
          "output_type": "stream",
          "name": "stdout",
          "text": [
            "Headliner: 2045 строк\n",
            "Нет текста транскрибации звонка: 0\n",
            "\n",
            "Primavera: 1983 строк\n",
            "Нет текста транскрибации звонка: 0\n",
            "\n",
            "Paveletskaya_city: 1000 строк\n",
            "Нет текста транскрибации звонка: 0\n"
          ]
        }
      ]
    },
    {
      "cell_type": "code",
      "source": [
        "print(f'Headliner: {Headliner_transcriptions_df.shape[0]} строк')\n",
        "print(f\"Количество непустых текстов транскрибации звонков: {Headliner_transcriptions_df['Текст транскрибации звонка'][Headliner_transcriptions_df['Текст транскрибации звонка'] != ''].count()}\")\n",
        "print()\n",
        "print(f'Primavera: {Primavera_transcriptions_df.shape[0]} строк')\n",
        "print(f\"Количество непустых текстов транскрибации звонков: {Primavera_transcriptions_df['Текст транскрибации звонка'][Primavera_transcriptions_df['Текст транскрибации звонка'] != ''].count()}\")\n",
        "print()\n",
        "print(f'Paveletskaya_city: {Paveletskaya_city_transcriptions_df.shape[0]} строк')\n",
        "print(f\"Количество непустых текстов транскрибации звонков: {Paveletskaya_city_transcriptions_df['Текст транскрибации звонка'][Paveletskaya_city_transcriptions_df['Текст транскрибации звонка'] != ''].count()}\")"
      ],
      "metadata": {
        "colab": {
          "base_uri": "https://localhost:8080/"
        },
        "id": "9FroHL03-R_s",
        "outputId": "6e7afb56-c284-4ab7-848e-5199f1d8e408"
      },
      "execution_count": null,
      "outputs": [
        {
          "output_type": "stream",
          "name": "stdout",
          "text": [
            "Headliner: 2045 строк\n",
            "Количество непустых текстов транскрибации звонков: 2023\n",
            "\n",
            "Primavera: 1983 строк\n",
            "Количество непустых текстов транскрибации звонков: 1966\n",
            "\n",
            "Paveletskaya_city: 1000 строк\n",
            "Количество непустых текстов транскрибации звонков: 997\n"
          ]
        }
      ]
    },
    {
      "cell_type": "code",
      "source": [
        "print(f'Headliner: {Headliner_transcriptions_df.shape[0]} строк')\n",
        "print(f\"Количество пустых текстов транскрибации звонков: {Headliner_transcriptions_df['Текст транскрибации звонка'][Headliner_transcriptions_df['Текст транскрибации звонка'] == ''].count()}\")\n",
        "print()\n",
        "print(f'Primavera: {Primavera_transcriptions_df.shape[0]} строк')\n",
        "print(f\"Количество пустых текстов транскрибации звонков: {Primavera_transcriptions_df['Текст транскрибации звонка'][Primavera_transcriptions_df['Текст транскрибации звонка'] == ''].count()}\")\n",
        "print()\n",
        "print(f'Paveletskaya_city: {Paveletskaya_city_transcriptions_df.shape[0]} строк')\n",
        "print(f\"Количество пустых текстов транскрибации звонков: {Paveletskaya_city_transcriptions_df['Текст транскрибации звонка'][Paveletskaya_city_transcriptions_df['Текст транскрибации звонка'] == ''].count()}\")"
      ],
      "metadata": {
        "colab": {
          "base_uri": "https://localhost:8080/"
        },
        "id": "t1tpeOjL-fW3",
        "outputId": "2d46a3e1-0082-4e1c-e208-04f5879a33fb"
      },
      "execution_count": null,
      "outputs": [
        {
          "output_type": "stream",
          "name": "stdout",
          "text": [
            "Headliner: 2045 строк\n",
            "Количество пустых текстов транскрибации звонков: 22\n",
            "\n",
            "Primavera: 1983 строк\n",
            "Количество пустых текстов транскрибации звонков: 17\n",
            "\n",
            "Paveletskaya_city: 1000 строк\n",
            "Количество пустых текстов транскрибации звонков: 3\n"
          ]
        }
      ]
    },
    {
      "cell_type": "code",
      "source": [
        "# Общее количество пустых текстов транскрибации звонков\n",
        "pd.concat([Headliner_transcriptions_df[Headliner_transcriptions_df['Текст транскрибации звонка'] == ''],\n",
        "           Primavera_transcriptions_df[Primavera_transcriptions_df['Текст транскрибации звонка'] == ''],\n",
        "           Paveletskaya_city_transcriptions_df[Paveletskaya_city_transcriptions_df['Текст транскрибации звонка'] == '']])['Текст транскрибации звонка'].count()"
      ],
      "metadata": {
        "colab": {
          "base_uri": "https://localhost:8080/"
        },
        "id": "SYhjogVrC0yy",
        "outputId": "25bce359-868f-4108-a828-df176ee54f76"
      },
      "execution_count": null,
      "outputs": [
        {
          "output_type": "execute_result",
          "data": {
            "text/plain": [
              "42"
            ]
          },
          "metadata": {},
          "execution_count": 29
        }
      ]
    },
    {
      "cell_type": "code",
      "source": [
        "# Датафрейм с пустыми текстами транскрибации звонков\n",
        "empty_transcriptions_text_df = pd.concat([Headliner_transcriptions_df[Headliner_transcriptions_df['Текст транскрибации звонка'] == ''],\n",
        "                                          Primavera_transcriptions_df[Primavera_transcriptions_df['Текст транскрибации звонка'] == ''],\n",
        "                                          Paveletskaya_city_transcriptions_df[Paveletskaya_city_transcriptions_df['Текст транскрибации звонка'] == '']])\n",
        "empty_transcriptions_text_df"
      ],
      "metadata": {
        "colab": {
          "base_uri": "https://localhost:8080/",
          "height": 1000
        },
        "id": "L2v3vNTIEyAS",
        "outputId": "ed40efc2-2332-4bd2-ab69-21e7db7ce5eb"
      },
      "execution_count": null,
      "outputs": [
        {
          "output_type": "execute_result",
          "data": {
            "text/plain": [
              "            Дата и время  Номер абонента  Номер сотрудника  \\\n",
              "26   2023-05-12 15:04:17     79139019900       74959339929   \n",
              "100  2023-05-11 10:22:43     79829841856       74959339929   \n",
              "121  2023-05-11 14:07:25     79031167564       74959339929   \n",
              "204  2023-05-15 13:03:20     79168159427       74959339929   \n",
              "264  2023-05-23 12:13:57     74957457444       74952762447   \n",
              "359  2023-05-19 16:16:07     79303332632       74959339929   \n",
              "845  2023-06-05 14:31:02     79303332632       74959339929   \n",
              "965  2023-06-10 12:51:20     74957457444       74959339929   \n",
              "980  2023-06-12 14:57:17     79518834808       74997552563   \n",
              "985  2023-06-12 14:05:24     79035779604       74997552563   \n",
              "1289 2023-06-27 12:33:17     79684159940       74959339929   \n",
              "1367 2023-06-30 12:45:13     79152403560       74959339929   \n",
              "1446 2023-07-04 11:07:27     79152403560       74959339929   \n",
              "1467 2023-07-04 11:29:29     79857275788       74959339929   \n",
              "1545 2023-07-06 11:41:02     74951626925            188880   \n",
              "1639 2023-07-10 11:05:03     74957457444       74959339929   \n",
              "1721 2023-07-12 15:46:33     74957457444       74959339902   \n",
              "1751 2023-07-12 12:37:45     79854466888       74959339929   \n",
              "1761 2023-07-13 11:25:57     79874152768       74959339929   \n",
              "1883 2023-07-18 10:10:22     79067521809       74959339929   \n",
              "1952 2023-07-18 10:32:40     79067521809       74959339929   \n",
              "1955 2023-07-19 10:04:52     79655282895       74959339929   \n",
              "264  2023-04-18 09:25:47     79361073669            111652   \n",
              "516  2023-05-04 11:49:51     79258445072            173695   \n",
              "520  2023-05-04 13:06:49     79217503672            111652   \n",
              "535  2023-05-05 10:28:06     79645914305            111639   \n",
              "712  2023-05-12 08:54:10     74951473400            111631   \n",
              "914  2023-05-21 17:57:04     79254503575            150108   \n",
              "990  2023-06-08 10:56:05     79823054057            111639   \n",
              "1036 2023-06-02 09:17:40     79873218072            111639   \n",
              "1254 2023-06-05 15:10:17     74752289381            111639   \n",
              "1341 2023-06-14 16:18:31     74999571970            150111   \n",
              "1540 2023-06-24 11:39:51     79120050438            197879   \n",
              "1560 2023-06-26 12:32:01     74950440819            111642   \n",
              "1581 2023-06-26 17:41:21     79647029122            197872   \n",
              "1673 2023-07-02 14:10:02     79067075726            111642   \n",
              "1800 2023-07-08 14:42:19     79274404727            111639   \n",
              "1880 2023-07-07 18:46:01     79370597393            111631   \n",
              "1915 2023-07-13 09:29:45     79892054760            111639   \n",
              "916  2023-07-17 11:37:44     79107702544       74950216267   \n",
              "946  2023-07-18 11:33:51     79692817796       74955141111   \n",
              "955  2023-07-18 13:51:59     78005055934       74955141111   \n",
              "\n",
              "      Идентификатор сессии звонка Транскрибатор  \\\n",
              "26                     2925299034       whisper   \n",
              "100                    2933299365       whisper   \n",
              "121                    2934164741       whisper   \n",
              "204                    2941244845       whisper   \n",
              "264                    2944740650       whisper   \n",
              "359                    2951238247       whisper   \n",
              "845                    2985862937       whisper   \n",
              "965                    2996988633       whisper   \n",
              "980                    2998907083       whisper   \n",
              "985                    2999524801       whisper   \n",
              "1289                   3051362192       whisper   \n",
              "1367                   3058637943       whisper   \n",
              "1446                   3065260231       whisper   \n",
              "1467                   3066603837       whisper   \n",
              "1545                   3071614562       whisper   \n",
              "1639                   3077651521       whisper   \n",
              "1721                   3083254159       whisper   \n",
              "1751                   3084778582       whisper   \n",
              "1761                   3085233996       whisper   \n",
              "1883                   3094358589       whisper   \n",
              "1952                   3097228437       whisper   \n",
              "1955                   3097478646       whisper   \n",
              "264                    2891158064       whisper   \n",
              "516                    2922008589       whisper   \n",
              "520                    2922314081       whisper   \n",
              "535                    2924149861       whisper   \n",
              "712                    2945579284       whisper   \n",
              "914                    2967221656       whisper   \n",
              "990                    2975329822       whisper   \n",
              "1036                   2979838157       whisper   \n",
              "1254                   3002547728       whisper   \n",
              "1341                   3023214008       whisper   \n",
              "1540                   3045474518       whisper   \n",
              "1560                   3047835589       whisper   \n",
              "1581                   3049901683       whisper   \n",
              "1673                   3061852918       whisper   \n",
              "1800                   3074722684       whisper   \n",
              "1880                   3082955920       whisper   \n",
              "1915                   3086614977       whisper   \n",
              "916                    3094893897       whisper   \n",
              "946                    3097488302       whisper   \n",
              "955                    3098031427       whisper   \n",
              "\n",
              "                                                                                                                            Файл транскрибации звонка  \\\n",
              "26          Расшифровки_Записи звонков_хедлайнер/2023-05-12_15-04-17.416188_from_79139019900_to_74959339929_session_2925299034_talk_whisper_large.txt   \n",
              "100         Расшифровки_Записи звонков_хедлайнер/2023-05-11_10-22-43.270495_from_79829841856_to_74959339929_session_2933299365_talk_whisper_large.txt   \n",
              "121         Расшифровки_Записи звонков_хедлайнер/2023-05-11_14-07-25.991134_from_79031167564_to_74959339929_session_2934164741_talk_whisper_large.txt   \n",
              "204         Расшифровки_Записи звонков_хедлайнер/2023-05-15_13-03-20.573372_from_79168159427_to_74959339929_session_2941244845_talk_whisper_large.txt   \n",
              "264         Расшифровки_Записи звонков_хедлайнер/2023-05-23_12-13-57.062882_from_74957457444_to_74952762447_session_2944740650_talk_whisper_large.txt   \n",
              "359         Расшифровки_Записи звонков_хедлайнер/2023-05-19_16-16-07.092742_from_79303332632_to_74959339929_session_2951238247_talk_whisper_large.txt   \n",
              "845         Расшифровки_Записи звонков_хедлайнер/2023-06-05_14-31-02.655148_from_79303332632_to_74959339929_session_2985862937_talk_whisper_large.txt   \n",
              "965      Расшифровки_Записи звонков_хедлайнер/2023-06-10_12-51-20.873488_from_74957457444_to_74959339929_session_2996988633_talk(1)_whisper_large.txt   \n",
              "980         Расшифровки_Записи звонков_хедлайнер/2023-06-12_14-57-17.236811_from_79518834808_to_74997552563_session_2998907083_talk_whisper_large.txt   \n",
              "985         Расшифровки_Записи звонков_хедлайнер/2023-06-12_14-05-24.529131_from_79035779604_to_74997552563_session_2999524801_talk_whisper_large.txt   \n",
              "1289        Расшифровки_Записи звонков_хедлайнер/2023-06-27_12-33-17.299826_from_79684159940_to_74959339929_session_3051362192_talk_whisper_large.txt   \n",
              "1367        Расшифровки_Записи звонков_хедлайнер/2023-06-30_12-45-13.636037_from_79152403560_to_74959339929_session_3058637943_talk_whisper_large.txt   \n",
              "1446        Расшифровки_Записи звонков_хедлайнер/2023-07-04_11-07-27.554770_from_79152403560_to_74959339929_session_3065260231_talk_whisper_large.txt   \n",
              "1467        Расшифровки_Записи звонков_хедлайнер/2023-07-04_11-29-29.414889_from_79857275788_to_74959339929_session_3066603837_talk_whisper_large.txt   \n",
              "1545            Расшифровки_Записи звонков_хедлайнер/2023-07-06_11-41-02.989748_from_74951626925_to_0188880_session_3071614562_talk_whisper_large.txt   \n",
              "1639        Расшифровки_Записи звонков_хедлайнер/2023-07-10_11-05-03.322499_from_74957457444_to_74959339929_session_3077651521_talk_whisper_large.txt   \n",
              "1721        Расшифровки_Записи звонков_хедлайнер/2023-07-12_15-46-33.419269_from_74957457444_to_74959339902_session_3083254159_talk_whisper_large.txt   \n",
              "1751        Расшифровки_Записи звонков_хедлайнер/2023-07-12_12-37-45.614131_from_79854466888_to_74959339929_session_3084778582_talk_whisper_large.txt   \n",
              "1761        Расшифровки_Записи звонков_хедлайнер/2023-07-13_11-25-57.713926_from_79874152768_to_74959339929_session_3085233996_talk_whisper_large.txt   \n",
              "1883        Расшифровки_Записи звонков_хедлайнер/2023-07-18_10-10-22.418931_from_79067521809_to_74959339929_session_3094358589_talk_whisper_large.txt   \n",
              "1952        Расшифровки_Записи звонков_хедлайнер/2023-07-18_10-32-40.014916_from_79067521809_to_74959339929_session_3097228437_talk_whisper_large.txt   \n",
              "1955        Расшифровки_Записи звонков_хедлайнер/2023-07-19_10-04-52.194955_from_79655282895_to_74959339929_session_3097478646_talk_whisper_large.txt   \n",
              "264             Расшифровки_Записи звонков_primavera/2023-04-18_09-25-47.543359_from_79361073669_to_0111652_session_2891158064_talk_whisper_large.txt   \n",
              "516             Расшифровки_Записи звонков_primavera/2023-05-04_11-49-51.026132_from_79258445072_to_0173695_session_2922008589_talk_whisper_large.txt   \n",
              "520             Расшифровки_Записи звонков_primavera/2023-05-04_13-06-49.828945_from_79217503672_to_0111652_session_2922314081_talk_whisper_large.txt   \n",
              "535             Расшифровки_Записи звонков_primavera/2023-05-05_10-28-06.978283_from_79645914305_to_0111639_session_2924149861_talk_whisper_large.txt   \n",
              "712             Расшифровки_Записи звонков_primavera/2023-05-12_08-54-10.888071_from_74951473400_to_0111631_session_2945579284_talk_whisper_large.txt   \n",
              "914             Расшифровки_Записи звонков_primavera/2023-05-21_17-57-04.637603_from_79254503575_to_0150108_session_2967221656_talk_whisper_large.txt   \n",
              "990             Расшифровки_Записи звонков_primavera/2023-06-08_10-56-05.252367_from_79823054057_to_0111639_session_2975329822_talk_whisper_large.txt   \n",
              "1036            Расшифровки_Записи звонков_primavera/2023-06-02_09-17-40.433276_from_79873218072_to_0111639_session_2979838157_talk_whisper_large.txt   \n",
              "1254            Расшифровки_Записи звонков_primavera/2023-06-05_15-10-17.404885_from_74752289381_to_0111639_session_3002547728_talk_whisper_large.txt   \n",
              "1341            Расшифровки_Записи звонков_primavera/2023-06-14_16-18-31.079748_from_74999571970_to_0150111_session_3023214008_talk_whisper_large.txt   \n",
              "1540            Расшифровки_Записи звонков_primavera/2023-06-24_11-39-51.019117_from_79120050438_to_0197879_session_3045474518_talk_whisper_large.txt   \n",
              "1560            Расшифровки_Записи звонков_primavera/2023-06-26_12-32-01.038354_from_74950440819_to_0111642_session_3047835589_talk_whisper_large.txt   \n",
              "1581            Расшифровки_Записи звонков_primavera/2023-06-26_17-41-21.069678_from_79647029122_to_0197872_session_3049901683_talk_whisper_large.txt   \n",
              "1673            Расшифровки_Записи звонков_primavera/2023-07-02_14-10-02.533800_from_79067075726_to_0111642_session_3061852918_talk_whisper_large.txt   \n",
              "1800            Расшифровки_Записи звонков_primavera/2023-07-08_14-42-19.958710_from_79274404727_to_0111639_session_3074722684_talk_whisper_large.txt   \n",
              "1880            Расшифровки_Записи звонков_primavera/2023-07-07_18-46-01.134079_from_79370597393_to_0111631_session_3082955920_talk_whisper_large.txt   \n",
              "1915            Расшифровки_Записи звонков_primavera/2023-07-13_09-29-45.230765_from_79892054760_to_0111639_session_3086614977_talk_whisper_large.txt   \n",
              "916   Расшифровки_Записи звонков_павелецкая сити/2023-07-17_11-37-44.581957_from_79107702544_to_74950216267_session_3094893897_talk_whisper_large.txt   \n",
              "946   Расшифровки_Записи звонков_павелецкая сити/2023-07-18_11-33-51.022419_from_79692817796_to_74955141111_session_3097488302_talk_whisper_large.txt   \n",
              "955   Расшифровки_Записи звонков_павелецкая сити/2023-07-18_13-51-59.127269_from_78005055934_to_74955141111_session_3098031427_talk_whisper_large.txt   \n",
              "\n",
              "     Текст транскрибации звонка  \n",
              "26                               \n",
              "100                              \n",
              "121                              \n",
              "204                              \n",
              "264                              \n",
              "359                              \n",
              "845                              \n",
              "965                              \n",
              "980                              \n",
              "985                              \n",
              "1289                             \n",
              "1367                             \n",
              "1446                             \n",
              "1467                             \n",
              "1545                             \n",
              "1639                             \n",
              "1721                             \n",
              "1751                             \n",
              "1761                             \n",
              "1883                             \n",
              "1952                             \n",
              "1955                             \n",
              "264                              \n",
              "516                              \n",
              "520                              \n",
              "535                              \n",
              "712                              \n",
              "914                              \n",
              "990                              \n",
              "1036                             \n",
              "1254                             \n",
              "1341                             \n",
              "1540                             \n",
              "1560                             \n",
              "1581                             \n",
              "1673                             \n",
              "1800                             \n",
              "1880                             \n",
              "1915                             \n",
              "916                              \n",
              "946                              \n",
              "955                              "
            ],
            "text/html": [
              "\n",
              "  <div id=\"df-0de51e32-ccd1-4324-baf2-d8ff6ed3e902\" class=\"colab-df-container\">\n",
              "    <div>\n",
              "<style scoped>\n",
              "    .dataframe tbody tr th:only-of-type {\n",
              "        vertical-align: middle;\n",
              "    }\n",
              "\n",
              "    .dataframe tbody tr th {\n",
              "        vertical-align: top;\n",
              "    }\n",
              "\n",
              "    .dataframe thead th {\n",
              "        text-align: right;\n",
              "    }\n",
              "</style>\n",
              "<table border=\"1\" class=\"dataframe\">\n",
              "  <thead>\n",
              "    <tr style=\"text-align: right;\">\n",
              "      <th></th>\n",
              "      <th>Дата и время</th>\n",
              "      <th>Номер абонента</th>\n",
              "      <th>Номер сотрудника</th>\n",
              "      <th>Идентификатор сессии звонка</th>\n",
              "      <th>Транскрибатор</th>\n",
              "      <th>Файл транскрибации звонка</th>\n",
              "      <th>Текст транскрибации звонка</th>\n",
              "    </tr>\n",
              "  </thead>\n",
              "  <tbody>\n",
              "    <tr>\n",
              "      <th>26</th>\n",
              "      <td>2023-05-12 15:04:17</td>\n",
              "      <td>79139019900</td>\n",
              "      <td>74959339929</td>\n",
              "      <td>2925299034</td>\n",
              "      <td>whisper</td>\n",
              "      <td>Расшифровки_Записи звонков_хедлайнер/2023-05-12_15-04-17.416188_from_79139019900_to_74959339929_session_2925299034_talk_whisper_large.txt</td>\n",
              "      <td></td>\n",
              "    </tr>\n",
              "    <tr>\n",
              "      <th>100</th>\n",
              "      <td>2023-05-11 10:22:43</td>\n",
              "      <td>79829841856</td>\n",
              "      <td>74959339929</td>\n",
              "      <td>2933299365</td>\n",
              "      <td>whisper</td>\n",
              "      <td>Расшифровки_Записи звонков_хедлайнер/2023-05-11_10-22-43.270495_from_79829841856_to_74959339929_session_2933299365_talk_whisper_large.txt</td>\n",
              "      <td></td>\n",
              "    </tr>\n",
              "    <tr>\n",
              "      <th>121</th>\n",
              "      <td>2023-05-11 14:07:25</td>\n",
              "      <td>79031167564</td>\n",
              "      <td>74959339929</td>\n",
              "      <td>2934164741</td>\n",
              "      <td>whisper</td>\n",
              "      <td>Расшифровки_Записи звонков_хедлайнер/2023-05-11_14-07-25.991134_from_79031167564_to_74959339929_session_2934164741_talk_whisper_large.txt</td>\n",
              "      <td></td>\n",
              "    </tr>\n",
              "    <tr>\n",
              "      <th>204</th>\n",
              "      <td>2023-05-15 13:03:20</td>\n",
              "      <td>79168159427</td>\n",
              "      <td>74959339929</td>\n",
              "      <td>2941244845</td>\n",
              "      <td>whisper</td>\n",
              "      <td>Расшифровки_Записи звонков_хедлайнер/2023-05-15_13-03-20.573372_from_79168159427_to_74959339929_session_2941244845_talk_whisper_large.txt</td>\n",
              "      <td></td>\n",
              "    </tr>\n",
              "    <tr>\n",
              "      <th>264</th>\n",
              "      <td>2023-05-23 12:13:57</td>\n",
              "      <td>74957457444</td>\n",
              "      <td>74952762447</td>\n",
              "      <td>2944740650</td>\n",
              "      <td>whisper</td>\n",
              "      <td>Расшифровки_Записи звонков_хедлайнер/2023-05-23_12-13-57.062882_from_74957457444_to_74952762447_session_2944740650_talk_whisper_large.txt</td>\n",
              "      <td></td>\n",
              "    </tr>\n",
              "    <tr>\n",
              "      <th>359</th>\n",
              "      <td>2023-05-19 16:16:07</td>\n",
              "      <td>79303332632</td>\n",
              "      <td>74959339929</td>\n",
              "      <td>2951238247</td>\n",
              "      <td>whisper</td>\n",
              "      <td>Расшифровки_Записи звонков_хедлайнер/2023-05-19_16-16-07.092742_from_79303332632_to_74959339929_session_2951238247_talk_whisper_large.txt</td>\n",
              "      <td></td>\n",
              "    </tr>\n",
              "    <tr>\n",
              "      <th>845</th>\n",
              "      <td>2023-06-05 14:31:02</td>\n",
              "      <td>79303332632</td>\n",
              "      <td>74959339929</td>\n",
              "      <td>2985862937</td>\n",
              "      <td>whisper</td>\n",
              "      <td>Расшифровки_Записи звонков_хедлайнер/2023-06-05_14-31-02.655148_from_79303332632_to_74959339929_session_2985862937_talk_whisper_large.txt</td>\n",
              "      <td></td>\n",
              "    </tr>\n",
              "    <tr>\n",
              "      <th>965</th>\n",
              "      <td>2023-06-10 12:51:20</td>\n",
              "      <td>74957457444</td>\n",
              "      <td>74959339929</td>\n",
              "      <td>2996988633</td>\n",
              "      <td>whisper</td>\n",
              "      <td>Расшифровки_Записи звонков_хедлайнер/2023-06-10_12-51-20.873488_from_74957457444_to_74959339929_session_2996988633_talk(1)_whisper_large.txt</td>\n",
              "      <td></td>\n",
              "    </tr>\n",
              "    <tr>\n",
              "      <th>980</th>\n",
              "      <td>2023-06-12 14:57:17</td>\n",
              "      <td>79518834808</td>\n",
              "      <td>74997552563</td>\n",
              "      <td>2998907083</td>\n",
              "      <td>whisper</td>\n",
              "      <td>Расшифровки_Записи звонков_хедлайнер/2023-06-12_14-57-17.236811_from_79518834808_to_74997552563_session_2998907083_talk_whisper_large.txt</td>\n",
              "      <td></td>\n",
              "    </tr>\n",
              "    <tr>\n",
              "      <th>985</th>\n",
              "      <td>2023-06-12 14:05:24</td>\n",
              "      <td>79035779604</td>\n",
              "      <td>74997552563</td>\n",
              "      <td>2999524801</td>\n",
              "      <td>whisper</td>\n",
              "      <td>Расшифровки_Записи звонков_хедлайнер/2023-06-12_14-05-24.529131_from_79035779604_to_74997552563_session_2999524801_talk_whisper_large.txt</td>\n",
              "      <td></td>\n",
              "    </tr>\n",
              "    <tr>\n",
              "      <th>1289</th>\n",
              "      <td>2023-06-27 12:33:17</td>\n",
              "      <td>79684159940</td>\n",
              "      <td>74959339929</td>\n",
              "      <td>3051362192</td>\n",
              "      <td>whisper</td>\n",
              "      <td>Расшифровки_Записи звонков_хедлайнер/2023-06-27_12-33-17.299826_from_79684159940_to_74959339929_session_3051362192_talk_whisper_large.txt</td>\n",
              "      <td></td>\n",
              "    </tr>\n",
              "    <tr>\n",
              "      <th>1367</th>\n",
              "      <td>2023-06-30 12:45:13</td>\n",
              "      <td>79152403560</td>\n",
              "      <td>74959339929</td>\n",
              "      <td>3058637943</td>\n",
              "      <td>whisper</td>\n",
              "      <td>Расшифровки_Записи звонков_хедлайнер/2023-06-30_12-45-13.636037_from_79152403560_to_74959339929_session_3058637943_talk_whisper_large.txt</td>\n",
              "      <td></td>\n",
              "    </tr>\n",
              "    <tr>\n",
              "      <th>1446</th>\n",
              "      <td>2023-07-04 11:07:27</td>\n",
              "      <td>79152403560</td>\n",
              "      <td>74959339929</td>\n",
              "      <td>3065260231</td>\n",
              "      <td>whisper</td>\n",
              "      <td>Расшифровки_Записи звонков_хедлайнер/2023-07-04_11-07-27.554770_from_79152403560_to_74959339929_session_3065260231_talk_whisper_large.txt</td>\n",
              "      <td></td>\n",
              "    </tr>\n",
              "    <tr>\n",
              "      <th>1467</th>\n",
              "      <td>2023-07-04 11:29:29</td>\n",
              "      <td>79857275788</td>\n",
              "      <td>74959339929</td>\n",
              "      <td>3066603837</td>\n",
              "      <td>whisper</td>\n",
              "      <td>Расшифровки_Записи звонков_хедлайнер/2023-07-04_11-29-29.414889_from_79857275788_to_74959339929_session_3066603837_talk_whisper_large.txt</td>\n",
              "      <td></td>\n",
              "    </tr>\n",
              "    <tr>\n",
              "      <th>1545</th>\n",
              "      <td>2023-07-06 11:41:02</td>\n",
              "      <td>74951626925</td>\n",
              "      <td>188880</td>\n",
              "      <td>3071614562</td>\n",
              "      <td>whisper</td>\n",
              "      <td>Расшифровки_Записи звонков_хедлайнер/2023-07-06_11-41-02.989748_from_74951626925_to_0188880_session_3071614562_talk_whisper_large.txt</td>\n",
              "      <td></td>\n",
              "    </tr>\n",
              "    <tr>\n",
              "      <th>1639</th>\n",
              "      <td>2023-07-10 11:05:03</td>\n",
              "      <td>74957457444</td>\n",
              "      <td>74959339929</td>\n",
              "      <td>3077651521</td>\n",
              "      <td>whisper</td>\n",
              "      <td>Расшифровки_Записи звонков_хедлайнер/2023-07-10_11-05-03.322499_from_74957457444_to_74959339929_session_3077651521_talk_whisper_large.txt</td>\n",
              "      <td></td>\n",
              "    </tr>\n",
              "    <tr>\n",
              "      <th>1721</th>\n",
              "      <td>2023-07-12 15:46:33</td>\n",
              "      <td>74957457444</td>\n",
              "      <td>74959339902</td>\n",
              "      <td>3083254159</td>\n",
              "      <td>whisper</td>\n",
              "      <td>Расшифровки_Записи звонков_хедлайнер/2023-07-12_15-46-33.419269_from_74957457444_to_74959339902_session_3083254159_talk_whisper_large.txt</td>\n",
              "      <td></td>\n",
              "    </tr>\n",
              "    <tr>\n",
              "      <th>1751</th>\n",
              "      <td>2023-07-12 12:37:45</td>\n",
              "      <td>79854466888</td>\n",
              "      <td>74959339929</td>\n",
              "      <td>3084778582</td>\n",
              "      <td>whisper</td>\n",
              "      <td>Расшифровки_Записи звонков_хедлайнер/2023-07-12_12-37-45.614131_from_79854466888_to_74959339929_session_3084778582_talk_whisper_large.txt</td>\n",
              "      <td></td>\n",
              "    </tr>\n",
              "    <tr>\n",
              "      <th>1761</th>\n",
              "      <td>2023-07-13 11:25:57</td>\n",
              "      <td>79874152768</td>\n",
              "      <td>74959339929</td>\n",
              "      <td>3085233996</td>\n",
              "      <td>whisper</td>\n",
              "      <td>Расшифровки_Записи звонков_хедлайнер/2023-07-13_11-25-57.713926_from_79874152768_to_74959339929_session_3085233996_talk_whisper_large.txt</td>\n",
              "      <td></td>\n",
              "    </tr>\n",
              "    <tr>\n",
              "      <th>1883</th>\n",
              "      <td>2023-07-18 10:10:22</td>\n",
              "      <td>79067521809</td>\n",
              "      <td>74959339929</td>\n",
              "      <td>3094358589</td>\n",
              "      <td>whisper</td>\n",
              "      <td>Расшифровки_Записи звонков_хедлайнер/2023-07-18_10-10-22.418931_from_79067521809_to_74959339929_session_3094358589_talk_whisper_large.txt</td>\n",
              "      <td></td>\n",
              "    </tr>\n",
              "    <tr>\n",
              "      <th>1952</th>\n",
              "      <td>2023-07-18 10:32:40</td>\n",
              "      <td>79067521809</td>\n",
              "      <td>74959339929</td>\n",
              "      <td>3097228437</td>\n",
              "      <td>whisper</td>\n",
              "      <td>Расшифровки_Записи звонков_хедлайнер/2023-07-18_10-32-40.014916_from_79067521809_to_74959339929_session_3097228437_talk_whisper_large.txt</td>\n",
              "      <td></td>\n",
              "    </tr>\n",
              "    <tr>\n",
              "      <th>1955</th>\n",
              "      <td>2023-07-19 10:04:52</td>\n",
              "      <td>79655282895</td>\n",
              "      <td>74959339929</td>\n",
              "      <td>3097478646</td>\n",
              "      <td>whisper</td>\n",
              "      <td>Расшифровки_Записи звонков_хедлайнер/2023-07-19_10-04-52.194955_from_79655282895_to_74959339929_session_3097478646_talk_whisper_large.txt</td>\n",
              "      <td></td>\n",
              "    </tr>\n",
              "    <tr>\n",
              "      <th>264</th>\n",
              "      <td>2023-04-18 09:25:47</td>\n",
              "      <td>79361073669</td>\n",
              "      <td>111652</td>\n",
              "      <td>2891158064</td>\n",
              "      <td>whisper</td>\n",
              "      <td>Расшифровки_Записи звонков_primavera/2023-04-18_09-25-47.543359_from_79361073669_to_0111652_session_2891158064_talk_whisper_large.txt</td>\n",
              "      <td></td>\n",
              "    </tr>\n",
              "    <tr>\n",
              "      <th>516</th>\n",
              "      <td>2023-05-04 11:49:51</td>\n",
              "      <td>79258445072</td>\n",
              "      <td>173695</td>\n",
              "      <td>2922008589</td>\n",
              "      <td>whisper</td>\n",
              "      <td>Расшифровки_Записи звонков_primavera/2023-05-04_11-49-51.026132_from_79258445072_to_0173695_session_2922008589_talk_whisper_large.txt</td>\n",
              "      <td></td>\n",
              "    </tr>\n",
              "    <tr>\n",
              "      <th>520</th>\n",
              "      <td>2023-05-04 13:06:49</td>\n",
              "      <td>79217503672</td>\n",
              "      <td>111652</td>\n",
              "      <td>2922314081</td>\n",
              "      <td>whisper</td>\n",
              "      <td>Расшифровки_Записи звонков_primavera/2023-05-04_13-06-49.828945_from_79217503672_to_0111652_session_2922314081_talk_whisper_large.txt</td>\n",
              "      <td></td>\n",
              "    </tr>\n",
              "    <tr>\n",
              "      <th>535</th>\n",
              "      <td>2023-05-05 10:28:06</td>\n",
              "      <td>79645914305</td>\n",
              "      <td>111639</td>\n",
              "      <td>2924149861</td>\n",
              "      <td>whisper</td>\n",
              "      <td>Расшифровки_Записи звонков_primavera/2023-05-05_10-28-06.978283_from_79645914305_to_0111639_session_2924149861_talk_whisper_large.txt</td>\n",
              "      <td></td>\n",
              "    </tr>\n",
              "    <tr>\n",
              "      <th>712</th>\n",
              "      <td>2023-05-12 08:54:10</td>\n",
              "      <td>74951473400</td>\n",
              "      <td>111631</td>\n",
              "      <td>2945579284</td>\n",
              "      <td>whisper</td>\n",
              "      <td>Расшифровки_Записи звонков_primavera/2023-05-12_08-54-10.888071_from_74951473400_to_0111631_session_2945579284_talk_whisper_large.txt</td>\n",
              "      <td></td>\n",
              "    </tr>\n",
              "    <tr>\n",
              "      <th>914</th>\n",
              "      <td>2023-05-21 17:57:04</td>\n",
              "      <td>79254503575</td>\n",
              "      <td>150108</td>\n",
              "      <td>2967221656</td>\n",
              "      <td>whisper</td>\n",
              "      <td>Расшифровки_Записи звонков_primavera/2023-05-21_17-57-04.637603_from_79254503575_to_0150108_session_2967221656_talk_whisper_large.txt</td>\n",
              "      <td></td>\n",
              "    </tr>\n",
              "    <tr>\n",
              "      <th>990</th>\n",
              "      <td>2023-06-08 10:56:05</td>\n",
              "      <td>79823054057</td>\n",
              "      <td>111639</td>\n",
              "      <td>2975329822</td>\n",
              "      <td>whisper</td>\n",
              "      <td>Расшифровки_Записи звонков_primavera/2023-06-08_10-56-05.252367_from_79823054057_to_0111639_session_2975329822_talk_whisper_large.txt</td>\n",
              "      <td></td>\n",
              "    </tr>\n",
              "    <tr>\n",
              "      <th>1036</th>\n",
              "      <td>2023-06-02 09:17:40</td>\n",
              "      <td>79873218072</td>\n",
              "      <td>111639</td>\n",
              "      <td>2979838157</td>\n",
              "      <td>whisper</td>\n",
              "      <td>Расшифровки_Записи звонков_primavera/2023-06-02_09-17-40.433276_from_79873218072_to_0111639_session_2979838157_talk_whisper_large.txt</td>\n",
              "      <td></td>\n",
              "    </tr>\n",
              "    <tr>\n",
              "      <th>1254</th>\n",
              "      <td>2023-06-05 15:10:17</td>\n",
              "      <td>74752289381</td>\n",
              "      <td>111639</td>\n",
              "      <td>3002547728</td>\n",
              "      <td>whisper</td>\n",
              "      <td>Расшифровки_Записи звонков_primavera/2023-06-05_15-10-17.404885_from_74752289381_to_0111639_session_3002547728_talk_whisper_large.txt</td>\n",
              "      <td></td>\n",
              "    </tr>\n",
              "    <tr>\n",
              "      <th>1341</th>\n",
              "      <td>2023-06-14 16:18:31</td>\n",
              "      <td>74999571970</td>\n",
              "      <td>150111</td>\n",
              "      <td>3023214008</td>\n",
              "      <td>whisper</td>\n",
              "      <td>Расшифровки_Записи звонков_primavera/2023-06-14_16-18-31.079748_from_74999571970_to_0150111_session_3023214008_talk_whisper_large.txt</td>\n",
              "      <td></td>\n",
              "    </tr>\n",
              "    <tr>\n",
              "      <th>1540</th>\n",
              "      <td>2023-06-24 11:39:51</td>\n",
              "      <td>79120050438</td>\n",
              "      <td>197879</td>\n",
              "      <td>3045474518</td>\n",
              "      <td>whisper</td>\n",
              "      <td>Расшифровки_Записи звонков_primavera/2023-06-24_11-39-51.019117_from_79120050438_to_0197879_session_3045474518_talk_whisper_large.txt</td>\n",
              "      <td></td>\n",
              "    </tr>\n",
              "    <tr>\n",
              "      <th>1560</th>\n",
              "      <td>2023-06-26 12:32:01</td>\n",
              "      <td>74950440819</td>\n",
              "      <td>111642</td>\n",
              "      <td>3047835589</td>\n",
              "      <td>whisper</td>\n",
              "      <td>Расшифровки_Записи звонков_primavera/2023-06-26_12-32-01.038354_from_74950440819_to_0111642_session_3047835589_talk_whisper_large.txt</td>\n",
              "      <td></td>\n",
              "    </tr>\n",
              "    <tr>\n",
              "      <th>1581</th>\n",
              "      <td>2023-06-26 17:41:21</td>\n",
              "      <td>79647029122</td>\n",
              "      <td>197872</td>\n",
              "      <td>3049901683</td>\n",
              "      <td>whisper</td>\n",
              "      <td>Расшифровки_Записи звонков_primavera/2023-06-26_17-41-21.069678_from_79647029122_to_0197872_session_3049901683_talk_whisper_large.txt</td>\n",
              "      <td></td>\n",
              "    </tr>\n",
              "    <tr>\n",
              "      <th>1673</th>\n",
              "      <td>2023-07-02 14:10:02</td>\n",
              "      <td>79067075726</td>\n",
              "      <td>111642</td>\n",
              "      <td>3061852918</td>\n",
              "      <td>whisper</td>\n",
              "      <td>Расшифровки_Записи звонков_primavera/2023-07-02_14-10-02.533800_from_79067075726_to_0111642_session_3061852918_talk_whisper_large.txt</td>\n",
              "      <td></td>\n",
              "    </tr>\n",
              "    <tr>\n",
              "      <th>1800</th>\n",
              "      <td>2023-07-08 14:42:19</td>\n",
              "      <td>79274404727</td>\n",
              "      <td>111639</td>\n",
              "      <td>3074722684</td>\n",
              "      <td>whisper</td>\n",
              "      <td>Расшифровки_Записи звонков_primavera/2023-07-08_14-42-19.958710_from_79274404727_to_0111639_session_3074722684_talk_whisper_large.txt</td>\n",
              "      <td></td>\n",
              "    </tr>\n",
              "    <tr>\n",
              "      <th>1880</th>\n",
              "      <td>2023-07-07 18:46:01</td>\n",
              "      <td>79370597393</td>\n",
              "      <td>111631</td>\n",
              "      <td>3082955920</td>\n",
              "      <td>whisper</td>\n",
              "      <td>Расшифровки_Записи звонков_primavera/2023-07-07_18-46-01.134079_from_79370597393_to_0111631_session_3082955920_talk_whisper_large.txt</td>\n",
              "      <td></td>\n",
              "    </tr>\n",
              "    <tr>\n",
              "      <th>1915</th>\n",
              "      <td>2023-07-13 09:29:45</td>\n",
              "      <td>79892054760</td>\n",
              "      <td>111639</td>\n",
              "      <td>3086614977</td>\n",
              "      <td>whisper</td>\n",
              "      <td>Расшифровки_Записи звонков_primavera/2023-07-13_09-29-45.230765_from_79892054760_to_0111639_session_3086614977_talk_whisper_large.txt</td>\n",
              "      <td></td>\n",
              "    </tr>\n",
              "    <tr>\n",
              "      <th>916</th>\n",
              "      <td>2023-07-17 11:37:44</td>\n",
              "      <td>79107702544</td>\n",
              "      <td>74950216267</td>\n",
              "      <td>3094893897</td>\n",
              "      <td>whisper</td>\n",
              "      <td>Расшифровки_Записи звонков_павелецкая сити/2023-07-17_11-37-44.581957_from_79107702544_to_74950216267_session_3094893897_talk_whisper_large.txt</td>\n",
              "      <td></td>\n",
              "    </tr>\n",
              "    <tr>\n",
              "      <th>946</th>\n",
              "      <td>2023-07-18 11:33:51</td>\n",
              "      <td>79692817796</td>\n",
              "      <td>74955141111</td>\n",
              "      <td>3097488302</td>\n",
              "      <td>whisper</td>\n",
              "      <td>Расшифровки_Записи звонков_павелецкая сити/2023-07-18_11-33-51.022419_from_79692817796_to_74955141111_session_3097488302_talk_whisper_large.txt</td>\n",
              "      <td></td>\n",
              "    </tr>\n",
              "    <tr>\n",
              "      <th>955</th>\n",
              "      <td>2023-07-18 13:51:59</td>\n",
              "      <td>78005055934</td>\n",
              "      <td>74955141111</td>\n",
              "      <td>3098031427</td>\n",
              "      <td>whisper</td>\n",
              "      <td>Расшифровки_Записи звонков_павелецкая сити/2023-07-18_13-51-59.127269_from_78005055934_to_74955141111_session_3098031427_talk_whisper_large.txt</td>\n",
              "      <td></td>\n",
              "    </tr>\n",
              "  </tbody>\n",
              "</table>\n",
              "</div>\n",
              "    <div class=\"colab-df-buttons\">\n",
              "\n",
              "  <div class=\"colab-df-container\">\n",
              "    <button class=\"colab-df-convert\" onclick=\"convertToInteractive('df-0de51e32-ccd1-4324-baf2-d8ff6ed3e902')\"\n",
              "            title=\"Convert this dataframe to an interactive table.\"\n",
              "            style=\"display:none;\">\n",
              "\n",
              "  <svg xmlns=\"http://www.w3.org/2000/svg\" height=\"24px\" viewBox=\"0 -960 960 960\">\n",
              "    <path d=\"M120-120v-720h720v720H120Zm60-500h600v-160H180v160Zm220 220h160v-160H400v160Zm0 220h160v-160H400v160ZM180-400h160v-160H180v160Zm440 0h160v-160H620v160ZM180-180h160v-160H180v160Zm440 0h160v-160H620v160Z\"/>\n",
              "  </svg>\n",
              "    </button>\n",
              "\n",
              "  <style>\n",
              "    .colab-df-container {\n",
              "      display:flex;\n",
              "      gap: 12px;\n",
              "    }\n",
              "\n",
              "    .colab-df-convert {\n",
              "      background-color: #E8F0FE;\n",
              "      border: none;\n",
              "      border-radius: 50%;\n",
              "      cursor: pointer;\n",
              "      display: none;\n",
              "      fill: #1967D2;\n",
              "      height: 32px;\n",
              "      padding: 0 0 0 0;\n",
              "      width: 32px;\n",
              "    }\n",
              "\n",
              "    .colab-df-convert:hover {\n",
              "      background-color: #E2EBFA;\n",
              "      box-shadow: 0px 1px 2px rgba(60, 64, 67, 0.3), 0px 1px 3px 1px rgba(60, 64, 67, 0.15);\n",
              "      fill: #174EA6;\n",
              "    }\n",
              "\n",
              "    .colab-df-buttons div {\n",
              "      margin-bottom: 4px;\n",
              "    }\n",
              "\n",
              "    [theme=dark] .colab-df-convert {\n",
              "      background-color: #3B4455;\n",
              "      fill: #D2E3FC;\n",
              "    }\n",
              "\n",
              "    [theme=dark] .colab-df-convert:hover {\n",
              "      background-color: #434B5C;\n",
              "      box-shadow: 0px 1px 3px 1px rgba(0, 0, 0, 0.15);\n",
              "      filter: drop-shadow(0px 1px 2px rgba(0, 0, 0, 0.3));\n",
              "      fill: #FFFFFF;\n",
              "    }\n",
              "  </style>\n",
              "\n",
              "    <script>\n",
              "      const buttonEl =\n",
              "        document.querySelector('#df-0de51e32-ccd1-4324-baf2-d8ff6ed3e902 button.colab-df-convert');\n",
              "      buttonEl.style.display =\n",
              "        google.colab.kernel.accessAllowed ? 'block' : 'none';\n",
              "\n",
              "      async function convertToInteractive(key) {\n",
              "        const element = document.querySelector('#df-0de51e32-ccd1-4324-baf2-d8ff6ed3e902');\n",
              "        const dataTable =\n",
              "          await google.colab.kernel.invokeFunction('convertToInteractive',\n",
              "                                                    [key], {});\n",
              "        if (!dataTable) return;\n",
              "\n",
              "        const docLinkHtml = 'Like what you see? Visit the ' +\n",
              "          '<a target=\"_blank\" href=https://colab.research.google.com/notebooks/data_table.ipynb>data table notebook</a>'\n",
              "          + ' to learn more about interactive tables.';\n",
              "        element.innerHTML = '';\n",
              "        dataTable['output_type'] = 'display_data';\n",
              "        await google.colab.output.renderOutput(dataTable, element);\n",
              "        const docLink = document.createElement('div');\n",
              "        docLink.innerHTML = docLinkHtml;\n",
              "        element.appendChild(docLink);\n",
              "      }\n",
              "    </script>\n",
              "  </div>\n",
              "\n",
              "\n",
              "<div id=\"df-be129885-1e59-4b37-9934-44e62760fd0b\">\n",
              "  <button class=\"colab-df-quickchart\" onclick=\"quickchart('df-be129885-1e59-4b37-9934-44e62760fd0b')\"\n",
              "            title=\"Suggest charts.\"\n",
              "            style=\"display:none;\">\n",
              "\n",
              "<svg xmlns=\"http://www.w3.org/2000/svg\" height=\"24px\"viewBox=\"0 0 24 24\"\n",
              "     width=\"24px\">\n",
              "    <g>\n",
              "        <path d=\"M19 3H5c-1.1 0-2 .9-2 2v14c0 1.1.9 2 2 2h14c1.1 0 2-.9 2-2V5c0-1.1-.9-2-2-2zM9 17H7v-7h2v7zm4 0h-2V7h2v10zm4 0h-2v-4h2v4z\"/>\n",
              "    </g>\n",
              "</svg>\n",
              "  </button>\n",
              "\n",
              "<style>\n",
              "  .colab-df-quickchart {\n",
              "      --bg-color: #E8F0FE;\n",
              "      --fill-color: #1967D2;\n",
              "      --hover-bg-color: #E2EBFA;\n",
              "      --hover-fill-color: #174EA6;\n",
              "      --disabled-fill-color: #AAA;\n",
              "      --disabled-bg-color: #DDD;\n",
              "  }\n",
              "\n",
              "  [theme=dark] .colab-df-quickchart {\n",
              "      --bg-color: #3B4455;\n",
              "      --fill-color: #D2E3FC;\n",
              "      --hover-bg-color: #434B5C;\n",
              "      --hover-fill-color: #FFFFFF;\n",
              "      --disabled-bg-color: #3B4455;\n",
              "      --disabled-fill-color: #666;\n",
              "  }\n",
              "\n",
              "  .colab-df-quickchart {\n",
              "    background-color: var(--bg-color);\n",
              "    border: none;\n",
              "    border-radius: 50%;\n",
              "    cursor: pointer;\n",
              "    display: none;\n",
              "    fill: var(--fill-color);\n",
              "    height: 32px;\n",
              "    padding: 0;\n",
              "    width: 32px;\n",
              "  }\n",
              "\n",
              "  .colab-df-quickchart:hover {\n",
              "    background-color: var(--hover-bg-color);\n",
              "    box-shadow: 0 1px 2px rgba(60, 64, 67, 0.3), 0 1px 3px 1px rgba(60, 64, 67, 0.15);\n",
              "    fill: var(--button-hover-fill-color);\n",
              "  }\n",
              "\n",
              "  .colab-df-quickchart-complete:disabled,\n",
              "  .colab-df-quickchart-complete:disabled:hover {\n",
              "    background-color: var(--disabled-bg-color);\n",
              "    fill: var(--disabled-fill-color);\n",
              "    box-shadow: none;\n",
              "  }\n",
              "\n",
              "  .colab-df-spinner {\n",
              "    border: 2px solid var(--fill-color);\n",
              "    border-color: transparent;\n",
              "    border-bottom-color: var(--fill-color);\n",
              "    animation:\n",
              "      spin 1s steps(1) infinite;\n",
              "  }\n",
              "\n",
              "  @keyframes spin {\n",
              "    0% {\n",
              "      border-color: transparent;\n",
              "      border-bottom-color: var(--fill-color);\n",
              "      border-left-color: var(--fill-color);\n",
              "    }\n",
              "    20% {\n",
              "      border-color: transparent;\n",
              "      border-left-color: var(--fill-color);\n",
              "      border-top-color: var(--fill-color);\n",
              "    }\n",
              "    30% {\n",
              "      border-color: transparent;\n",
              "      border-left-color: var(--fill-color);\n",
              "      border-top-color: var(--fill-color);\n",
              "      border-right-color: var(--fill-color);\n",
              "    }\n",
              "    40% {\n",
              "      border-color: transparent;\n",
              "      border-right-color: var(--fill-color);\n",
              "      border-top-color: var(--fill-color);\n",
              "    }\n",
              "    60% {\n",
              "      border-color: transparent;\n",
              "      border-right-color: var(--fill-color);\n",
              "    }\n",
              "    80% {\n",
              "      border-color: transparent;\n",
              "      border-right-color: var(--fill-color);\n",
              "      border-bottom-color: var(--fill-color);\n",
              "    }\n",
              "    90% {\n",
              "      border-color: transparent;\n",
              "      border-bottom-color: var(--fill-color);\n",
              "    }\n",
              "  }\n",
              "</style>\n",
              "\n",
              "  <script>\n",
              "    async function quickchart(key) {\n",
              "      const quickchartButtonEl =\n",
              "        document.querySelector('#' + key + ' button');\n",
              "      quickchartButtonEl.disabled = true;  // To prevent multiple clicks.\n",
              "      quickchartButtonEl.classList.add('colab-df-spinner');\n",
              "      try {\n",
              "        const charts = await google.colab.kernel.invokeFunction(\n",
              "            'suggestCharts', [key], {});\n",
              "      } catch (error) {\n",
              "        console.error('Error during call to suggestCharts:', error);\n",
              "      }\n",
              "      quickchartButtonEl.classList.remove('colab-df-spinner');\n",
              "      quickchartButtonEl.classList.add('colab-df-quickchart-complete');\n",
              "    }\n",
              "    (() => {\n",
              "      let quickchartButtonEl =\n",
              "        document.querySelector('#df-be129885-1e59-4b37-9934-44e62760fd0b button');\n",
              "      quickchartButtonEl.style.display =\n",
              "        google.colab.kernel.accessAllowed ? 'block' : 'none';\n",
              "    })();\n",
              "  </script>\n",
              "</div>\n",
              "    </div>\n",
              "  </div>\n"
            ]
          },
          "metadata": {},
          "execution_count": 30
        }
      ]
    },
    {
      "cell_type": "code",
      "source": [
        "# Сохраняем empty_transcriptions_text_df в файл\n",
        "with open(df_path + 'empty_transcriptions_text_df.pkl', 'wb') as f:\n",
        "  pkl.dump(empty_transcriptions_text_df, f)"
      ],
      "metadata": {
        "id": "_VxacxJ6GWvR"
      },
      "execution_count": null,
      "outputs": []
    },
    {
      "cell_type": "code",
      "source": [
        "# Файлы с пустыми текстами транскрибации звонков\n",
        "empty_transcriptions_text_files_df = empty_transcriptions_text_df['Файл транскрибации звонка']\n",
        "empty_transcriptions_text_files_df"
      ],
      "metadata": {
        "colab": {
          "base_uri": "https://localhost:8080/"
        },
        "id": "OKCnJxriIeaN",
        "outputId": "f5a71dfb-c82e-45c2-f48f-bd45dc432f46"
      },
      "execution_count": null,
      "outputs": [
        {
          "output_type": "execute_result",
          "data": {
            "text/plain": [
              "26            Расшифровки_Записи звонков_хедлайнер/2023-05-12_15-04-17.416188_from_79139019900_to_74959339929_session_2925299034_talk_whisper_large.txt\n",
              "100           Расшифровки_Записи звонков_хедлайнер/2023-05-11_10-22-43.270495_from_79829841856_to_74959339929_session_2933299365_talk_whisper_large.txt\n",
              "121           Расшифровки_Записи звонков_хедлайнер/2023-05-11_14-07-25.991134_from_79031167564_to_74959339929_session_2934164741_talk_whisper_large.txt\n",
              "204           Расшифровки_Записи звонков_хедлайнер/2023-05-15_13-03-20.573372_from_79168159427_to_74959339929_session_2941244845_talk_whisper_large.txt\n",
              "264           Расшифровки_Записи звонков_хедлайнер/2023-05-23_12-13-57.062882_from_74957457444_to_74952762447_session_2944740650_talk_whisper_large.txt\n",
              "359           Расшифровки_Записи звонков_хедлайнер/2023-05-19_16-16-07.092742_from_79303332632_to_74959339929_session_2951238247_talk_whisper_large.txt\n",
              "845           Расшифровки_Записи звонков_хедлайнер/2023-06-05_14-31-02.655148_from_79303332632_to_74959339929_session_2985862937_talk_whisper_large.txt\n",
              "965        Расшифровки_Записи звонков_хедлайнер/2023-06-10_12-51-20.873488_from_74957457444_to_74959339929_session_2996988633_talk(1)_whisper_large.txt\n",
              "980           Расшифровки_Записи звонков_хедлайнер/2023-06-12_14-57-17.236811_from_79518834808_to_74997552563_session_2998907083_talk_whisper_large.txt\n",
              "985           Расшифровки_Записи звонков_хедлайнер/2023-06-12_14-05-24.529131_from_79035779604_to_74997552563_session_2999524801_talk_whisper_large.txt\n",
              "1289          Расшифровки_Записи звонков_хедлайнер/2023-06-27_12-33-17.299826_from_79684159940_to_74959339929_session_3051362192_talk_whisper_large.txt\n",
              "1367          Расшифровки_Записи звонков_хедлайнер/2023-06-30_12-45-13.636037_from_79152403560_to_74959339929_session_3058637943_talk_whisper_large.txt\n",
              "1446          Расшифровки_Записи звонков_хедлайнер/2023-07-04_11-07-27.554770_from_79152403560_to_74959339929_session_3065260231_talk_whisper_large.txt\n",
              "1467          Расшифровки_Записи звонков_хедлайнер/2023-07-04_11-29-29.414889_from_79857275788_to_74959339929_session_3066603837_talk_whisper_large.txt\n",
              "1545              Расшифровки_Записи звонков_хедлайнер/2023-07-06_11-41-02.989748_from_74951626925_to_0188880_session_3071614562_talk_whisper_large.txt\n",
              "1639          Расшифровки_Записи звонков_хедлайнер/2023-07-10_11-05-03.322499_from_74957457444_to_74959339929_session_3077651521_talk_whisper_large.txt\n",
              "1721          Расшифровки_Записи звонков_хедлайнер/2023-07-12_15-46-33.419269_from_74957457444_to_74959339902_session_3083254159_talk_whisper_large.txt\n",
              "1751          Расшифровки_Записи звонков_хедлайнер/2023-07-12_12-37-45.614131_from_79854466888_to_74959339929_session_3084778582_talk_whisper_large.txt\n",
              "1761          Расшифровки_Записи звонков_хедлайнер/2023-07-13_11-25-57.713926_from_79874152768_to_74959339929_session_3085233996_talk_whisper_large.txt\n",
              "1883          Расшифровки_Записи звонков_хедлайнер/2023-07-18_10-10-22.418931_from_79067521809_to_74959339929_session_3094358589_talk_whisper_large.txt\n",
              "1952          Расшифровки_Записи звонков_хедлайнер/2023-07-18_10-32-40.014916_from_79067521809_to_74959339929_session_3097228437_talk_whisper_large.txt\n",
              "1955          Расшифровки_Записи звонков_хедлайнер/2023-07-19_10-04-52.194955_from_79655282895_to_74959339929_session_3097478646_talk_whisper_large.txt\n",
              "264               Расшифровки_Записи звонков_primavera/2023-04-18_09-25-47.543359_from_79361073669_to_0111652_session_2891158064_talk_whisper_large.txt\n",
              "516               Расшифровки_Записи звонков_primavera/2023-05-04_11-49-51.026132_from_79258445072_to_0173695_session_2922008589_talk_whisper_large.txt\n",
              "520               Расшифровки_Записи звонков_primavera/2023-05-04_13-06-49.828945_from_79217503672_to_0111652_session_2922314081_talk_whisper_large.txt\n",
              "535               Расшифровки_Записи звонков_primavera/2023-05-05_10-28-06.978283_from_79645914305_to_0111639_session_2924149861_talk_whisper_large.txt\n",
              "712               Расшифровки_Записи звонков_primavera/2023-05-12_08-54-10.888071_from_74951473400_to_0111631_session_2945579284_talk_whisper_large.txt\n",
              "914               Расшифровки_Записи звонков_primavera/2023-05-21_17-57-04.637603_from_79254503575_to_0150108_session_2967221656_talk_whisper_large.txt\n",
              "990               Расшифровки_Записи звонков_primavera/2023-06-08_10-56-05.252367_from_79823054057_to_0111639_session_2975329822_talk_whisper_large.txt\n",
              "1036              Расшифровки_Записи звонков_primavera/2023-06-02_09-17-40.433276_from_79873218072_to_0111639_session_2979838157_talk_whisper_large.txt\n",
              "1254              Расшифровки_Записи звонков_primavera/2023-06-05_15-10-17.404885_from_74752289381_to_0111639_session_3002547728_talk_whisper_large.txt\n",
              "1341              Расшифровки_Записи звонков_primavera/2023-06-14_16-18-31.079748_from_74999571970_to_0150111_session_3023214008_talk_whisper_large.txt\n",
              "1540              Расшифровки_Записи звонков_primavera/2023-06-24_11-39-51.019117_from_79120050438_to_0197879_session_3045474518_talk_whisper_large.txt\n",
              "1560              Расшифровки_Записи звонков_primavera/2023-06-26_12-32-01.038354_from_74950440819_to_0111642_session_3047835589_talk_whisper_large.txt\n",
              "1581              Расшифровки_Записи звонков_primavera/2023-06-26_17-41-21.069678_from_79647029122_to_0197872_session_3049901683_talk_whisper_large.txt\n",
              "1673              Расшифровки_Записи звонков_primavera/2023-07-02_14-10-02.533800_from_79067075726_to_0111642_session_3061852918_talk_whisper_large.txt\n",
              "1800              Расшифровки_Записи звонков_primavera/2023-07-08_14-42-19.958710_from_79274404727_to_0111639_session_3074722684_talk_whisper_large.txt\n",
              "1880              Расшифровки_Записи звонков_primavera/2023-07-07_18-46-01.134079_from_79370597393_to_0111631_session_3082955920_talk_whisper_large.txt\n",
              "1915              Расшифровки_Записи звонков_primavera/2023-07-13_09-29-45.230765_from_79892054760_to_0111639_session_3086614977_talk_whisper_large.txt\n",
              "916     Расшифровки_Записи звонков_павелецкая сити/2023-07-17_11-37-44.581957_from_79107702544_to_74950216267_session_3094893897_talk_whisper_large.txt\n",
              "946     Расшифровки_Записи звонков_павелецкая сити/2023-07-18_11-33-51.022419_from_79692817796_to_74955141111_session_3097488302_talk_whisper_large.txt\n",
              "955     Расшифровки_Записи звонков_павелецкая сити/2023-07-18_13-51-59.127269_from_78005055934_to_74955141111_session_3098031427_talk_whisper_large.txt\n",
              "Name: Файл транскрибации звонка, dtype: object"
            ]
          },
          "metadata": {},
          "execution_count": 36
        }
      ]
    },
    {
      "cell_type": "code",
      "source": [
        "# Сохраняем empty_transcriptions_text_files_df в файл Microsoft Excell\n",
        "with pd.ExcelWriter(table_path + 'Файлы с пустыми текстами транскрибации звонков.xlsx') as excel_writer:\n",
        "  empty_transcriptions_text_files_df.to_excel(excel_writer, sheet_name='Файлы с пустыми текстами транскрибации звонков', index=False)"
      ],
      "metadata": {
        "id": "hOfqhHfFGk9r"
      },
      "execution_count": null,
      "outputs": []
    },
    {
      "cell_type": "markdown",
      "source": [
        "#### Добавление текстов транскрибации звонков в общий датафрейм"
      ],
      "metadata": {
        "id": "scUjk_Eo-Au5"
      }
    },
    {
      "cell_type": "code",
      "source": [
        "# Исходный размеры датафреймов\n",
        "print(total_match_df.shape)\n",
        "print(total_not_match_df.shape)\n",
        "print(total_df.shape)"
      ],
      "metadata": {
        "colab": {
          "base_uri": "https://localhost:8080/"
        },
        "id": "xCtvUc1MVBLA",
        "outputId": "24ceb7ae-3e2d-4d4c-972f-9e68f5aa48de"
      },
      "execution_count": null,
      "outputs": [
        {
          "output_type": "stream",
          "name": "stdout",
          "text": [
            "(4562, 76)\n",
            "(14241, 76)\n",
            "(18803, 76)\n"
          ]
        }
      ]
    },
    {
      "cell_type": "code",
      "source": [
        "print(f'{total_match_df.shape[0]} + {total_not_match_df.shape[0]} = {total_match_df.shape[0] + total_not_match_df.shape[0]}')"
      ],
      "metadata": {
        "colab": {
          "base_uri": "https://localhost:8080/"
        },
        "id": "k3oY2Q3ndBnN",
        "outputId": "78d71d92-6eed-43a7-e99d-c7bd1cad089a"
      },
      "execution_count": null,
      "outputs": [
        {
          "output_type": "stream",
          "name": "stdout",
          "text": [
            "4562 + 14241 = 18803\n"
          ]
        }
      ]
    },
    {
      "cell_type": "code",
      "source": [
        "# Добавляем столбцы 'Файл транскрибации звонка' и 'Текст транскрибации звонка Whisper' в датафрейм без файлов записей звонков\n",
        "total_not_match_df['Файл транскрибации звонка']          = 'нет файла транскрибации звонка'\n",
        "total_not_match_df['Текст транскрибации звонка Whisper'] = 'нет текста транскрибации звонка'"
      ],
      "metadata": {
        "id": "Fa8EwDb0d63y"
      },
      "execution_count": null,
      "outputs": []
    },
    {
      "cell_type": "code",
      "source": [
        "# Добавляем столбцы 'Файл транскрибации звонка' и 'Текст транскрибации звонка' в датафрейм с файлами записей звонков\n",
        "total_match_df = total_match_df.merge(transcriptions_df[['Идентификатор сессии звонка',\n",
        "                                                         'Файл транскрибации звонка',\n",
        "                                                         'Текст транскрибации звонка']][transcriptions_df['Идентификатор сессии звонка'].isin(total_match_df['Идентификатор сессии звонка'].values)],\n",
        "                                                        how='outer',\n",
        "                                                        on=['Идентификатор сессии звонка'])"
      ],
      "metadata": {
        "id": "_RLPRAeU42cV"
      },
      "execution_count": null,
      "outputs": []
    },
    {
      "cell_type": "code",
      "source": [
        "# Переименовываем столбец 'Текст транскрибации звонка' в 'Текст транскрибации звонка Whisper'\n",
        "total_match_df = total_match_df.rename(columns={'Текст транскрибации звонка': 'Текст транскрибации звонка Whisper'})"
      ],
      "metadata": {
        "id": "tPH7DvrEkABj"
      },
      "execution_count": null,
      "outputs": []
    },
    {
      "cell_type": "code",
      "source": [
        "# Соединяем total_match_df и total_not_match_df\n",
        "total_transcriptions_text_df = pd.concat([total_match_df, total_not_match_df])\n",
        "total_transcriptions_text_df.index = range(total_transcriptions_text_df.shape[0])"
      ],
      "metadata": {
        "id": "hH5J156Sknts"
      },
      "execution_count": null,
      "outputs": []
    },
    {
      "cell_type": "code",
      "source": [
        "# Получившиеся размеры датафреймов\n",
        "print(total_match_df.shape)\n",
        "print(total_not_match_df.shape)\n",
        "print(total_transcriptions_text_df.shape)"
      ],
      "metadata": {
        "colab": {
          "base_uri": "https://localhost:8080/"
        },
        "id": "jU2e6hLvWJSa",
        "outputId": "80ebe5a3-9dd2-41b5-bff9-ae7538ae6b3e"
      },
      "execution_count": null,
      "outputs": [
        {
          "output_type": "stream",
          "name": "stdout",
          "text": [
            "(4562, 78)\n",
            "(14241, 78)\n",
            "(18803, 78)\n"
          ]
        }
      ]
    },
    {
      "cell_type": "code",
      "source": [
        "print(f'{total_match_df.shape[0]} + {total_not_match_df.shape[0]} = {total_match_df.shape[0] + total_not_match_df.shape[0]}')"
      ],
      "metadata": {
        "colab": {
          "base_uri": "https://localhost:8080/"
        },
        "id": "nXqPXnfBl_Pi",
        "outputId": "96026aee-a1c4-4db5-a3a9-a3b95bbc8b7d"
      },
      "execution_count": null,
      "outputs": [
        {
          "output_type": "stream",
          "name": "stdout",
          "text": [
            "4562 + 14241 = 18803\n"
          ]
        }
      ]
    },
    {
      "cell_type": "code",
      "source": [
        "total_transcriptions_text_df['Текст транскрибации звонка Whisper'].head()"
      ],
      "metadata": {
        "colab": {
          "base_uri": "https://localhost:8080/"
        },
        "id": "IDw0GDPbmfeo",
        "outputId": "e272538a-28d9-4b49-f7d5-48bfc170dc25"
      },
      "execution_count": null,
      "outputs": [
        {
          "output_type": "execute_result",
          "data": {
            "text/plain": [
              "0                                                                                                                                                                                                                                                                                                                                                                                                                                                                                                                                                                                                                                                                                                                                                                                                                                           Ахрилань, Нержавой комплекс, здравствуйте, Светлана. Здравствуйте, скажите, пожалуйста, автопараты КМН А-603. Ой, это вы ошибаетесь, нет-нет, вы позвонили в другую компанию, перезвоните. Угу.\n",
              "1                                                                                                                                                                                                                                                                                                                                                                                                                                                                                                                                                                                                                                                                                                                                                                                                                                                                                                     Звонок по объявлению. Разговор может быть записан. Вам интересно? Позвольте, я продолжу, а потом, если что, зададите вопросы. Хорошо?\n",
              "2    Здравствуйте! Вы позвонили в группу компании «Картроф». Благодарим вас за звонок. Пожалуйста, дождитесь ответа оператора. Добрый вечер, группа компании «Картроф». Меня зовут Любовь. Любовь, добрый день. Виктория рассматривает жилой комплекс «Хедлайнер». Рассматривает трехкомнатную квартиру. Бюджет 40 миллионов. Да, спасибо. Добрый вечер, жилой комплекс «Хедлайнер» соединяется с делом продаж. Здравствуйте! Виктория, добрый день. Меня зовут Алена, менеджер проекта «Хедлайнер». Что могу быть вам полезно? Здравствуйте! Я хотела узнать по поводу вашего проекта. Есть ли квартиры готовые по планировкам, по ремонту, без ремонта, с ремонтом? Что есть вообще? Вы знакомы с нашим проектом? Нет, не совсем так, чуть-чуть совсем. А тогда, ну, а локацию хотя бы знаете, где мы находимся? Локацию, да. Да-да, локацию смотрела уже. Ага. Проект «Хедлайнер» находится у станции метро «Шелепиха». Школы рядом есть, муниципальная, романовская школа в 300 метрах, детский сад, также романовский. Также на тер...\n",
              "3                                                                                                                                                                                                                                                                                                                                                                                                                                                                                                                                                                                                                                                                                                                                                                                                                                                                                                                                                                                                                                     Beep.\n",
              "4                                                                                                                                                                                                                                                                                                                                                                                                                                                                                                                                                                                                                                                                                                                                                                                                                                                                                                                                                                                        📷 Живой комплекс. Хедлайнер Наталья. Здравствуйте!\n",
              "Name: Текст транскрибации звонка Whisper, dtype: object"
            ]
          },
          "metadata": {},
          "execution_count": 89
        }
      ]
    },
    {
      "cell_type": "code",
      "source": [
        "# Сохраняем total_transcriptions_text_df в файл\n",
        "with open(df_path + 'total_transcriptions_text_df.pkl', 'wb') as f:\n",
        "  pkl.dump(total_transcriptions_text_df, f)"
      ],
      "metadata": {
        "id": "47rxnMz-mUYD"
      },
      "execution_count": null,
      "outputs": []
    },
    {
      "cell_type": "markdown",
      "source": [
        "# 5 неделя"
      ],
      "metadata": {
        "id": "CWbdpX5X-QzO"
      }
    },
    {
      "cell_type": "code",
      "source": [
        "!rm -r sample_data"
      ],
      "metadata": {
        "id": "QuICvItM-TXa"
      },
      "execution_count": null,
      "outputs": []
    },
    {
      "cell_type": "code",
      "source": [
        "# Подключаем google-диск\n",
        "from google.colab import drive\n",
        "drive.mount('/content/drive')\n",
        "my_drv_path = '/content/drive/MyDrive/'"
      ],
      "metadata": {
        "id": "WoDIpDdx-WIY",
        "colab": {
          "base_uri": "https://localhost:8080/"
        },
        "outputId": "b04fff8d-748c-4dc9-b28b-4f30c46d6bad"
      },
      "execution_count": null,
      "outputs": [
        {
          "output_type": "stream",
          "name": "stdout",
          "text": [
            "Mounted at /content/drive\n"
          ]
        }
      ]
    },
    {
      "cell_type": "markdown",
      "source": [
        "## Библиотеки и переменные"
      ],
      "metadata": {
        "id": "85mLNw7zY71z"
      }
    },
    {
      "cell_type": "code",
      "source": [
        "import pickle as pkl # для сохранения и загрузки переменных\n",
        "import pandas as pd  # для работы с таблицами\n",
        "import os\n",
        "import re\n",
        "\n",
        "# Параметры отображения датафреймов\n",
        "pd.options.display.max_rows     = 99\n",
        "pd.options.display.max_colwidth = 999\n",
        "\n",
        "df_path             = my_drv_path + 'media108.ru/Датафреймы/'             # путь к папке для датафреймов\n",
        "table_path          = my_drv_path + 'media108.ru/Таблицы/'                # путь к папке для таблиц\n",
        "not_target_teg_path = my_drv_path + 'media108.ru/Теги нецелевых звонков/' # путь к папке для файлов с транскрибацией по тегам нецелевых звонков"
      ],
      "metadata": {
        "id": "VlqClagIY715"
      },
      "execution_count": null,
      "outputs": []
    },
    {
      "cell_type": "markdown",
      "source": [
        "## Регулярное выражение для столбца `Теги`"
      ],
      "metadata": {
        "id": "gjlKeRchMw5p"
      }
    },
    {
      "cell_type": "code",
      "source": [
        "pattern = '.*Целевой_М108.*|.*первичный целевой.*'"
      ],
      "metadata": {
        "id": "LLCoxYV9Meb8"
      },
      "execution_count": null,
      "outputs": []
    },
    {
      "cell_type": "markdown",
      "source": [
        "## Анализ столбца `Теги`"
      ],
      "metadata": {
        "id": "bZlngnPyKz2W"
      }
    },
    {
      "cell_type": "code",
      "source": [
        "# Загрузка total_df\n",
        "with open(df_path + 'total_df.pkl', 'rb') as f:\n",
        "  total_df = pkl.load(f)"
      ],
      "metadata": {
        "id": "bZzmP1WZNLJL"
      },
      "execution_count": null,
      "outputs": []
    },
    {
      "cell_type": "code",
      "source": [
        "# Оцениваем количество уникальных значений столбца 'Теги'\n",
        "print(f\"Количество уникальных значений столбца 'Теги': {total_df['Теги'].nunique()}\")\n",
        "print(f\"                                  Всего строк: {total_df['Теги'].shape[0]}\")\n",
        "print(f\"                                      Процент: {total_df['Теги'].nunique()/total_df['Теги'].shape[0]:.2%}\")"
      ],
      "metadata": {
        "colab": {
          "base_uri": "https://localhost:8080/"
        },
        "id": "XaTEZjveNXix",
        "outputId": "d9651263-1108-4ae8-ffb2-86484a69f1c2"
      },
      "execution_count": null,
      "outputs": [
        {
          "output_type": "stream",
          "name": "stdout",
          "text": [
            "Количество уникальных значений столбца 'Теги': 584\n",
            "                                  Всего строк: 18803\n",
            "                                      Процент: 3.11%\n"
          ]
        }
      ]
    },
    {
      "cell_type": "code",
      "source": [
        "# Топ 10 уникальных значений столбца 'Теги'\n",
        "print(total_df['Теги'].unique()[:10])"
      ],
      "metadata": {
        "colab": {
          "base_uri": "https://localhost:8080/"
        },
        "id": "-pVTQUZLNsPl",
        "outputId": "99e29020-c4c6-4bb8-d493-24fbf3864473"
      },
      "execution_count": null,
      "outputs": [
        {
          "output_type": "stream",
          "name": "stdout",
          "text": [
            "['Первичный целевой - 2 очередь - ипотека - 3 очередь - 2-ком'\n",
            " 'спорный - нет соединения'\n",
            " 'Первичный целевой - 2 очередь - запись на просмотр - 3 очередь - 3-ком - 4-ком'\n",
            " 'Лид - ПБ - 2 очередь - 2-ком - Условно целевой'\n",
            " 'Лид - спорный - 2 очередь - 2-ком - связь прервалась'\n",
            " 'Первичный целевой - 2 очередь - 2-ком' 'Нецелевой звонок - ошибка'\n",
            " 'постпродажное обслуживание - Вторичный целевой'\n",
            " 'Условно целевой - Машиноместо'\n",
            " 'спорный - не дозвонились до ОП номер не оставлен']\n"
          ]
        }
      ]
    },
    {
      "cell_type": "markdown",
      "source": [
        "### Теги целевых звонков"
      ],
      "metadata": {
        "id": "huDsAVZWdDMk"
      }
    },
    {
      "cell_type": "code",
      "source": [
        "# Теги целевых звонков\n",
        "target_teg_list = []\n",
        "for teg in total_df['Теги'].unique():\n",
        "  if re.findall(pattern.lower(), teg.lower()):\n",
        "    print(teg)\n",
        "    target_teg_list.append(teg)\n",
        "print('-'*100)\n",
        "print(f'{len(target_teg_list)} тегов целевых звонков')\n",
        "target_teg_df = pd.DataFrame(data=target_teg_list, columns=['Теги целевых звонков'])"
      ],
      "metadata": {
        "colab": {
          "base_uri": "https://localhost:8080/"
        },
        "id": "VOFEDtP9XDbI",
        "outputId": "9d4499bb-38ac-4804-bd59-bb4bfa1b9565"
      },
      "execution_count": null,
      "outputs": [
        {
          "output_type": "stream",
          "name": "stdout",
          "text": [
            "Первичный целевой - 2 очередь - ипотека - 3 очередь - 2-ком\n",
            "Первичный целевой - 2 очередь - запись на просмотр - 3 очередь - 3-ком - 4-ком\n",
            "Первичный целевой - 2 очередь - 2-ком\n",
            "Первичный целевой - ипотека - 3 очередь - 2-ком\n",
            "Лид - Первичный целевой - 2 очередь - 3 очередь - 3-ком - 4-ком\n",
            "Первичный целевой - 3 очередь - 2-ком\n",
            "Первичный целевой - 2 очередь - ипотека - интересует рассрочка - 3 очередь - 1-ком\n",
            "уточнение - Первичный целевой - не определился\n",
            "Первичный целевой - интересует рассрочка - 3 очередь - 3-ком\n",
            "Первичный целевой - 2 очередь - 3 очередь - 2-ком - 1-ком\n",
            "Первичный целевой - ипотека - 3 очередь - 2-ком - 1-ком\n",
            "Первичный целевой - ипотека - студия - 1-ком\n",
            "Первичный целевой - интересует отделка - 3 очередь - 1-ком\n",
            "Первичный целевой - 2 очередь - 3 очередь - 1-ком\n",
            "Лид - Первичный целевой - 3 очередь - 4-ком\n",
            "интересуют скидки - Первичный целевой - ипотека - студия - 3 очередь\n",
            "Первичный целевой - 3 очередь - 1-ком\n",
            "Лид - Первичный целевой - 2 очередь - 2-ком\n",
            "Первичный целевой - 3 очередь - 3-ком\n",
            "Лид - Первичный целевой - 2 очередь - 1-ком\n",
            "Первичный целевой - запись на просмотр - 3 очередь - 2-ком\n",
            "Первичный целевой - 2 очередь - ипотека - интересует рассрочка - 3 очередь - 3-ком\n",
            "Первичный целевой - 2 очередь - блок - 180-200кв м\n",
            "Лид - Первичный целевой - 2 очередь - студия - 3 очередь - 1-ком\n",
            "Первичный целевой - студия - интерес к объекту - 3-ком - 4-ком\n",
            "Первичный целевой - интересует рассрочка - интересует отделка - не определился\n",
            "Лид - Первичный целевой - 2-ком - отправить на WhatsApp\n",
            "Первичный целевой - интересует рассрочка - 3 очередь - 3-ком - 4-ком\n",
            "Лид - Первичный целевой - 2 очередь - 3 очередь - 2-ком\n",
            "Первичный целевой - ипотека - 3 очередь - 1-ком\n",
            "Первичный целевой - 3 очередь - 4-ком\n",
            "Первичный целевой - 2 очередь - 3 очередь - 2-ком - 3-ком\n",
            "Первичный целевой - 2 очередь - 3-ком\n",
            "Лид - Первичный целевой - интересует рассрочка - 3 очередь - 3-ком\n",
            "Первичный целевой - запись на просмотр - не определился\n",
            "Первичный целевой - 2 очередь - 3 очередь - 4-ком - возможно фрод\n",
            "Первичный целевой - 2 очередь - 3 очередь - 4-ком\n",
            "Лид - ПБ - Первичный целевой - 3 очередь - 2-ком\n",
            "Лид - Первичный целевой - 1-ком\n",
            "Первичный целевой - 3 очередь - 2-ком - 2 квартиры\n",
            "ПБ - Первичный целевой - 2-ком - 3-ком\n",
            "Первичный целевой - 2 очередь - 1-ком\n",
            "Лид - Первичный целевой - ипотека - интересует отделка - 3 очередь - 1-ком\n",
            "ПБ - Первичный целевой - интересует ОП\n",
            "Лид - Первичный целевой - 2 очередь - ипотека - 3 очередь - 4-ком\n",
            "Первичный целевой - 2 очередь - 3-ком - 4-ком\n",
            "Первичный целевой - 2 очередь - ипотека - 3-ком\n",
            "Первичный целевой - 3 очередь - 2-ком - 1-ком\n",
            "Первичный целевой - студия - 3 очередь - 2-ком\n",
            "Лид - Первичный целевой - 2 очередь - 3 очередь - 2-ком - 1-ком\n",
            "Лид - Первичный целевой - 3 очередь - 3-ком\n",
            "Первичный целевой - 3 очередь - 3-ком - 4-ком\n",
            "Первичный целевой - 1 очередь - 2-ком - с отделкой\n",
            "Первичный целевой - ипотека - студия - 3 очередь\n",
            "Лид - Первичный целевой - 3 очередь - 2-ком - 3-ком\n",
            "Первичный целевой - студия - 3 очередь - 1-ком\n",
            "Лид - Первичный целевой - 3 очередь - 2-ком\n",
            "Лид - Первичный целевой - 2 очередь - 3 очередь - 1-ком\n",
            "Лид - Первичный целевой - 2 очередь - 3-ком - 4-ком\n",
            "Первичный целевой - ипотека - интересует рассрочка - 3 очередь - 2-ком\n",
            "Первичный целевой - ипотека - условия оплаты - не определился\n",
            "Первичный целевой - 2 очередь - интересует отделка - 2-ком - 3-ком\n",
            "Лид - Первичный целевой - 2 очередь - интересует отделка - 3 очередь - 2-ком - Условно целевой - 3-ком\n",
            "Первичный целевой - 2 очередь - ипотека - 1-ком\n",
            "Первичный целевой - 2 очередь - 3 очередь - интерес к объекту\n",
            "Первичный целевой - 3 очередь - не определился\n",
            "Первичный целевой - ипотека - 2-ком - 1-ком\n",
            "Лид - ПБ - Первичный целевой - 2-ком - 3-ком\n",
            "ПБ - Первичный целевой\n",
            "Первичный целевой - 2 очередь - запись на просмотр - 3 очередь - 1-ком\n",
            "Лид - Первичный целевой - 2 очередь - 3-ком\n",
            "Лид - Первичный целевой - 3-ком - 4-ком\n",
            "Лид - интересуют скидки - Первичный целевой - 3 очередь - 2-ком\n",
            "Лид - интересуют скидки - Первичный целевой - 2 очередь - ипотека - 3-ком\n",
            "Первичный целевой - запись на просмотр - 3 очередь - 2-ком - 1-ком\n",
            "спорный - ПБ - Первичный целевой - связь прервалась на ОП\n",
            "Первичный целевой - 1 очередь - студия - интерес к объекту\n",
            "Первичный целевой - интересует отделка - студия - 3 очередь\n",
            "Первичный целевой - 2 очередь - студия - 3 очередь - 1-ком\n",
            "Первичный целевой - студия - запись на просмотр - 3 очередь\n",
            "Первичный целевой - 2 очередь - запись на просмотр - 1-ком\n",
            "ПБ - Первичный целевой - 3 очередь - 2-ком - Условно целевой\n",
            "Первичный целевой - интересует отделка - студия - 3 очередь - 1-ком\n",
            "Лид - Первичный целевой - 2 очередь - запись на просмотр - 3 очередь - 3-ком\n",
            "Лид - Первичный целевой - 1 очередь - студия\n",
            "Первичный целевой - 2 очередь - 3 очередь - 3-ком - 4-ком\n",
            "Первичный целевой - ипотека - 3 очередь - 3-ком\n",
            "Лид - Первичный целевой - ипотека - 3 очередь - 2-ком\n",
            "Первичный целевой - 3 очередь - 1-ком - 3-ком\n",
            "Первичный целевой - 2 очередь - ипотека - 3 очередь - 1-ком\n",
            "Лид - Первичный целевой - ипотека - 3-ком\n",
            "Первичный целевой - интересует рассрочка - 3 очередь - не определился\n",
            "Первичный целевой - 2 очередь - 2-ком - 3-ком\n",
            "Первичный целевой - интерес к объекту - не определился\n",
            "Первичный целевой - интересует отделка - студия - интересует 1- 2 очередь - 3 очередь - 1-ком\n",
            "Лид - Первичный целевой - ипотека - 3 очередь - 3-ком - 4-ком\n",
            "Лид - ПБ - Первичный целевой\n",
            "Первичный целевой - 1 очередь - студия - 3 очередь\n",
            "Лид - Первичный целевой - студия - 3 очередь - 1-ком\n",
            "Первичный целевой - 2 очередь - 4-ком\n",
            "Лид - Первичный целевой - 2 очередь - 2-ком - 3-ком - 4-ком\n",
            "Лид - Первичный целевой - 2 очередь - 2-ком - 1-ком\n",
            "Лид - ПБ - Первичный целевой - 1 очередь - менеджер сам перезвонит - 3-ком\n",
            "Первичный целевой - студия - 3 очередь\n",
            "Первичный целевой - 1 очередь - студия - 3 очередь - 1-ком\n",
            "Лид - Первичный целевой - ипотека - интересует рассрочка - 3 очередь - 2-ком\n",
            "Первичный целевой - запись на просмотр - интерес к объекту - не определился\n",
            "Лид - Первичный целевой - 2 очередь - запись на просмотр - 4-ком\n",
            "Лид - Первичный целевой - 1 очередь - 2 очередь - студия - 1-ком\n",
            "Лид - Первичный целевой - 2 очередь - 3 очередь - 4-ком\n",
            "Лид - Первичный целевой - 3 очередь - 1-ком\n",
            "Лид - Первичный целевой - 1 очередь - студия - 3 очередь\n",
            "Первичный целевой - 2 очередь - 3 очередь - интерес к объекту - не определился\n",
            "Лид - Первичный целевой - 2 очередь - 3 очередь - 2-ком - 3-ком\n",
            "спорный - ПБ - Первичный целевой\n",
            "Лид - Первичный целевой - 3 очередь - 3-ком - 4-ком\n",
            "Первичный целевой - 2 очередь - интересует отделка - 4-ком\n",
            "Первичный целевой - 2 очередь - 3 очередь - 3-ком\n",
            "Лид - Первичный целевой - 2 очередь - ипотека - 3 очередь - 2-ком\n",
            "ПБ - Первичный целевой - 1-ком\n",
            "Первичный целевой - запись на просмотр - 2-ком - 3-ком\n",
            "Лид - Первичный целевой - 2 очередь - запись на просмотр - 3 очередь - 1-ком\n",
            "Первичный целевой - 2 очередь - 3 очередь - Кортрос - 1-ком\n",
            "ПБ - Первичный целевой - 1 очередь - студия\n",
            "Лид - Первичный целевой - 1 очередь - студия - 3 очередь - 4-ком\n",
            "ПБ - Первичный целевой - 3-ком\n",
            "Первичный целевой - интересует рассрочка - студия - 3 очередь\n",
            "Первичный целевой - 1 очередь - студия - с отделкой\n",
            "Первичный целевой - ипотека - интерес к объекту - не определился\n",
            "Первичный целевой - 1 очередь - 2 очередь - студия - 3 очередь - 1-ком\n",
            "Первичный целевой - 2 очередь - Кортрос - 1-ком\n",
            "Первичный целевой - 1 очередь - студия - 3 очередь - 2-ком\n",
            "Лид - Первичный целевой - 2 очередь - ипотека - 3 очередь - 1-ком\n",
            "Первичный целевой - интересует рассрочка - 3 очередь - 2-ком\n",
            "Первичный целевой - ипотека - интересует рассрочка - 3 очередь - 3-ком\n",
            "Первичный целевой - 2 очередь - 3-ком - возможно фрод\n",
            "Первичный целевой - студия - 3 очередь - Кортрос\n",
            "Первичный целевой - 2 очередь - ипотека - студия - 3 очередь - Кортрос - 1-ком\n",
            "Лид - Первичный целевой - студия - запись на просмотр - 3 очередь\n",
            "Первичный целевой - 2 очередь - 3 очередь - Кортрос - 2-ком\n",
            "Лид - ПБ - Первичный целевой - 3-ком\n",
            "Первичный целевой - условия оплаты - интерес к объекту - не определился\n",
            "Лид - Первичный целевой - 2 очередь - интересует отделка - Кортрос - 3-ком\n",
            "Лид - Первичный целевой - запись на просмотр - 3 очередь - 1-ком\n",
            "Первичный целевой - 2-ком\n",
            "ПБ - Первичный целевой - 3-ком - отправить на WhatsApp\n",
            "Первичный целевой - 3 очередь - Кортрос - 2-ком\n",
            "Лид - Первичный целевой - 2 очередь - 3 очередь - 3-ком\n",
            "Первичный целевой - 1 очередь - студия - запись на просмотр\n",
            "Первичный целевой - запись на просмотр - 3 очередь - 2-ком - 3-ком\n",
            "Лид - Первичный целевой - 3 очередь - 4-ком - блок - возможно фрод\n",
            "Первичный целевой - 1 очередь - 2 очередь - 2-ком\n",
            "Первичный целевой - 2-ком - 3-ком\n",
            "Лид - Первичный целевой - 3 очередь - Кортрос - 2-ком\n",
            "интересуют скидки - Первичный целевой - студия - 3 очередь\n",
            "Лид - Первичный целевой - ипотека - интересует отделка - 3 очередь - 2-ком\n",
            "Первичный целевой - 3 очередь - Кортрос - 4-ком\n",
            "Первичный целевой - запись на просмотр - 2-ком\n",
            "Лид - Первичный целевой - ипотека - 3 очередь - 1-ком\n",
            "Вторичный целевой - интересуют скидки - Первичный целевой - 2 очередь - 1-ком\n",
            "Первичный целевой - 3-ком - 4-ком\n",
            "Первичный целевой - 1 очередь - интересует отделка - 2-ком\n",
            "Лид - ПБ - Первичный целевой - 2-ком\n",
            "Первичный целевой - 3 очередь - 1-ком - переуступка\n",
            "Лид - ПБ - Первичный целевой - 1-ком\n",
            "интересуют скидки - Первичный целевой - ипотека - интерес к объекту - не определился\n",
            "Лид - ПБ - Первичный целевой - ипотека - 3 очередь - 1-ком\n",
            "Первичный целевой - студия - 3 очередь - возможно фрод\n",
            "Первичный целевой - интересует рассрочка - запись на просмотр - 3 очередь - 2-ком\n",
            "Первичный целевой - 2 очередь - 3 очередь - 1-ком - возможно фрод\n",
            "Первичный целевой - 2 очередь - 3 очередь - 2-ком - 1-ком - 3-ком\n",
            "Первичный целевой - запись на просмотр - 3 очередь - 1-ком\n",
            "Первичный целевой - 3 очередь - Кортрос - 2-ком - 3-ком\n",
            "Лид - Первичный целевой - 2-ком - 3-ком - возможно фрод\n",
            "Первичный целевой - ипотека - студия - 3 очередь - 1-ком\n",
            "уточнение - Первичный целевой - 3 очередь - не определился\n",
            "Первичный целевой - интересует рассрочка - 3 очередь - 2-ком - 3-ком\n",
            "Первичный целевой - запись на просмотр - 1-ком\n",
            "Лид - Первичный целевой - интерес к объекту - не определился\n",
            "Лид - Первичный целевой - запись на просмотр - 1-ком\n",
            "Первичный целевой - ипотека - 1-2 ком - 3 очередь\n",
            "Лид - Первичный целевой - 2 очередь - 4-ком\n",
            "Первичный целевой - ипотека - 3 очередь - 2-ком - возможно фрод\n",
            "Лид - Первичный целевой - 2 очередь - запись на просмотр - 3-ком\n",
            "Первичный целевой - 2 очередь - запись на просмотр - 3 очередь - 1-ком - возможно фрод\n",
            "Первичный целевой - ипотека - студия - запись на просмотр - 3 очередь\n",
            "Лид - Первичный целевой - 3-ком - отправить на WhatsApp\n",
            "Первичный целевой - 2 очередь - интересует рассрочка - студия - 3 очередь - 1-ком\n",
            "Первичный целевой - интересует рассрочка - 3 очередь - 1-ком\n",
            "Первичный целевой - интересует отделка - 3 очередь - 3-ком\n",
            "Первичный целевой - 3 очередь - 4-ком - блок\n",
            "Первичный целевой - ипотека - интересует рассрочка - запись на просмотр - 3 очередь\n",
            "Первичный целевой - запись на просмотр - 3-ком\n",
            "Лид - Первичный целевой - 2 очередь - 2-ком - 3-ком\n",
            "Первичный целевой - 2 очередь - 3 очередь - 2-ком - отправить на WhatsApp\n",
            "Лид - Первичный целевой - 3 очередь - 2-ком - 1-ком\n",
            "Первичный целевой - ипотека - 3 очередь - Кортрос - 2-ком - 3-ком\n",
            "ПБ - Первичный целевой - Условно целевой\n",
            "Лид - Первичный целевой - 2 очередь - студия - 3 очередь - 2-ком - 1-ком\n",
            "Лид - Первичный целевой - 2 очередь - 3 очередь - Кортрос - 3-ком\n",
            "Первичный целевой - 2 очередь - 3 очередь - 2-ком\n",
            "Первичный целевой - 2 очередь - интерес к объекту - не определился\n",
            "интересуют скидки - Первичный целевой - 1 очередь - 2-ком\n",
            "Лид - Первичный целевой - 1-2 ком - 3 очередь\n",
            "Первичный целевой - 3 очередь - Кортрос - 1-ком\n",
            "Лид - ПБ - Первичный целевой - Кортрос - 4-ком\n",
            "интересуют скидки - Первичный целевой - 2 очередь - 1-ком\n",
            "Лид - Первичный целевой - 2 очередь - 3 очередь - 3-ком - отправить на WhatsApp\n",
            "Первичный целевой - интересует отделка - 3 очередь - не определился\n",
            "Первичный целевой - 2 очередь - интересует отделка - 3 очередь - 1-ком\n",
            "несколько квартир - Первичный целевой - Кортрос - 1-ком - интересует трейд-ин\n",
            "Первичный целевой - 2 очередь - 3 очередь - Кортрос - 3-ком - 4-ком\n",
            "Лид - Первичный целевой - студия - 3 очередь\n",
            "Лид - Первичный целевой - 2 очередь - интересует отделка - 3 очередь - Кортрос - 4-ком\n",
            "Первичный целевой - ипотека - 3 очередь - Кортрос - 1-ком\n",
            "Первичный целевой - 1-2 ком - 3 очередь - Кортрос\n",
            "Первичный целевой - 3 очередь - Кортрос - 3-ком\n",
            "Первичный целевой - 1-2 ком - 3 очередь\n",
            "ПБ - Первичный целевой - Кортрос\n",
            "Первичный целевой - 2 очередь - 3 очередь - Кортрос - 2-ком - 3-ком\n",
            "Спам - Первичный целевой - интересует отделка - 2-ком - 3-ком\n",
            "Первичный целевой - 3 очередь - 2-ком - цена за кв метр\n",
            "интересуют скидки - Первичный целевой - 3 очередь - 2-ком\n",
            "Первичный целевой - 2 очередь - ипотека - студия - 3 очередь - 1-ком\n",
            "Первичный целевой - 2 очередь - запись на просмотр - 3 очередь - 2-ком\n",
            "Лид - Первичный целевой - интересует рассрочка - студия - 3 очередь\n",
            "Лид - Первичный целевой - 2-ком - интерес к объекту - отправить на WhatsApp\n",
            "Первичный целевой - 2 очередь - запись на просмотр - 3 очередь - не определился\n",
            "Первичный целевой - запись на просмотр - 3 очередь - 2-ком - возможно фрод\n",
            "Первичный целевой - 2 очередь - 3 очередь - 1-ком - цена за кв метр\n",
            "Целевой_М108\n",
            "Целевой_М108 - Обработано - Нецелевой контакт\n",
            "Целевой_М108 - Встреча\n",
            "Целевой_М108 - Обработано - Встреча - Нецелевой контакт\n",
            "Целевой_М108 - ПБ - Встреча\n",
            "Целевой_М108 - ПБ - ДДУ\n",
            "Не обработано - Целевой_М108 - Нецелевой контакт\n",
            "Целевой_М108 - Обработано - Нецелевой контакт - Повтор_М108\n",
            "Не обработано - Целевой_М108 - Встреча - Нецелевой контакт\n",
            "Не обработано - Целевой_М108 - по критериям площадки\n",
            "Целевой_М108 - по критериям площадки\n",
            "Не обработано - Целевой_М108 - Нецелевой контакт - Нецелевой контакт_М108\n",
            "Целевой_М108 - Нецелевой контакт\n",
            "Целевой_М108 - ПБ\n",
            "Целевой_М108 - Нецелевой контакт_М108 - по критериям площадки\n",
            "Целевой_М108 - ПБ - Встреча - ДДУ\n",
            "Целевой_М108 - Встреча - по критериям площадки\n",
            "Целевой_М108 - Нецелевой контакт_М108\n",
            "Целевой_М108 - Обработано - ПБ - Встреча - Нецелевой контакт\n",
            "Целевой_М108 - ДДУ\n",
            "Целевой_М108 - Встреча - ДДУ\n",
            "Не обработано - Целевой_М108 - ПБ - ДДУ - Нецелевой контакт\n",
            "Целевой_М108 - Повтор_М108 - по критериям площадки\n",
            "Целевой_М108 - Обработано - Встреча - ДДУ - Нецелевой контакт\n",
            "Не обработано - Целевой_М108 - ПБ - Нецелевой контакт\n",
            "Не обработано - Целевой_М108 - ПБ - Встреча - ДДУ - Нецелевой контакт\n",
            "Целевой_М108 - Повтор_М108\n",
            "Коммерция_целевой_М108\n",
            "Нецелевой контакт - Целевой_М108\n",
            "Обработано - Нецелевой контакт - Целевой_М108\n",
            "CRM_Павелецкая сити - Целевой_М108\n",
            "----------------------------------------------------------------------------------------------------\n",
            "261 тегов целевых звонков\n"
          ]
        }
      ]
    },
    {
      "cell_type": "code",
      "source": [
        "target_teg_df.head(10)"
      ],
      "metadata": {
        "colab": {
          "base_uri": "https://localhost:8080/",
          "height": 363
        },
        "id": "iHmGeXzha3ZQ",
        "outputId": "575ebf64-5641-4be2-f585-e712bb54e401"
      },
      "execution_count": null,
      "outputs": [
        {
          "output_type": "execute_result",
          "data": {
            "text/plain": [
              "                                                                 Теги целевых звонков\n",
              "0                         Первичный целевой - 2 очередь - ипотека - 3 очередь - 2-ком\n",
              "1      Первичный целевой - 2 очередь - запись на просмотр - 3 очередь - 3-ком - 4-ком\n",
              "2                                               Первичный целевой - 2 очередь - 2-ком\n",
              "3                                     Первичный целевой - ипотека - 3 очередь - 2-ком\n",
              "4                     Лид - Первичный целевой - 2 очередь - 3 очередь - 3-ком - 4-ком\n",
              "5                                               Первичный целевой - 3 очередь - 2-ком\n",
              "6  Первичный целевой - 2 очередь - ипотека - интересует рассрочка - 3 очередь - 1-ком\n",
              "7                                      уточнение - Первичный целевой - не определился\n",
              "8                        Первичный целевой - интересует рассрочка - 3 очередь - 3-ком\n",
              "9                           Первичный целевой - 2 очередь - 3 очередь - 2-ком - 1-ком"
            ],
            "text/html": [
              "\n",
              "  <div id=\"df-926a107f-38ed-42a2-97a2-e0ad7491af3b\" class=\"colab-df-container\">\n",
              "    <div>\n",
              "<style scoped>\n",
              "    .dataframe tbody tr th:only-of-type {\n",
              "        vertical-align: middle;\n",
              "    }\n",
              "\n",
              "    .dataframe tbody tr th {\n",
              "        vertical-align: top;\n",
              "    }\n",
              "\n",
              "    .dataframe thead th {\n",
              "        text-align: right;\n",
              "    }\n",
              "</style>\n",
              "<table border=\"1\" class=\"dataframe\">\n",
              "  <thead>\n",
              "    <tr style=\"text-align: right;\">\n",
              "      <th></th>\n",
              "      <th>Теги целевых звонков</th>\n",
              "    </tr>\n",
              "  </thead>\n",
              "  <tbody>\n",
              "    <tr>\n",
              "      <th>0</th>\n",
              "      <td>Первичный целевой - 2 очередь - ипотека - 3 очередь - 2-ком</td>\n",
              "    </tr>\n",
              "    <tr>\n",
              "      <th>1</th>\n",
              "      <td>Первичный целевой - 2 очередь - запись на просмотр - 3 очередь - 3-ком - 4-ком</td>\n",
              "    </tr>\n",
              "    <tr>\n",
              "      <th>2</th>\n",
              "      <td>Первичный целевой - 2 очередь - 2-ком</td>\n",
              "    </tr>\n",
              "    <tr>\n",
              "      <th>3</th>\n",
              "      <td>Первичный целевой - ипотека - 3 очередь - 2-ком</td>\n",
              "    </tr>\n",
              "    <tr>\n",
              "      <th>4</th>\n",
              "      <td>Лид - Первичный целевой - 2 очередь - 3 очередь - 3-ком - 4-ком</td>\n",
              "    </tr>\n",
              "    <tr>\n",
              "      <th>5</th>\n",
              "      <td>Первичный целевой - 3 очередь - 2-ком</td>\n",
              "    </tr>\n",
              "    <tr>\n",
              "      <th>6</th>\n",
              "      <td>Первичный целевой - 2 очередь - ипотека - интересует рассрочка - 3 очередь - 1-ком</td>\n",
              "    </tr>\n",
              "    <tr>\n",
              "      <th>7</th>\n",
              "      <td>уточнение - Первичный целевой - не определился</td>\n",
              "    </tr>\n",
              "    <tr>\n",
              "      <th>8</th>\n",
              "      <td>Первичный целевой - интересует рассрочка - 3 очередь - 3-ком</td>\n",
              "    </tr>\n",
              "    <tr>\n",
              "      <th>9</th>\n",
              "      <td>Первичный целевой - 2 очередь - 3 очередь - 2-ком - 1-ком</td>\n",
              "    </tr>\n",
              "  </tbody>\n",
              "</table>\n",
              "</div>\n",
              "    <div class=\"colab-df-buttons\">\n",
              "\n",
              "  <div class=\"colab-df-container\">\n",
              "    <button class=\"colab-df-convert\" onclick=\"convertToInteractive('df-926a107f-38ed-42a2-97a2-e0ad7491af3b')\"\n",
              "            title=\"Convert this dataframe to an interactive table.\"\n",
              "            style=\"display:none;\">\n",
              "\n",
              "  <svg xmlns=\"http://www.w3.org/2000/svg\" height=\"24px\" viewBox=\"0 -960 960 960\">\n",
              "    <path d=\"M120-120v-720h720v720H120Zm60-500h600v-160H180v160Zm220 220h160v-160H400v160Zm0 220h160v-160H400v160ZM180-400h160v-160H180v160Zm440 0h160v-160H620v160ZM180-180h160v-160H180v160Zm440 0h160v-160H620v160Z\"/>\n",
              "  </svg>\n",
              "    </button>\n",
              "\n",
              "  <style>\n",
              "    .colab-df-container {\n",
              "      display:flex;\n",
              "      gap: 12px;\n",
              "    }\n",
              "\n",
              "    .colab-df-convert {\n",
              "      background-color: #E8F0FE;\n",
              "      border: none;\n",
              "      border-radius: 50%;\n",
              "      cursor: pointer;\n",
              "      display: none;\n",
              "      fill: #1967D2;\n",
              "      height: 32px;\n",
              "      padding: 0 0 0 0;\n",
              "      width: 32px;\n",
              "    }\n",
              "\n",
              "    .colab-df-convert:hover {\n",
              "      background-color: #E2EBFA;\n",
              "      box-shadow: 0px 1px 2px rgba(60, 64, 67, 0.3), 0px 1px 3px 1px rgba(60, 64, 67, 0.15);\n",
              "      fill: #174EA6;\n",
              "    }\n",
              "\n",
              "    .colab-df-buttons div {\n",
              "      margin-bottom: 4px;\n",
              "    }\n",
              "\n",
              "    [theme=dark] .colab-df-convert {\n",
              "      background-color: #3B4455;\n",
              "      fill: #D2E3FC;\n",
              "    }\n",
              "\n",
              "    [theme=dark] .colab-df-convert:hover {\n",
              "      background-color: #434B5C;\n",
              "      box-shadow: 0px 1px 3px 1px rgba(0, 0, 0, 0.15);\n",
              "      filter: drop-shadow(0px 1px 2px rgba(0, 0, 0, 0.3));\n",
              "      fill: #FFFFFF;\n",
              "    }\n",
              "  </style>\n",
              "\n",
              "    <script>\n",
              "      const buttonEl =\n",
              "        document.querySelector('#df-926a107f-38ed-42a2-97a2-e0ad7491af3b button.colab-df-convert');\n",
              "      buttonEl.style.display =\n",
              "        google.colab.kernel.accessAllowed ? 'block' : 'none';\n",
              "\n",
              "      async function convertToInteractive(key) {\n",
              "        const element = document.querySelector('#df-926a107f-38ed-42a2-97a2-e0ad7491af3b');\n",
              "        const dataTable =\n",
              "          await google.colab.kernel.invokeFunction('convertToInteractive',\n",
              "                                                    [key], {});\n",
              "        if (!dataTable) return;\n",
              "\n",
              "        const docLinkHtml = 'Like what you see? Visit the ' +\n",
              "          '<a target=\"_blank\" href=https://colab.research.google.com/notebooks/data_table.ipynb>data table notebook</a>'\n",
              "          + ' to learn more about interactive tables.';\n",
              "        element.innerHTML = '';\n",
              "        dataTable['output_type'] = 'display_data';\n",
              "        await google.colab.output.renderOutput(dataTable, element);\n",
              "        const docLink = document.createElement('div');\n",
              "        docLink.innerHTML = docLinkHtml;\n",
              "        element.appendChild(docLink);\n",
              "      }\n",
              "    </script>\n",
              "  </div>\n",
              "\n",
              "\n",
              "<div id=\"df-5a567975-3c22-4470-980c-37e5a082a800\">\n",
              "  <button class=\"colab-df-quickchart\" onclick=\"quickchart('df-5a567975-3c22-4470-980c-37e5a082a800')\"\n",
              "            title=\"Suggest charts.\"\n",
              "            style=\"display:none;\">\n",
              "\n",
              "<svg xmlns=\"http://www.w3.org/2000/svg\" height=\"24px\"viewBox=\"0 0 24 24\"\n",
              "     width=\"24px\">\n",
              "    <g>\n",
              "        <path d=\"M19 3H5c-1.1 0-2 .9-2 2v14c0 1.1.9 2 2 2h14c1.1 0 2-.9 2-2V5c0-1.1-.9-2-2-2zM9 17H7v-7h2v7zm4 0h-2V7h2v10zm4 0h-2v-4h2v4z\"/>\n",
              "    </g>\n",
              "</svg>\n",
              "  </button>\n",
              "\n",
              "<style>\n",
              "  .colab-df-quickchart {\n",
              "      --bg-color: #E8F0FE;\n",
              "      --fill-color: #1967D2;\n",
              "      --hover-bg-color: #E2EBFA;\n",
              "      --hover-fill-color: #174EA6;\n",
              "      --disabled-fill-color: #AAA;\n",
              "      --disabled-bg-color: #DDD;\n",
              "  }\n",
              "\n",
              "  [theme=dark] .colab-df-quickchart {\n",
              "      --bg-color: #3B4455;\n",
              "      --fill-color: #D2E3FC;\n",
              "      --hover-bg-color: #434B5C;\n",
              "      --hover-fill-color: #FFFFFF;\n",
              "      --disabled-bg-color: #3B4455;\n",
              "      --disabled-fill-color: #666;\n",
              "  }\n",
              "\n",
              "  .colab-df-quickchart {\n",
              "    background-color: var(--bg-color);\n",
              "    border: none;\n",
              "    border-radius: 50%;\n",
              "    cursor: pointer;\n",
              "    display: none;\n",
              "    fill: var(--fill-color);\n",
              "    height: 32px;\n",
              "    padding: 0;\n",
              "    width: 32px;\n",
              "  }\n",
              "\n",
              "  .colab-df-quickchart:hover {\n",
              "    background-color: var(--hover-bg-color);\n",
              "    box-shadow: 0 1px 2px rgba(60, 64, 67, 0.3), 0 1px 3px 1px rgba(60, 64, 67, 0.15);\n",
              "    fill: var(--button-hover-fill-color);\n",
              "  }\n",
              "\n",
              "  .colab-df-quickchart-complete:disabled,\n",
              "  .colab-df-quickchart-complete:disabled:hover {\n",
              "    background-color: var(--disabled-bg-color);\n",
              "    fill: var(--disabled-fill-color);\n",
              "    box-shadow: none;\n",
              "  }\n",
              "\n",
              "  .colab-df-spinner {\n",
              "    border: 2px solid var(--fill-color);\n",
              "    border-color: transparent;\n",
              "    border-bottom-color: var(--fill-color);\n",
              "    animation:\n",
              "      spin 1s steps(1) infinite;\n",
              "  }\n",
              "\n",
              "  @keyframes spin {\n",
              "    0% {\n",
              "      border-color: transparent;\n",
              "      border-bottom-color: var(--fill-color);\n",
              "      border-left-color: var(--fill-color);\n",
              "    }\n",
              "    20% {\n",
              "      border-color: transparent;\n",
              "      border-left-color: var(--fill-color);\n",
              "      border-top-color: var(--fill-color);\n",
              "    }\n",
              "    30% {\n",
              "      border-color: transparent;\n",
              "      border-left-color: var(--fill-color);\n",
              "      border-top-color: var(--fill-color);\n",
              "      border-right-color: var(--fill-color);\n",
              "    }\n",
              "    40% {\n",
              "      border-color: transparent;\n",
              "      border-right-color: var(--fill-color);\n",
              "      border-top-color: var(--fill-color);\n",
              "    }\n",
              "    60% {\n",
              "      border-color: transparent;\n",
              "      border-right-color: var(--fill-color);\n",
              "    }\n",
              "    80% {\n",
              "      border-color: transparent;\n",
              "      border-right-color: var(--fill-color);\n",
              "      border-bottom-color: var(--fill-color);\n",
              "    }\n",
              "    90% {\n",
              "      border-color: transparent;\n",
              "      border-bottom-color: var(--fill-color);\n",
              "    }\n",
              "  }\n",
              "</style>\n",
              "\n",
              "  <script>\n",
              "    async function quickchart(key) {\n",
              "      const quickchartButtonEl =\n",
              "        document.querySelector('#' + key + ' button');\n",
              "      quickchartButtonEl.disabled = true;  // To prevent multiple clicks.\n",
              "      quickchartButtonEl.classList.add('colab-df-spinner');\n",
              "      try {\n",
              "        const charts = await google.colab.kernel.invokeFunction(\n",
              "            'suggestCharts', [key], {});\n",
              "      } catch (error) {\n",
              "        console.error('Error during call to suggestCharts:', error);\n",
              "      }\n",
              "      quickchartButtonEl.classList.remove('colab-df-spinner');\n",
              "      quickchartButtonEl.classList.add('colab-df-quickchart-complete');\n",
              "    }\n",
              "    (() => {\n",
              "      let quickchartButtonEl =\n",
              "        document.querySelector('#df-5a567975-3c22-4470-980c-37e5a082a800 button');\n",
              "      quickchartButtonEl.style.display =\n",
              "        google.colab.kernel.accessAllowed ? 'block' : 'none';\n",
              "    })();\n",
              "  </script>\n",
              "</div>\n",
              "    </div>\n",
              "  </div>\n"
            ]
          },
          "metadata": {},
          "execution_count": 33
        }
      ]
    },
    {
      "cell_type": "code",
      "source": [
        "# Сохраняем target_teg_df в файл Microsoft Excell\n",
        "with pd.ExcelWriter(table_path + 'Теги.xlsx') as excel_writer:\n",
        "  target_teg_df.to_excel(excel_writer, sheet_name='Теги целевых звонков', index=False)"
      ],
      "metadata": {
        "id": "KUz108QLb3yh"
      },
      "execution_count": null,
      "outputs": []
    },
    {
      "cell_type": "markdown",
      "source": [
        "### Теги нецелевых звонков"
      ],
      "metadata": {
        "id": "q69G8GDedTDO"
      }
    },
    {
      "cell_type": "code",
      "source": [
        "# Теги нецелевых звонков\n",
        "not_target_teg_list = []\n",
        "for teg in total_df['Теги'].unique():\n",
        "  if not re.findall(pattern.lower(), teg.lower()):\n",
        "    print(teg)\n",
        "    not_target_teg_list.append(teg)\n",
        "print('-'*100)\n",
        "print(f'{len(not_target_teg_list)} тегов нецелевых звонков')\n",
        "not_target_teg_df = pd.DataFrame(data=not_target_teg_list, columns=['Теги нецелевых звонков'])"
      ],
      "metadata": {
        "colab": {
          "base_uri": "https://localhost:8080/"
        },
        "outputId": "b8e6ae22-37ad-4de8-fef4-72cc8cd1675f",
        "id": "sJfA4uaLdTDn"
      },
      "execution_count": null,
      "outputs": [
        {
          "output_type": "stream",
          "name": "stdout",
          "text": [
            "спорный - нет соединения\n",
            "Лид - ПБ - 2 очередь - 2-ком - Условно целевой\n",
            "Лид - спорный - 2 очередь - 2-ком - связь прервалась\n",
            "Нецелевой звонок - ошибка\n",
            "постпродажное обслуживание - Вторичный целевой\n",
            "Условно целевой - Машиноместо\n",
            "спорный - не дозвонились до ОП номер не оставлен\n",
            "уточнение - Вторичный целевой\n",
            "спорный - связь прервалась\n",
            "спорный - номер взят не дозвонились  до ОП\n",
            "спорный - интересует ОП - 2-ком\n",
            "3 очередь - Условно целевой - отправить на WhatsApp\n",
            "Коммерческая недвижимость - Условно целевой\n",
            "Спам - возможно фрод\n",
            "спорный - номер взят не дозвонились  до ОП - 2-ком\n",
            "Вторичный целевой - запись на просмотр\n",
            "Нецелевой звонок - не интересует объект\n",
            "Спам\n",
            "Лид - спорный - 2 очередь - 2-ком - связь прервалась - 3-ком\n",
            "Вторичный целевой - 3 очередь - 2-ком\n",
            "Вторичный целевой\n",
            "повторная покупка - Вторичный целевой - ипотека - Уже купил квартиру\n",
            "Вторичный целевой - менеджер сам перезвонит - бронирование\n",
            "постпродажное обслуживание - Условно целевой - Б.хаус\n",
            "Лид - Вторичный целевой - 2 очередь - 3 очередь - 3-ком\n",
            "Условно целевой - сотрудничество\n",
            "Вторичный целевой - Уже купил квартиру\n",
            "Лид - спорный - номер взят не дозвонились  до ОП - 1-ком\n",
            "Лид - 2 очередь - 3 очередь - 2-ком - Условно целевой\n",
            "спорный - Коммерческая недвижимость - номер взят не дозвонились  до ОП\n",
            "Лид - не устраивает планировка - 2 очередь - этаж - 3 очередь - Условно целевой - 1-ком\n",
            "Другой объект - Условно целевой\n",
            "Условно целевой - переадресация на другой объект клиента - Пермь\n",
            "Нецелевой звонок - сотрудничество\n",
            "спорный - связь прервалась - 1-ком\n",
            "Лид - не проходит по бюджету - интересует рассрочка - 3 очередь - Условно целевой - 1-ком\n",
            "спорный - интересует ОП - Машиноместо\n",
            "постпродажное обслуживание - Условно целевой\n",
            "уже получил консультацию - Условно целевой\n",
            "запись на просмотр - Условно целевой - не определился\n",
            "Лид - спорный - 3-ком - связь прервалась на ОП\n",
            "Лид - 3 очередь - 2-ком - Условно целевой\n",
            "Вторичный целевой - уже получил консультацию\n",
            "спорный - студия - менеджер сам перезвонит - 3 очередь\n",
            "повторная покупка - Вторичный целевой - Уже купил квартиру\n",
            "2-ком - Условно целевой - отправить на WhatsApp\n",
            "Вторичный целевой - ипотека - 2-ком\n",
            "Вторичный целевой - не устраивает планировка - 4-ком\n",
            "повторная покупка - Вторичный целевой - 2 очередь - 3 очередь - 1-ком\n",
            "Вторичный целевой - ипотека - условия оплаты\n",
            "спорный - клиент просил перезвонить - Машиноместо\n",
            "тест\n",
            "Вторичный целевой - поиск офиса продаж\n",
            "Вторичный целевой - 2 очередь - 3-ком - 4-ком\n",
            "Лид - спорный - номер взят не дозвонились  до ОП - 3-ком\n",
            "повторная покупка - Вторичный целевой - 2 очередь - ипотека - 3 очередь - 2-ком - 3-ком\n",
            "повторная покупка - Вторичный целевой - 3 очередь - 3-ком\n",
            "ПБ - Условно целевой\n",
            "уточнение - Условно целевой - интерес к объекту\n",
            "Вторичный целевой - кладовка\n",
            "2 очередь - студия - 2-ком - Условно целевой - 1-ком\n",
            "Условно целевой - 3-ком - 4-ком - отправить на WhatsApp\n",
            "2 очередь - 3 очередь - 2-ком - Условно целевой\n",
            "ПБ - Вторичный целевой - интересует ОП\n",
            "повторная покупка - Вторичный целевой - запись на просмотр - 3 очередь - 2-ком\n",
            "Вторичный целевой - 2 очередь - 3 очередь - 2-ком\n",
            "интересуют скидки - 2 очередь - не проходит по бюджету - 2-ком - Условно целевой\n",
            "ПБ - Вторичный целевой\n",
            "2 очередь - не проходит по бюджету - 2-ком - Условно целевой\n",
            "спорный - 2 очередь - связь прервалась - 4-ком\n",
            "Вторичный целевой - 2 очередь - 1-ком\n",
            "не устраивает локация - 2-ком - Условно целевой\n",
            "Вторичный целевой - интересуют скидки - 2-ком\n",
            "2 очередь - не проходит по бюджету - студия - 3 очередь - Условно целевой - 1-ком\n",
            "Лид - спорный - интересует ОП - Машиноместо\n",
            "не проходит по бюджету - 3 очередь - 2-ком - Условно целевой\n",
            "Лид - интересуют скидки - интересует рассрочка - 3 очередь - 2-ком - Условно целевой - условия оплаты\n",
            "Лид - 3 очередь - 2-ком - Условно целевой - 1-ком\n",
            "Лид - спорный - 4-ком - связь прервалась на ОП\n",
            "спорный - Нецелевой контакт - нет соединения\n",
            "повторная покупка - Лид - Вторичный целевой - интересует рассрочка - студия - 3 очередь - 1-ком\n",
            "повторная покупка - Вторичный целевой - 2 очередь - 1-ком\n",
            "Лид - 3 очередь - Условно целевой - 3-ком - отправить на WhatsApp\n",
            "Лид - Вторичный целевой - ипотека - 3 очередь - 2-ком\n",
            "Вторичный целевой - студия - 3 очередь\n",
            "Лид - спорный - студия - связь прервалась - 1-ком\n",
            "Лид - спорный - 2-ком - связь прервалась\n",
            "Лид - спорный - связь прервалась\n",
            "Вторичный целевой - 2 очередь - запись на просмотр - 3 очередь - 1-ком\n",
            "ПБ - Вторичный целевой - 3-ком\n",
            "спорный - интересует ОП\n",
            "Лид - спорный - клиент просил перезвонить - 3 очередь - 2-ком\n",
            "2 очередь - не проходит по бюджету - 3 очередь - Условно целевой\n",
            "спорный - нет соединения - возможно фрод\n",
            "2 очередь - не устраивает срок сдачи - 3 очередь - Условно целевой - 1-ком\n",
            "1 очередь - студия - 3 очередь - Условно целевой - 1-ком\n",
            "Лид - Вторичный целевой - 1-4ком\n",
            "Условно целевой - отправить на WhatsApp\n",
            "не устраивает локация - Условно целевой\n",
            "не устраивает планировка - 2 очередь - 3 очередь - 2-ком - Условно целевой - балкон\n",
            "не устраивает планировка - 2-ком - Условно целевой - 3-ком\n",
            "студия - 2-ком - Условно целевой - 3-ком - отправить на WhatsApp\n",
            "интересует аренда - Нецелевой звонок\n",
            "студия - Нецелевой звонок - 3 очередь - 1-ком - отправить на WhatsApp\n",
            "повторная покупка - Лид - Вторичный целевой - 2 очередь - 2-ком\n",
            "спорный - менеджер сам перезвонит\n",
            "Лид - спорный - связь прервалась на ОП\n",
            "Лид - спорный - менеджер сам перезвонит\n",
            "Лид - спорный - 2 очередь - менеджер сам перезвонит - 2-ком\n",
            "спорный - клиент просил перезвонить\n",
            "Лид - 3 очередь - Условно целевой - 1-ком\n",
            "Вторичный целевой - связь прервалась\n",
            "клиент просил перезвонить - Вторичный целевой\n",
            "2 очередь - не проходит по бюджету - Условно целевой - 3-ком\n",
            "спорный - номер взят не дозвонились  до ОП - 1-ком\n",
            "Вторичный целевой - 2 очередь - 2-ком\n",
            "уточнение - не определился - Целевой звонок\n",
            "2 очередь - ипотека - 2-ком - Условно целевой - условия оплаты\n",
            "спорный - клиент просил перезвонить - интересует ОП\n",
            "2 очередь - не проходит по бюджету - 2-ком - Условно целевой - 3-ком\n",
            "спорный - поиск офиса продаж\n",
            "не устраивает планировка - интересует отделка - Условно целевой - 4-ком\n",
            "постпродажное обслуживание - Вторичный целевой - переуступка\n",
            "Лид - спорный - связь прервалась - 3-ком\n",
            "уточнение - Лид - Условно целевой - 4-ком\n",
            "Лид - спорный - студия - связь прервалась на ОП\n",
            "Лид - спорный - 2 очередь - 3 очередь - 2-ком - связь прервалась на ОП\n",
            "Лид - 2 очередь - 2-ком - Условно целевой\n",
            "уточнение - Условно целевой - отправить на WhatsApp\n",
            "спорный - 1 очередь - номер взят не дозвонились  до ОП - студия\n",
            "постпродажное обслуживание - Равновесие - Условно целевой\n",
            "не устраивает срок сдачи - 3 очередь - 2-ком - Условно целевой\n",
            "Лид - спорный - 3 очередь - 3-ком - 4-ком - связь прервалась на ОП\n",
            "постпродажное обслуживание - i love - Условно целевой\n",
            "Лид - спорный - связь прервалась - 1-ком - отправить на WhatsApp\n",
            "уточнение - ипотека - Условно целевой\n",
            "Лид - спорный - номер взят не дозвонились  до ОП - 2-ком\n",
            "не относится к объекту - ипотека - 2-ком - Условно целевой - 1-ком\n",
            "Лид - спорный - связь прервалась - 4-ком\n",
            "i love - студия - Условно целевой - переадресация на другой объект клиента - 1-ком\n",
            "кладовка - Условно целевой - Машиноместо\n",
            "не устраивает планировка - 3 очередь - 2-ком - Условно целевой\n",
            "уточнение - Вторичный целевой - поиск офиса продаж\n",
            "интересует только застройщик - Нецелевой звонок - негатив\n",
            "Вторичный целевой - 2 очередь - 3 очередь - 2-ком - 3-ком\n",
            "постпродажное обслуживание - i love\n",
            "Сев. порт - Условно целевой - переадресация на другой объект клиента\n",
            "2 очередь - запись на просмотр - 3 очередь - не определился\n",
            "Нецелевой контакт\n",
            "Лид - спорный - связь прервалась - 1-ком\n",
            "спорный - отказ от консультации - 2-ком\n",
            "Лид - спорный - номер взят не дозвонились  до ОП - 2-ком - 3-ком\n",
            "Лид - не устраивает планировка - интересует 1- 2 очередь - 2-ком - метраж - Условно целевой - с отделкой\n",
            "постпродажное обслуживание - Вторичный целевой - Машиноместо\n",
            "постпродажное обслуживание - Вторичный целевой - возможно фрод\n",
            "спорный - не дозвонились до ОП номер не оставлен - 1-ком\n",
            "спорный - не дозвонились до ОП номер не оставлен - переадресация на другой объект клиента\n",
            "постпродажное обслуживание - Вторичный целевой - интересует отделка\n",
            "Лид - спорный - номер взят не дозвонились  до ОП - 4-ком\n",
            "Лид - 2 очередь - 3 очередь - Условно целевой - 1-ком\n",
            "Лид - 3 очередь - Условно целевой - интерес к объекту - 1-4ком\n",
            "спорный - Коммерческая недвижимость - интересует ОП\n",
            "2 очередь - интересует отделка - 2-ком\n",
            "Лид - Вторичный целевой - 3 очередь - 4-ком\n",
            "Лид - спорный - связь прервалась - 3-ком - 4-ком\n",
            "ипотека - 3 очередь - 2-ком - Условно целевой\n",
            "спорный - интерес к объекту - связь прервалась на ОП\n",
            "Лид - не проходит по бюджету - Условно целевой - 3-ком - 4-ком\n",
            "постпродажное обслуживание - Вторичный целевой - 3-ком\n",
            "уточнение - б/п взноса - ипотека - Условно целевой\n",
            "интересует только застройщик - Нецелевой звонок\n",
            "постпродажное обслуживание - Люблино - Условно целевой\n",
            "3 очередь - 2-ком - Условно целевой\n",
            "не проходит по бюджету - интересует отделка - 3 очередь - 2-ком - Условно целевой - цена за кв метр\n",
            "интересует аренда - Коммерческая недвижимость - Условно целевой\n",
            "Лид - спорный - 2-ком - связь прервалась на ОП\n",
            "Лид - 3 очередь - 2-ком\n",
            "Лид - 3 очередь - 2-ком - Условно целевой - Повторное обращение\n",
            "Лид - Вторичный целевой - 2 очередь - 3 очередь - 4-ком\n",
            "постпродажное обслуживание - Условно целевой - переадресация на другой объект клиента\n",
            "спорный - номер взят не дозвонились  до ОП - 3-ком\n",
            "спорный - нет соединения - тест\n",
            "интересует рассрочка - Нецелевой звонок - ошибка\n",
            "Коммерческая недвижимость - не проходит по бюджету - Условно целевой\n",
            "Лид - не проходит по бюджету - студия - Условно целевой - 1-ком\n",
            "Лид - Вторичный целевой - кладовка\n",
            "Лид - Вторичный целевой - уже получил консультацию - 4-ком\n",
            "спорный - номер взят не дозвонились  до ОП - Машиноместо\n",
            "Лид - спорный - 2 очередь - номер взят не дозвонились  до ОП - 3 очередь - 3-ком\n",
            "повторная покупка - Вторичный целевой - 2 очередь - 3 очередь - 2-ком - 1-ком - Машиноместо\n",
            "спорный - 2 очередь - номер взят не дозвонились  до ОП\n",
            "Нецелевой контакт - ошибка\n",
            "не проходит по бюджету - 3 очередь - Условно целевой - 1-ком\n",
            "спорный - 2-ком - связь прервалась\n",
            "спорный - интересует ОП - Б.хаус - Машиноместо\n",
            "Нецелевой звонок\n",
            "не проходит по бюджету - Нецелевой звонок - 3-ком - 4-ком\n",
            "нецелевой - ошибка\n",
            "спорный - связь прервалась - Машиноместо\n",
            "1 очередь - 2 очередь - не проходит по бюджету - интересует отделка - студия - Условно целевой - 1-ком - возможно фрод\n",
            "уточнение - постпродажное обслуживание - Вторичный целевой\n",
            "не устраивает планировка - 2 очередь - не проходит по бюджету - не устраивает локация - Условно целевой - 1-ком - возможно фрод\n",
            "Лид - студия - 3 очередь - Условно целевой - 1-ком\n",
            "Лид - спорный - номер взят не дозвонились  до ОП - 2-ком - 1-ком - 3-ком\n",
            "спорный - номер взят не дозвонились  до ОП - кладовка - Машиноместо\n",
            "повторная покупка - Вторичный целевой - 2 очередь - 3-ком - 4-ком\n",
            "переуступка от физ. лица - Условно целевой\n",
            "не проходит по бюджету - студия - 3 очередь - Условно целевой\n",
            "повторная покупка - Вторичный целевой - ипотека - 3 очередь\n",
            "Вторичный целевой - 2 очередь - студия - 3 очередь - 1-ком\n",
            "постпродажное обслуживание - Вторичный целевой - Коммерческая недвижимость\n",
            "постпродажное обслуживание - Вторичный целевой - Б.хаус\n",
            "повторная покупка - Лид - Вторичный целевой - 3 очередь - 3-ком\n",
            "уже получил консультацию - ипотека - Условно целевой\n",
            "спорный - номер взят не дозвонились  до ОП - 1-2 ком\n",
            "уточнение - спорный\n",
            "Вторичный целевой - 2 очередь - 3 очередь - 1-ком\n",
            "спорный - 2 очередь - номер взят не дозвонились  до ОП - 1-ком\n",
            "спорный - поиск офиса продаж - связь прервалась\n",
            "поиск офиса продаж - Условно целевой\n",
            "уточнение - Условно целевой\n",
            "не устраивает планировка - интересует отделка - 3 очередь - Условно целевой - 1-ком\n",
            "2 очередь - Условно целевой - 1-ком\n",
            "неадекватный звонок - Нецелевой звонок - возможно фрод\n",
            "Спам - Лид - ПБ - 2 очередь - 3 очередь - 3-ком - 4-ком - возможно фрод\n",
            "Лид - Условно целевой - 1-ком - не интересует объект\n",
            "спорный - 3 очередь - 1-ком - связь прервалась на ОП\n",
            "3 очередь - Условно целевой - 1-ком\n",
            "Другой объект - Нецелевой звонок\n",
            "Лид - спорный - номер взят не дозвонились  до ОП - 1-2 ком\n",
            "спорный - номер взят не дозвонились  до ОП - 3 очередь - 2-ком - 3-ком\n",
            "Лид - интересует рассрочка - 3 очередь - Условно целевой - 1-ком\n",
            "Лид - интересуют скидки - 3 очередь - Условно целевой - 1-ком - возможно фрод\n",
            "спорный - Нецелевой контакт\n",
            "Лид - не устраивает планировка - интересует отделка - Условно целевой - балкон - 3-ком\n",
            "Нецелевой звонок - не интересует объект - ошибка\n",
            "3 очередь - Условно целевой - Машиноместо\n",
            "спорный - связь прервалась на ОП\n",
            "Вторичный целевой - 2 очередь - ипотека - 2-ком\n",
            "постпродажное обслуживание - спорный - ПБ - Вторичный целевой\n",
            "Лид - спорный - 1-2 ком - связь прервалась\n",
            "Лид - 2 очередь - студия - 3 очередь - 2-ком - Условно целевой - 1-ком\n",
            "клиент просил перезвонить - Условно целевой - интересует трейд-ин\n",
            "не проходит по бюджету - 1-2 ком - Условно целевой\n",
            "Лид - спорный - 1-ком - связь прервалась на ОП\n",
            "уточнение - спорный - поиск офиса продаж\n",
            "3 очередь - 2-ком - Условно целевой - возможно фрод\n",
            "Другой объект - Нецелевой звонок - ошибка\n",
            "постпродажное обслуживание - Вторичный целевой - кладовка\n",
            "Лид - 2 очередь - 3 очередь - 2-ком - Условно целевой - 3-ком - возможно фрод\n",
            "Лид - спорный - 2 очередь - ипотека - 2-ком - связь прервалась на ОП\n",
            "Лид - 2 очередь - 2-ком - Условно целевой - 3-ком\n",
            "Лид - 3 очередь - 2-ком - 3-ком - связь прервалась на ОП\n",
            "повторная покупка - Вторичный целевой - запись на просмотр - 2-ком\n",
            "Лид - спорный - 3 очередь - 2-ком - связь прервалась\n",
            "Вторичный целевой - интерес к объекту - не определился - отправить на WhatsApp\n",
            "2 очередь - интересует отделка - 2-ком - Условно целевой - возможно фрод\n",
            "Лид - не устраивает планировка - метраж - Условно целевой - 150-180 кв. - 4-ком\n",
            "не устраивает планировка - 2 очередь - не устраивает срок сдачи - интересует отделка - 3 очередь - Условно целевой\n",
            "уточнение - постпродажное обслуживание - Условно целевой\n",
            "Лид - спорный - студия - 1-ком - связь прервалась на ОП\n",
            "Лид - спорный - номер взят не дозвонились  до ОП - 3 очередь - 3-ком\n",
            "Лид - не проходит по бюджету - 3 очередь - Кортрос - Условно целевой - 3-ком\n",
            "i love - 2-ком - Условно целевой\n",
            "Вторичный целевой - 2 очередь - 2-ком - балкон - 3-ком\n",
            "спорный - номер взят не дозвонились  до ОП - интересует трейд-ин\n",
            "Лид - не проходит по бюджету - 3 очередь - Условно целевой - 1-ком\n",
            "постпродажное обслуживание - Условно целевой - Б.хаус - Машиноместо\n",
            "не устраивает планировка - не проходит по бюджету - интересует отделка - Условно целевой\n",
            "Лид - 3 очередь - Условно целевой - 3-ком\n",
            "Вторичный целевой - 2 очередь - 2-ком - 1-ком\n",
            "не проходит по бюджету - Условно целевой - 1-ком - возможно фрод\n",
            "спорный - номер взят не дозвонились  до ОП - сотрудничество\n",
            "ПБ - ипотека - 3 очередь - Условно целевой - 1-ком\n",
            "Лид - 2 очередь - Условно целевой - 3-ком\n",
            "Вторичный целевой - студия - 1-ком - Машиноместо\n",
            "спорный - 3 очередь - 2-ком - связь прервалась на ОП\n",
            "Вторичный целевой - 1 очередь - запись на просмотр - 2-ком\n",
            "Лид - спорный - номер взят не дозвонились  до ОП - 3 очередь - 3-ком - 4-ком\n",
            "Лид - спорный - студия - связь прервалась\n",
            "спорный - менеджер сам перезвонит - 3 очередь - 2-ком - 3-ком\n",
            "Лид - спорный - клиент просил перезвонить - 3-ком\n",
            "Вторичный целевой - ипотека\n",
            "3 очередь - Условно целевой - 3-ком\n",
            "интересуют скидки - 3 очередь - 2-ком - Условно целевой - 3-ком\n",
            "Лид - Вторичный целевой - 1-ком\n",
            "постпродажное обслуживание - Условно целевой - Сер. бор\n",
            "2 очередь - не проходит по бюджету - студия - 3 очередь - Кортрос - Условно целевой - 1-ком\n",
            "уточнение - Вторичный целевой - студия - 3 очередь\n",
            "Лид - спорный - 3 очередь - 2-ком - связь прервалась на ОП\n",
            "спорный - 1-2 ком - 3 очередь - связь прервалась на ОП\n",
            "Сев. порт - Условно целевой - Б.хаус - переадресация на другой объект клиента\n",
            "Коммерческая недвижимость - Кортрос - Условно целевой\n",
            "спорный - номер взят не дозвонились  до ОП - 4-ком\n",
            "Коммерческая недвижимость - запись на просмотр - Условно целевой\n",
            "Нецелевой контакт_М108\n",
            "Повтор_М108\n",
            "Не обработано - Нецелевой контакт - Нецелевой контакт_М108\n",
            "Обработано - Нецелевой контакт - Повтор_М108\n",
            "Обработано - Нецелевой контакт - Нецелевой контакт_М108\n",
            "Нецелевой контакт - Нецелевой контакт_М108\n",
            "Не обработано - Нецелевой контакт - Повтор_М108\n",
            "Нецелевой контакт - Повтор_М108\n",
            "Обработано - Спам - Нецелевой контакт - Нецелевой контакт_М108\n",
            "Обработано - Повтор_М108\n",
            "Не обработано - Спам - Нецелевой контакт - Нецелевой контакт_М108\n",
            "Не обработано - Фрод - Нецелевой контакт - Нецелевой контакт_М108\n",
            "Фрод - Повтор_М108\n",
            "Спам - Нецелевой контакт - Нецелевой контакт_М108\n",
            "В обработке - Нецелевой контакт - Нецелевой контакт_М108\n",
            "Не обработано - Нецелевой контакт_М108\n",
            "Не обработано - Спам - Нецелевой контакт - Повтор_М108\n",
            "Спам - Нецелевой контакт - Повтор_М108\n",
            "Не обработано - Повторный контакт - Нецелевой контакт_М108\n",
            "Не обработано - Запросить статус_М108 - Нецелевой контакт - Нецелевой контакт_М108\n",
            "Спам - Нецелевой контакт\n",
            "Повтор_М108 - Нецелевой контакт_М108\n",
            "Встреча\n",
            "нет\n",
            "Не обработано - Нецелевой контакт\n",
            "Обработано - Нецелевой контакт\n",
            "Не обработано\n",
            "Нецелевой\n",
            "----------------------------------------------------------------------------------------------------\n",
            "323 тегов нецелевых звонков\n"
          ]
        }
      ]
    },
    {
      "cell_type": "code",
      "source": [
        "not_target_teg_df.head(10)"
      ],
      "metadata": {
        "colab": {
          "base_uri": "https://localhost:8080/",
          "height": 363
        },
        "outputId": "1da76b18-a1d8-492e-8e91-6d58aabe6d08",
        "id": "VE__MVcAdTDp"
      },
      "execution_count": null,
      "outputs": [
        {
          "output_type": "execute_result",
          "data": {
            "text/plain": [
              "                                 Теги нецелевых звонков\n",
              "0                              спорный - нет соединения\n",
              "1        Лид - ПБ - 2 очередь - 2-ком - Условно целевой\n",
              "2  Лид - спорный - 2 очередь - 2-ком - связь прервалась\n",
              "3                             Нецелевой звонок - ошибка\n",
              "4        постпродажное обслуживание - Вторичный целевой\n",
              "5                         Условно целевой - Машиноместо\n",
              "6      спорный - не дозвонились до ОП номер не оставлен\n",
              "7                         уточнение - Вторичный целевой\n",
              "8                            спорный - связь прервалась\n",
              "9            спорный - номер взят не дозвонились  до ОП"
            ],
            "text/html": [
              "\n",
              "  <div id=\"df-3ead88f2-12fa-4477-af59-9d62ce836a93\" class=\"colab-df-container\">\n",
              "    <div>\n",
              "<style scoped>\n",
              "    .dataframe tbody tr th:only-of-type {\n",
              "        vertical-align: middle;\n",
              "    }\n",
              "\n",
              "    .dataframe tbody tr th {\n",
              "        vertical-align: top;\n",
              "    }\n",
              "\n",
              "    .dataframe thead th {\n",
              "        text-align: right;\n",
              "    }\n",
              "</style>\n",
              "<table border=\"1\" class=\"dataframe\">\n",
              "  <thead>\n",
              "    <tr style=\"text-align: right;\">\n",
              "      <th></th>\n",
              "      <th>Теги нецелевых звонков</th>\n",
              "    </tr>\n",
              "  </thead>\n",
              "  <tbody>\n",
              "    <tr>\n",
              "      <th>0</th>\n",
              "      <td>спорный - нет соединения</td>\n",
              "    </tr>\n",
              "    <tr>\n",
              "      <th>1</th>\n",
              "      <td>Лид - ПБ - 2 очередь - 2-ком - Условно целевой</td>\n",
              "    </tr>\n",
              "    <tr>\n",
              "      <th>2</th>\n",
              "      <td>Лид - спорный - 2 очередь - 2-ком - связь прервалась</td>\n",
              "    </tr>\n",
              "    <tr>\n",
              "      <th>3</th>\n",
              "      <td>Нецелевой звонок - ошибка</td>\n",
              "    </tr>\n",
              "    <tr>\n",
              "      <th>4</th>\n",
              "      <td>постпродажное обслуживание - Вторичный целевой</td>\n",
              "    </tr>\n",
              "    <tr>\n",
              "      <th>5</th>\n",
              "      <td>Условно целевой - Машиноместо</td>\n",
              "    </tr>\n",
              "    <tr>\n",
              "      <th>6</th>\n",
              "      <td>спорный - не дозвонились до ОП номер не оставлен</td>\n",
              "    </tr>\n",
              "    <tr>\n",
              "      <th>7</th>\n",
              "      <td>уточнение - Вторичный целевой</td>\n",
              "    </tr>\n",
              "    <tr>\n",
              "      <th>8</th>\n",
              "      <td>спорный - связь прервалась</td>\n",
              "    </tr>\n",
              "    <tr>\n",
              "      <th>9</th>\n",
              "      <td>спорный - номер взят не дозвонились  до ОП</td>\n",
              "    </tr>\n",
              "  </tbody>\n",
              "</table>\n",
              "</div>\n",
              "    <div class=\"colab-df-buttons\">\n",
              "\n",
              "  <div class=\"colab-df-container\">\n",
              "    <button class=\"colab-df-convert\" onclick=\"convertToInteractive('df-3ead88f2-12fa-4477-af59-9d62ce836a93')\"\n",
              "            title=\"Convert this dataframe to an interactive table.\"\n",
              "            style=\"display:none;\">\n",
              "\n",
              "  <svg xmlns=\"http://www.w3.org/2000/svg\" height=\"24px\" viewBox=\"0 -960 960 960\">\n",
              "    <path d=\"M120-120v-720h720v720H120Zm60-500h600v-160H180v160Zm220 220h160v-160H400v160Zm0 220h160v-160H400v160ZM180-400h160v-160H180v160Zm440 0h160v-160H620v160ZM180-180h160v-160H180v160Zm440 0h160v-160H620v160Z\"/>\n",
              "  </svg>\n",
              "    </button>\n",
              "\n",
              "  <style>\n",
              "    .colab-df-container {\n",
              "      display:flex;\n",
              "      gap: 12px;\n",
              "    }\n",
              "\n",
              "    .colab-df-convert {\n",
              "      background-color: #E8F0FE;\n",
              "      border: none;\n",
              "      border-radius: 50%;\n",
              "      cursor: pointer;\n",
              "      display: none;\n",
              "      fill: #1967D2;\n",
              "      height: 32px;\n",
              "      padding: 0 0 0 0;\n",
              "      width: 32px;\n",
              "    }\n",
              "\n",
              "    .colab-df-convert:hover {\n",
              "      background-color: #E2EBFA;\n",
              "      box-shadow: 0px 1px 2px rgba(60, 64, 67, 0.3), 0px 1px 3px 1px rgba(60, 64, 67, 0.15);\n",
              "      fill: #174EA6;\n",
              "    }\n",
              "\n",
              "    .colab-df-buttons div {\n",
              "      margin-bottom: 4px;\n",
              "    }\n",
              "\n",
              "    [theme=dark] .colab-df-convert {\n",
              "      background-color: #3B4455;\n",
              "      fill: #D2E3FC;\n",
              "    }\n",
              "\n",
              "    [theme=dark] .colab-df-convert:hover {\n",
              "      background-color: #434B5C;\n",
              "      box-shadow: 0px 1px 3px 1px rgba(0, 0, 0, 0.15);\n",
              "      filter: drop-shadow(0px 1px 2px rgba(0, 0, 0, 0.3));\n",
              "      fill: #FFFFFF;\n",
              "    }\n",
              "  </style>\n",
              "\n",
              "    <script>\n",
              "      const buttonEl =\n",
              "        document.querySelector('#df-3ead88f2-12fa-4477-af59-9d62ce836a93 button.colab-df-convert');\n",
              "      buttonEl.style.display =\n",
              "        google.colab.kernel.accessAllowed ? 'block' : 'none';\n",
              "\n",
              "      async function convertToInteractive(key) {\n",
              "        const element = document.querySelector('#df-3ead88f2-12fa-4477-af59-9d62ce836a93');\n",
              "        const dataTable =\n",
              "          await google.colab.kernel.invokeFunction('convertToInteractive',\n",
              "                                                    [key], {});\n",
              "        if (!dataTable) return;\n",
              "\n",
              "        const docLinkHtml = 'Like what you see? Visit the ' +\n",
              "          '<a target=\"_blank\" href=https://colab.research.google.com/notebooks/data_table.ipynb>data table notebook</a>'\n",
              "          + ' to learn more about interactive tables.';\n",
              "        element.innerHTML = '';\n",
              "        dataTable['output_type'] = 'display_data';\n",
              "        await google.colab.output.renderOutput(dataTable, element);\n",
              "        const docLink = document.createElement('div');\n",
              "        docLink.innerHTML = docLinkHtml;\n",
              "        element.appendChild(docLink);\n",
              "      }\n",
              "    </script>\n",
              "  </div>\n",
              "\n",
              "\n",
              "<div id=\"df-d036eda2-e00c-4312-9521-19b370990fc3\">\n",
              "  <button class=\"colab-df-quickchart\" onclick=\"quickchart('df-d036eda2-e00c-4312-9521-19b370990fc3')\"\n",
              "            title=\"Suggest charts.\"\n",
              "            style=\"display:none;\">\n",
              "\n",
              "<svg xmlns=\"http://www.w3.org/2000/svg\" height=\"24px\"viewBox=\"0 0 24 24\"\n",
              "     width=\"24px\">\n",
              "    <g>\n",
              "        <path d=\"M19 3H5c-1.1 0-2 .9-2 2v14c0 1.1.9 2 2 2h14c1.1 0 2-.9 2-2V5c0-1.1-.9-2-2-2zM9 17H7v-7h2v7zm4 0h-2V7h2v10zm4 0h-2v-4h2v4z\"/>\n",
              "    </g>\n",
              "</svg>\n",
              "  </button>\n",
              "\n",
              "<style>\n",
              "  .colab-df-quickchart {\n",
              "      --bg-color: #E8F0FE;\n",
              "      --fill-color: #1967D2;\n",
              "      --hover-bg-color: #E2EBFA;\n",
              "      --hover-fill-color: #174EA6;\n",
              "      --disabled-fill-color: #AAA;\n",
              "      --disabled-bg-color: #DDD;\n",
              "  }\n",
              "\n",
              "  [theme=dark] .colab-df-quickchart {\n",
              "      --bg-color: #3B4455;\n",
              "      --fill-color: #D2E3FC;\n",
              "      --hover-bg-color: #434B5C;\n",
              "      --hover-fill-color: #FFFFFF;\n",
              "      --disabled-bg-color: #3B4455;\n",
              "      --disabled-fill-color: #666;\n",
              "  }\n",
              "\n",
              "  .colab-df-quickchart {\n",
              "    background-color: var(--bg-color);\n",
              "    border: none;\n",
              "    border-radius: 50%;\n",
              "    cursor: pointer;\n",
              "    display: none;\n",
              "    fill: var(--fill-color);\n",
              "    height: 32px;\n",
              "    padding: 0;\n",
              "    width: 32px;\n",
              "  }\n",
              "\n",
              "  .colab-df-quickchart:hover {\n",
              "    background-color: var(--hover-bg-color);\n",
              "    box-shadow: 0 1px 2px rgba(60, 64, 67, 0.3), 0 1px 3px 1px rgba(60, 64, 67, 0.15);\n",
              "    fill: var(--button-hover-fill-color);\n",
              "  }\n",
              "\n",
              "  .colab-df-quickchart-complete:disabled,\n",
              "  .colab-df-quickchart-complete:disabled:hover {\n",
              "    background-color: var(--disabled-bg-color);\n",
              "    fill: var(--disabled-fill-color);\n",
              "    box-shadow: none;\n",
              "  }\n",
              "\n",
              "  .colab-df-spinner {\n",
              "    border: 2px solid var(--fill-color);\n",
              "    border-color: transparent;\n",
              "    border-bottom-color: var(--fill-color);\n",
              "    animation:\n",
              "      spin 1s steps(1) infinite;\n",
              "  }\n",
              "\n",
              "  @keyframes spin {\n",
              "    0% {\n",
              "      border-color: transparent;\n",
              "      border-bottom-color: var(--fill-color);\n",
              "      border-left-color: var(--fill-color);\n",
              "    }\n",
              "    20% {\n",
              "      border-color: transparent;\n",
              "      border-left-color: var(--fill-color);\n",
              "      border-top-color: var(--fill-color);\n",
              "    }\n",
              "    30% {\n",
              "      border-color: transparent;\n",
              "      border-left-color: var(--fill-color);\n",
              "      border-top-color: var(--fill-color);\n",
              "      border-right-color: var(--fill-color);\n",
              "    }\n",
              "    40% {\n",
              "      border-color: transparent;\n",
              "      border-right-color: var(--fill-color);\n",
              "      border-top-color: var(--fill-color);\n",
              "    }\n",
              "    60% {\n",
              "      border-color: transparent;\n",
              "      border-right-color: var(--fill-color);\n",
              "    }\n",
              "    80% {\n",
              "      border-color: transparent;\n",
              "      border-right-color: var(--fill-color);\n",
              "      border-bottom-color: var(--fill-color);\n",
              "    }\n",
              "    90% {\n",
              "      border-color: transparent;\n",
              "      border-bottom-color: var(--fill-color);\n",
              "    }\n",
              "  }\n",
              "</style>\n",
              "\n",
              "  <script>\n",
              "    async function quickchart(key) {\n",
              "      const quickchartButtonEl =\n",
              "        document.querySelector('#' + key + ' button');\n",
              "      quickchartButtonEl.disabled = true;  // To prevent multiple clicks.\n",
              "      quickchartButtonEl.classList.add('colab-df-spinner');\n",
              "      try {\n",
              "        const charts = await google.colab.kernel.invokeFunction(\n",
              "            'suggestCharts', [key], {});\n",
              "      } catch (error) {\n",
              "        console.error('Error during call to suggestCharts:', error);\n",
              "      }\n",
              "      quickchartButtonEl.classList.remove('colab-df-spinner');\n",
              "      quickchartButtonEl.classList.add('colab-df-quickchart-complete');\n",
              "    }\n",
              "    (() => {\n",
              "      let quickchartButtonEl =\n",
              "        document.querySelector('#df-d036eda2-e00c-4312-9521-19b370990fc3 button');\n",
              "      quickchartButtonEl.style.display =\n",
              "        google.colab.kernel.accessAllowed ? 'block' : 'none';\n",
              "    })();\n",
              "  </script>\n",
              "</div>\n",
              "    </div>\n",
              "  </div>\n"
            ]
          },
          "metadata": {},
          "execution_count": 36
        }
      ]
    },
    {
      "cell_type": "code",
      "source": [
        "# Добавляем not_target_teg_df в файл Microsoft Excell\n",
        "with pd.ExcelWriter(table_path + 'Теги.xlsx', mode='a') as excel_writer:\n",
        "  not_target_teg_df.to_excel(excel_writer, sheet_name='Теги нецелевых звонков', index=False)"
      ],
      "metadata": {
        "id": "Sy6Ta3vDdTDr"
      },
      "execution_count": null,
      "outputs": []
    },
    {
      "cell_type": "markdown",
      "source": [
        "### Файлы с транскрибацией по тегам нецелевых звонков"
      ],
      "metadata": {
        "id": "eTl1lZyXQ5A0"
      }
    },
    {
      "cell_type": "code",
      "source": [
        "# Загрузка total_text_df\n",
        "with open(df_path + 'total_text_df.pkl', 'rb') as f:\n",
        "  total_text_df = pkl.load(f)"
      ],
      "metadata": {
        "id": "RMTxKdV8RA5V"
      },
      "execution_count": null,
      "outputs": []
    },
    {
      "cell_type": "code",
      "source": [
        "# Файлы с транскрибацией по тегам нецелевых звонков\n",
        "not_target_teg_list = []\n",
        "for teg in total_text_df['Теги'].unique():\n",
        "  if not re.findall(pattern.lower(), teg.lower()):\n",
        "    not_target_teg_list.append(teg)\n",
        "\n",
        "for teg in not_target_teg_list:\n",
        "  with open(not_target_teg_path + teg.replace('/','-') + '.txt', 'w') as f:\n",
        "    for text in total_text_df['Текст транскрибации звонка Whisper'][total_text_df['Теги'] == teg].values:\n",
        "      f.write(text + '\\n' + '-'*100 + '\\n')"
      ],
      "metadata": {
        "id": "ZBJAn7hySX6r"
      },
      "execution_count": null,
      "outputs": []
    },
    {
      "cell_type": "markdown",
      "source": [
        "### Теги нецелевых звонков, которые можно отнести к целевым"
      ],
      "metadata": {
        "id": "EYBH7Y8BxBA4"
      }
    },
    {
      "cell_type": "code",
      "source": [
        "# Спорные теги\n",
        "moot_teg_indexes = []"
      ],
      "metadata": {
        "id": "ox5OBVD1xWmj"
      },
      "execution_count": null,
      "outputs": []
    }
  ]
}