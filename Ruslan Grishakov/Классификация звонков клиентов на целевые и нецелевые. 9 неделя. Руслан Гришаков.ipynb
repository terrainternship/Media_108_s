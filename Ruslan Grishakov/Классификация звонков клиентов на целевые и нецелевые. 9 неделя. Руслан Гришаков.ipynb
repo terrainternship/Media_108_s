{
  "nbformat": 4,
  "nbformat_minor": 0,
  "metadata": {
    "colab": {
      "provenance": [],
      "collapsed_sections": [
        "aBJs7ceAFaOm",
        "pTohUadq_HUC",
        "6wWCO4P3VDIV",
        "HVDEZ-yjB53q",
        "7wQmK6I8B9Wn",
        "lGGIthLVbcgU",
        "Zk-fDeYBFeLK"
      ]
    },
    "kernelspec": {
      "name": "python3",
      "display_name": "Python 3"
    },
    "language_info": {
      "name": "python"
    }
  },
  "cells": [
    {
      "cell_type": "markdown",
      "source": [
        "# Техническое задание"
      ],
      "metadata": {
        "id": "aBJs7ceAFaOm"
      }
    },
    {
      "cell_type": "markdown",
      "source": [
        "**Проект:** Классификация аудиозвонков на целевые и нецелевые."
      ],
      "metadata": {
        "id": "fDXpUnSRFi-I"
      }
    },
    {
      "cell_type": "markdown",
      "source": [
        "**Цель проекта:** Разработать нейронную сеть, способную классифицировать аудиозвонки на целевые и нецелевые на основе предоставленной базы данных и csv-таблицы с описаниями и метками классов."
      ],
      "metadata": {
        "id": "k54M7rKpGVPo"
      }
    },
    {
      "cell_type": "markdown",
      "source": [
        "**Введение:**\n",
        "\n",
        "Входной набор данных представляет из себя два набора файлов:\n",
        "\n",
        "> a)\t[Первый набор файлов](https://drive.google.com/drive/folders/1cQWMpQkscZJbbOTxiJNy0o3nuaeIiB1P?usp=sharing) - это выгрузки в формате `CSV` с информацией по звонкам, а так же с проставленным статусом `“целевой/нецелевой”` в отдельном столбце (обратите внимание, что по проекту `“Павелецкая сити”` две выгрузки - эти наборы данных отличаются и относятся к разным наборам клиентов внутри одного и того же проекта).\n",
        "\n",
        "> b)\t[Второй набор файлов](https://drive.google.com/drive/folders/1K3jGCH60uzFcsI3aj89VIXOOFEXvZxD6?usp=sharing) - аудиозаписи звонков. Они хранятся в корневом каталоге в одноимённых папках. К примеру, в папке `“Записи звонков_павелецкая сити”` лежат записи звонков по проекту `“Павелецкая Сити”`."
      ],
      "metadata": {
        "id": "S2SK4ESIGo32"
      }
    },
    {
      "cell_type": "markdown",
      "source": [
        "**Требования:**\n",
        "\n",
        "1.   Нейронная сеть должна быть спроектирована и обучена для точной классификации аудиозвонков на два класса: целевые и нецелевые (с точностью `90+%`).\n",
        "2.   Необходимо обеспечить интеграцию модели через `API`.\n",
        "3.   Модель должна быть оптимизирована для обработки большого объёма данных.\n",
        "4.   Код должен быть написан с соблюдением стандартов кодирования, и должна быть составлена подробная техническая документация.\n",
        "5.   Код должен включать в себя систему журналирования для фиксации ошибок.\n",
        "6.   Код должен принимать на вход регулярное выражение, по которому будет осуществляться проверка столбца `“теги”` в выгрузках `CSV` для определения статуса звонка `“целевой/нецелевой”`:\n",
        "\n",
        ">> a)\tпо проектам `“Примавера”` и `“Павелецкая сити”` наличие в столбце с тегами подстроки `“Целевой_М108“` будет равняться тому, что данный звонок целевой (пример регулярного выражения: `.*Целевой_М108.*`);\n",
        "\n",
        ">> b)\tпо проекту `“Хедлайнер”` - наличие в столбце с тегами подстроки `“первичный целевой“` будет равняться тому, что данный звонок целевой.\n",
        "\n",
        "7.   После реализации необходимо иметь возможность получения поддержки по предоставленному решению в течение `2 месяцев`."
      ],
      "metadata": {
        "id": "LF_Sa4cXI-pc"
      }
    },
    {
      "cell_type": "markdown",
      "source": [
        "Список рекомендуемых параметров для звуковой записи (данный список носит информационный характер и не является обязательным):\n",
        "\n",
        "*   Эмоция (базовые 11: радость; печаль; гнев; отвращение; удивление; страдание (горе); волнение (интерес); презрение; смущение; стыд; вина).\n",
        "*   Пол.\n",
        "*   Возраст.\n",
        "*   Семантический анализ диалога (по конкретным ключевым словам и/или по тематикам диалогов).\n",
        "*   Характеристики, присутствующие в `CSV`/`XLSX` таблицах."
      ],
      "metadata": {
        "id": "Mln9SW_iNwmm"
      }
    },
    {
      "cell_type": "markdown",
      "source": [
        "# Критерии классификации"
      ],
      "metadata": {
        "id": "pTohUadq_HUC"
      }
    },
    {
      "cell_type": "markdown",
      "source": [
        "Критерии `уникально-целевого` обращения:\n",
        "1. Длительность звонка должна быть не менее `75 секунд`;\n",
        "2. Телефонный номер абонента должен быть `уникальным`, т. е. его не должно быть в `CRM` заказчика. Либо, по нему не должно быть активности за последние `90 дней`. Исключение составляют `топовые площадки`, работающие по своим критериям (`ЦИАН`, `Яндекс.Недвижимость`, `Авито`, и т. д.);\n",
        "3. Клиент должен знать минимальную информацию об объекте (понимать, куда он звонит): название `ЖК`, расположение, ценовую политику;\n",
        "4. Номер абонента должен быть доступен в течение `15 дней` после совершённого звонка (при этом со стороны заказчика должно быть обеспечено `2 попытки` исходящего звонка в течение указанного срока);\n",
        "5. Клиент должен быть `«адекватным»`. Не общаться на повышенных тонах, не употреблять ненормативную лексику и т. д.;\n",
        "6. Клиент не должен быть повторным. Например, клиент `уже` купил квартиру и через `90 дней` решил купить машиноместо;\n",
        "7. Заявка. В заявке должен быть указан номер телефона, а абонент при контакте с менеджером должен соответствовать всем критериям `уникально-целевого` обращения, перечисленным выше;\n",
        "8. Озвученный общий бюджет покупки не должен быть `ниже 90%` от стоимости квартиры или коммерческого помещения, соответствующих площади/комнатности на момент обращения;\n",
        "9. В случае, если клиент является уникальным, интересуется покупкой недвижимости, не является представителем партнёров или исполнителей и изъявил желание посетить офис продаж. При этом не обязательна фиксация уровня знания клиента об объекте в диалоге. При этом источник не должен относиться к каналам `«лидогенерация»` или `«тематические площадки»`;\n",
        "10. Основной целью звонка клиента не должна являться покупка/аренда исключительно нежилого помещения, если это не являлось целью проводимой рекламной кампании.\n",
        "\n",
        "Критерии НЕ `уникально-целевого` (вторичного) обращения:\n",
        "1. Клиент позвонил повторно менее чем через `3 месяца` (`90 дней`) с момента последнего обращения;\n",
        "2. Клиент, либо члены его семьи, уже купил (купили) `квартиру`/`машиноместо`/`кладовое помещение`, и хочет (хотят) совершить ещё одну покупку. В данном случае клиент относится к показателю `LTV` (показатель прибыли, которую компания получает от одного клиента за всё время работы с ним)."
      ],
      "metadata": {
        "id": "F1Im0SOi_S8W"
      }
    },
    {
      "cell_type": "markdown",
      "source": [
        "# 9 неделя"
      ],
      "metadata": {
        "id": "CWbdpX5X-QzO"
      }
    },
    {
      "cell_type": "markdown",
      "source": [
        "## Интеграция в `prod`"
      ],
      "metadata": {
        "id": "6wWCO4P3VDIV"
      }
    },
    {
      "cell_type": "markdown",
      "source": [
        "### Тестирование модели нейронной сети на текстовых данных"
      ],
      "metadata": {
        "id": "HVDEZ-yjB53q"
      }
    },
    {
      "cell_type": "code",
      "source": [
        "# Подключение google-диска\n",
        "from google.colab import drive\n",
        "drive.mount('/content/drive')"
      ],
      "metadata": {
        "colab": {
          "base_uri": "https://localhost:8080/"
        },
        "id": "9eMRHWYSJnIl",
        "outputId": "1ed63c84-4761-4dcd-dfae-e71fa2792224"
      },
      "execution_count": null,
      "outputs": [
        {
          "output_type": "stream",
          "name": "stdout",
          "text": [
            "Mounted at /content/drive\n"
          ]
        }
      ]
    },
    {
      "cell_type": "code",
      "source": [
        "# Установка autokeras\n",
        "!pip -q install autokeras"
      ],
      "metadata": {
        "colab": {
          "base_uri": "https://localhost:8080/"
        },
        "outputId": "f8f2d381-3958-42f8-890a-bb3bbf6030ef",
        "id": "QSNHRZOgJfXZ"
      },
      "execution_count": null,
      "outputs": [
        {
          "output_type": "stream",
          "name": "stdout",
          "text": [
            "\u001b[2K     \u001b[90m━━━━━━━━━━━━━━━━━━━━━━━━━━━━━━━━━━━━━━━━\u001b[0m \u001b[32m148.6/148.6 kB\u001b[0m \u001b[31m2.6 MB/s\u001b[0m eta \u001b[36m0:00:00\u001b[0m\n",
            "\u001b[2K     \u001b[90m━━━━━━━━━━━━━━━━━━━━━━━━━━━━━━━━━━━━━━━━\u001b[0m \u001b[32m129.5/129.5 kB\u001b[0m \u001b[31m4.7 MB/s\u001b[0m eta \u001b[36m0:00:00\u001b[0m\n",
            "\u001b[2K     \u001b[90m━━━━━━━━━━━━━━━━━━━━━━━━━━━━━━━━━━━━━━━━\u001b[0m \u001b[32m590.1/590.1 kB\u001b[0m \u001b[31m8.8 MB/s\u001b[0m eta \u001b[36m0:00:00\u001b[0m\n",
            "\u001b[2K     \u001b[90m━━━━━━━━━━━━━━━━━━━━━━━━━━━━━━━━━━━━━━━━\u001b[0m \u001b[32m950.8/950.8 kB\u001b[0m \u001b[31m11.6 MB/s\u001b[0m eta \u001b[36m0:00:00\u001b[0m\n",
            "\u001b[2K     \u001b[90m━━━━━━━━━━━━━━━━━━━━━━━━━━━━━━━━━━━━━━━━\u001b[0m \u001b[32m6.5/6.5 MB\u001b[0m \u001b[31m23.9 MB/s\u001b[0m eta \u001b[36m0:00:00\u001b[0m\n",
            "\u001b[?25h"
          ]
        }
      ]
    },
    {
      "cell_type": "code",
      "source": [
        "# Загрузка модели\n",
        "import autokeras as ak\n",
        "from tensorflow.keras.models import load_model\n",
        "model = load_model('/content/drive/MyDrive/media108.ru/Модели/2023.10.15_text_model.keras')"
      ],
      "metadata": {
        "colab": {
          "base_uri": "https://localhost:8080/"
        },
        "id": "1lGzqatqCAzi",
        "outputId": "931e50bd-8417-4b02-9c8d-ffba822b36d0"
      },
      "execution_count": null,
      "outputs": [
        {
          "output_type": "stream",
          "name": "stdout",
          "text": [
            "Using TensorFlow backend\n"
          ]
        },
        {
          "output_type": "stream",
          "name": "stderr",
          "text": [
            "WARNING:absl:Skipping variable loading for optimizer 'Adam', because it has 15 variables whereas the saved optimizer has 1 variables. \n"
          ]
        }
      ]
    },
    {
      "cell_type": "code",
      "source": [
        "# Загрузка датафреймов\n",
        "import pickle as pkl\n",
        "import pandas as pd\n",
        "with open('/content/drive/MyDrive/media108.ru/Датафреймы/total_targets_test_df.pkl', 'rb') as f:\n",
        "  total_targets_test_df = pkl.load(f)\n",
        "with open('/content/drive/MyDrive/media108.ru/Датафреймы/total_not_targets_test_df.pkl', 'rb') as f:\n",
        "  total_not_targets_test_df = pkl.load(f)"
      ],
      "metadata": {
        "id": "bzzNai_DDGMc"
      },
      "execution_count": null,
      "outputs": []
    },
    {
      "cell_type": "code",
      "source": [
        "# Классы\n",
        "classes_names = ['Целевой', 'Нецелевой']"
      ],
      "metadata": {
        "id": "LwxdH3INEQf-"
      },
      "execution_count": null,
      "outputs": []
    },
    {
      "cell_type": "code",
      "source": [
        "# Тестовые данные\n",
        "test_targets_sample = total_targets_test_df['Текст whisper-транскрибации записи звонка'].head(1).values\n",
        "test_not_targets_sample = total_not_targets_test_df['Текст whisper-транскрибации записи звонка'].head(1).values"
      ],
      "metadata": {
        "id": "39cOfgQQDSsb"
      },
      "execution_count": null,
      "outputs": []
    },
    {
      "cell_type": "code",
      "source": [
        "# Инференс модели на целевом звонке\n",
        "pred = model.predict(test_targets_sample, verbose=0)\n",
        "print(classes_names[round(pred[0][0])])"
      ],
      "metadata": {
        "colab": {
          "base_uri": "https://localhost:8080/"
        },
        "id": "u-Alg0mJDnJL",
        "outputId": "7920ef29-901d-421a-e42c-faa48d4f4d6e"
      },
      "execution_count": null,
      "outputs": [
        {
          "output_type": "stream",
          "name": "stdout",
          "text": [
            "Целевой\n"
          ]
        }
      ]
    },
    {
      "cell_type": "code",
      "source": [
        "# Инференс модели на нецелевом звонке\n",
        "pred = model.predict(test_not_targets_sample, verbose=0)\n",
        "print(classes_names[round(pred[0][0])])"
      ],
      "metadata": {
        "colab": {
          "base_uri": "https://localhost:8080/"
        },
        "id": "sSnPuSiaHUKp",
        "outputId": "2dcdd5ce-ad83-40ea-dd26-77573436da1a"
      },
      "execution_count": null,
      "outputs": [
        {
          "output_type": "stream",
          "name": "stdout",
          "text": [
            "Нецелевой\n"
          ]
        }
      ]
    },
    {
      "cell_type": "markdown",
      "source": [
        "### API (текстовые данные)"
      ],
      "metadata": {
        "id": "7wQmK6I8B9Wn"
      }
    },
    {
      "cell_type": "code",
      "source": [
        "# Подключение google-диска\n",
        "from google.colab import drive\n",
        "drive.mount('/content/drive')"
      ],
      "metadata": {
        "colab": {
          "base_uri": "https://localhost:8080/"
        },
        "outputId": "f1ed5d3b-3cad-4215-a4b6-e9b68f9e7bb4",
        "id": "Z2m60IenKkZN"
      },
      "execution_count": null,
      "outputs": [
        {
          "output_type": "stream",
          "name": "stdout",
          "text": [
            "Mounted at /content/drive\n"
          ]
        }
      ]
    },
    {
      "cell_type": "code",
      "source": [
        "# Установка autokeras\n",
        "!pip -q install autokeras"
      ],
      "metadata": {
        "colab": {
          "base_uri": "https://localhost:8080/"
        },
        "outputId": "a3bc3584-378d-40da-c550-8dd65ce2b809",
        "id": "c8DUoXU0Kp23"
      },
      "execution_count": null,
      "outputs": [
        {
          "output_type": "stream",
          "name": "stdout",
          "text": [
            "\u001b[2K     \u001b[90m━━━━━━━━━━━━━━━━━━━━━━━━━━━━━━━━━━━━━━━━\u001b[0m \u001b[32m148.6/148.6 kB\u001b[0m \u001b[31m2.4 MB/s\u001b[0m eta \u001b[36m0:00:00\u001b[0m\n",
            "\u001b[2K     \u001b[90m━━━━━━━━━━━━━━━━━━━━━━━━━━━━━━━━━━━━━━━━\u001b[0m \u001b[32m129.5/129.5 kB\u001b[0m \u001b[31m5.2 MB/s\u001b[0m eta \u001b[36m0:00:00\u001b[0m\n",
            "\u001b[2K     \u001b[90m━━━━━━━━━━━━━━━━━━━━━━━━━━━━━━━━━━━━━━━━\u001b[0m \u001b[32m590.1/590.1 kB\u001b[0m \u001b[31m8.0 MB/s\u001b[0m eta \u001b[36m0:00:00\u001b[0m\n",
            "\u001b[2K     \u001b[90m━━━━━━━━━━━━━━━━━━━━━━━━━━━━━━━━━━━━━━━━\u001b[0m \u001b[32m950.8/950.8 kB\u001b[0m \u001b[31m10.2 MB/s\u001b[0m eta \u001b[36m0:00:00\u001b[0m\n",
            "\u001b[2K     \u001b[90m━━━━━━━━━━━━━━━━━━━━━━━━━━━━━━━━━━━━━━━━\u001b[0m \u001b[32m6.5/6.5 MB\u001b[0m \u001b[31m22.3 MB/s\u001b[0m eta \u001b[36m0:00:00\u001b[0m\n",
            "\u001b[?25h"
          ]
        }
      ]
    },
    {
      "cell_type": "code",
      "source": [
        "# Установка fastapi и дополнительных библиотек\n",
        "!pip -q install fastapi uvicorn python-multipart typing-extensions==4.5.0 kaleido"
      ],
      "metadata": {
        "colab": {
          "base_uri": "https://localhost:8080/"
        },
        "id": "abrvEJ4xJOOC",
        "outputId": "03c1b8ff-0d26-4e46-bfb7-f6d869caba4e"
      },
      "execution_count": null,
      "outputs": [
        {
          "output_type": "stream",
          "name": "stdout",
          "text": [
            "\u001b[2K     \u001b[90m━━━━━━━━━━━━━━━━━━━━━━━━━━━━━━━━━━━━━━━━\u001b[0m \u001b[32m92.9/92.9 kB\u001b[0m \u001b[31m1.4 MB/s\u001b[0m eta \u001b[36m0:00:00\u001b[0m\n",
            "\u001b[2K     \u001b[90m━━━━━━━━━━━━━━━━━━━━━━━━━━━━━━━━━━━━━━━━\u001b[0m \u001b[32m59.6/59.6 kB\u001b[0m \u001b[31m2.2 MB/s\u001b[0m eta \u001b[36m0:00:00\u001b[0m\n",
            "\u001b[2K     \u001b[90m━━━━━━━━━━━━━━━━━━━━━━━━━━━━━━━━━━━━━━━━\u001b[0m \u001b[32m45.7/45.7 kB\u001b[0m \u001b[31m3.5 MB/s\u001b[0m eta \u001b[36m0:00:00\u001b[0m\n",
            "\u001b[2K     \u001b[90m━━━━━━━━━━━━━━━━━━━━━━━━━━━━━━━━━━━━━━━━\u001b[0m \u001b[32m79.9/79.9 MB\u001b[0m \u001b[31m8.5 MB/s\u001b[0m eta \u001b[36m0:00:00\u001b[0m\n",
            "\u001b[2K     \u001b[90m━━━━━━━━━━━━━━━━━━━━━━━━━━━━━━━━━━━━━━━━\u001b[0m \u001b[32m67.0/67.0 kB\u001b[0m \u001b[31m6.1 MB/s\u001b[0m eta \u001b[36m0:00:00\u001b[0m\n",
            "\u001b[2K     \u001b[90m━━━━━━━━━━━━━━━━━━━━━━━━━━━━━━━━━━━━━━━━\u001b[0m \u001b[32m92.9/92.9 kB\u001b[0m \u001b[31m8.2 MB/s\u001b[0m eta \u001b[36m0:00:00\u001b[0m\n",
            "\u001b[2K     \u001b[90m━━━━━━━━━━━━━━━━━━━━━━━━━━━━━━━━━━━━━━━━\u001b[0m \u001b[32m66.3/66.3 kB\u001b[0m \u001b[31m6.3 MB/s\u001b[0m eta \u001b[36m0:00:00\u001b[0m\n",
            "\u001b[2K     \u001b[90m━━━━━━━━━━━━━━━━━━━━━━━━━━━━━━━━━━━━━━━━\u001b[0m \u001b[32m58.3/58.3 kB\u001b[0m \u001b[31m5.0 MB/s\u001b[0m eta \u001b[36m0:00:00\u001b[0m\n",
            "\u001b[?25h"
          ]
        }
      ]
    },
    {
      "cell_type": "code",
      "source": [
        "# Эндпойнт\n",
        "main_file = '''\n",
        "import autokeras as ak\n",
        "from tensorflow.keras.models import load_model\n",
        "from fastapi import FastAPI\n",
        "from pydantic import BaseModel\n",
        "\n",
        "model = load_model('/content/drive/MyDrive/media108.ru/Модели/2023.10.15_text_model.keras')\n",
        "classes_names = ['Целевой', 'Нецелевой']\n",
        "\n",
        "class Item(BaseModel):\n",
        "  text: str\n",
        "\n",
        "app = FastAPI()\n",
        "\n",
        "@app.post('/predict')\n",
        "async def predict(item: Item):\n",
        "  pred = model.predict([item.text], verbose=0)\n",
        "  return {'result': classes_names[round(pred[0][0])]}\n",
        "'''\n",
        "with open('main.py', 'w') as f:\n",
        "  f.write(main_file)"
      ],
      "metadata": {
        "id": "DyV8w5Z8LRuZ"
      },
      "execution_count": null,
      "outputs": []
    },
    {
      "cell_type": "code",
      "source": [
        "# Запуск uvicorn\n",
        "!nohup uvicorn main:app --reload &"
      ],
      "metadata": {
        "colab": {
          "base_uri": "https://localhost:8080/"
        },
        "id": "6YnAuzlVQZxs",
        "outputId": "52e1a5e4-52a2-4e5d-b1f1-f9de7fab0134"
      },
      "execution_count": null,
      "outputs": [
        {
          "output_type": "stream",
          "name": "stdout",
          "text": [
            "nohup: appending output to 'nohup.out'\n"
          ]
        }
      ]
    },
    {
      "cell_type": "code",
      "source": [
        "# Лог\n",
        "!cat nohup.out"
      ],
      "metadata": {
        "colab": {
          "base_uri": "https://localhost:8080/"
        },
        "id": "rTc-mtCLQjdC",
        "outputId": "10282c52-3d9b-43af-d5f0-c5bd92079fd5"
      },
      "execution_count": null,
      "outputs": [
        {
          "output_type": "stream",
          "name": "stdout",
          "text": [
            "INFO:     Will watch for changes in these directories: ['/content']\n",
            "INFO:     Uvicorn running on http://127.0.0.1:8000 (Press CTRL+C to quit)\n",
            "INFO:     Started reloader process [1077] using StatReload\n",
            "Using TensorFlow backend\n",
            "2023-11-05 14:11:09.946370: E tensorflow/compiler/xla/stream_executor/cuda/cuda_dnn.cc:9342] Unable to register cuDNN factory: Attempting to register factory for plugin cuDNN when one has already been registered\n",
            "2023-11-05 14:11:09.946443: E tensorflow/compiler/xla/stream_executor/cuda/cuda_fft.cc:609] Unable to register cuFFT factory: Attempting to register factory for plugin cuFFT when one has already been registered\n",
            "2023-11-05 14:11:09.946512: E tensorflow/compiler/xla/stream_executor/cuda/cuda_blas.cc:1518] Unable to register cuBLAS factory: Attempting to register factory for plugin cuBLAS when one has already been registered\n",
            "2023-11-05 14:11:09.960311: I tensorflow/core/platform/cpu_feature_guard.cc:182] This TensorFlow binary is optimized to use available CPU instructions in performance-critical operations.\n",
            "To enable the following instructions: AVX2 FMA, in other operations, rebuild TensorFlow with the appropriate compiler flags.\n",
            "2023-11-05 14:11:11.824831: W tensorflow/compiler/tf2tensorrt/utils/py_utils.cc:38] TF-TRT Warning: Could not find TensorRT\n"
          ]
        }
      ]
    },
    {
      "cell_type": "code",
      "source": [
        "# Тестовые данные\n",
        "import pickle as pkl\n",
        "import pandas as pd\n",
        "with open('/content/drive/MyDrive/media108.ru/Датафреймы/total_targets_test_df.pkl', 'rb') as f:\n",
        "  total_targets_test_df = pkl.load(f)\n",
        "with open('/content/drive/MyDrive/media108.ru/Датафреймы/total_not_targets_test_df.pkl', 'rb') as f:\n",
        "  total_not_targets_test_df = pkl.load(f)\n",
        "test_targets_sample = total_targets_test_df['Текст whisper-транскрибации записи звонка'].head(1).values\n",
        "test_not_targets_sample = total_not_targets_test_df['Текст whisper-транскрибации записи звонка'].head(1).values"
      ],
      "metadata": {
        "id": "Aw9PYl1JQ9bB"
      },
      "execution_count": null,
      "outputs": []
    },
    {
      "cell_type": "code",
      "source": [
        "# Целевой звонок\n",
        "import requests\n",
        "response = requests.post('http://127.0.0.1:8000/predict', json={'text': test_targets_sample[0]})\n",
        "print(response.text)"
      ],
      "metadata": {
        "colab": {
          "base_uri": "https://localhost:8080/"
        },
        "id": "sZZHUEbsQxM8",
        "outputId": "cd592f75-a3fa-45d6-cca7-c406d545910c"
      },
      "execution_count": null,
      "outputs": [
        {
          "output_type": "stream",
          "name": "stdout",
          "text": [
            "{\"result\":\"Целевой\"}\n"
          ]
        }
      ]
    },
    {
      "cell_type": "code",
      "source": [
        "# Нецелевой звонок\n",
        "import requests\n",
        "response = requests.post('http://127.0.0.1:8000/predict', json={'text': test_not_targets_sample[0]})\n",
        "print(response.text)"
      ],
      "metadata": {
        "colab": {
          "base_uri": "https://localhost:8080/"
        },
        "id": "u1NBCsXBz7jN",
        "outputId": "9664185a-ed42-4717-e4bc-e62fcaeae610"
      },
      "execution_count": null,
      "outputs": [
        {
          "output_type": "stream",
          "name": "stdout",
          "text": [
            "{\"result\":\"Нецелевой\"}\n"
          ]
        }
      ]
    },
    {
      "cell_type": "markdown",
      "source": [
        "### Whisper + Тестирование модели нейронной сети на текстовых данных"
      ],
      "metadata": {
        "id": "lGGIthLVbcgU"
      }
    },
    {
      "cell_type": "code",
      "source": [
        "# Подключение google-диска\n",
        "from google.colab import drive\n",
        "drive.mount('/content/drive')"
      ],
      "metadata": {
        "colab": {
          "base_uri": "https://localhost:8080/"
        },
        "id": "OEieVfntb8VQ",
        "outputId": "5fe3c173-d244-4420-f350-3e7af8b2d304"
      },
      "execution_count": null,
      "outputs": [
        {
          "output_type": "stream",
          "name": "stdout",
          "text": [
            "Mounted at /content/drive\n"
          ]
        }
      ]
    },
    {
      "cell_type": "code",
      "source": [
        "# Установка autokeras\n",
        "!pip -q install autokeras"
      ],
      "metadata": {
        "colab": {
          "base_uri": "https://localhost:8080/"
        },
        "id": "7V0gIPq59b9Z",
        "outputId": "d2636ef1-c031-40ef-f1d1-7fb03268ddf7"
      },
      "execution_count": null,
      "outputs": [
        {
          "output_type": "stream",
          "name": "stdout",
          "text": [
            "\u001b[2K     \u001b[90m━━━━━━━━━━━━━━━━━━━━━━━━━━━━━━━━━━━━━━━━\u001b[0m \u001b[32m148.6/148.6 kB\u001b[0m \u001b[31m3.3 MB/s\u001b[0m eta \u001b[36m0:00:00\u001b[0m\n",
            "\u001b[2K     \u001b[90m━━━━━━━━━━━━━━━━━━━━━━━━━━━━━━━━━━━━━━━━\u001b[0m \u001b[32m129.5/129.5 kB\u001b[0m \u001b[31m14.3 MB/s\u001b[0m eta \u001b[36m0:00:00\u001b[0m\n",
            "\u001b[2K     \u001b[90m━━━━━━━━━━━━━━━━━━━━━━━━━━━━━━━━━━━━━━━━\u001b[0m \u001b[32m590.1/590.1 kB\u001b[0m \u001b[31m24.5 MB/s\u001b[0m eta \u001b[36m0:00:00\u001b[0m\n",
            "\u001b[2K     \u001b[90m━━━━━━━━━━━━━━━━━━━━━━━━━━━━━━━━━━━━━━━━\u001b[0m \u001b[32m950.8/950.8 kB\u001b[0m \u001b[31m40.0 MB/s\u001b[0m eta \u001b[36m0:00:00\u001b[0m\n",
            "\u001b[2K     \u001b[90m━━━━━━━━━━━━━━━━━━━━━━━━━━━━━━━━━━━━━━━━\u001b[0m \u001b[32m6.5/6.5 MB\u001b[0m \u001b[31m105.3 MB/s\u001b[0m eta \u001b[36m0:00:00\u001b[0m\n",
            "\u001b[?25h"
          ]
        }
      ]
    },
    {
      "cell_type": "code",
      "source": [
        "# Тестовые данные\n",
        "import pickle as pkl\n",
        "import pandas as pd\n",
        "with open('/content/drive/MyDrive/media108.ru/Датафреймы/total_targets_test_df.pkl', 'rb') as f:\n",
        "  total_targets_test_df = pkl.load(f)\n",
        "with open('/content/drive/MyDrive/media108.ru/Датафреймы/total_not_targets_test_df.pkl', 'rb') as f:\n",
        "  total_not_targets_test_df = pkl.load(f)\n",
        "test_targets_sample_file = '/content/drive/MyDrive/media108.ru/Датасет/' + total_targets_test_df['Файл записи звонка'].head(1).values[0]\n",
        "test_not_targets_sample_file = '/content/drive/MyDrive/media108.ru/Датасет/' + total_not_targets_test_df['Файл записи звонка'].head(1).values[0]"
      ],
      "metadata": {
        "id": "jCd_6RLedfAH"
      },
      "execution_count": null,
      "outputs": []
    },
    {
      "cell_type": "code",
      "source": [
        "# Загрузка модели\n",
        "import autokeras as ak\n",
        "from tensorflow.keras.models import load_model\n",
        "model = load_model('/content/drive/MyDrive/media108.ru/Модели/2023.10.15_text_model.keras')"
      ],
      "metadata": {
        "colab": {
          "base_uri": "https://localhost:8080/"
        },
        "outputId": "7f6eb04e-252c-40e4-8cff-1dbd7551223e",
        "id": "KctvgHeyLM32"
      },
      "execution_count": null,
      "outputs": [
        {
          "output_type": "stream",
          "name": "stdout",
          "text": [
            "Using TensorFlow backend\n"
          ]
        },
        {
          "output_type": "stream",
          "name": "stderr",
          "text": [
            "WARNING:absl:Skipping variable loading for optimizer 'Adam', because it has 15 variables whereas the saved optimizer has 1 variables. \n"
          ]
        }
      ]
    },
    {
      "cell_type": "code",
      "source": [
        "# Классы\n",
        "classes_names = ['Целевой', 'Нецелевой']"
      ],
      "metadata": {
        "id": "sp_7phyY9t1i"
      },
      "execution_count": null,
      "outputs": []
    },
    {
      "cell_type": "code",
      "source": [
        "# Инференс модели на целевом звонке\n",
        "pred = model.predict(total_targets_test_df['Текст whisper-транскрибации записи звонка'].head(1).values, verbose=0)\n",
        "print(classes_names[round(pred[0][0])])"
      ],
      "metadata": {
        "colab": {
          "base_uri": "https://localhost:8080/"
        },
        "id": "YyjoilRSLwCy",
        "outputId": "2314d427-d3a4-499a-9cb8-1fc8446e86ee"
      },
      "execution_count": null,
      "outputs": [
        {
          "output_type": "stream",
          "name": "stdout",
          "text": [
            "Целевой\n"
          ]
        }
      ]
    },
    {
      "cell_type": "code",
      "source": [
        "# Инференс модели на нецелевом звонке\n",
        "pred = model.predict(total_not_targets_test_df['Текст whisper-транскрибации записи звонка'].head(1).values, verbose=0)\n",
        "print(classes_names[round(pred[0][0])])"
      ],
      "metadata": {
        "colab": {
          "base_uri": "https://localhost:8080/"
        },
        "id": "l-l-CZ5gLw9V",
        "outputId": "116469ac-4590-4895-f678-47c6a06d98d8"
      },
      "execution_count": null,
      "outputs": [
        {
          "output_type": "stream",
          "name": "stdout",
          "text": [
            "Нецелевой\n"
          ]
        }
      ]
    },
    {
      "cell_type": "code",
      "source": [
        "# Установка openai-whisper\n",
        "!pip install git+https://github.com/openai/whisper.git"
      ],
      "metadata": {
        "id": "QOHYvunMzLTX"
      },
      "execution_count": null,
      "outputs": []
    },
    {
      "cell_type": "code",
      "source": [
        "# Транскрибация\n",
        "import whisper\n",
        "whisper_model = whisper.load_model('large')\n",
        "test_targets_sample = whisper_model.transcribe(test_targets_sample_file, language='ru')\n",
        "test_not_targets_sample = whisper_model.transcribe(test_not_targets_sample_file, language='ru')"
      ],
      "metadata": {
        "colab": {
          "base_uri": "https://localhost:8080/"
        },
        "id": "TVeCRjWacgPc",
        "outputId": "a703e501-c747-45ab-db2f-3625fb1f4876"
      },
      "execution_count": null,
      "outputs": [
        {
          "output_type": "stream",
          "name": "stderr",
          "text": [
            "100%|██████████████████████████████████████| 2.87G/2.87G [00:29<00:00, 106MiB/s]\n"
          ]
        }
      ]
    },
    {
      "cell_type": "code",
      "source": [
        "test_targets_sample['text']"
      ],
      "metadata": {
        "colab": {
          "base_uri": "https://localhost:8080/",
          "height": 244
        },
        "id": "LAJedejK1eIu",
        "outputId": "9f899c2f-21b7-47ba-f154-2222f84d86f1"
      },
      "execution_count": null,
      "outputs": [
        {
          "output_type": "execute_result",
          "data": {
            "text/plain": [
              "' Вы позвонили в группу компании «Картрос». Благодарим вас за звонок. Пожалуйста, дождитесь ответа оператора. Добрый день. Группа компании «Картрос». Лилия. ЖК «Хэдлайнер». Здравствуйте. «Хэдлайнер», да, ЖК? Я бы хотела знать, что узнать. А у вас есть возможность показать готовые квартиры хотя бы? Или у вас еще вообще все на уровне только застройки? Нет, у нас есть уже сданные корпуса. Давайте я вас соединю с менеджером отдела продаж. Там шоурум есть, где посмотреть. Отлично, хорошо, давайте, соединяемся. Подскажите, как вас зовут? Динара. Я вас соединяю с менеджером. Отдай минуту. Динара, добрый день. Меня зовут Алена, менеджер проекта «Хэдлайнер». Чем могу вам помочь? Здравствуйте. А я могу сейчас подъехать к вам, и вы мне все покажете, что есть у вас? Да, вы можете приехать в офис продаж, Шмидтовский проезд, 39, корпус 1. А вы можете мне геолокацию скинуть на WhatsApp, на этот номер? Я просто сейчас уже буду выезжать, и там где какая парковка? Там на улице можно встать, правильно? Я могу вам направить карту подъезда к комплексу. Вы на автомобиле едете? Да, да, да. Вы можете, наверное, вбить навигатор, живой комплекс, «Хэдлайнер». Офис продаж находится в «Хэдлайнере». Все, отлично, хорошо, тогда я сейчас это... И потом я с вами могу связаться или как? Да, вы придете в офис продаж, скажите, что навстречу с менеджером, и вас проводят. А там свободный въезд, без локбала, без пропуска, без ничего? Нет, офис продаж находится со стороны дороги. Припаркуете автомобиль на территории комплекса, где-то рядом, ну не в самом комплексе, но где-то рядом локации, вот здесь, где магазин «Магнит», например, либо во внутренние въездите, здесь есть небольшая парковка, и просто ищите офис продаж. Офис продаж находится со стороны шмитовского проезда. Со стороны шмитовского проезда, хорошо. Да, со стороны, да, со стороны дороги. Да, хорошо. Все, приезжайте. Да, все, спасибо.'"
            ],
            "application/vnd.google.colaboratory.intrinsic+json": {
              "type": "string"
            }
          },
          "metadata": {},
          "execution_count": 10
        }
      ]
    },
    {
      "cell_type": "code",
      "source": [
        "total_targets_test_df['Текст whisper-транскрибации записи звонка'].head(1).values[0]"
      ],
      "metadata": {
        "colab": {
          "base_uri": "https://localhost:8080/",
          "height": 244
        },
        "id": "oBFUbcY257QK",
        "outputId": "141e1fc9-6e9e-4ee0-d74d-612e47044d08"
      },
      "execution_count": null,
      "outputs": [
        {
          "output_type": "execute_result",
          "data": {
            "text/plain": [
              "'Вы позвонили в группу компании «Картрос». Благодарим вас за звонок. Пожалуйста, дождитесь ответа оператора. Добрый день. Группа компании «Картрос». Лилия. ЖК «Хэдлайнер». Здравствуйте. «Хэдлайнер», да, ЖК? Я бы хотела знать, что узнать. А у вас есть возможность показать готовые квартиры хотя бы? Или у вас еще вообще все на уровне только застройки? Нет, у нас есть уже сданные корпуса. Давайте я вас соединю с менеджером отдела продаж. Там шоурум есть, где посмотреть. Отлично, хорошо, давайте, соединяемся. Подскажите, как вас зовут? Динара. Я вас соединяю с менеджером. Отдай минуту. Динара, добрый день. Меня зовут Алена, менеджер проекта «Хэдлайнер». Чем могу вам помочь? Здравствуйте. А я могу сейчас подъехать к вам, и вы мне все покажете, что есть у вас? Да, вы можете приехать в офис продаж, Шмидтовский проезд, 39, корпус 1. А вы можете мне геолокацию скинуть на WhatsApp, на этот номер? Я просто сейчас уже буду выезжать, и там где какая парковка? Там на улице можно встать, правильно? Я могу вам направить карту подъезда к комплексу. Вы на автомобиле едете? Да, да, да. Вы можете, наверное, вбить навигатор, живой комплекс, «Хэдлайнер». Офис продаж находится в «Хэдлайнере». Все, отлично, хорошо, тогда я сейчас это... И потом я с вами могу связаться или как? Да, вы придете в офис продаж, скажите, что навстречу с менеджером, и вас проводят. А там свободный въезд, без локбала, без пропуска, без ничего? Нет, офис продаж находится со стороны дороги. Припаркуете автомобиль на территории комплекса, где-то рядом, ну не в самом комплексе, но где-то рядом локации, вот здесь, где магазин «Магнит», например, либо во внутренние въездите, здесь есть небольшая парковка, и просто ищите офис продаж. Офис продаж находится со стороны шмитовского проезда. Со стороны шмитовского проезда, хорошо. Да, со стороны, да, со стороны дороги. Да, хорошо. Все, приезжайте. Да, все, спасибо.'"
            ],
            "application/vnd.google.colaboratory.intrinsic+json": {
              "type": "string"
            }
          },
          "metadata": {},
          "execution_count": 11
        }
      ]
    },
    {
      "cell_type": "code",
      "source": [
        "test_not_targets_sample['text']"
      ],
      "metadata": {
        "colab": {
          "base_uri": "https://localhost:8080/",
          "height": 348
        },
        "id": "juNxvVoi6BW6",
        "outputId": "b74159d3-3112-4d73-de06-ad07f63a4771"
      },
      "execution_count": null,
      "outputs": [
        {
          "output_type": "execute_result",
          "data": {
            "text/plain": [
              "' Здравствуйте! Вы позвонили в группу компании «Картроф». Благодарим вас за звонок. Пожалуйста, дождитесь ответа оператора. Добрый день, группа компании «Картроф». Меня зовут Любовь. Здравствуйте, Любовь. Меня зовут Татьяна. У меня уникальный клиент. Я бы хотела пообщаться с менеджером, которого вы прикрепили, но не могу дозвониться, у него абонент недоступен. Какой менеджер? Что за фамилия? Ванда Даев. Прикрепили этого. Так. Хорошо. Соединяю вас, Татьяна, с отделом продаж. Сейчас любой свободный менеджер пройти ситуацию. Оставайтесь на линии. Благодарю. Спасибо. Татьяна, добрый день. Меня зовут Антон. Слушаю вас. Чем могу помочь? Добрый день. Уникального клиента. Клиент уникальный. Хочу уточнить по квартире. У нас бюджет 20 миллионов. Ну, плюс-минус там 2 миллиона, да? Да. Нужна готовая квартира, но пойти ипотеки. Уже в готовом построенном доме? Да. Такое возможно? Нужно... Уточнить будет у отдела ипотеки. По готовым домам возможно пойти ипотеку или нет. Вот у нас осталась одна квартира. Ну, однокомнатная. У нее цена минимальная 22 миллиона. Она продается по договору купли-продажи от физлица. Вот, скорее всего, здесь и идти ипотекой будет невозможно. Так. А если мы говорим про однокомнатную квартиру? Ну, про вот эту другую, следующую минимальную площадь. То есть, однокомнатная квартира от застройщиков в готовом доме. И она выходит у нас по прайсовой цене в районе 30 миллионов. А со скидкой она выходит около 25 миллионов 200 тысяч. Так. Но она идет по ипотеке, да? Ну, я думаю, да. Да. Но там будет бюджет в районе 25 с лишним миллионов. Так. 25. Но зато ключи сразу, правильно? Да. Квартира в готовом уже построенном доме. То есть, она без ремонта. Покупаете ключи, можно делать ремонт. Начинать, да. Ага. Значит. Так. А на скидку не помните, какая ставка по ипотеке? Ну, нужно будет уточнить у моих коллег, которые заделывают ипотеки. Я уточню и могу вам отписаться. Она вот там, на ваш телефон. Да. Благодарю. А то я просто сейчас хочу предложить. А что предложить, я вот тоже нашла только 22. Здесь не написано, что она по уступке. Ну, у нас, к сожалению, не указывается. На сайте, часом же на нашем, не совсем понятно, да, от кого эта квартира продается. А вот эта квартира в Нихниле. Хотя тут есть даже за 20 400. Эта квартира тоже по уступке от Фезлиса идет. И она продается совместно с рядышком с ней двухкомнатной квартирой под объединением. Так. Ясно. А так получается 25 900, самое минимальное. Нет. 25. 250 плюс-минус такая устоянность. Ну, понятно. Ну, если пойдет... Блин, плохо, что вот ипотека. А на сайте у вас где-то написано про ипотеку? На сайте написано, да. Но я сейчас уточню. Вам исключительно IT ипотека интересует, да? Да. Да. Совершенно. Я сейчас уточню и вам на ВСАП подпишусь тогда. Да. Благодарю вас. Спасибо за все. Всего. Будем на связи. Да. Подпишусь. Спасибо.'"
            ],
            "application/vnd.google.colaboratory.intrinsic+json": {
              "type": "string"
            }
          },
          "metadata": {},
          "execution_count": 12
        }
      ]
    },
    {
      "cell_type": "code",
      "source": [
        "total_not_targets_test_df['Текст whisper-транскрибации записи звонка'].head(1).values[0]"
      ],
      "metadata": {
        "colab": {
          "base_uri": "https://localhost:8080/",
          "height": 348
        },
        "id": "Z5z9Q2yr4-a2",
        "outputId": "3796937d-d241-4e6c-99b6-ca36697b0628"
      },
      "execution_count": null,
      "outputs": [
        {
          "output_type": "execute_result",
          "data": {
            "text/plain": [
              "'Здравствуйте! Вы позвонили в группу компании «Картроф». Благодарим вас за звонок. Пожалуйста, дождитесь ответа оператора. Добрый день, группа компании «Картроф». Меня зовут Любовь. Здравствуйте, Любовь. Меня зовут Татьяна. У меня уникальный клиент. Я бы хотела пообщаться с менеджером, которого вы прикрепили, но не могу дозвониться, у него абонент недоступен. Какой менеджер? Что за фамилия? Ванда Даев. Прикрепили этого. Так. Хорошо. Соединяю вас, Татьяна, с отделом продаж. Сейчас любой свободный менеджер пройти ситуацию. Оставайтесь на линии. Благодарю. Спасибо. Татьяна, добрый день. Меня зовут Антон. Слушаю вас. Чем могу помочь? Добрый день. Уникального клиента. Клиент уникальный. Хочу уточнить по квартире. У нас бюджет 20 миллионов. Ну, плюс-минус там 2 миллиона, да? Да. Нужна готовая квартира, но пойти ипотеки. Уже в готовом построенном доме? Да. Такое возможно? Нужно... Уточнить будет у отдела ипотеки. По готовым домам возможно пойти ипотеку или нет. Вот у нас осталась одна квартира. Ну, однокомнатная. У нее цена минимальная 22 миллиона. Она продается по договору купли-продажи от физлица. Вот, скорее всего, здесь и идти ипотекой будет невозможно. Так. А если мы говорим про однокомнатную квартиру? Ну, про вот эту другую, следующую минимальную площадь. То есть, однокомнатная квартира от застройщиков в готовом доме. И она выходит у нас по прайсовой цене в районе 30 миллионов. А со скидкой она выходит около 25 миллионов 200 тысяч. Так. Но она идет по ипотеке, да? Ну, я думаю, да. Да. Но там будет бюджет в районе 25 с лишним миллионов. Так. 25. Но зато ключи сразу, правильно? Да. Квартира в готовом уже построенном доме. То есть, она без ремонта. Покупаете ключи, можно делать ремонт. Начинать, да. Ага. Значит. Так. А на скидку не помните, какая ставка по ипотеке? Ну, нужно будет уточнить у моих коллег, которые заделывают ипотеки. Я уточню и могу вам отписаться. Она вот там, на ваш телефон. Да. Благодарю. А то я просто сейчас хочу предложить. А что предложить, я вот тоже нашла только 22. Здесь не написано, что она по уступке. Ну, у нас, к сожалению, не указывается. На сайте, часом же на нашем, не совсем понятно, да, от кого эта квартира продается. А вот эта квартира в Нихниле. Хотя тут есть даже за 20 400. Эта квартира тоже по уступке от Фезлиса идет. И она продается совместно с рядышком с ней двухкомнатной квартирой под объединением. Так. Ясно. А так получается 25 900, самое минимальное. Нет. 25. 250 плюс-минус такая устоянность. Ну, понятно. Ну, если пойдет... Блин, плохо, что вот ипотека. А на сайте у вас где-то написано про ипотеку? На сайте написано, да. Но я сейчас уточню. Вам исключительно IT ипотека интересует, да? Да. Да. Совершенно. Я сейчас уточню и вам на ВСАП подпишусь тогда. Да. Благодарю вас. Спасибо за все. Всего. Будем на связи. Да. Подпишусь. Спасибо.'"
            ],
            "application/vnd.google.colaboratory.intrinsic+json": {
              "type": "string"
            }
          },
          "metadata": {},
          "execution_count": 13
        }
      ]
    },
    {
      "cell_type": "code",
      "source": [
        "# Инференс модели на целевом звонке\n",
        "pred = model.predict([test_targets_sample['text']], verbose=0)\n",
        "print(classes_names[round(pred[0][0])])"
      ],
      "metadata": {
        "colab": {
          "base_uri": "https://localhost:8080/"
        },
        "id": "VK_j3ScjMZqA",
        "outputId": "c5aea308-77bf-4e7c-a79b-d1de1c24ac54"
      },
      "execution_count": null,
      "outputs": [
        {
          "output_type": "stream",
          "name": "stdout",
          "text": [
            "Целевой\n"
          ]
        }
      ]
    },
    {
      "cell_type": "code",
      "source": [
        "# Инференс модели на нецелевом звонке\n",
        "pred = model.predict([test_not_targets_sample['text']], verbose=0)\n",
        "print(classes_names[round(pred[0][0])])"
      ],
      "metadata": {
        "colab": {
          "base_uri": "https://localhost:8080/"
        },
        "id": "oVTY-Jx6MqNV",
        "outputId": "c7df1bcc-1005-4756-ca0d-de0a91ab143e"
      },
      "execution_count": null,
      "outputs": [
        {
          "output_type": "stream",
          "name": "stdout",
          "text": [
            "Нецелевой\n"
          ]
        }
      ]
    },
    {
      "cell_type": "markdown",
      "source": [
        "### API (Whisper)"
      ],
      "metadata": {
        "id": "Zk-fDeYBFeLK"
      }
    },
    {
      "cell_type": "code",
      "source": [
        "# Подключение google-диска\n",
        "from google.colab import drive\n",
        "drive.mount('/content/drive')"
      ],
      "metadata": {
        "colab": {
          "base_uri": "https://localhost:8080/"
        },
        "outputId": "52b5ca46-0ba8-401f-81e2-982adb2f2d06",
        "id": "zKDXEyBPFeLL"
      },
      "execution_count": null,
      "outputs": [
        {
          "output_type": "stream",
          "name": "stdout",
          "text": [
            "Mounted at /content/drive\n"
          ]
        }
      ]
    },
    {
      "cell_type": "code",
      "source": [
        "# Установка openai-whisper\n",
        "!pip install git+https://github.com/openai/whisper.git"
      ],
      "metadata": {
        "id": "pSm8NDrbvxNM"
      },
      "execution_count": null,
      "outputs": []
    },
    {
      "cell_type": "code",
      "source": [
        "# Установка autokeras\n",
        "!pip -q install autokeras"
      ],
      "metadata": {
        "colab": {
          "base_uri": "https://localhost:8080/"
        },
        "id": "Jd_tEsAEpZSN",
        "outputId": "f082a60d-0a0d-4d44-cc61-e0c8652212b3"
      },
      "execution_count": null,
      "outputs": [
        {
          "output_type": "stream",
          "name": "stdout",
          "text": [
            "\u001b[2K     \u001b[90m━━━━━━━━━━━━━━━━━━━━━━━━━━━━━━━━━━━━━━━━\u001b[0m \u001b[32m148.6/148.6 kB\u001b[0m \u001b[31m2.6 MB/s\u001b[0m eta \u001b[36m0:00:00\u001b[0m\n",
            "\u001b[2K     \u001b[90m━━━━━━━━━━━━━━━━━━━━━━━━━━━━━━━━━━━━━━━━\u001b[0m \u001b[32m129.5/129.5 kB\u001b[0m \u001b[31m11.3 MB/s\u001b[0m eta \u001b[36m0:00:00\u001b[0m\n",
            "\u001b[2K     \u001b[90m━━━━━━━━━━━━━━━━━━━━━━━━━━━━━━━━━━━━━━━━\u001b[0m \u001b[32m590.1/590.1 kB\u001b[0m \u001b[31m10.0 MB/s\u001b[0m eta \u001b[36m0:00:00\u001b[0m\n",
            "\u001b[2K     \u001b[90m━━━━━━━━━━━━━━━━━━━━━━━━━━━━━━━━━━━━━━━━\u001b[0m \u001b[32m950.8/950.8 kB\u001b[0m \u001b[31m11.4 MB/s\u001b[0m eta \u001b[36m0:00:00\u001b[0m\n",
            "\u001b[2K     \u001b[90m━━━━━━━━━━━━━━━━━━━━━━━━━━━━━━━━━━━━━━━━\u001b[0m \u001b[32m6.5/6.5 MB\u001b[0m \u001b[31m13.6 MB/s\u001b[0m eta \u001b[36m0:00:00\u001b[0m\n",
            "\u001b[?25h"
          ]
        }
      ]
    },
    {
      "cell_type": "code",
      "source": [
        "# Установка дополнительных библиотек\n",
        "!pip -q install fastapi uvicorn python-multipart typing-extensions==4.5.0 kaleido"
      ],
      "metadata": {
        "colab": {
          "base_uri": "https://localhost:8080/"
        },
        "id": "6TYXNmvmo6WG",
        "outputId": "e767ea4d-049a-40fc-98be-f9631d21a635"
      },
      "execution_count": null,
      "outputs": [
        {
          "output_type": "stream",
          "name": "stdout",
          "text": [
            "\u001b[2K     \u001b[90m━━━━━━━━━━━━━━━━━━━━━━━━━━━━━━━━━━━━━━━━\u001b[0m \u001b[32m92.9/92.9 kB\u001b[0m \u001b[31m1.6 MB/s\u001b[0m eta \u001b[36m0:00:00\u001b[0m\n",
            "\u001b[2K     \u001b[90m━━━━━━━━━━━━━━━━━━━━━━━━━━━━━━━━━━━━━━━━\u001b[0m \u001b[32m59.6/59.6 kB\u001b[0m \u001b[31m3.4 MB/s\u001b[0m eta \u001b[36m0:00:00\u001b[0m\n",
            "\u001b[2K     \u001b[90m━━━━━━━━━━━━━━━━━━━━━━━━━━━━━━━━━━━━━━━━\u001b[0m \u001b[32m45.7/45.7 kB\u001b[0m \u001b[31m3.3 MB/s\u001b[0m eta \u001b[36m0:00:00\u001b[0m\n",
            "\u001b[2K     \u001b[90m━━━━━━━━━━━━━━━━━━━━━━━━━━━━━━━━━━━━━━━━\u001b[0m \u001b[32m79.9/79.9 MB\u001b[0m \u001b[31m6.4 MB/s\u001b[0m eta \u001b[36m0:00:00\u001b[0m\n",
            "\u001b[2K     \u001b[90m━━━━━━━━━━━━━━━━━━━━━━━━━━━━━━━━━━━━━━━━\u001b[0m \u001b[32m67.0/67.0 kB\u001b[0m \u001b[31m5.1 MB/s\u001b[0m eta \u001b[36m0:00:00\u001b[0m\n",
            "\u001b[2K     \u001b[90m━━━━━━━━━━━━━━━━━━━━━━━━━━━━━━━━━━━━━━━━\u001b[0m \u001b[32m92.9/92.9 kB\u001b[0m \u001b[31m5.4 MB/s\u001b[0m eta \u001b[36m0:00:00\u001b[0m\n",
            "\u001b[2K     \u001b[90m━━━━━━━━━━━━━━━━━━━━━━━━━━━━━━━━━━━━━━━━\u001b[0m \u001b[32m66.3/66.3 kB\u001b[0m \u001b[31m5.3 MB/s\u001b[0m eta \u001b[36m0:00:00\u001b[0m\n",
            "\u001b[2K     \u001b[90m━━━━━━━━━━━━━━━━━━━━━━━━━━━━━━━━━━━━━━━━\u001b[0m \u001b[32m58.3/58.3 kB\u001b[0m \u001b[31m2.6 MB/s\u001b[0m eta \u001b[36m0:00:00\u001b[0m\n",
            "\u001b[?25h"
          ]
        }
      ]
    },
    {
      "cell_type": "code",
      "source": [
        "# Эндпойнт\n",
        "main_file = '''\n",
        "import autokeras as ak\n",
        "from tensorflow.keras.models import load_model\n",
        "model = load_model('/content/drive/MyDrive/media108.ru/Модели/2023.10.15_text_model.keras')\n",
        "classes_names = ['Целевой', 'Нецелевой']\n",
        "\n",
        "from fastapi import FastAPI\n",
        "\n",
        "import whisper\n",
        "whisper_model = whisper.load_model('medium')\n",
        "\n",
        "from pydantic import BaseModel\n",
        "class Item(BaseModel):\n",
        "  file: str\n",
        "\n",
        "app = FastAPI()\n",
        "\n",
        "@app.post('/predict')\n",
        "async def predict(item: Item):\n",
        "  test_sample = whisper_model.transcribe(item.file, language='ru')\n",
        "  pred = model.predict([test_sample['text']], verbose=0)\n",
        "  return {'result': classes_names[round(pred[0][0])]}\n",
        "'''\n",
        "with open('main.py', 'w') as f:\n",
        "  f.write(main_file)"
      ],
      "metadata": {
        "id": "ghy32x6bFeLN"
      },
      "execution_count": null,
      "outputs": []
    },
    {
      "cell_type": "code",
      "source": [
        "# Запуск uvicorn\n",
        "!nohup uvicorn main:app --reload &"
      ],
      "metadata": {
        "colab": {
          "base_uri": "https://localhost:8080/"
        },
        "outputId": "96a0c7b7-f001-4b4a-bf86-126a0715e5d6",
        "id": "qSAjxjghFeLN"
      },
      "execution_count": null,
      "outputs": [
        {
          "output_type": "stream",
          "name": "stdout",
          "text": [
            "nohup: appending output to 'nohup.out'\n"
          ]
        }
      ]
    },
    {
      "cell_type": "code",
      "source": [
        "# Лог\n",
        "!cat nohup.out"
      ],
      "metadata": {
        "id": "Pmo5ZQKEFeLO"
      },
      "execution_count": null,
      "outputs": []
    },
    {
      "cell_type": "code",
      "source": [
        "# Тестовые данные\n",
        "import pickle as pkl\n",
        "import pandas as pd\n",
        "with open('/content/drive/MyDrive/media108.ru/Датафреймы/total_targets_test_df.pkl', 'rb') as f:\n",
        "  total_targets_test_df = pkl.load(f)\n",
        "with open('/content/drive/MyDrive/media108.ru/Датафреймы/total_not_targets_test_df.pkl', 'rb') as f:\n",
        "  total_not_targets_test_df = pkl.load(f)\n",
        "test_targets_sample_file = '/content/drive/MyDrive/media108.ru/Датасет/' + total_targets_test_df['Файл записи звонка'].head(1).values[0]\n",
        "test_not_targets_sample_file = '/content/drive/MyDrive/media108.ru/Датасет/' + total_not_targets_test_df['Файл записи звонка'].head(1).values[0]"
      ],
      "metadata": {
        "id": "JnhDDQz9FeLO"
      },
      "execution_count": null,
      "outputs": []
    },
    {
      "cell_type": "code",
      "source": [
        "# Целевой звонок\n",
        "import requests\n",
        "response = requests.post('http://127.0.0.1:8000/predict', json={'file': test_targets_sample_file})\n",
        "print(response.text)"
      ],
      "metadata": {
        "colab": {
          "base_uri": "https://localhost:8080/"
        },
        "outputId": "8f644098-58be-4195-d19a-9c2f334ddfa1",
        "id": "80QCcLrkFeLO"
      },
      "execution_count": null,
      "outputs": [
        {
          "output_type": "stream",
          "name": "stdout",
          "text": [
            "{\"result\":\"Целевой\"}\n"
          ]
        }
      ]
    },
    {
      "cell_type": "code",
      "source": [
        "# Нецелевой звонок\n",
        "import requests\n",
        "response = requests.post('http://127.0.0.1:8000/predict', json={'file': test_not_targets_sample_file})\n",
        "print(response.text)"
      ],
      "metadata": {
        "colab": {
          "base_uri": "https://localhost:8080/"
        },
        "outputId": "6bd9449c-61b0-40c8-ee88-8371e60e9e2c",
        "id": "HMI9qG0BFeLP"
      },
      "execution_count": null,
      "outputs": [
        {
          "output_type": "stream",
          "name": "stdout",
          "text": [
            "{\"result\":\"Нецелевой\"}\n"
          ]
        }
      ]
    }
  ]
}