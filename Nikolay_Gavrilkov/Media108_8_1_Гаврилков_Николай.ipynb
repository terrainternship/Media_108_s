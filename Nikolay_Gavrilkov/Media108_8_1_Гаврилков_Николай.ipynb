{
  "nbformat": 4,
  "nbformat_minor": 0,
  "metadata": {
    "colab": {
      "provenance": []
    },
    "kernelspec": {
      "name": "python3",
      "display_name": "Python 3"
    },
    "language_info": {
      "name": "python"
    }
  },
  "cells": [
    {
      "cell_type": "markdown",
      "source": [
        "Проверка обучения предобученной модели через фреймворк Flair"
      ],
      "metadata": {
        "id": "ez2fYp218BU0"
      }
    },
    {
      "cell_type": "markdown",
      "source": [
        "# Подготовка"
      ],
      "metadata": {
        "id": "YgKeHeaUCTpK"
      }
    },
    {
      "cell_type": "code",
      "execution_count": null,
      "metadata": {
        "colab": {
          "base_uri": "https://localhost:8080/"
        },
        "id": "yA1v1YFT_3Mp",
        "outputId": "a3f57e7f-b0b1-49a8-fb60-f58f294ef0ec"
      },
      "outputs": [
        {
          "output_type": "stream",
          "name": "stdout",
          "text": [
            "Collecting flair\n",
            "  Downloading flair-0.13.0-py3-none-any.whl (387 kB)\n",
            "\u001b[2K     \u001b[90m━━━━━━━━━━━━━━━━━━━━━━━━━━━━━━━━━━━━━━━━\u001b[0m \u001b[32m387.2/387.2 kB\u001b[0m \u001b[31m5.2 MB/s\u001b[0m eta \u001b[36m0:00:00\u001b[0m\n",
            "\u001b[?25hCollecting boto3>=1.20.27 (from flair)\n",
            "  Downloading boto3-1.28.76-py3-none-any.whl (135 kB)\n",
            "\u001b[2K     \u001b[90m━━━━━━━━━━━━━━━━━━━━━━━━━━━━━━━━━━━━━━━━\u001b[0m \u001b[32m135.8/135.8 kB\u001b[0m \u001b[31m6.6 MB/s\u001b[0m eta \u001b[36m0:00:00\u001b[0m\n",
            "\u001b[?25hCollecting bpemb>=0.3.2 (from flair)\n",
            "  Downloading bpemb-0.3.4-py3-none-any.whl (19 kB)\n",
            "Collecting conllu>=4.0 (from flair)\n",
            "  Downloading conllu-4.5.3-py2.py3-none-any.whl (16 kB)\n",
            "Collecting deprecated>=1.2.13 (from flair)\n",
            "  Downloading Deprecated-1.2.14-py2.py3-none-any.whl (9.6 kB)\n",
            "Collecting ftfy>=6.1.0 (from flair)\n",
            "  Downloading ftfy-6.1.1-py3-none-any.whl (53 kB)\n",
            "\u001b[2K     \u001b[90m━━━━━━━━━━━━━━━━━━━━━━━━━━━━━━━━━━━━━━━━\u001b[0m \u001b[32m53.1/53.1 kB\u001b[0m \u001b[31m7.7 MB/s\u001b[0m eta \u001b[36m0:00:00\u001b[0m\n",
            "\u001b[?25hRequirement already satisfied: gdown>=4.4.0 in /usr/local/lib/python3.10/dist-packages (from flair) (4.6.6)\n",
            "Requirement already satisfied: gensim>=4.2.0 in /usr/local/lib/python3.10/dist-packages (from flair) (4.3.2)\n",
            "Collecting huggingface-hub>=0.10.0 (from flair)\n",
            "  Downloading huggingface_hub-0.18.0-py3-none-any.whl (301 kB)\n",
            "\u001b[2K     \u001b[90m━━━━━━━━━━━━━━━━━━━━━━━━━━━━━━━━━━━━━━━━\u001b[0m \u001b[32m302.0/302.0 kB\u001b[0m \u001b[31m9.1 MB/s\u001b[0m eta \u001b[36m0:00:00\u001b[0m\n",
            "\u001b[?25hCollecting janome>=0.4.2 (from flair)\n",
            "  Downloading Janome-0.5.0-py2.py3-none-any.whl (19.7 MB)\n",
            "\u001b[2K     \u001b[90m━━━━━━━━━━━━━━━━━━━━━━━━━━━━━━━━━━━━━━━━\u001b[0m \u001b[32m19.7/19.7 MB\u001b[0m \u001b[31m52.1 MB/s\u001b[0m eta \u001b[36m0:00:00\u001b[0m\n",
            "\u001b[?25hCollecting langdetect>=1.0.9 (from flair)\n",
            "  Downloading langdetect-1.0.9.tar.gz (981 kB)\n",
            "\u001b[2K     \u001b[90m━━━━━━━━━━━━━━━━━━━━━━━━━━━━━━━━━━━━━━━━\u001b[0m \u001b[32m981.5/981.5 kB\u001b[0m \u001b[31m61.7 MB/s\u001b[0m eta \u001b[36m0:00:00\u001b[0m\n",
            "\u001b[?25h  Preparing metadata (setup.py) ... \u001b[?25l\u001b[?25hdone\n",
            "Requirement already satisfied: lxml>=4.8.0 in /usr/local/lib/python3.10/dist-packages (from flair) (4.9.3)\n",
            "Requirement already satisfied: matplotlib>=2.2.3 in /usr/local/lib/python3.10/dist-packages (from flair) (3.7.1)\n",
            "Requirement already satisfied: more-itertools>=8.13.0 in /usr/local/lib/python3.10/dist-packages (from flair) (10.1.0)\n",
            "Collecting mpld3>=0.3 (from flair)\n",
            "  Downloading mpld3-0.5.9-py3-none-any.whl (201 kB)\n",
            "\u001b[2K     \u001b[90m━━━━━━━━━━━━━━━━━━━━━━━━━━━━━━━━━━━━━━━━\u001b[0m \u001b[32m201.2/201.2 kB\u001b[0m \u001b[31m27.2 MB/s\u001b[0m eta \u001b[36m0:00:00\u001b[0m\n",
            "\u001b[?25hCollecting pptree>=3.1 (from flair)\n",
            "  Downloading pptree-3.1.tar.gz (3.0 kB)\n",
            "  Preparing metadata (setup.py) ... \u001b[?25l\u001b[?25hdone\n",
            "Requirement already satisfied: python-dateutil>=2.8.2 in /usr/local/lib/python3.10/dist-packages (from flair) (2.8.2)\n",
            "Collecting pytorch-revgrad>=0.2.0 (from flair)\n",
            "  Downloading pytorch_revgrad-0.2.0-py3-none-any.whl (4.6 kB)\n",
            "Requirement already satisfied: regex>=2022.1.18 in /usr/local/lib/python3.10/dist-packages (from flair) (2023.6.3)\n",
            "Requirement already satisfied: scikit-learn>=1.0.2 in /usr/local/lib/python3.10/dist-packages (from flair) (1.2.2)\n",
            "Collecting segtok>=1.5.11 (from flair)\n",
            "  Downloading segtok-1.5.11-py3-none-any.whl (24 kB)\n",
            "Collecting sqlitedict>=2.0.0 (from flair)\n",
            "  Downloading sqlitedict-2.1.0.tar.gz (21 kB)\n",
            "  Preparing metadata (setup.py) ... \u001b[?25l\u001b[?25hdone\n",
            "Requirement already satisfied: tabulate>=0.8.10 in /usr/local/lib/python3.10/dist-packages (from flair) (0.9.0)\n",
            "Requirement already satisfied: torch!=1.8,>=1.5.0 in /usr/local/lib/python3.10/dist-packages (from flair) (2.1.0+cu118)\n",
            "Requirement already satisfied: tqdm>=4.63.0 in /usr/local/lib/python3.10/dist-packages (from flair) (4.66.1)\n",
            "Collecting transformer-smaller-training-vocab>=0.2.3 (from flair)\n",
            "  Downloading transformer_smaller_training_vocab-0.3.2-py3-none-any.whl (14 kB)\n",
            "Collecting transformers[sentencepiece]<5.0.0,>=4.18.0 (from flair)\n",
            "  Downloading transformers-4.34.1-py3-none-any.whl (7.7 MB)\n",
            "\u001b[2K     \u001b[90m━━━━━━━━━━━━━━━━━━━━━━━━━━━━━━━━━━━━━━━━\u001b[0m \u001b[32m7.7/7.7 MB\u001b[0m \u001b[31m83.2 MB/s\u001b[0m eta \u001b[36m0:00:00\u001b[0m\n",
            "\u001b[?25hCollecting urllib3<2.0.0,>=1.0.0 (from flair)\n",
            "  Downloading urllib3-1.26.18-py2.py3-none-any.whl (143 kB)\n",
            "\u001b[2K     \u001b[90m━━━━━━━━━━━━━━━━━━━━━━━━━━━━━━━━━━━━━━━━\u001b[0m \u001b[32m143.8/143.8 kB\u001b[0m \u001b[31m14.8 MB/s\u001b[0m eta \u001b[36m0:00:00\u001b[0m\n",
            "\u001b[?25hCollecting wikipedia-api>=0.5.7 (from flair)\n",
            "  Downloading Wikipedia_API-0.6.0-py3-none-any.whl (14 kB)\n",
            "Collecting semver<4.0.0,>=3.0.0 (from flair)\n",
            "  Downloading semver-3.0.2-py3-none-any.whl (17 kB)\n",
            "Collecting botocore<1.32.0,>=1.31.76 (from boto3>=1.20.27->flair)\n",
            "  Downloading botocore-1.31.76-py3-none-any.whl (11.3 MB)\n",
            "\u001b[2K     \u001b[90m━━━━━━━━━━━━━━━━━━━━━━━━━━━━━━━━━━━━━━━━\u001b[0m \u001b[32m11.3/11.3 MB\u001b[0m \u001b[31m119.7 MB/s\u001b[0m eta \u001b[36m0:00:00\u001b[0m\n",
            "\u001b[?25hCollecting jmespath<2.0.0,>=0.7.1 (from boto3>=1.20.27->flair)\n",
            "  Downloading jmespath-1.0.1-py3-none-any.whl (20 kB)\n",
            "Collecting s3transfer<0.8.0,>=0.7.0 (from boto3>=1.20.27->flair)\n",
            "  Downloading s3transfer-0.7.0-py3-none-any.whl (79 kB)\n",
            "\u001b[2K     \u001b[90m━━━━━━━━━━━━━━━━━━━━━━━━━━━━━━━━━━━━━━━━\u001b[0m \u001b[32m79.8/79.8 kB\u001b[0m \u001b[31m12.8 MB/s\u001b[0m eta \u001b[36m0:00:00\u001b[0m\n",
            "\u001b[?25hRequirement already satisfied: numpy in /usr/local/lib/python3.10/dist-packages (from bpemb>=0.3.2->flair) (1.23.5)\n",
            "Requirement already satisfied: requests in /usr/local/lib/python3.10/dist-packages (from bpemb>=0.3.2->flair) (2.31.0)\n",
            "Collecting sentencepiece (from bpemb>=0.3.2->flair)\n",
            "  Downloading sentencepiece-0.1.99-cp310-cp310-manylinux_2_17_x86_64.manylinux2014_x86_64.whl (1.3 MB)\n",
            "\u001b[2K     \u001b[90m━━━━━━━━━━━━━━━━━━━━━━━━━━━━━━━━━━━━━━━━\u001b[0m \u001b[32m1.3/1.3 MB\u001b[0m \u001b[31m95.1 MB/s\u001b[0m eta \u001b[36m0:00:00\u001b[0m\n",
            "\u001b[?25hRequirement already satisfied: wrapt<2,>=1.10 in /usr/local/lib/python3.10/dist-packages (from deprecated>=1.2.13->flair) (1.14.1)\n",
            "Requirement already satisfied: wcwidth>=0.2.5 in /usr/local/lib/python3.10/dist-packages (from ftfy>=6.1.0->flair) (0.2.8)\n",
            "Requirement already satisfied: filelock in /usr/local/lib/python3.10/dist-packages (from gdown>=4.4.0->flair) (3.12.4)\n",
            "Requirement already satisfied: six in /usr/local/lib/python3.10/dist-packages (from gdown>=4.4.0->flair) (1.16.0)\n",
            "Requirement already satisfied: beautifulsoup4 in /usr/local/lib/python3.10/dist-packages (from gdown>=4.4.0->flair) (4.11.2)\n",
            "Requirement already satisfied: scipy>=1.7.0 in /usr/local/lib/python3.10/dist-packages (from gensim>=4.2.0->flair) (1.11.3)\n",
            "Requirement already satisfied: smart-open>=1.8.1 in /usr/local/lib/python3.10/dist-packages (from gensim>=4.2.0->flair) (6.4.0)\n",
            "Requirement already satisfied: fsspec>=2023.5.0 in /usr/local/lib/python3.10/dist-packages (from huggingface-hub>=0.10.0->flair) (2023.6.0)\n",
            "Requirement already satisfied: pyyaml>=5.1 in /usr/local/lib/python3.10/dist-packages (from huggingface-hub>=0.10.0->flair) (6.0.1)\n",
            "Requirement already satisfied: typing-extensions>=3.7.4.3 in /usr/local/lib/python3.10/dist-packages (from huggingface-hub>=0.10.0->flair) (4.5.0)\n",
            "Requirement already satisfied: packaging>=20.9 in /usr/local/lib/python3.10/dist-packages (from huggingface-hub>=0.10.0->flair) (23.2)\n",
            "Requirement already satisfied: contourpy>=1.0.1 in /usr/local/lib/python3.10/dist-packages (from matplotlib>=2.2.3->flair) (1.1.1)\n",
            "Requirement already satisfied: cycler>=0.10 in /usr/local/lib/python3.10/dist-packages (from matplotlib>=2.2.3->flair) (0.12.1)\n",
            "Requirement already satisfied: fonttools>=4.22.0 in /usr/local/lib/python3.10/dist-packages (from matplotlib>=2.2.3->flair) (4.43.1)\n",
            "Requirement already satisfied: kiwisolver>=1.0.1 in /usr/local/lib/python3.10/dist-packages (from matplotlib>=2.2.3->flair) (1.4.5)\n",
            "Requirement already satisfied: pillow>=6.2.0 in /usr/local/lib/python3.10/dist-packages (from matplotlib>=2.2.3->flair) (9.4.0)\n",
            "Requirement already satisfied: pyparsing>=2.3.1 in /usr/local/lib/python3.10/dist-packages (from matplotlib>=2.2.3->flair) (3.1.1)\n",
            "Requirement already satisfied: jinja2 in /usr/local/lib/python3.10/dist-packages (from mpld3>=0.3->flair) (3.1.2)\n",
            "Requirement already satisfied: joblib>=1.1.1 in /usr/local/lib/python3.10/dist-packages (from scikit-learn>=1.0.2->flair) (1.3.2)\n",
            "Requirement already satisfied: threadpoolctl>=2.0.0 in /usr/local/lib/python3.10/dist-packages (from scikit-learn>=1.0.2->flair) (3.2.0)\n",
            "Requirement already satisfied: sympy in /usr/local/lib/python3.10/dist-packages (from torch!=1.8,>=1.5.0->flair) (1.12)\n",
            "Requirement already satisfied: networkx in /usr/local/lib/python3.10/dist-packages (from torch!=1.8,>=1.5.0->flair) (3.2)\n",
            "Requirement already satisfied: triton==2.1.0 in /usr/local/lib/python3.10/dist-packages (from torch!=1.8,>=1.5.0->flair) (2.1.0)\n",
            "Collecting tokenizers<0.15,>=0.14 (from transformers[sentencepiece]<5.0.0,>=4.18.0->flair)\n",
            "  Downloading tokenizers-0.14.1-cp310-cp310-manylinux_2_17_x86_64.manylinux2014_x86_64.whl (3.8 MB)\n",
            "\u001b[2K     \u001b[90m━━━━━━━━━━━━━━━━━━━━━━━━━━━━━━━━━━━━━━━━\u001b[0m \u001b[32m3.8/3.8 MB\u001b[0m \u001b[31m117.9 MB/s\u001b[0m eta \u001b[36m0:00:00\u001b[0m\n",
            "\u001b[?25hCollecting safetensors>=0.3.1 (from transformers[sentencepiece]<5.0.0,>=4.18.0->flair)\n",
            "  Downloading safetensors-0.4.0-cp310-cp310-manylinux_2_17_x86_64.manylinux2014_x86_64.whl (1.3 MB)\n",
            "\u001b[2K     \u001b[90m━━━━━━━━━━━━━━━━━━━━━━━━━━━━━━━━━━━━━━━━\u001b[0m \u001b[32m1.3/1.3 MB\u001b[0m \u001b[31m77.2 MB/s\u001b[0m eta \u001b[36m0:00:00\u001b[0m\n",
            "\u001b[?25hRequirement already satisfied: protobuf in /usr/local/lib/python3.10/dist-packages (from transformers[sentencepiece]<5.0.0,>=4.18.0->flair) (3.20.3)\n",
            "Collecting huggingface-hub>=0.10.0 (from flair)\n",
            "  Downloading huggingface_hub-0.17.3-py3-none-any.whl (295 kB)\n",
            "\u001b[2K     \u001b[90m━━━━━━━━━━━━━━━━━━━━━━━━━━━━━━━━━━━━━━━━\u001b[0m \u001b[32m295.0/295.0 kB\u001b[0m \u001b[31m3.0 MB/s\u001b[0m eta \u001b[36m0:00:00\u001b[0m\n",
            "\u001b[?25hCollecting accelerate>=0.20.3 (from transformers[sentencepiece]<5.0.0,>=4.18.0->flair)\n",
            "  Downloading accelerate-0.24.1-py3-none-any.whl (261 kB)\n",
            "\u001b[2K     \u001b[90m━━━━━━━━━━━━━━━━━━━━━━━━━━━━━━━━━━━━━━━━\u001b[0m \u001b[32m261.4/261.4 kB\u001b[0m \u001b[31m34.7 MB/s\u001b[0m eta \u001b[36m0:00:00\u001b[0m\n",
            "\u001b[?25hRequirement already satisfied: soupsieve>1.2 in /usr/local/lib/python3.10/dist-packages (from beautifulsoup4->gdown>=4.4.0->flair) (2.5)\n",
            "Requirement already satisfied: MarkupSafe>=2.0 in /usr/local/lib/python3.10/dist-packages (from jinja2->mpld3>=0.3->flair) (2.1.3)\n",
            "Requirement already satisfied: charset-normalizer<4,>=2 in /usr/local/lib/python3.10/dist-packages (from requests->bpemb>=0.3.2->flair) (3.3.1)\n",
            "Requirement already satisfied: idna<4,>=2.5 in /usr/local/lib/python3.10/dist-packages (from requests->bpemb>=0.3.2->flair) (3.4)\n",
            "Requirement already satisfied: certifi>=2017.4.17 in /usr/local/lib/python3.10/dist-packages (from requests->bpemb>=0.3.2->flair) (2023.7.22)\n",
            "Requirement already satisfied: PySocks!=1.5.7,>=1.5.6 in /usr/local/lib/python3.10/dist-packages (from requests->bpemb>=0.3.2->flair) (1.7.1)\n",
            "Requirement already satisfied: mpmath>=0.19 in /usr/local/lib/python3.10/dist-packages (from sympy->torch!=1.8,>=1.5.0->flair) (1.3.0)\n",
            "Requirement already satisfied: psutil in /usr/local/lib/python3.10/dist-packages (from accelerate>=0.20.3->transformers[sentencepiece]<5.0.0,>=4.18.0->flair) (5.9.5)\n",
            "Building wheels for collected packages: langdetect, pptree, sqlitedict\n",
            "  Building wheel for langdetect (setup.py) ... \u001b[?25l\u001b[?25hdone\n",
            "  Created wheel for langdetect: filename=langdetect-1.0.9-py3-none-any.whl size=993224 sha256=75a8208bc97ef4e350fb745b8890fdb00e14d230ab702b86baff0580589d10ab\n",
            "  Stored in directory: /root/.cache/pip/wheels/95/03/7d/59ea870c70ce4e5a370638b5462a7711ab78fba2f655d05106\n",
            "  Building wheel for pptree (setup.py) ... \u001b[?25l\u001b[?25hdone\n",
            "  Created wheel for pptree: filename=pptree-3.1-py3-none-any.whl size=4609 sha256=2423566034a8997d3c4bb85ea5a86f065fe60638c3a2e5967e303f3f96b3b5bf\n",
            "  Stored in directory: /root/.cache/pip/wheels/9f/b6/0e/6f26eb9e6eb53ff2107a7888d72b5a6a597593956113037828\n",
            "  Building wheel for sqlitedict (setup.py) ... \u001b[?25l\u001b[?25hdone\n",
            "  Created wheel for sqlitedict: filename=sqlitedict-2.1.0-py3-none-any.whl size=16864 sha256=a77d6e6a0b75ecfe0601bf6faaac828bf872a343e52146f512453a95e915d4cd\n",
            "  Stored in directory: /root/.cache/pip/wheels/79/d6/e7/304e0e6cb2221022c26d8161f7c23cd4f259a9e41e8bbcfabd\n",
            "Successfully built langdetect pptree sqlitedict\n",
            "Installing collected packages: sqlitedict, sentencepiece, pptree, janome, urllib3, semver, segtok, safetensors, langdetect, jmespath, ftfy, deprecated, conllu, botocore, wikipedia-api, s3transfer, pytorch-revgrad, mpld3, huggingface-hub, bpemb, tokenizers, boto3, accelerate, transformers, transformer-smaller-training-vocab, flair\n",
            "  Attempting uninstall: urllib3\n",
            "    Found existing installation: urllib3 2.0.7\n",
            "    Uninstalling urllib3-2.0.7:\n",
            "      Successfully uninstalled urllib3-2.0.7\n",
            "Successfully installed accelerate-0.24.1 boto3-1.28.76 botocore-1.31.76 bpemb-0.3.4 conllu-4.5.3 deprecated-1.2.14 flair-0.13.0 ftfy-6.1.1 huggingface-hub-0.17.3 janome-0.5.0 jmespath-1.0.1 langdetect-1.0.9 mpld3-0.5.9 pptree-3.1 pytorch-revgrad-0.2.0 s3transfer-0.7.0 safetensors-0.4.0 segtok-1.5.11 semver-3.0.2 sentencepiece-0.1.99 sqlitedict-2.1.0 tokenizers-0.14.1 transformer-smaller-training-vocab-0.3.2 transformers-4.34.1 urllib3-1.26.18 wikipedia-api-0.6.0\n"
          ]
        }
      ],
      "source": [
        "!pip install flair"
      ]
    },
    {
      "cell_type": "code",
      "source": [
        "import pandas as pd\n",
        "import numpy as np\n",
        "import re\n",
        "\n",
        "import matplotlib.pyplot as plt\n",
        "import matplotlib.patches as mpatches\n",
        "\n",
        "from sklearn.model_selection import train_test_split\n",
        "from flair.data import Corpus\n",
        "from flair.datasets import ClassificationCorpus\n",
        "from flair.embeddings import BytePairEmbeddings\n",
        "from flair.embeddings import DocumentPoolEmbeddings\n",
        "from flair.models import TextClassifier\n",
        "from flair.trainers import ModelTrainer\n",
        "from flair.visual.training_curves import Plotter\n",
        "from flair.data import Sentence"
      ],
      "metadata": {
        "id": "GU-TAdkJBklU"
      },
      "execution_count": null,
      "outputs": []
    },
    {
      "cell_type": "code",
      "source": [
        "plt.figure(figsize=(12, 6), dpi=100)\n",
        "plt.style.use('bmh')\n",
        "# Переменные\n",
        "path_ds2 = '/content/drive/MyDrive/Media108/DS2/'                # Папка с датасетами 2\n",
        "path_ds = '/content/drive/MyDrive/Media108/DS/'                  # Папка с датасетами\n",
        "path_dataset = '/content/drive/MyDrive/Media108/DATASET/'        # Обобщающая папка для датасетов\n",
        "path_dir = '/content/drive/MyDrive/Media108/'                    # Общий путь для сохранения результатов\n",
        "list_txt = ['DS/Расшифровки_Записи звонков_павелецкая сити',\n",
        "            'DS/Расшифровки_Записи звонков_хедлайнер',\n",
        "            'DS/Расшифровки_Записи звонков_primavera'\n",
        "            'DS2/Расшифровки_Записи Павелецкая сити',\n",
        "            'DS2/Расшифровки_Записи Headliner',\n",
        "            'DS2/Расшифровки_Записи Primavera']                     # Папки с расшифровками разговоров\n",
        "name_of_dir = ['DS/Записи звонков_павелецкая сити',\n",
        "               'DS/Записи звонков_хедлайнер',\n",
        "               'DS/Записи звонков_primavera'\n",
        "               'DS2/Записи Павелецкая сити',\n",
        "               'DS2/Записи Headliner',\n",
        "               'DS2/Записи Primavera']                              # Папки с аудиозаписями  2\n",
        "\n",
        "np.random.seed(42)\n"
      ],
      "metadata": {
        "colab": {
          "base_uri": "https://localhost:8080/"
        },
        "id": "IJ_4S3U_ButM",
        "outputId": "3b46dc0d-701b-4a65-fb2a-66693bb34861"
      },
      "execution_count": null,
      "outputs": [
        {
          "output_type": "display_data",
          "data": {
            "text/plain": [
              "<Figure size 1200x600 with 0 Axes>"
            ]
          },
          "metadata": {}
        }
      ]
    },
    {
      "cell_type": "markdown",
      "metadata": {
        "id": "SQswv8dyCji-"
      },
      "source": [
        "# Процедуры"
      ]
    },
    {
      "cell_type": "code",
      "execution_count": null,
      "metadata": {
        "id": "lLR74GQojCPg"
      },
      "outputs": [],
      "source": [
        "# Процедура поочередного преобразования колонок через LabelEncoder\n",
        "def df_to_le(df,collist,lst_encoders = {}):\n",
        "    '''\n",
        " Процедура поочередного преобразования колонок из списка через LabelEncoder\n",
        " Параметры:\n",
        " df - датафрейм\n",
        " collist - список колонок\n",
        " lst_encoders - ранее сформированные энкодеры (для работы с обученной моделью)\n",
        " Возвращает измененный датафрейм и список энкодеров (для последующего декодирования)\n",
        "    '''\n",
        "    create_encode = True if len(lst_encoders) == 0 else False\n",
        "    list_code = []\n",
        "    for i in range(len(collist)):\n",
        "        if create_encode:\n",
        "            print(f'Формирование Labelencoder и кодировка колонки {collist[i]}', end='')\n",
        "            encoder = LabelEncoder()\n",
        "            encoder.fit(df[collist[i]].tolist())\n",
        "            lst_encoders[collist[i]] = encoder\n",
        "            df[collist[i]] = encoder.transform(df[collist[i]].values.astype('str'))\n",
        "            print(' - Успешно')\n",
        "        else:\n",
        "            #print(f'Кодируется колонка {collist[i]}', end='')\n",
        "            encoder = lst_encoders[collist[i]]\n",
        "            df[collist[i]] = encoder.transform(df[collist[i]].values.astype('str'))\n",
        "            #print(' - Успешно')\n",
        "\n",
        "    return df, lst_encoders\n",
        "\n",
        "def df_to_ohe(df,collist,lst_encoders = {}):\n",
        "    '''\n",
        " Процедура поочередного преобразования колонок из списка через LabelEncoder в ОНЕ\n",
        " С последующей сборкой в единый массив. Параметры:\n",
        " df - датафрейм\n",
        " collist - список колонок\n",
        " Возвращает собранный массив и список энкодеров\n",
        "    '''\n",
        "    create_encode = True if len(lst_encoders) == 0 else False\n",
        "    #print(create_encode)\n",
        "    list_code = []\n",
        "    for i in range(len(collist)):\n",
        "        if create_encode:\n",
        "            print(f'Формирование Labelencoder и кодировка колонки {collist[i]}', end='')\n",
        "            encoder = LabelEncoder()\n",
        "            encoder.fit(df[collist[i]].tolist())\n",
        "            lst_encoders[collist[i]] = encoder\n",
        "            list_code.append(utils.to_categorical(encoder.transform(df[collist[i]].tolist()),df[collist[i]].nunique()))\n",
        "            print(' - Успешно')\n",
        "        else:\n",
        "            #print(f'Кодируется колонка {collist[i]}', end='')\n",
        "            encoder = lst_encoders[collist[i]]\n",
        "            list_code.append(utils.to_categorical(encoder.transform(df[collist[i]].tolist()),len((encoder.classes_))))\n",
        "            #print(' - Успешно')\n",
        "\n",
        "    x_data = np.hstack(list_code)\n",
        "    return x_data, lst_encoders"
      ]
    },
    {
      "cell_type": "code",
      "source": [
        "def train_validate_test_split(df, train_percent=.6, validate_percent=.2, seed=None):\n",
        "    np.random.seed(seed)\n",
        "    perm = np.random.permutation(df.index)\n",
        "    m = len(df.index)\n",
        "    train_end = int(train_percent * m)\n",
        "    validate_end = int(validate_percent * m) + train_end\n",
        "    train = df.loc[perm[:train_end]]\n",
        "    validate = df.loc[perm[train_end:validate_end]]\n",
        "    test = df.loc[perm[validate_end:]]\n",
        "    return train, validate, test"
      ],
      "metadata": {
        "id": "P5s-ggO0BzI0"
      },
      "execution_count": null,
      "outputs": []
    },
    {
      "cell_type": "markdown",
      "source": [
        "# Подготовка Датасета"
      ],
      "metadata": {
        "id": "j1mke2lYCrBj"
      }
    },
    {
      "cell_type": "code",
      "source": [
        "df_all = pd.read_csv(path_dir+'df_new_3klass.csv')"
      ],
      "metadata": {
        "id": "vXbbfd3aCyzz"
      },
      "execution_count": null,
      "outputs": []
    },
    {
      "cell_type": "code",
      "source": [
        "df_all.head()"
      ],
      "metadata": {
        "colab": {
          "base_uri": "https://localhost:8080/",
          "height": 516
        },
        "id": "H38s-rpdDOKF",
        "outputId": "eb7576a1-cea7-4875-caa0-668edee16597"
      },
      "execution_count": null,
      "outputs": [
        {
          "output_type": "execute_result",
          "data": {
            "text/plain": [
              "   Unnamed: 0             Name  \\\n",
              "0           0  Павелецкая сити   \n",
              "1           1  Павелецкая сити   \n",
              "2           2  Павелецкая сити   \n",
              "3           3  Павелецкая сити   \n",
              "4           4        Headliner   \n",
              "\n",
              "                                           Имя файла  \\\n",
              "0  2023-07-18_13-51-59.127269_from_78005055934_to...   \n",
              "1  2023-07-11_18-13-13.999706_from_79274147009_to...   \n",
              "2  2023-06-27_15-04-43.293132_from_79036175926_to...   \n",
              "3  2023-06-19_20-04-39.492518_from_79274574090_to...   \n",
              "4  2023-07-19_17-12-58.258412_from_79991345109_to...   \n",
              "\n",
              "                                       Текст_whisper  Длина текста  \\\n",
              "0                                          безответа          10.0   \n",
              "1                                       здравствуйте          14.0   \n",
              "2  здравствуйте вы позвонили в компанию эмргрупп ...         279.0   \n",
              "3                                       здравствуйте          14.0   \n",
              "4  здравствуйте вы позвонили в группу компании ка...        3246.0   \n",
              "\n",
              "   Количество слов    Статус                       Тип         Дата и время  \\\n",
              "0              1.0  Принятый  Динамический коллтрекинг  2023-07-18 13:51:58   \n",
              "1              1.0  Принятый  Динамический коллтрекинг  2023-07-11 18:13:13   \n",
              "2             34.0  Принятый                 Аналитика  2023-06-27 15:04:42   \n",
              "3              1.0  Принятый  Динамический коллтрекинг  2023-06-19 20:04:38   \n",
              "4            530.0  Принятый  Динамический коллтрекинг  2023-07-19 17:12:54   \n",
              "\n",
              "   Номер абонента  ...  Client ID Яндекс.Метрика ID ресурса Google Analytics  \\\n",
              "0     78005055934  ...                       NaN                         NaN   \n",
              "1     79274147009  ...                       NaN                         NaN   \n",
              "2     79036175926  ...                       NaN                         NaN   \n",
              "3     79274574090  ...                       NaN                         NaN   \n",
              "4     79991345109  ...              1.689774e+18              UA-111037154-1   \n",
              "\n",
              "   ID счетчика Яндекс.Метрика                   URL страницы обращения  \\\n",
              "0                         NaN  https://pavcity.turbo.site/page2987565/   \n",
              "1                         NaN  https://pavcity.turbo.site/page2987565/   \n",
              "2                         NaN                                      NaN   \n",
              "3                         NaN  https://pavcity.turbo.site/page2987565/   \n",
              "4                  46973610.0    https://head-liner.ru/catalog/filter/   \n",
              "\n",
              "   Длительность разговора  Длительность постобработки  \\\n",
              "0                       1                    00:00:00   \n",
              "1                       3                    00:00:00   \n",
              "2                      20                    00:00:00   \n",
              "3                       3                    00:00:00   \n",
              "4                     394                    00:00:00   \n",
              "\n",
              "  Чистая длительность разговора Полная длительность ожидания  \\\n",
              "0                             1                     00:00:01   \n",
              "1                             3                     00:00:01   \n",
              "2                            20                     00:00:02   \n",
              "3                             2                     00:00:02   \n",
              "4                           394                     00:00:05   \n",
              "\n",
              "  Расширенная UTM-метка Source klass  \n",
              "0                       yandex     0  \n",
              "1                       yandex     0  \n",
              "2                          NaN     0  \n",
              "3                       yandex     0  \n",
              "4                          NaN     2  \n",
              "\n",
              "[5 rows x 46 columns]"
            ],
            "text/html": [
              "\n",
              "  <div id=\"df-40625ea4-77d7-4359-8094-3890de4aac83\" class=\"colab-df-container\">\n",
              "    <div>\n",
              "<style scoped>\n",
              "    .dataframe tbody tr th:only-of-type {\n",
              "        vertical-align: middle;\n",
              "    }\n",
              "\n",
              "    .dataframe tbody tr th {\n",
              "        vertical-align: top;\n",
              "    }\n",
              "\n",
              "    .dataframe thead th {\n",
              "        text-align: right;\n",
              "    }\n",
              "</style>\n",
              "<table border=\"1\" class=\"dataframe\">\n",
              "  <thead>\n",
              "    <tr style=\"text-align: right;\">\n",
              "      <th></th>\n",
              "      <th>Unnamed: 0</th>\n",
              "      <th>Name</th>\n",
              "      <th>Имя файла</th>\n",
              "      <th>Текст_whisper</th>\n",
              "      <th>Длина текста</th>\n",
              "      <th>Количество слов</th>\n",
              "      <th>Статус</th>\n",
              "      <th>Тип</th>\n",
              "      <th>Дата и время</th>\n",
              "      <th>Номер абонента</th>\n",
              "      <th>...</th>\n",
              "      <th>Client ID Яндекс.Метрика</th>\n",
              "      <th>ID ресурса Google Analytics</th>\n",
              "      <th>ID счетчика Яндекс.Метрика</th>\n",
              "      <th>URL страницы обращения</th>\n",
              "      <th>Длительность разговора</th>\n",
              "      <th>Длительность постобработки</th>\n",
              "      <th>Чистая длительность разговора</th>\n",
              "      <th>Полная длительность ожидания</th>\n",
              "      <th>Расширенная UTM-метка Source</th>\n",
              "      <th>klass</th>\n",
              "    </tr>\n",
              "  </thead>\n",
              "  <tbody>\n",
              "    <tr>\n",
              "      <th>0</th>\n",
              "      <td>0</td>\n",
              "      <td>Павелецкая сити</td>\n",
              "      <td>2023-07-18_13-51-59.127269_from_78005055934_to...</td>\n",
              "      <td>безответа</td>\n",
              "      <td>10.0</td>\n",
              "      <td>1.0</td>\n",
              "      <td>Принятый</td>\n",
              "      <td>Динамический коллтрекинг</td>\n",
              "      <td>2023-07-18 13:51:58</td>\n",
              "      <td>78005055934</td>\n",
              "      <td>...</td>\n",
              "      <td>NaN</td>\n",
              "      <td>NaN</td>\n",
              "      <td>NaN</td>\n",
              "      <td>https://pavcity.turbo.site/page2987565/</td>\n",
              "      <td>1</td>\n",
              "      <td>00:00:00</td>\n",
              "      <td>1</td>\n",
              "      <td>00:00:01</td>\n",
              "      <td>yandex</td>\n",
              "      <td>0</td>\n",
              "    </tr>\n",
              "    <tr>\n",
              "      <th>1</th>\n",
              "      <td>1</td>\n",
              "      <td>Павелецкая сити</td>\n",
              "      <td>2023-07-11_18-13-13.999706_from_79274147009_to...</td>\n",
              "      <td>здравствуйте</td>\n",
              "      <td>14.0</td>\n",
              "      <td>1.0</td>\n",
              "      <td>Принятый</td>\n",
              "      <td>Динамический коллтрекинг</td>\n",
              "      <td>2023-07-11 18:13:13</td>\n",
              "      <td>79274147009</td>\n",
              "      <td>...</td>\n",
              "      <td>NaN</td>\n",
              "      <td>NaN</td>\n",
              "      <td>NaN</td>\n",
              "      <td>https://pavcity.turbo.site/page2987565/</td>\n",
              "      <td>3</td>\n",
              "      <td>00:00:00</td>\n",
              "      <td>3</td>\n",
              "      <td>00:00:01</td>\n",
              "      <td>yandex</td>\n",
              "      <td>0</td>\n",
              "    </tr>\n",
              "    <tr>\n",
              "      <th>2</th>\n",
              "      <td>2</td>\n",
              "      <td>Павелецкая сити</td>\n",
              "      <td>2023-06-27_15-04-43.293132_from_79036175926_to...</td>\n",
              "      <td>здравствуйте вы позвонили в компанию эмргрупп ...</td>\n",
              "      <td>279.0</td>\n",
              "      <td>34.0</td>\n",
              "      <td>Принятый</td>\n",
              "      <td>Аналитика</td>\n",
              "      <td>2023-06-27 15:04:42</td>\n",
              "      <td>79036175926</td>\n",
              "      <td>...</td>\n",
              "      <td>NaN</td>\n",
              "      <td>NaN</td>\n",
              "      <td>NaN</td>\n",
              "      <td>NaN</td>\n",
              "      <td>20</td>\n",
              "      <td>00:00:00</td>\n",
              "      <td>20</td>\n",
              "      <td>00:00:02</td>\n",
              "      <td>NaN</td>\n",
              "      <td>0</td>\n",
              "    </tr>\n",
              "    <tr>\n",
              "      <th>3</th>\n",
              "      <td>3</td>\n",
              "      <td>Павелецкая сити</td>\n",
              "      <td>2023-06-19_20-04-39.492518_from_79274574090_to...</td>\n",
              "      <td>здравствуйте</td>\n",
              "      <td>14.0</td>\n",
              "      <td>1.0</td>\n",
              "      <td>Принятый</td>\n",
              "      <td>Динамический коллтрекинг</td>\n",
              "      <td>2023-06-19 20:04:38</td>\n",
              "      <td>79274574090</td>\n",
              "      <td>...</td>\n",
              "      <td>NaN</td>\n",
              "      <td>NaN</td>\n",
              "      <td>NaN</td>\n",
              "      <td>https://pavcity.turbo.site/page2987565/</td>\n",
              "      <td>3</td>\n",
              "      <td>00:00:00</td>\n",
              "      <td>2</td>\n",
              "      <td>00:00:02</td>\n",
              "      <td>yandex</td>\n",
              "      <td>0</td>\n",
              "    </tr>\n",
              "    <tr>\n",
              "      <th>4</th>\n",
              "      <td>4</td>\n",
              "      <td>Headliner</td>\n",
              "      <td>2023-07-19_17-12-58.258412_from_79991345109_to...</td>\n",
              "      <td>здравствуйте вы позвонили в группу компании ка...</td>\n",
              "      <td>3246.0</td>\n",
              "      <td>530.0</td>\n",
              "      <td>Принятый</td>\n",
              "      <td>Динамический коллтрекинг</td>\n",
              "      <td>2023-07-19 17:12:54</td>\n",
              "      <td>79991345109</td>\n",
              "      <td>...</td>\n",
              "      <td>1.689774e+18</td>\n",
              "      <td>UA-111037154-1</td>\n",
              "      <td>46973610.0</td>\n",
              "      <td>https://head-liner.ru/catalog/filter/</td>\n",
              "      <td>394</td>\n",
              "      <td>00:00:00</td>\n",
              "      <td>394</td>\n",
              "      <td>00:00:05</td>\n",
              "      <td>NaN</td>\n",
              "      <td>2</td>\n",
              "    </tr>\n",
              "  </tbody>\n",
              "</table>\n",
              "<p>5 rows × 46 columns</p>\n",
              "</div>\n",
              "    <div class=\"colab-df-buttons\">\n",
              "\n",
              "  <div class=\"colab-df-container\">\n",
              "    <button class=\"colab-df-convert\" onclick=\"convertToInteractive('df-40625ea4-77d7-4359-8094-3890de4aac83')\"\n",
              "            title=\"Convert this dataframe to an interactive table.\"\n",
              "            style=\"display:none;\">\n",
              "\n",
              "  <svg xmlns=\"http://www.w3.org/2000/svg\" height=\"24px\" viewBox=\"0 -960 960 960\">\n",
              "    <path d=\"M120-120v-720h720v720H120Zm60-500h600v-160H180v160Zm220 220h160v-160H400v160Zm0 220h160v-160H400v160ZM180-400h160v-160H180v160Zm440 0h160v-160H620v160ZM180-180h160v-160H180v160Zm440 0h160v-160H620v160Z\"/>\n",
              "  </svg>\n",
              "    </button>\n",
              "\n",
              "  <style>\n",
              "    .colab-df-container {\n",
              "      display:flex;\n",
              "      gap: 12px;\n",
              "    }\n",
              "\n",
              "    .colab-df-convert {\n",
              "      background-color: #E8F0FE;\n",
              "      border: none;\n",
              "      border-radius: 50%;\n",
              "      cursor: pointer;\n",
              "      display: none;\n",
              "      fill: #1967D2;\n",
              "      height: 32px;\n",
              "      padding: 0 0 0 0;\n",
              "      width: 32px;\n",
              "    }\n",
              "\n",
              "    .colab-df-convert:hover {\n",
              "      background-color: #E2EBFA;\n",
              "      box-shadow: 0px 1px 2px rgba(60, 64, 67, 0.3), 0px 1px 3px 1px rgba(60, 64, 67, 0.15);\n",
              "      fill: #174EA6;\n",
              "    }\n",
              "\n",
              "    .colab-df-buttons div {\n",
              "      margin-bottom: 4px;\n",
              "    }\n",
              "\n",
              "    [theme=dark] .colab-df-convert {\n",
              "      background-color: #3B4455;\n",
              "      fill: #D2E3FC;\n",
              "    }\n",
              "\n",
              "    [theme=dark] .colab-df-convert:hover {\n",
              "      background-color: #434B5C;\n",
              "      box-shadow: 0px 1px 3px 1px rgba(0, 0, 0, 0.15);\n",
              "      filter: drop-shadow(0px 1px 2px rgba(0, 0, 0, 0.3));\n",
              "      fill: #FFFFFF;\n",
              "    }\n",
              "  </style>\n",
              "\n",
              "    <script>\n",
              "      const buttonEl =\n",
              "        document.querySelector('#df-40625ea4-77d7-4359-8094-3890de4aac83 button.colab-df-convert');\n",
              "      buttonEl.style.display =\n",
              "        google.colab.kernel.accessAllowed ? 'block' : 'none';\n",
              "\n",
              "      async function convertToInteractive(key) {\n",
              "        const element = document.querySelector('#df-40625ea4-77d7-4359-8094-3890de4aac83');\n",
              "        const dataTable =\n",
              "          await google.colab.kernel.invokeFunction('convertToInteractive',\n",
              "                                                    [key], {});\n",
              "        if (!dataTable) return;\n",
              "\n",
              "        const docLinkHtml = 'Like what you see? Visit the ' +\n",
              "          '<a target=\"_blank\" href=https://colab.research.google.com/notebooks/data_table.ipynb>data table notebook</a>'\n",
              "          + ' to learn more about interactive tables.';\n",
              "        element.innerHTML = '';\n",
              "        dataTable['output_type'] = 'display_data';\n",
              "        await google.colab.output.renderOutput(dataTable, element);\n",
              "        const docLink = document.createElement('div');\n",
              "        docLink.innerHTML = docLinkHtml;\n",
              "        element.appendChild(docLink);\n",
              "      }\n",
              "    </script>\n",
              "  </div>\n",
              "\n",
              "\n",
              "<div id=\"df-39493f95-f00d-44a0-a78e-00ed59e9d986\">\n",
              "  <button class=\"colab-df-quickchart\" onclick=\"quickchart('df-39493f95-f00d-44a0-a78e-00ed59e9d986')\"\n",
              "            title=\"Suggest charts.\"\n",
              "            style=\"display:none;\">\n",
              "\n",
              "<svg xmlns=\"http://www.w3.org/2000/svg\" height=\"24px\"viewBox=\"0 0 24 24\"\n",
              "     width=\"24px\">\n",
              "    <g>\n",
              "        <path d=\"M19 3H5c-1.1 0-2 .9-2 2v14c0 1.1.9 2 2 2h14c1.1 0 2-.9 2-2V5c0-1.1-.9-2-2-2zM9 17H7v-7h2v7zm4 0h-2V7h2v10zm4 0h-2v-4h2v4z\"/>\n",
              "    </g>\n",
              "</svg>\n",
              "  </button>\n",
              "\n",
              "<style>\n",
              "  .colab-df-quickchart {\n",
              "      --bg-color: #E8F0FE;\n",
              "      --fill-color: #1967D2;\n",
              "      --hover-bg-color: #E2EBFA;\n",
              "      --hover-fill-color: #174EA6;\n",
              "      --disabled-fill-color: #AAA;\n",
              "      --disabled-bg-color: #DDD;\n",
              "  }\n",
              "\n",
              "  [theme=dark] .colab-df-quickchart {\n",
              "      --bg-color: #3B4455;\n",
              "      --fill-color: #D2E3FC;\n",
              "      --hover-bg-color: #434B5C;\n",
              "      --hover-fill-color: #FFFFFF;\n",
              "      --disabled-bg-color: #3B4455;\n",
              "      --disabled-fill-color: #666;\n",
              "  }\n",
              "\n",
              "  .colab-df-quickchart {\n",
              "    background-color: var(--bg-color);\n",
              "    border: none;\n",
              "    border-radius: 50%;\n",
              "    cursor: pointer;\n",
              "    display: none;\n",
              "    fill: var(--fill-color);\n",
              "    height: 32px;\n",
              "    padding: 0;\n",
              "    width: 32px;\n",
              "  }\n",
              "\n",
              "  .colab-df-quickchart:hover {\n",
              "    background-color: var(--hover-bg-color);\n",
              "    box-shadow: 0 1px 2px rgba(60, 64, 67, 0.3), 0 1px 3px 1px rgba(60, 64, 67, 0.15);\n",
              "    fill: var(--button-hover-fill-color);\n",
              "  }\n",
              "\n",
              "  .colab-df-quickchart-complete:disabled,\n",
              "  .colab-df-quickchart-complete:disabled:hover {\n",
              "    background-color: var(--disabled-bg-color);\n",
              "    fill: var(--disabled-fill-color);\n",
              "    box-shadow: none;\n",
              "  }\n",
              "\n",
              "  .colab-df-spinner {\n",
              "    border: 2px solid var(--fill-color);\n",
              "    border-color: transparent;\n",
              "    border-bottom-color: var(--fill-color);\n",
              "    animation:\n",
              "      spin 1s steps(1) infinite;\n",
              "  }\n",
              "\n",
              "  @keyframes spin {\n",
              "    0% {\n",
              "      border-color: transparent;\n",
              "      border-bottom-color: var(--fill-color);\n",
              "      border-left-color: var(--fill-color);\n",
              "    }\n",
              "    20% {\n",
              "      border-color: transparent;\n",
              "      border-left-color: var(--fill-color);\n",
              "      border-top-color: var(--fill-color);\n",
              "    }\n",
              "    30% {\n",
              "      border-color: transparent;\n",
              "      border-left-color: var(--fill-color);\n",
              "      border-top-color: var(--fill-color);\n",
              "      border-right-color: var(--fill-color);\n",
              "    }\n",
              "    40% {\n",
              "      border-color: transparent;\n",
              "      border-right-color: var(--fill-color);\n",
              "      border-top-color: var(--fill-color);\n",
              "    }\n",
              "    60% {\n",
              "      border-color: transparent;\n",
              "      border-right-color: var(--fill-color);\n",
              "    }\n",
              "    80% {\n",
              "      border-color: transparent;\n",
              "      border-right-color: var(--fill-color);\n",
              "      border-bottom-color: var(--fill-color);\n",
              "    }\n",
              "    90% {\n",
              "      border-color: transparent;\n",
              "      border-bottom-color: var(--fill-color);\n",
              "    }\n",
              "  }\n",
              "</style>\n",
              "\n",
              "  <script>\n",
              "    async function quickchart(key) {\n",
              "      const quickchartButtonEl =\n",
              "        document.querySelector('#' + key + ' button');\n",
              "      quickchartButtonEl.disabled = true;  // To prevent multiple clicks.\n",
              "      quickchartButtonEl.classList.add('colab-df-spinner');\n",
              "      try {\n",
              "        const charts = await google.colab.kernel.invokeFunction(\n",
              "            'suggestCharts', [key], {});\n",
              "      } catch (error) {\n",
              "        console.error('Error during call to suggestCharts:', error);\n",
              "      }\n",
              "      quickchartButtonEl.classList.remove('colab-df-spinner');\n",
              "      quickchartButtonEl.classList.add('colab-df-quickchart-complete');\n",
              "    }\n",
              "    (() => {\n",
              "      let quickchartButtonEl =\n",
              "        document.querySelector('#df-39493f95-f00d-44a0-a78e-00ed59e9d986 button');\n",
              "      quickchartButtonEl.style.display =\n",
              "        google.colab.kernel.accessAllowed ? 'block' : 'none';\n",
              "    })();\n",
              "  </script>\n",
              "</div>\n",
              "    </div>\n",
              "  </div>\n"
            ]
          },
          "metadata": {},
          "execution_count": 7
        }
      ]
    },
    {
      "cell_type": "code",
      "source": [
        "df_all['Признак'].value_counts().plot.bar()"
      ],
      "metadata": {
        "colab": {
          "base_uri": "https://localhost:8080/",
          "height": 437
        },
        "id": "h-xRGSm5DV6V",
        "outputId": "fa6016b6-5c83-45df-a605-0a9d2de7c4b4"
      },
      "execution_count": null,
      "outputs": [
        {
          "output_type": "execute_result",
          "data": {
            "text/plain": [
              "<Axes: >"
            ]
          },
          "metadata": {},
          "execution_count": 8
        },
        {
          "output_type": "display_data",
          "data": {
            "text/plain": [
              "<Figure size 640x480 with 1 Axes>"
            ],
            "image/png": "[encoded data removed]"
          },
          "metadata": {}
        }
      ]
    },
    {
      "cell_type": "code",
      "source": [
        "df_all['Target'].value_counts().plot.bar()"
      ],
      "metadata": {
        "colab": {
          "base_uri": "https://localhost:8080/",
          "height": 437
        },
        "id": "WtKymJ68v5jA",
        "outputId": "d42c5107-edad-41b8-aa2c-33efc5d5e619"
      },
      "execution_count": null,
      "outputs": [
        {
          "output_type": "execute_result",
          "data": {
            "text/plain": [
              "<Axes: >"
            ]
          },
          "metadata": {},
          "execution_count": 10
        },
        {
          "output_type": "display_data",
          "data": {
            "text/plain": [
              "<Figure size 640x480 with 1 Axes>"
            ],
            "image/png": "[encoded data removed]"
          },
          "metadata": {}
        }
      ]
    },
    {
      "cell_type": "code",
      "source": [
        "df_all['Текст_whisper'] = df_all['Текст_whisper'].str.replace('ё', 'е', regex=False)"
      ],
      "metadata": {
        "id": "N0bwelkcDhj9"
      },
      "execution_count": null,
      "outputs": []
    },
    {
      "cell_type": "markdown",
      "source": [
        "# Эксперименты"
      ],
      "metadata": {
        "id": "O5aeF-GIvPhW"
      }
    },
    {
      "cell_type": "markdown",
      "source": [
        "## Эксперимент 1\n",
        "\n",
        "используется колонка \"Признак\""
      ],
      "metadata": {
        "id": "Kapggy9btHqr"
      }
    },
    {
      "cell_type": "code",
      "source": [
        "del df\n",
        "df = df_all[['Текст_whisper','Признак']].copy()"
      ],
      "metadata": {
        "id": "QDHx1lqcI6wJ"
      },
      "execution_count": null,
      "outputs": []
    },
    {
      "cell_type": "code",
      "source": [
        "df = df.rename(columns={'Текст_whisper': 'text', 'Признак': 'sentiment'})"
      ],
      "metadata": {
        "id": "gvkhWfx4L5aP"
      },
      "execution_count": null,
      "outputs": []
    },
    {
      "cell_type": "code",
      "source": [
        "df.head()"
      ],
      "metadata": {
        "colab": {
          "base_uri": "https://localhost:8080/",
          "height": 206
        },
        "id": "vmfO2tZLKyYx",
        "outputId": "7c40ac59-5493-4832-84b0-d4ee3165aa6d"
      },
      "execution_count": null,
      "outputs": [
        {
          "output_type": "execute_result",
          "data": {
            "text/plain": [
              "                                                text  sentiment\n",
              "0                                          безответа          0\n",
              "1                                       здравствуйте          0\n",
              "2  здравствуйте вы позвонили в компанию эмргрупп ...          0\n",
              "3                                       здравствуйте          0\n",
              "4  здравствуйте вы позвонили в группу компании ка...          1"
            ],
            "text/html": [
              "\n",
              "  <div id=\"df-78637731-cd25-4fc9-9d40-a2d2eaf1290b\" class=\"colab-df-container\">\n",
              "    <div>\n",
              "<style scoped>\n",
              "    .dataframe tbody tr th:only-of-type {\n",
              "        vertical-align: middle;\n",
              "    }\n",
              "\n",
              "    .dataframe tbody tr th {\n",
              "        vertical-align: top;\n",
              "    }\n",
              "\n",
              "    .dataframe thead th {\n",
              "        text-align: right;\n",
              "    }\n",
              "</style>\n",
              "<table border=\"1\" class=\"dataframe\">\n",
              "  <thead>\n",
              "    <tr style=\"text-align: right;\">\n",
              "      <th></th>\n",
              "      <th>text</th>\n",
              "      <th>sentiment</th>\n",
              "    </tr>\n",
              "  </thead>\n",
              "  <tbody>\n",
              "    <tr>\n",
              "      <th>0</th>\n",
              "      <td>безответа</td>\n",
              "      <td>0</td>\n",
              "    </tr>\n",
              "    <tr>\n",
              "      <th>1</th>\n",
              "      <td>здравствуйте</td>\n",
              "      <td>0</td>\n",
              "    </tr>\n",
              "    <tr>\n",
              "      <th>2</th>\n",
              "      <td>здравствуйте вы позвонили в компанию эмргрупп ...</td>\n",
              "      <td>0</td>\n",
              "    </tr>\n",
              "    <tr>\n",
              "      <th>3</th>\n",
              "      <td>здравствуйте</td>\n",
              "      <td>0</td>\n",
              "    </tr>\n",
              "    <tr>\n",
              "      <th>4</th>\n",
              "      <td>здравствуйте вы позвонили в группу компании ка...</td>\n",
              "      <td>1</td>\n",
              "    </tr>\n",
              "  </tbody>\n",
              "</table>\n",
              "</div>\n",
              "    <div class=\"colab-df-buttons\">\n",
              "\n",
              "  <div class=\"colab-df-container\">\n",
              "    <button class=\"colab-df-convert\" onclick=\"convertToInteractive('df-78637731-cd25-4fc9-9d40-a2d2eaf1290b')\"\n",
              "            title=\"Convert this dataframe to an interactive table.\"\n",
              "            style=\"display:none;\">\n",
              "\n",
              "  <svg xmlns=\"http://www.w3.org/2000/svg\" height=\"24px\" viewBox=\"0 -960 960 960\">\n",
              "    <path d=\"M120-120v-720h720v720H120Zm60-500h600v-160H180v160Zm220 220h160v-160H400v160Zm0 220h160v-160H400v160ZM180-400h160v-160H180v160Zm440 0h160v-160H620v160ZM180-180h160v-160H180v160Zm440 0h160v-160H620v160Z\"/>\n",
              "  </svg>\n",
              "    </button>\n",
              "\n",
              "  <style>\n",
              "    .colab-df-container {\n",
              "      display:flex;\n",
              "      gap: 12px;\n",
              "    }\n",
              "\n",
              "    .colab-df-convert {\n",
              "      background-color: #E8F0FE;\n",
              "      border: none;\n",
              "      border-radius: 50%;\n",
              "      cursor: pointer;\n",
              "      display: none;\n",
              "      fill: #1967D2;\n",
              "      height: 32px;\n",
              "      padding: 0 0 0 0;\n",
              "      width: 32px;\n",
              "    }\n",
              "\n",
              "    .colab-df-convert:hover {\n",
              "      background-color: #E2EBFA;\n",
              "      box-shadow: 0px 1px 2px rgba(60, 64, 67, 0.3), 0px 1px 3px 1px rgba(60, 64, 67, 0.15);\n",
              "      fill: #174EA6;\n",
              "    }\n",
              "\n",
              "    .colab-df-buttons div {\n",
              "      margin-bottom: 4px;\n",
              "    }\n",
              "\n",
              "    [theme=dark] .colab-df-convert {\n",
              "      background-color: #3B4455;\n",
              "      fill: #D2E3FC;\n",
              "    }\n",
              "\n",
              "    [theme=dark] .colab-df-convert:hover {\n",
              "      background-color: #434B5C;\n",
              "      box-shadow: 0px 1px 3px 1px rgba(0, 0, 0, 0.15);\n",
              "      filter: drop-shadow(0px 1px 2px rgba(0, 0, 0, 0.3));\n",
              "      fill: #FFFFFF;\n",
              "    }\n",
              "  </style>\n",
              "\n",
              "    <script>\n",
              "      const buttonEl =\n",
              "        document.querySelector('#df-78637731-cd25-4fc9-9d40-a2d2eaf1290b button.colab-df-convert');\n",
              "      buttonEl.style.display =\n",
              "        google.colab.kernel.accessAllowed ? 'block' : 'none';\n",
              "\n",
              "      async function convertToInteractive(key) {\n",
              "        const element = document.querySelector('#df-78637731-cd25-4fc9-9d40-a2d2eaf1290b');\n",
              "        const dataTable =\n",
              "          await google.colab.kernel.invokeFunction('convertToInteractive',\n",
              "                                                    [key], {});\n",
              "        if (!dataTable) return;\n",
              "\n",
              "        const docLinkHtml = 'Like what you see? Visit the ' +\n",
              "          '<a target=\"_blank\" href=https://colab.research.google.com/notebooks/data_table.ipynb>data table notebook</a>'\n",
              "          + ' to learn more about interactive tables.';\n",
              "        element.innerHTML = '';\n",
              "        dataTable['output_type'] = 'display_data';\n",
              "        await google.colab.output.renderOutput(dataTable, element);\n",
              "        const docLink = document.createElement('div');\n",
              "        docLink.innerHTML = docLinkHtml;\n",
              "        element.appendChild(docLink);\n",
              "      }\n",
              "    </script>\n",
              "  </div>\n",
              "\n",
              "\n",
              "<div id=\"df-e0e9ffbb-ece8-4035-90d3-ae8ba81c719b\">\n",
              "  <button class=\"colab-df-quickchart\" onclick=\"quickchart('df-e0e9ffbb-ece8-4035-90d3-ae8ba81c719b')\"\n",
              "            title=\"Suggest charts.\"\n",
              "            style=\"display:none;\">\n",
              "\n",
              "<svg xmlns=\"http://www.w3.org/2000/svg\" height=\"24px\"viewBox=\"0 0 24 24\"\n",
              "     width=\"24px\">\n",
              "    <g>\n",
              "        <path d=\"M19 3H5c-1.1 0-2 .9-2 2v14c0 1.1.9 2 2 2h14c1.1 0 2-.9 2-2V5c0-1.1-.9-2-2-2zM9 17H7v-7h2v7zm4 0h-2V7h2v10zm4 0h-2v-4h2v4z\"/>\n",
              "    </g>\n",
              "</svg>\n",
              "  </button>\n",
              "\n",
              "<style>\n",
              "  .colab-df-quickchart {\n",
              "      --bg-color: #E8F0FE;\n",
              "      --fill-color: #1967D2;\n",
              "      --hover-bg-color: #E2EBFA;\n",
              "      --hover-fill-color: #174EA6;\n",
              "      --disabled-fill-color: #AAA;\n",
              "      --disabled-bg-color: #DDD;\n",
              "  }\n",
              "\n",
              "  [theme=dark] .colab-df-quickchart {\n",
              "      --bg-color: #3B4455;\n",
              "      --fill-color: #D2E3FC;\n",
              "      --hover-bg-color: #434B5C;\n",
              "      --hover-fill-color: #FFFFFF;\n",
              "      --disabled-bg-color: #3B4455;\n",
              "      --disabled-fill-color: #666;\n",
              "  }\n",
              "\n",
              "  .colab-df-quickchart {\n",
              "    background-color: var(--bg-color);\n",
              "    border: none;\n",
              "    border-radius: 50%;\n",
              "    cursor: pointer;\n",
              "    display: none;\n",
              "    fill: var(--fill-color);\n",
              "    height: 32px;\n",
              "    padding: 0;\n",
              "    width: 32px;\n",
              "  }\n",
              "\n",
              "  .colab-df-quickchart:hover {\n",
              "    background-color: var(--hover-bg-color);\n",
              "    box-shadow: 0 1px 2px rgba(60, 64, 67, 0.3), 0 1px 3px 1px rgba(60, 64, 67, 0.15);\n",
              "    fill: var(--button-hover-fill-color);\n",
              "  }\n",
              "\n",
              "  .colab-df-quickchart-complete:disabled,\n",
              "  .colab-df-quickchart-complete:disabled:hover {\n",
              "    background-color: var(--disabled-bg-color);\n",
              "    fill: var(--disabled-fill-color);\n",
              "    box-shadow: none;\n",
              "  }\n",
              "\n",
              "  .colab-df-spinner {\n",
              "    border: 2px solid var(--fill-color);\n",
              "    border-color: transparent;\n",
              "    border-bottom-color: var(--fill-color);\n",
              "    animation:\n",
              "      spin 1s steps(1) infinite;\n",
              "  }\n",
              "\n",
              "  @keyframes spin {\n",
              "    0% {\n",
              "      border-color: transparent;\n",
              "      border-bottom-color: var(--fill-color);\n",
              "      border-left-color: var(--fill-color);\n",
              "    }\n",
              "    20% {\n",
              "      border-color: transparent;\n",
              "      border-left-color: var(--fill-color);\n",
              "      border-top-color: var(--fill-color);\n",
              "    }\n",
              "    30% {\n",
              "      border-color: transparent;\n",
              "      border-left-color: var(--fill-color);\n",
              "      border-top-color: var(--fill-color);\n",
              "      border-right-color: var(--fill-color);\n",
              "    }\n",
              "    40% {\n",
              "      border-color: transparent;\n",
              "      border-right-color: var(--fill-color);\n",
              "      border-top-color: var(--fill-color);\n",
              "    }\n",
              "    60% {\n",
              "      border-color: transparent;\n",
              "      border-right-color: var(--fill-color);\n",
              "    }\n",
              "    80% {\n",
              "      border-color: transparent;\n",
              "      border-right-color: var(--fill-color);\n",
              "      border-bottom-color: var(--fill-color);\n",
              "    }\n",
              "    90% {\n",
              "      border-color: transparent;\n",
              "      border-bottom-color: var(--fill-color);\n",
              "    }\n",
              "  }\n",
              "</style>\n",
              "\n",
              "  <script>\n",
              "    async function quickchart(key) {\n",
              "      const quickchartButtonEl =\n",
              "        document.querySelector('#' + key + ' button');\n",
              "      quickchartButtonEl.disabled = true;  // To prevent multiple clicks.\n",
              "      quickchartButtonEl.classList.add('colab-df-spinner');\n",
              "      try {\n",
              "        const charts = await google.colab.kernel.invokeFunction(\n",
              "            'suggestCharts', [key], {});\n",
              "      } catch (error) {\n",
              "        console.error('Error during call to suggestCharts:', error);\n",
              "      }\n",
              "      quickchartButtonEl.classList.remove('colab-df-spinner');\n",
              "      quickchartButtonEl.classList.add('colab-df-quickchart-complete');\n",
              "    }\n",
              "    (() => {\n",
              "      let quickchartButtonEl =\n",
              "        document.querySelector('#df-e0e9ffbb-ece8-4035-90d3-ae8ba81c719b button');\n",
              "      quickchartButtonEl.style.display =\n",
              "        google.colab.kernel.accessAllowed ? 'block' : 'none';\n",
              "    })();\n",
              "  </script>\n",
              "</div>\n",
              "    </div>\n",
              "  </div>\n"
            ]
          },
          "metadata": {},
          "execution_count": 82
        }
      ]
    },
    {
      "cell_type": "code",
      "source": [
        "df = df.reindex(columns=['sentiment', 'text'])"
      ],
      "metadata": {
        "id": "3tNaqiUuMiLh"
      },
      "execution_count": null,
      "outputs": []
    },
    {
      "cell_type": "code",
      "source": [
        "df.sentiment = '__label__' + df.sentiment.apply(str)\n",
        "df.head()"
      ],
      "metadata": {
        "colab": {
          "base_uri": "https://localhost:8080/",
          "height": 206
        },
        "id": "s1kGaf81MlDp",
        "outputId": "81b0f1ba-d6a9-4b6c-df43-f2530ee76704"
      },
      "execution_count": null,
      "outputs": [
        {
          "output_type": "execute_result",
          "data": {
            "text/plain": [
              "    sentiment                                               text\n",
              "0  __label__0                                          безответа\n",
              "1  __label__0                                       здравствуйте\n",
              "2  __label__0  здравствуйте вы позвонили в компанию эмргрупп ...\n",
              "3  __label__0                                       здравствуйте\n",
              "4  __label__1  здравствуйте вы позвонили в группу компании ка..."
            ],
            "text/html": [
              "\n",
              "  <div id=\"df-f94517d1-07f1-4cda-af69-1042f01b1a41\" class=\"colab-df-container\">\n",
              "    <div>\n",
              "<style scoped>\n",
              "    .dataframe tbody tr th:only-of-type {\n",
              "        vertical-align: middle;\n",
              "    }\n",
              "\n",
              "    .dataframe tbody tr th {\n",
              "        vertical-align: top;\n",
              "    }\n",
              "\n",
              "    .dataframe thead th {\n",
              "        text-align: right;\n",
              "    }\n",
              "</style>\n",
              "<table border=\"1\" class=\"dataframe\">\n",
              "  <thead>\n",
              "    <tr style=\"text-align: right;\">\n",
              "      <th></th>\n",
              "      <th>sentiment</th>\n",
              "      <th>text</th>\n",
              "    </tr>\n",
              "  </thead>\n",
              "  <tbody>\n",
              "    <tr>\n",
              "      <th>0</th>\n",
              "      <td>__label__0</td>\n",
              "      <td>безответа</td>\n",
              "    </tr>\n",
              "    <tr>\n",
              "      <th>1</th>\n",
              "      <td>__label__0</td>\n",
              "      <td>здравствуйте</td>\n",
              "    </tr>\n",
              "    <tr>\n",
              "      <th>2</th>\n",
              "      <td>__label__0</td>\n",
              "      <td>здравствуйте вы позвонили в компанию эмргрупп ...</td>\n",
              "    </tr>\n",
              "    <tr>\n",
              "      <th>3</th>\n",
              "      <td>__label__0</td>\n",
              "      <td>здравствуйте</td>\n",
              "    </tr>\n",
              "    <tr>\n",
              "      <th>4</th>\n",
              "      <td>__label__1</td>\n",
              "      <td>здравствуйте вы позвонили в группу компании ка...</td>\n",
              "    </tr>\n",
              "  </tbody>\n",
              "</table>\n",
              "</div>\n",
              "    <div class=\"colab-df-buttons\">\n",
              "\n",
              "  <div class=\"colab-df-container\">\n",
              "    <button class=\"colab-df-convert\" onclick=\"convertToInteractive('df-f94517d1-07f1-4cda-af69-1042f01b1a41')\"\n",
              "            title=\"Convert this dataframe to an interactive table.\"\n",
              "            style=\"display:none;\">\n",
              "\n",
              "  <svg xmlns=\"http://www.w3.org/2000/svg\" height=\"24px\" viewBox=\"0 -960 960 960\">\n",
              "    <path d=\"M120-120v-720h720v720H120Zm60-500h600v-160H180v160Zm220 220h160v-160H400v160Zm0 220h160v-160H400v160ZM180-400h160v-160H180v160Zm440 0h160v-160H620v160ZM180-180h160v-160H180v160Zm440 0h160v-160H620v160Z\"/>\n",
              "  </svg>\n",
              "    </button>\n",
              "\n",
              "  <style>\n",
              "    .colab-df-container {\n",
              "      display:flex;\n",
              "      gap: 12px;\n",
              "    }\n",
              "\n",
              "    .colab-df-convert {\n",
              "      background-color: #E8F0FE;\n",
              "      border: none;\n",
              "      border-radius: 50%;\n",
              "      cursor: pointer;\n",
              "      display: none;\n",
              "      fill: #1967D2;\n",
              "      height: 32px;\n",
              "      padding: 0 0 0 0;\n",
              "      width: 32px;\n",
              "    }\n",
              "\n",
              "    .colab-df-convert:hover {\n",
              "      background-color: #E2EBFA;\n",
              "      box-shadow: 0px 1px 2px rgba(60, 64, 67, 0.3), 0px 1px 3px 1px rgba(60, 64, 67, 0.15);\n",
              "      fill: #174EA6;\n",
              "    }\n",
              "\n",
              "    .colab-df-buttons div {\n",
              "      margin-bottom: 4px;\n",
              "    }\n",
              "\n",
              "    [theme=dark] .colab-df-convert {\n",
              "      background-color: #3B4455;\n",
              "      fill: #D2E3FC;\n",
              "    }\n",
              "\n",
              "    [theme=dark] .colab-df-convert:hover {\n",
              "      background-color: #434B5C;\n",
              "      box-shadow: 0px 1px 3px 1px rgba(0, 0, 0, 0.15);\n",
              "      filter: drop-shadow(0px 1px 2px rgba(0, 0, 0, 0.3));\n",
              "      fill: #FFFFFF;\n",
              "    }\n",
              "  </style>\n",
              "\n",
              "    <script>\n",
              "      const buttonEl =\n",
              "        document.querySelector('#df-f94517d1-07f1-4cda-af69-1042f01b1a41 button.colab-df-convert');\n",
              "      buttonEl.style.display =\n",
              "        google.colab.kernel.accessAllowed ? 'block' : 'none';\n",
              "\n",
              "      async function convertToInteractive(key) {\n",
              "        const element = document.querySelector('#df-f94517d1-07f1-4cda-af69-1042f01b1a41');\n",
              "        const dataTable =\n",
              "          await google.colab.kernel.invokeFunction('convertToInteractive',\n",
              "                                                    [key], {});\n",
              "        if (!dataTable) return;\n",
              "\n",
              "        const docLinkHtml = 'Like what you see? Visit the ' +\n",
              "          '<a target=\"_blank\" href=https://colab.research.google.com/notebooks/data_table.ipynb>data table notebook</a>'\n",
              "          + ' to learn more about interactive tables.';\n",
              "        element.innerHTML = '';\n",
              "        dataTable['output_type'] = 'display_data';\n",
              "        await google.colab.output.renderOutput(dataTable, element);\n",
              "        const docLink = document.createElement('div');\n",
              "        docLink.innerHTML = docLinkHtml;\n",
              "        element.appendChild(docLink);\n",
              "      }\n",
              "    </script>\n",
              "  </div>\n",
              "\n",
              "\n",
              "<div id=\"df-b6a32ab1-6599-42df-a3a3-38b7f0c56e2e\">\n",
              "  <button class=\"colab-df-quickchart\" onclick=\"quickchart('df-b6a32ab1-6599-42df-a3a3-38b7f0c56e2e')\"\n",
              "            title=\"Suggest charts.\"\n",
              "            style=\"display:none;\">\n",
              "\n",
              "<svg xmlns=\"http://www.w3.org/2000/svg\" height=\"24px\"viewBox=\"0 0 24 24\"\n",
              "     width=\"24px\">\n",
              "    <g>\n",
              "        <path d=\"M19 3H5c-1.1 0-2 .9-2 2v14c0 1.1.9 2 2 2h14c1.1 0 2-.9 2-2V5c0-1.1-.9-2-2-2zM9 17H7v-7h2v7zm4 0h-2V7h2v10zm4 0h-2v-4h2v4z\"/>\n",
              "    </g>\n",
              "</svg>\n",
              "  </button>\n",
              "\n",
              "<style>\n",
              "  .colab-df-quickchart {\n",
              "      --bg-color: #E8F0FE;\n",
              "      --fill-color: #1967D2;\n",
              "      --hover-bg-color: #E2EBFA;\n",
              "      --hover-fill-color: #174EA6;\n",
              "      --disabled-fill-color: #AAA;\n",
              "      --disabled-bg-color: #DDD;\n",
              "  }\n",
              "\n",
              "  [theme=dark] .colab-df-quickchart {\n",
              "      --bg-color: #3B4455;\n",
              "      --fill-color: #D2E3FC;\n",
              "      --hover-bg-color: #434B5C;\n",
              "      --hover-fill-color: #FFFFFF;\n",
              "      --disabled-bg-color: #3B4455;\n",
              "      --disabled-fill-color: #666;\n",
              "  }\n",
              "\n",
              "  .colab-df-quickchart {\n",
              "    background-color: var(--bg-color);\n",
              "    border: none;\n",
              "    border-radius: 50%;\n",
              "    cursor: pointer;\n",
              "    display: none;\n",
              "    fill: var(--fill-color);\n",
              "    height: 32px;\n",
              "    padding: 0;\n",
              "    width: 32px;\n",
              "  }\n",
              "\n",
              "  .colab-df-quickchart:hover {\n",
              "    background-color: var(--hover-bg-color);\n",
              "    box-shadow: 0 1px 2px rgba(60, 64, 67, 0.3), 0 1px 3px 1px rgba(60, 64, 67, 0.15);\n",
              "    fill: var(--button-hover-fill-color);\n",
              "  }\n",
              "\n",
              "  .colab-df-quickchart-complete:disabled,\n",
              "  .colab-df-quickchart-complete:disabled:hover {\n",
              "    background-color: var(--disabled-bg-color);\n",
              "    fill: var(--disabled-fill-color);\n",
              "    box-shadow: none;\n",
              "  }\n",
              "\n",
              "  .colab-df-spinner {\n",
              "    border: 2px solid var(--fill-color);\n",
              "    border-color: transparent;\n",
              "    border-bottom-color: var(--fill-color);\n",
              "    animation:\n",
              "      spin 1s steps(1) infinite;\n",
              "  }\n",
              "\n",
              "  @keyframes spin {\n",
              "    0% {\n",
              "      border-color: transparent;\n",
              "      border-bottom-color: var(--fill-color);\n",
              "      border-left-color: var(--fill-color);\n",
              "    }\n",
              "    20% {\n",
              "      border-color: transparent;\n",
              "      border-left-color: var(--fill-color);\n",
              "      border-top-color: var(--fill-color);\n",
              "    }\n",
              "    30% {\n",
              "      border-color: transparent;\n",
              "      border-left-color: var(--fill-color);\n",
              "      border-top-color: var(--fill-color);\n",
              "      border-right-color: var(--fill-color);\n",
              "    }\n",
              "    40% {\n",
              "      border-color: transparent;\n",
              "      border-right-color: var(--fill-color);\n",
              "      border-top-color: var(--fill-color);\n",
              "    }\n",
              "    60% {\n",
              "      border-color: transparent;\n",
              "      border-right-color: var(--fill-color);\n",
              "    }\n",
              "    80% {\n",
              "      border-color: transparent;\n",
              "      border-right-color: var(--fill-color);\n",
              "      border-bottom-color: var(--fill-color);\n",
              "    }\n",
              "    90% {\n",
              "      border-color: transparent;\n",
              "      border-bottom-color: var(--fill-color);\n",
              "    }\n",
              "  }\n",
              "</style>\n",
              "\n",
              "  <script>\n",
              "    async function quickchart(key) {\n",
              "      const quickchartButtonEl =\n",
              "        document.querySelector('#' + key + ' button');\n",
              "      quickchartButtonEl.disabled = true;  // To prevent multiple clicks.\n",
              "      quickchartButtonEl.classList.add('colab-df-spinner');\n",
              "      try {\n",
              "        const charts = await google.colab.kernel.invokeFunction(\n",
              "            'suggestCharts', [key], {});\n",
              "      } catch (error) {\n",
              "        console.error('Error during call to suggestCharts:', error);\n",
              "      }\n",
              "      quickchartButtonEl.classList.remove('colab-df-spinner');\n",
              "      quickchartButtonEl.classList.add('colab-df-quickchart-complete');\n",
              "    }\n",
              "    (() => {\n",
              "      let quickchartButtonEl =\n",
              "        document.querySelector('#df-b6a32ab1-6599-42df-a3a3-38b7f0c56e2e button');\n",
              "      quickchartButtonEl.style.display =\n",
              "        google.colab.kernel.accessAllowed ? 'block' : 'none';\n",
              "    })();\n",
              "  </script>\n",
              "</div>\n",
              "    </div>\n",
              "  </div>\n"
            ]
          },
          "metadata": {},
          "execution_count": 84
        }
      ]
    },
    {
      "cell_type": "code",
      "source": [
        "df.head()"
      ],
      "metadata": {
        "id": "2z5AAIxSmC97"
      },
      "execution_count": null,
      "outputs": []
    },
    {
      "cell_type": "code",
      "source": [
        "tr_df, validate = train_test_split(df, test_size=0.2, random_state=42, stratify=df['sentiment'])\n",
        "train, test = train_test_split(tr_df, test_size=0.25, random_state=42, stratify=tr_df['sentiment'])\n",
        "train_df.shape[0], val_df.shape[0], test_df.shape[0]"
      ],
      "metadata": {
        "id": "QxStgkrx8uhx"
      },
      "execution_count": null,
      "outputs": []
    },
    {
      "cell_type": "code",
      "source": [
        "train, validate, test = train_validate_test_split(df, train_percent=.6, validate_percent=.2, seed=42)\n",
        "train.shape[0], validate.shape[0], test.shape[0]"
      ],
      "metadata": {
        "colab": {
          "base_uri": "https://localhost:8080/"
        },
        "id": "TLodQqmPNETR",
        "outputId": "ab8fcbfd-6ba7-4d7d-bc84-661d5750097a"
      },
      "execution_count": null,
      "outputs": [
        {
          "output_type": "execute_result",
          "data": {
            "text/plain": [
              "(4152, 1384, 1385)"
            ]
          },
          "metadata": {},
          "execution_count": 85
        }
      ]
    },
    {
      "cell_type": "code",
      "source": [
        "path_txt = '/content/drive/MyDrive/Media108/TXT_DATA/'\n",
        "train.to_csv(path_txt +'sentiment.train.fasttext',\n",
        "             sep=' ',\n",
        "             index=False,\n",
        "             header=None)\n",
        "validate.to_csv(path_txt +'sentiment.validate.fasttext',\n",
        "                sep=' ',\n",
        "                index=False,\n",
        "                header=None)\n",
        "test.to_csv(path_txt +'sentiment.test.fasttext',\n",
        "            sep=' ',\n",
        "            index=False,\n",
        "            header=None)\n"
      ],
      "metadata": {
        "id": "pCelBKFWN2E1"
      },
      "execution_count": null,
      "outputs": []
    },
    {
      "cell_type": "code",
      "source": [
        "del corpus\n",
        "corpus: Corpus = ClassificationCorpus(\n",
        "    path_txt,\n",
        "    train_file='sentiment.train.fasttext',\n",
        "    dev_file='sentiment.validate.fasttext',\n",
        "    test_file='sentiment.test.fasttext')\n",
        "#    in_memory=False)"
      ],
      "metadata": {
        "colab": {
          "base_uri": "https://localhost:8080/"
        },
        "id": "nWKQz8XKOZBd",
        "outputId": "11374ad7-ce64-4d81-9472-0ee822356274"
      },
      "execution_count": null,
      "outputs": [
        {
          "output_type": "stream",
          "name": "stdout",
          "text": [
            "2023-11-02 10:33:54,243 Reading data from /content/drive/MyDrive/Media108/TXT_DATA\n",
            "2023-11-02 10:33:54,246 Train: /content/drive/MyDrive/Media108/TXT_DATA/sentiment.train.fasttext\n",
            "2023-11-02 10:33:54,250 Dev: /content/drive/MyDrive/Media108/TXT_DATA/sentiment.validate.fasttext\n",
            "2023-11-02 10:33:54,253 Test: /content/drive/MyDrive/Media108/TXT_DATA/sentiment.test.fasttext\n",
            "2023-11-02 10:33:55,402 Initialized corpus /content/drive/MyDrive/Media108/TXT_DATA/ (label type name is 'class')\n"
          ]
        }
      ]
    },
    {
      "cell_type": "code",
      "source": [
        "print(len(corpus.train), len(corpus.dev), len(corpus.test), sep=', ')"
      ],
      "metadata": {
        "colab": {
          "base_uri": "https://localhost:8080/"
        },
        "id": "_gJUYq8aPFa9",
        "outputId": "247687b7-367f-44fa-b9d9-515ccf386506"
      },
      "execution_count": null,
      "outputs": [
        {
          "output_type": "stream",
          "name": "stdout",
          "text": [
            "4152, 1384, 1385\n"
          ]
        }
      ]
    },
    {
      "cell_type": "code",
      "source": [
        "corpus.train.tokenizer"
      ],
      "metadata": {
        "colab": {
          "base_uri": "https://localhost:8080/"
        },
        "id": "KQgRhz-Xg2xk",
        "outputId": "c52edb74-5cf7-4d4a-996d-f2de30987d81"
      },
      "execution_count": null,
      "outputs": [
        {
          "output_type": "execute_result",
          "data": {
            "text/plain": [
              "<flair.tokenization.SegtokTokenizer at 0x78936fd864d0>"
            ]
          },
          "metadata": {},
          "execution_count": 90
        }
      ]
    },
    {
      "cell_type": "code",
      "source": [
        "label_dict = corpus.make_label_dictionary(label_type='class')"
      ],
      "metadata": {
        "colab": {
          "base_uri": "https://localhost:8080/"
        },
        "id": "T_RdYqjSPL21",
        "outputId": "8e79949b-1cef-44a7-f477-b7fcceee78ec"
      },
      "execution_count": null,
      "outputs": [
        {
          "output_type": "stream",
          "name": "stdout",
          "text": [
            "2023-11-02 10:34:08,154 Computing label dictionary. Progress:\n"
          ]
        },
        {
          "output_type": "stream",
          "name": "stderr",
          "text": [
            "0it [00:00, ?it/s]\n",
            "4152it [00:32, 127.97it/s]"
          ]
        },
        {
          "output_type": "stream",
          "name": "stdout",
          "text": [
            "2023-11-02 10:34:40,620 Dictionary created for label 'class' with 2 values: 0 (seen 2786 times), 1 (seen 1366 times)\n"
          ]
        },
        {
          "output_type": "stream",
          "name": "stderr",
          "text": [
            "\n"
          ]
        }
      ]
    },
    {
      "cell_type": "code",
      "source": [
        "bpe = BytePairEmbeddings(language='ru', dim=100, syllables=50000)"
      ],
      "metadata": {
        "colab": {
          "base_uri": "https://localhost:8080/"
        },
        "id": "hf5KwpzwmYcx",
        "outputId": "58377468-d84e-4b1f-bd0e-52f00e4ab11c"
      },
      "execution_count": null,
      "outputs": [
        {
          "output_type": "stream",
          "name": "stdout",
          "text": [
            "downloading https://nlp.h-its.org/bpemb/ru/ru.wiki.bpe.vs50000.model\n"
          ]
        },
        {
          "output_type": "stream",
          "name": "stderr",
          "text": [
            "100%|██████████| 1404906/1404906 [00:00<00:00, 2268205.51B/s]\n"
          ]
        },
        {
          "output_type": "stream",
          "name": "stdout",
          "text": [
            "downloading https://nlp.h-its.org/bpemb/ru/ru.wiki.bpe.vs50000.d100.w2v.bin.tar.gz\n"
          ]
        },
        {
          "output_type": "stream",
          "name": "stderr",
          "text": [
            "100%|██████████| 19076003/19076003 [00:01<00:00, 15333770.36B/s]\n"
          ]
        }
      ]
    },
    {
      "cell_type": "code",
      "source": [
        "document_emb = DocumentPoolEmbeddings([bpe], fine_tune_mode='nonlinear')"
      ],
      "metadata": {
        "id": "rdBpzZH6mksa"
      },
      "execution_count": null,
      "outputs": []
    },
    {
      "cell_type": "code",
      "source": [
        "print(document_emb)"
      ],
      "metadata": {
        "colab": {
          "base_uri": "https://localhost:8080/"
        },
        "id": "YQN4YhPCmon3",
        "outputId": "1e4a3785-8105-4dfa-d8b6-6b3593d4c509"
      },
      "execution_count": null,
      "outputs": [
        {
          "output_type": "stream",
          "name": "stdout",
          "text": [
            "DocumentPoolEmbeddings(\n",
            "  fine_tune_mode=nonlinear, pooling=mean\n",
            "  (embeddings): StackedEmbeddings(\n",
            "    (list_embedding_0): BytePairEmbeddings(model=0-bpe-ru-50000-100)\n",
            "  )\n",
            "  (embedding_flex): Linear(in_features=200, out_features=200, bias=False)\n",
            "  (embedding_flex_nonlinear): ReLU()\n",
            "  (embedding_flex_nonlinear_map): Linear(in_features=200, out_features=200, bias=True)\n",
            ")\n"
          ]
        }
      ]
    },
    {
      "cell_type": "code",
      "source": [
        "# Инициализируем текстовый классификатор\n",
        "classifier = TextClassifier(document_emb, label_dictionary=label_dict,label_type='class')\n",
        "\n",
        "# По умолчанию в качестве оптимизатора используется SGD.\n",
        "# Мы будем использовать его, поэтому не указываем явно тип оптимизатора:\n",
        "trainer = ModelTrainer(classifier, corpus)\n",
        "\n",
        "# Если же нужно использовать какой-то иной алгоритм, его нужно указать:\n",
        "#\n",
        "# from torch.optim.adam import Adam\n",
        "# trainer = ModelTrainer(classifier, corpus, optimizer=Adam)\n"
      ],
      "metadata": {
        "id": "VDgU-2vHm6Mb"
      },
      "execution_count": null,
      "outputs": []
    },
    {
      "cell_type": "code",
      "source": [
        "trainer.train(\n",
        "    path_dir+'/model',\n",
        "    learning_rate=0.1,\n",
        "    mini_batch_size=64,\n",
        "    anneal_factor=0.5,\n",
        "    patience=5,\n",
        "    max_epochs=20)\n",
        "#    monitor_train=True)"
      ],
      "metadata": {
        "colab": {
          "base_uri": "https://localhost:8080/"
        },
        "id": "dKNEoazznZY8",
        "outputId": "787292ec-b736-4ec5-e205-ad5ba6862b6b"
      },
      "execution_count": null,
      "outputs": [
        {
          "output_type": "stream",
          "name": "stdout",
          "text": [
            "2023-11-02 10:41:25,919 ----------------------------------------------------------------------------------------------------\n",
            "2023-11-02 10:41:25,927 Model: \"TextClassifier(\n",
            "  (embeddings): DocumentPoolEmbeddings(\n",
            "    fine_tune_mode=nonlinear, pooling=mean\n",
            "    (embeddings): StackedEmbeddings(\n",
            "      (list_embedding_0): BytePairEmbeddings(model=0-bpe-ru-50000-100)\n",
            "    )\n",
            "    (embedding_flex): Linear(in_features=200, out_features=200, bias=False)\n",
            "    (embedding_flex_nonlinear): ReLU()\n",
            "    (embedding_flex_nonlinear_map): Linear(in_features=200, out_features=200, bias=True)\n",
            "  )\n",
            "  (decoder): Linear(in_features=200, out_features=2, bias=True)\n",
            "  (dropout): Dropout(p=0.0, inplace=False)\n",
            "  (locked_dropout): LockedDropout(p=0.0)\n",
            "  (word_dropout): WordDropout(p=0.0)\n",
            "  (loss_function): CrossEntropyLoss()\n",
            "  (weights): None\n",
            "  (weight_tensor) None\n",
            ")\"\n",
            "2023-11-02 10:41:25,932 ----------------------------------------------------------------------------------------------------\n",
            "2023-11-02 10:41:25,937 Corpus: 4152 train + 1384 dev + 1385 test sentences\n",
            "2023-11-02 10:41:25,942 ----------------------------------------------------------------------------------------------------\n",
            "2023-11-02 10:41:25,946 Train:  4152 sentences\n",
            "2023-11-02 10:41:25,949         (train_with_dev=False, train_with_test=False)\n",
            "2023-11-02 10:41:25,951 ----------------------------------------------------------------------------------------------------\n",
            "2023-11-02 10:41:25,953 Training Params:\n",
            "2023-11-02 10:41:25,958  - learning_rate: \"0.1\" \n",
            "2023-11-02 10:41:25,960  - mini_batch_size: \"64\"\n",
            "2023-11-02 10:41:25,962  - max_epochs: \"20\"\n",
            "2023-11-02 10:41:25,974  - shuffle: \"True\"\n",
            "2023-11-02 10:41:25,978 ----------------------------------------------------------------------------------------------------\n",
            "2023-11-02 10:41:25,980 Plugins:\n",
            "2023-11-02 10:41:25,982  - AnnealOnPlateau | patience: '5', anneal_factor: '0.5', min_learning_rate: '0.0001'\n",
            "2023-11-02 10:41:25,986 ----------------------------------------------------------------------------------------------------\n",
            "2023-11-02 10:41:25,988 Final evaluation on model from best epoch (best-model.pt)\n",
            "2023-11-02 10:41:25,993  - metric: \"('micro avg', 'f1-score')\"\n",
            "2023-11-02 10:41:25,995 ----------------------------------------------------------------------------------------------------\n",
            "2023-11-02 10:41:25,996 Computation:\n",
            "2023-11-02 10:41:26,001  - compute on device: cpu\n",
            "2023-11-02 10:41:26,003  - embedding storage: cpu\n",
            "2023-11-02 10:41:26,005 ----------------------------------------------------------------------------------------------------\n",
            "2023-11-02 10:41:26,007 Model training base path: \"/content/drive/MyDrive/Media108/model\"\n",
            "2023-11-02 10:41:26,012 ----------------------------------------------------------------------------------------------------\n",
            "2023-11-02 10:41:26,014 ----------------------------------------------------------------------------------------------------\n",
            "2023-11-02 10:41:36,792 epoch 1 - iter 6/65 - loss 0.70121701 - time (sec): 10.78 - samples/sec: 35.64 - lr: 0.100000 - momentum: 0.000000\n",
            "2023-11-02 10:41:50,710 epoch 1 - iter 12/65 - loss 0.59589470 - time (sec): 24.69 - samples/sec: 31.10 - lr: 0.100000 - momentum: 0.000000\n",
            "2023-11-02 10:42:05,836 epoch 1 - iter 18/65 - loss 0.57314331 - time (sec): 39.82 - samples/sec: 28.93 - lr: 0.100000 - momentum: 0.000000\n",
            "2023-11-02 10:42:18,625 epoch 1 - iter 24/65 - loss 0.54763482 - time (sec): 52.61 - samples/sec: 29.20 - lr: 0.100000 - momentum: 0.000000\n",
            "2023-11-02 10:42:33,341 epoch 1 - iter 30/65 - loss 0.51271084 - time (sec): 67.33 - samples/sec: 28.52 - lr: 0.100000 - momentum: 0.000000\n",
            "2023-11-02 10:42:45,171 epoch 1 - iter 36/65 - loss 0.49083250 - time (sec): 79.16 - samples/sec: 29.11 - lr: 0.100000 - momentum: 0.000000\n",
            "2023-11-02 10:42:59,324 epoch 1 - iter 42/65 - loss 0.48757622 - time (sec): 93.31 - samples/sec: 28.81 - lr: 0.100000 - momentum: 0.000000\n",
            "2023-11-02 10:43:14,626 epoch 1 - iter 48/65 - loss 0.48452671 - time (sec): 108.61 - samples/sec: 28.28 - lr: 0.100000 - momentum: 0.000000\n",
            "2023-11-02 10:43:28,365 epoch 1 - iter 54/65 - loss 0.47980630 - time (sec): 122.35 - samples/sec: 28.25 - lr: 0.100000 - momentum: 0.000000\n",
            "2023-11-02 10:43:42,318 epoch 1 - iter 60/65 - loss 0.47055706 - time (sec): 136.30 - samples/sec: 28.17 - lr: 0.100000 - momentum: 0.000000\n",
            "2023-11-02 10:43:51,822 ----------------------------------------------------------------------------------------------------\n",
            "2023-11-02 10:43:51,825 EPOCH 1 done: loss 0.4666 - lr: 0.100000\n"
          ]
        },
        {
          "output_type": "stream",
          "name": "stderr",
          "text": [
            "100%|██████████| 22/22 [00:49<00:00,  2.25s/it]"
          ]
        },
        {
          "output_type": "stream",
          "name": "stdout",
          "text": [
            "2023-11-02 10:44:41,505 DEV : loss 0.3398153781890869 - f1-score (micro avg)  0.8642\n"
          ]
        },
        {
          "output_type": "stream",
          "name": "stderr",
          "text": [
            "\n"
          ]
        },
        {
          "output_type": "stream",
          "name": "stdout",
          "text": [
            "2023-11-02 10:44:53,325  - 0 epochs without improvement\n",
            "2023-11-02 10:44:53,337  - 0 epochs without improvement\n",
            "2023-11-02 10:44:53,346  - 0 epochs without improvement\n",
            "2023-11-02 10:44:53,352 saving best model\n",
            "2023-11-02 10:44:53,563 ----------------------------------------------------------------------------------------------------\n",
            "2023-11-02 10:45:05,447 epoch 2 - iter 6/65 - loss 0.42350951 - time (sec): 11.88 - samples/sec: 32.32 - lr: 0.100000 - momentum: 0.000000\n",
            "2023-11-02 10:45:19,671 epoch 2 - iter 12/65 - loss 0.36406454 - time (sec): 26.10 - samples/sec: 29.42 - lr: 0.100000 - momentum: 0.000000\n",
            "2023-11-02 10:45:32,114 epoch 2 - iter 18/65 - loss 0.36210871 - time (sec): 38.55 - samples/sec: 29.88 - lr: 0.100000 - momentum: 0.000000\n",
            "2023-11-02 10:45:49,483 epoch 2 - iter 24/65 - loss 0.34937122 - time (sec): 55.92 - samples/sec: 27.47 - lr: 0.100000 - momentum: 0.000000\n",
            "2023-11-02 10:46:02,617 epoch 2 - iter 30/65 - loss 0.37336042 - time (sec): 69.05 - samples/sec: 27.81 - lr: 0.100000 - momentum: 0.000000\n",
            "2023-11-02 10:46:15,247 epoch 2 - iter 36/65 - loss 0.36598110 - time (sec): 81.68 - samples/sec: 28.21 - lr: 0.100000 - momentum: 0.000000\n",
            "2023-11-02 10:46:28,668 epoch 2 - iter 42/65 - loss 0.37093954 - time (sec): 95.10 - samples/sec: 28.26 - lr: 0.100000 - momentum: 0.000000\n",
            "2023-11-02 10:46:42,300 epoch 2 - iter 48/65 - loss 0.36890987 - time (sec): 108.73 - samples/sec: 28.25 - lr: 0.100000 - momentum: 0.000000\n",
            "2023-11-02 10:46:56,309 epoch 2 - iter 54/65 - loss 0.36969785 - time (sec): 122.74 - samples/sec: 28.16 - lr: 0.100000 - momentum: 0.000000\n",
            "2023-11-02 10:47:08,712 epoch 2 - iter 60/65 - loss 0.37334598 - time (sec): 135.15 - samples/sec: 28.41 - lr: 0.100000 - momentum: 0.000000\n",
            "2023-11-02 10:47:20,807 ----------------------------------------------------------------------------------------------------\n",
            "2023-11-02 10:47:20,815 EPOCH 2 done: loss 0.3750 - lr: 0.100000\n"
          ]
        },
        {
          "output_type": "stream",
          "name": "stderr",
          "text": [
            "100%|██████████| 22/22 [00:48<00:00,  2.18s/it]"
          ]
        },
        {
          "output_type": "stream",
          "name": "stdout",
          "text": [
            "2023-11-02 10:48:08,940 DEV : loss 0.3345772325992584 - f1-score (micro avg)  0.8642\n"
          ]
        },
        {
          "output_type": "stream",
          "name": "stderr",
          "text": [
            "\n"
          ]
        },
        {
          "output_type": "stream",
          "name": "stdout",
          "text": [
            "2023-11-02 10:48:20,021  - 0 epochs without improvement\n",
            "2023-11-02 10:48:20,033  - 0 epochs without improvement\n",
            "2023-11-02 10:48:20,043  - 0 epochs without improvement\n",
            "2023-11-02 10:48:20,051 ----------------------------------------------------------------------------------------------------\n",
            "2023-11-02 10:48:35,188 epoch 3 - iter 6/65 - loss 0.33520414 - time (sec): 15.13 - samples/sec: 25.38 - lr: 0.100000 - momentum: 0.000000\n",
            "2023-11-02 10:48:46,505 epoch 3 - iter 12/65 - loss 0.33169274 - time (sec): 26.45 - samples/sec: 29.04 - lr: 0.100000 - momentum: 0.000000\n",
            "2023-11-02 10:49:00,019 epoch 3 - iter 18/65 - loss 0.33328718 - time (sec): 39.96 - samples/sec: 28.83 - lr: 0.100000 - momentum: 0.000000\n",
            "2023-11-02 10:49:13,827 epoch 3 - iter 24/65 - loss 0.34221459 - time (sec): 53.77 - samples/sec: 28.57 - lr: 0.100000 - momentum: 0.000000\n",
            "2023-11-02 10:49:27,897 epoch 3 - iter 30/65 - loss 0.34193264 - time (sec): 67.84 - samples/sec: 28.30 - lr: 0.100000 - momentum: 0.000000\n",
            "2023-11-02 10:49:42,284 epoch 3 - iter 36/65 - loss 0.34750278 - time (sec): 82.23 - samples/sec: 28.02 - lr: 0.100000 - momentum: 0.000000\n",
            "2023-11-02 10:49:59,075 epoch 3 - iter 42/65 - loss 0.35160005 - time (sec): 99.02 - samples/sec: 27.15 - lr: 0.100000 - momentum: 0.000000\n",
            "2023-11-02 10:50:12,932 epoch 3 - iter 48/65 - loss 0.35636208 - time (sec): 112.87 - samples/sec: 27.22 - lr: 0.100000 - momentum: 0.000000\n",
            "2023-11-02 10:50:26,680 epoch 3 - iter 54/65 - loss 0.36076862 - time (sec): 126.62 - samples/sec: 27.29 - lr: 0.100000 - momentum: 0.000000\n",
            "2023-11-02 10:50:39,790 epoch 3 - iter 60/65 - loss 0.36056289 - time (sec): 139.73 - samples/sec: 27.48 - lr: 0.100000 - momentum: 0.000000\n",
            "2023-11-02 10:50:48,546 ----------------------------------------------------------------------------------------------------\n",
            "2023-11-02 10:50:48,554 EPOCH 3 done: loss 0.3597 - lr: 0.100000\n"
          ]
        },
        {
          "output_type": "stream",
          "name": "stderr",
          "text": [
            "100%|██████████| 22/22 [00:48<00:00,  2.19s/it]"
          ]
        },
        {
          "output_type": "stream",
          "name": "stdout",
          "text": [
            "2023-11-02 10:51:36,783 DEV : loss 0.31349432468414307 - f1-score (micro avg)  0.8829\n"
          ]
        },
        {
          "output_type": "stream",
          "name": "stderr",
          "text": [
            "\n"
          ]
        },
        {
          "output_type": "stream",
          "name": "stdout",
          "text": [
            "2023-11-02 10:51:48,457  - 0 epochs without improvement\n",
            "2023-11-02 10:51:48,470  - 0 epochs without improvement\n",
            "2023-11-02 10:51:48,480  - 0 epochs without improvement\n",
            "2023-11-02 10:51:48,490 saving best model\n",
            "2023-11-02 10:51:48,656 ----------------------------------------------------------------------------------------------------\n",
            "2023-11-02 10:52:00,259 epoch 4 - iter 6/65 - loss 0.36258537 - time (sec): 11.58 - samples/sec: 33.17 - lr: 0.100000 - momentum: 0.000000\n",
            "2023-11-02 10:52:15,659 epoch 4 - iter 12/65 - loss 0.33460017 - time (sec): 26.98 - samples/sec: 28.47 - lr: 0.100000 - momentum: 0.000000\n",
            "2023-11-02 10:52:29,859 epoch 4 - iter 18/65 - loss 0.34464381 - time (sec): 41.18 - samples/sec: 27.98 - lr: 0.100000 - momentum: 0.000000\n",
            "2023-11-02 10:52:44,310 epoch 4 - iter 24/65 - loss 0.34259657 - time (sec): 55.63 - samples/sec: 27.61 - lr: 0.100000 - momentum: 0.000000\n",
            "2023-11-02 10:53:00,437 epoch 4 - iter 30/65 - loss 0.33904046 - time (sec): 71.76 - samples/sec: 26.76 - lr: 0.100000 - momentum: 0.000000\n",
            "2023-11-02 10:53:14,687 epoch 4 - iter 36/65 - loss 0.33521744 - time (sec): 86.01 - samples/sec: 26.79 - lr: 0.100000 - momentum: 0.000000\n",
            "2023-11-02 10:53:25,194 epoch 4 - iter 42/65 - loss 0.34290967 - time (sec): 96.51 - samples/sec: 27.85 - lr: 0.100000 - momentum: 0.000000\n",
            "2023-11-02 10:53:38,743 epoch 4 - iter 48/65 - loss 0.33787346 - time (sec): 110.06 - samples/sec: 27.91 - lr: 0.100000 - momentum: 0.000000\n",
            "2023-11-02 10:53:53,481 epoch 4 - iter 54/65 - loss 0.33748774 - time (sec): 124.80 - samples/sec: 27.69 - lr: 0.100000 - momentum: 0.000000\n",
            "2023-11-02 10:54:06,062 epoch 4 - iter 60/65 - loss 0.34138066 - time (sec): 137.38 - samples/sec: 27.95 - lr: 0.100000 - momentum: 0.000000\n",
            "2023-11-02 10:54:18,224 ----------------------------------------------------------------------------------------------------\n",
            "2023-11-02 10:54:18,234 EPOCH 4 done: loss 0.3421 - lr: 0.100000\n"
          ]
        },
        {
          "output_type": "stream",
          "name": "stderr",
          "text": [
            "100%|██████████| 22/22 [00:51<00:00,  2.33s/it]"
          ]
        },
        {
          "output_type": "stream",
          "name": "stdout",
          "text": [
            "2023-11-02 10:55:09,697 DEV : loss 0.3046844005584717 - f1-score (micro avg)  0.8923\n"
          ]
        },
        {
          "output_type": "stream",
          "name": "stderr",
          "text": [
            "\n"
          ]
        },
        {
          "output_type": "stream",
          "name": "stdout",
          "text": [
            "2023-11-02 10:55:20,747  - 0 epochs without improvement\n",
            "2023-11-02 10:55:20,759  - 0 epochs without improvement\n",
            "2023-11-02 10:55:20,768  - 0 epochs without improvement\n",
            "2023-11-02 10:55:20,777 saving best model\n",
            "2023-11-02 10:55:20,933 ----------------------------------------------------------------------------------------------------\n",
            "2023-11-02 10:55:35,160 epoch 5 - iter 6/65 - loss 0.38642455 - time (sec): 14.20 - samples/sec: 27.04 - lr: 0.100000 - momentum: 0.000000\n",
            "2023-11-02 10:55:47,718 epoch 5 - iter 12/65 - loss 0.31802468 - time (sec): 26.76 - samples/sec: 28.70 - lr: 0.100000 - momentum: 0.000000\n",
            "2023-11-02 10:56:00,625 epoch 5 - iter 18/65 - loss 0.31354293 - time (sec): 39.67 - samples/sec: 29.04 - lr: 0.100000 - momentum: 0.000000\n",
            "2023-11-02 10:56:16,262 epoch 5 - iter 24/65 - loss 0.33166208 - time (sec): 55.30 - samples/sec: 27.77 - lr: 0.100000 - momentum: 0.000000\n",
            "2023-11-02 10:56:31,095 epoch 5 - iter 30/65 - loss 0.34768705 - time (sec): 70.14 - samples/sec: 27.38 - lr: 0.100000 - momentum: 0.000000\n",
            "2023-11-02 10:56:45,533 epoch 5 - iter 36/65 - loss 0.35306221 - time (sec): 84.58 - samples/sec: 27.24 - lr: 0.100000 - momentum: 0.000000\n",
            "2023-11-02 10:56:58,984 epoch 5 - iter 42/65 - loss 0.35629356 - time (sec): 98.03 - samples/sec: 27.42 - lr: 0.100000 - momentum: 0.000000\n",
            "2023-11-02 10:57:12,319 epoch 5 - iter 48/65 - loss 0.35267150 - time (sec): 111.36 - samples/sec: 27.59 - lr: 0.100000 - momentum: 0.000000\n",
            "2023-11-02 10:57:26,285 epoch 5 - iter 54/65 - loss 0.34679497 - time (sec): 125.33 - samples/sec: 27.58 - lr: 0.100000 - momentum: 0.000000\n",
            "2023-11-02 10:57:39,819 epoch 5 - iter 60/65 - loss 0.33912646 - time (sec): 138.86 - samples/sec: 27.65 - lr: 0.100000 - momentum: 0.000000\n",
            "2023-11-02 10:57:50,600 ----------------------------------------------------------------------------------------------------\n",
            "2023-11-02 10:57:50,605 EPOCH 5 done: loss 0.3369 - lr: 0.100000\n"
          ]
        },
        {
          "output_type": "stream",
          "name": "stderr",
          "text": [
            "100%|██████████| 22/22 [00:49<00:00,  2.24s/it]"
          ]
        },
        {
          "output_type": "stream",
          "name": "stdout",
          "text": [
            "2023-11-02 10:58:40,027 DEV : loss 0.33497491478919983 - f1-score (micro avg)  0.8801\n"
          ]
        },
        {
          "output_type": "stream",
          "name": "stderr",
          "text": [
            "\n"
          ]
        },
        {
          "output_type": "stream",
          "name": "stdout",
          "text": [
            "2023-11-02 10:58:50,977  - 1 epochs without improvement\n",
            "2023-11-02 10:58:50,988  - 1 epochs without improvement\n",
            "2023-11-02 10:58:50,998  - 1 epochs without improvement\n",
            "2023-11-02 10:58:51,007 ----------------------------------------------------------------------------------------------------\n",
            "2023-11-02 10:59:05,031 epoch 6 - iter 6/65 - loss 0.38969692 - time (sec): 14.02 - samples/sec: 27.40 - lr: 0.100000 - momentum: 0.000000\n",
            "2023-11-02 10:59:20,600 epoch 6 - iter 12/65 - loss 0.36465091 - time (sec): 29.59 - samples/sec: 25.96 - lr: 0.100000 - momentum: 0.000000\n",
            "2023-11-02 10:59:32,516 epoch 6 - iter 18/65 - loss 0.32816602 - time (sec): 41.50 - samples/sec: 27.76 - lr: 0.100000 - momentum: 0.000000\n",
            "2023-11-02 10:59:44,678 epoch 6 - iter 24/65 - loss 0.32148172 - time (sec): 53.66 - samples/sec: 28.62 - lr: 0.100000 - momentum: 0.000000\n",
            "2023-11-02 10:59:58,685 epoch 6 - iter 30/65 - loss 0.31623491 - time (sec): 67.67 - samples/sec: 28.37 - lr: 0.100000 - momentum: 0.000000\n",
            "2023-11-02 11:00:11,860 epoch 6 - iter 36/65 - loss 0.31251103 - time (sec): 80.85 - samples/sec: 28.50 - lr: 0.100000 - momentum: 0.000000\n",
            "2023-11-02 11:00:22,761 epoch 6 - iter 42/65 - loss 0.31469705 - time (sec): 91.75 - samples/sec: 29.30 - lr: 0.100000 - momentum: 0.000000\n",
            "2023-11-02 11:00:37,747 epoch 6 - iter 48/65 - loss 0.30911960 - time (sec): 106.73 - samples/sec: 28.78 - lr: 0.100000 - momentum: 0.000000\n",
            "2023-11-02 11:00:52,040 epoch 6 - iter 54/65 - loss 0.32393875 - time (sec): 121.03 - samples/sec: 28.56 - lr: 0.100000 - momentum: 0.000000\n",
            "2023-11-02 11:01:05,462 epoch 6 - iter 60/65 - loss 0.31821809 - time (sec): 134.45 - samples/sec: 28.56 - lr: 0.100000 - momentum: 0.000000\n",
            "2023-11-02 11:01:16,630 ----------------------------------------------------------------------------------------------------\n",
            "2023-11-02 11:01:16,638 EPOCH 6 done: loss 0.3206 - lr: 0.100000\n"
          ]
        },
        {
          "output_type": "stream",
          "name": "stderr",
          "text": [
            "100%|██████████| 22/22 [00:47<00:00,  2.15s/it]"
          ]
        },
        {
          "output_type": "stream",
          "name": "stdout",
          "text": [
            "2023-11-02 11:02:04,003 DEV : loss 0.35170692205429077 - f1-score (micro avg)  0.8721\n"
          ]
        },
        {
          "output_type": "stream",
          "name": "stderr",
          "text": [
            "\n"
          ]
        },
        {
          "output_type": "stream",
          "name": "stdout",
          "text": [
            "2023-11-02 11:02:15,414  - 2 epochs without improvement\n",
            "2023-11-02 11:02:15,427  - 2 epochs without improvement\n",
            "2023-11-02 11:02:15,436  - 2 epochs without improvement\n",
            "2023-11-02 11:02:15,446 ----------------------------------------------------------------------------------------------------\n",
            "2023-11-02 11:02:31,226 epoch 7 - iter 6/65 - loss 0.29478136 - time (sec): 15.77 - samples/sec: 24.34 - lr: 0.100000 - momentum: 0.000000\n",
            "2023-11-02 11:02:45,741 epoch 7 - iter 12/65 - loss 0.30801099 - time (sec): 30.29 - samples/sec: 25.36 - lr: 0.100000 - momentum: 0.000000\n",
            "2023-11-02 11:03:01,896 epoch 7 - iter 18/65 - loss 0.30480283 - time (sec): 46.44 - samples/sec: 24.80 - lr: 0.100000 - momentum: 0.000000\n",
            "2023-11-02 11:03:13,009 epoch 7 - iter 24/65 - loss 0.31389778 - time (sec): 57.56 - samples/sec: 26.69 - lr: 0.100000 - momentum: 0.000000\n",
            "2023-11-02 11:03:28,045 epoch 7 - iter 30/65 - loss 0.32128576 - time (sec): 72.59 - samples/sec: 26.45 - lr: 0.100000 - momentum: 0.000000\n",
            "2023-11-02 11:03:46,408 epoch 7 - iter 36/65 - loss 0.32516104 - time (sec): 90.96 - samples/sec: 25.33 - lr: 0.100000 - momentum: 0.000000\n",
            "2023-11-02 11:04:02,571 epoch 7 - iter 42/65 - loss 0.32317958 - time (sec): 107.12 - samples/sec: 25.09 - lr: 0.100000 - momentum: 0.000000\n",
            "2023-11-02 11:04:19,249 epoch 7 - iter 48/65 - loss 0.33149919 - time (sec): 123.80 - samples/sec: 24.81 - lr: 0.100000 - momentum: 0.000000\n",
            "2023-11-02 11:04:35,559 epoch 7 - iter 54/65 - loss 0.32617840 - time (sec): 140.11 - samples/sec: 24.67 - lr: 0.100000 - momentum: 0.000000\n",
            "2023-11-02 11:04:52,094 epoch 7 - iter 60/65 - loss 0.32388939 - time (sec): 156.64 - samples/sec: 24.51 - lr: 0.100000 - momentum: 0.000000\n",
            "2023-11-02 11:05:05,160 ----------------------------------------------------------------------------------------------------\n",
            "2023-11-02 11:05:05,169 EPOCH 7 done: loss 0.3221 - lr: 0.100000\n"
          ]
        },
        {
          "output_type": "stream",
          "name": "stderr",
          "text": [
            "100%|██████████| 22/22 [00:47<00:00,  2.18s/it]"
          ]
        },
        {
          "output_type": "stream",
          "name": "stdout",
          "text": [
            "2023-11-02 11:05:53,262 DEV : loss 0.2997250556945801 - f1-score (micro avg)  0.8909\n"
          ]
        },
        {
          "output_type": "stream",
          "name": "stderr",
          "text": [
            "\n"
          ]
        },
        {
          "output_type": "stream",
          "name": "stdout",
          "text": [
            "2023-11-02 11:06:05,318  - 3 epochs without improvement\n",
            "2023-11-02 11:06:05,329  - 3 epochs without improvement\n",
            "2023-11-02 11:06:05,340  - 3 epochs without improvement\n",
            "2023-11-02 11:06:05,350 ----------------------------------------------------------------------------------------------------\n",
            "2023-11-02 11:06:20,593 epoch 8 - iter 6/65 - loss 0.26021998 - time (sec): 15.23 - samples/sec: 25.21 - lr: 0.100000 - momentum: 0.000000\n",
            "2023-11-02 11:06:36,868 epoch 8 - iter 12/65 - loss 0.29430663 - time (sec): 31.51 - samples/sec: 24.37 - lr: 0.100000 - momentum: 0.000000\n",
            "2023-11-02 11:06:53,858 epoch 8 - iter 18/65 - loss 0.30150620 - time (sec): 48.50 - samples/sec: 23.75 - lr: 0.100000 - momentum: 0.000000\n",
            "2023-11-02 11:07:03,533 epoch 8 - iter 24/65 - loss 0.30147329 - time (sec): 58.17 - samples/sec: 26.40 - lr: 0.100000 - momentum: 0.000000\n",
            "2023-11-02 11:07:19,288 epoch 8 - iter 30/65 - loss 0.30526812 - time (sec): 73.93 - samples/sec: 25.97 - lr: 0.100000 - momentum: 0.000000\n",
            "2023-11-02 11:07:34,616 epoch 8 - iter 36/65 - loss 0.30921638 - time (sec): 89.26 - samples/sec: 25.81 - lr: 0.100000 - momentum: 0.000000\n",
            "2023-11-02 11:07:47,636 epoch 8 - iter 42/65 - loss 0.31509980 - time (sec): 102.28 - samples/sec: 26.28 - lr: 0.100000 - momentum: 0.000000\n",
            "2023-11-02 11:08:02,641 epoch 8 - iter 48/65 - loss 0.31399812 - time (sec): 117.28 - samples/sec: 26.19 - lr: 0.100000 - momentum: 0.000000\n",
            "2023-11-02 11:08:13,143 epoch 8 - iter 54/65 - loss 0.30583611 - time (sec): 127.78 - samples/sec: 27.05 - lr: 0.100000 - momentum: 0.000000\n",
            "2023-11-02 11:08:27,070 epoch 8 - iter 60/65 - loss 0.31011522 - time (sec): 141.71 - samples/sec: 27.10 - lr: 0.100000 - momentum: 0.000000\n",
            "2023-11-02 11:08:37,931 ----------------------------------------------------------------------------------------------------\n",
            "2023-11-02 11:08:37,937 EPOCH 8 done: loss 0.3198 - lr: 0.100000\n"
          ]
        },
        {
          "output_type": "stream",
          "name": "stderr",
          "text": [
            "100%|██████████| 22/22 [00:47<00:00,  2.17s/it]"
          ]
        },
        {
          "output_type": "stream",
          "name": "stdout",
          "text": [
            "2023-11-02 11:09:25,750 DEV : loss 0.3427242934703827 - f1-score (micro avg)  0.8793\n"
          ]
        },
        {
          "output_type": "stream",
          "name": "stderr",
          "text": [
            "\n"
          ]
        },
        {
          "output_type": "stream",
          "name": "stdout",
          "text": [
            "2023-11-02 11:09:34,768  - 4 epochs without improvement\n",
            "2023-11-02 11:09:34,780  - 4 epochs without improvement\n",
            "2023-11-02 11:09:34,788  - 4 epochs without improvement\n",
            "2023-11-02 11:09:34,807 ----------------------------------------------------------------------------------------------------\n",
            "2023-11-02 11:09:36,440 ----------------------------------------------------------------------------------------------------\n",
            "2023-11-02 11:09:36,448 Exiting from training early.\n",
            "2023-11-02 11:09:36,451 Saving model ...\n",
            "2023-11-02 11:09:36,595 Done.\n",
            "2023-11-02 11:09:36,599 ----------------------------------------------------------------------------------------------------\n",
            "2023-11-02 11:09:36,603 Loading model from best epoch ...\n"
          ]
        },
        {
          "output_type": "stream",
          "name": "stderr",
          "text": [
            "100%|██████████| 22/22 [00:48<00:00,  2.22s/it]"
          ]
        },
        {
          "output_type": "stream",
          "name": "stdout",
          "text": [
            "2023-11-02 11:10:26,686 \n",
            "Results:\n",
            "- F-score (micro) 0.8816\n",
            "- F-score (macro) 0.8704\n",
            "- Accuracy 0.8816\n",
            "\n",
            "By class:\n",
            "              precision    recall  f1-score   support\n",
            "\n",
            "           0     0.9532    0.8678    0.9085       938\n",
            "           1     0.7665    0.9105    0.8323       447\n",
            "\n",
            "    accuracy                         0.8816      1385\n",
            "   macro avg     0.8598    0.8892    0.8704      1385\n",
            "weighted avg     0.8929    0.8816    0.8839      1385\n",
            "\n",
            "2023-11-02 11:10:26,693 ----------------------------------------------------------------------------------------------------\n"
          ]
        },
        {
          "output_type": "stream",
          "name": "stderr",
          "text": [
            "\n"
          ]
        },
        {
          "output_type": "execute_result",
          "data": {
            "text/plain": [
              "{'test_score': 0.8815884476534296}"
            ]
          },
          "metadata": {},
          "execution_count": 103
        }
      ]
    },
    {
      "cell_type": "markdown",
      "source": [],
      "metadata": {
        "id": "iPf2k8G80xwr"
      }
    },
    {
      "cell_type": "markdown",
      "source": [
        "## Эксперимент 2\n",
        "\n",
        "используется колонка \"Target\""
      ],
      "metadata": {
        "id": "vkxTAXXNu7Lu"
      }
    },
    {
      "cell_type": "code",
      "source": [
        "#del df\n",
        "df = df_all[['Текст_whisper','Target']].copy()"
      ],
      "metadata": {
        "id": "zDuENJ7pu7Lv"
      },
      "execution_count": null,
      "outputs": []
    },
    {
      "cell_type": "code",
      "source": [
        "df = df.rename(columns={'Текст_whisper': 'text', 'Target': 'sentiment'})"
      ],
      "metadata": {
        "id": "fRutiKy_u7Lw"
      },
      "execution_count": null,
      "outputs": []
    },
    {
      "cell_type": "code",
      "source": [
        "df.head()"
      ],
      "metadata": {
        "colab": {
          "base_uri": "https://localhost:8080/",
          "height": 206
        },
        "outputId": "5cece43a-7a9e-46a2-9db9-003c8ca934b9",
        "id": "03cmqzIGu7Lx"
      },
      "execution_count": null,
      "outputs": [
        {
          "output_type": "execute_result",
          "data": {
            "text/plain": [
              "                                                text  sentiment\n",
              "0                                          безответа          0\n",
              "1                                       здравствуйте          0\n",
              "2  здравствуйте вы позвонили в компанию эмргрупп ...          0\n",
              "3                                       здравствуйте          0\n",
              "4  здравствуйте вы позвонили в группу компании ка...          1"
            ],
            "text/html": [
              "\n",
              "  <div id=\"df-f3e453df-fb33-4f20-a2e5-daccd1dc7b32\" class=\"colab-df-container\">\n",
              "    <div>\n",
              "<style scoped>\n",
              "    .dataframe tbody tr th:only-of-type {\n",
              "        vertical-align: middle;\n",
              "    }\n",
              "\n",
              "    .dataframe tbody tr th {\n",
              "        vertical-align: top;\n",
              "    }\n",
              "\n",
              "    .dataframe thead th {\n",
              "        text-align: right;\n",
              "    }\n",
              "</style>\n",
              "<table border=\"1\" class=\"dataframe\">\n",
              "  <thead>\n",
              "    <tr style=\"text-align: right;\">\n",
              "      <th></th>\n",
              "      <th>text</th>\n",
              "      <th>sentiment</th>\n",
              "    </tr>\n",
              "  </thead>\n",
              "  <tbody>\n",
              "    <tr>\n",
              "      <th>0</th>\n",
              "      <td>безответа</td>\n",
              "      <td>0</td>\n",
              "    </tr>\n",
              "    <tr>\n",
              "      <th>1</th>\n",
              "      <td>здравствуйте</td>\n",
              "      <td>0</td>\n",
              "    </tr>\n",
              "    <tr>\n",
              "      <th>2</th>\n",
              "      <td>здравствуйте вы позвонили в компанию эмргрупп ...</td>\n",
              "      <td>0</td>\n",
              "    </tr>\n",
              "    <tr>\n",
              "      <th>3</th>\n",
              "      <td>здравствуйте</td>\n",
              "      <td>0</td>\n",
              "    </tr>\n",
              "    <tr>\n",
              "      <th>4</th>\n",
              "      <td>здравствуйте вы позвонили в группу компании ка...</td>\n",
              "      <td>1</td>\n",
              "    </tr>\n",
              "  </tbody>\n",
              "</table>\n",
              "</div>\n",
              "    <div class=\"colab-df-buttons\">\n",
              "\n",
              "  <div class=\"colab-df-container\">\n",
              "    <button class=\"colab-df-convert\" onclick=\"convertToInteractive('df-f3e453df-fb33-4f20-a2e5-daccd1dc7b32')\"\n",
              "            title=\"Convert this dataframe to an interactive table.\"\n",
              "            style=\"display:none;\">\n",
              "\n",
              "  <svg xmlns=\"http://www.w3.org/2000/svg\" height=\"24px\" viewBox=\"0 -960 960 960\">\n",
              "    <path d=\"M120-120v-720h720v720H120Zm60-500h600v-160H180v160Zm220 220h160v-160H400v160Zm0 220h160v-160H400v160ZM180-400h160v-160H180v160Zm440 0h160v-160H620v160ZM180-180h160v-160H180v160Zm440 0h160v-160H620v160Z\"/>\n",
              "  </svg>\n",
              "    </button>\n",
              "\n",
              "  <style>\n",
              "    .colab-df-container {\n",
              "      display:flex;\n",
              "      gap: 12px;\n",
              "    }\n",
              "\n",
              "    .colab-df-convert {\n",
              "      background-color: #E8F0FE;\n",
              "      border: none;\n",
              "      border-radius: 50%;\n",
              "      cursor: pointer;\n",
              "      display: none;\n",
              "      fill: #1967D2;\n",
              "      height: 32px;\n",
              "      padding: 0 0 0 0;\n",
              "      width: 32px;\n",
              "    }\n",
              "\n",
              "    .colab-df-convert:hover {\n",
              "      background-color: #E2EBFA;\n",
              "      box-shadow: 0px 1px 2px rgba(60, 64, 67, 0.3), 0px 1px 3px 1px rgba(60, 64, 67, 0.15);\n",
              "      fill: #174EA6;\n",
              "    }\n",
              "\n",
              "    .colab-df-buttons div {\n",
              "      margin-bottom: 4px;\n",
              "    }\n",
              "\n",
              "    [theme=dark] .colab-df-convert {\n",
              "      background-color: #3B4455;\n",
              "      fill: #D2E3FC;\n",
              "    }\n",
              "\n",
              "    [theme=dark] .colab-df-convert:hover {\n",
              "      background-color: #434B5C;\n",
              "      box-shadow: 0px 1px 3px 1px rgba(0, 0, 0, 0.15);\n",
              "      filter: drop-shadow(0px 1px 2px rgba(0, 0, 0, 0.3));\n",
              "      fill: #FFFFFF;\n",
              "    }\n",
              "  </style>\n",
              "\n",
              "    <script>\n",
              "      const buttonEl =\n",
              "        document.querySelector('#df-f3e453df-fb33-4f20-a2e5-daccd1dc7b32 button.colab-df-convert');\n",
              "      buttonEl.style.display =\n",
              "        google.colab.kernel.accessAllowed ? 'block' : 'none';\n",
              "\n",
              "      async function convertToInteractive(key) {\n",
              "        const element = document.querySelector('#df-f3e453df-fb33-4f20-a2e5-daccd1dc7b32');\n",
              "        const dataTable =\n",
              "          await google.colab.kernel.invokeFunction('convertToInteractive',\n",
              "                                                    [key], {});\n",
              "        if (!dataTable) return;\n",
              "\n",
              "        const docLinkHtml = 'Like what you see? Visit the ' +\n",
              "          '<a target=\"_blank\" href=https://colab.research.google.com/notebooks/data_table.ipynb>data table notebook</a>'\n",
              "          + ' to learn more about interactive tables.';\n",
              "        element.innerHTML = '';\n",
              "        dataTable['output_type'] = 'display_data';\n",
              "        await google.colab.output.renderOutput(dataTable, element);\n",
              "        const docLink = document.createElement('div');\n",
              "        docLink.innerHTML = docLinkHtml;\n",
              "        element.appendChild(docLink);\n",
              "      }\n",
              "    </script>\n",
              "  </div>\n",
              "\n",
              "\n",
              "<div id=\"df-19819ae5-6f31-4b58-80d0-95f87e11976b\">\n",
              "  <button class=\"colab-df-quickchart\" onclick=\"quickchart('df-19819ae5-6f31-4b58-80d0-95f87e11976b')\"\n",
              "            title=\"Suggest charts.\"\n",
              "            style=\"display:none;\">\n",
              "\n",
              "<svg xmlns=\"http://www.w3.org/2000/svg\" height=\"24px\"viewBox=\"0 0 24 24\"\n",
              "     width=\"24px\">\n",
              "    <g>\n",
              "        <path d=\"M19 3H5c-1.1 0-2 .9-2 2v14c0 1.1.9 2 2 2h14c1.1 0 2-.9 2-2V5c0-1.1-.9-2-2-2zM9 17H7v-7h2v7zm4 0h-2V7h2v10zm4 0h-2v-4h2v4z\"/>\n",
              "    </g>\n",
              "</svg>\n",
              "  </button>\n",
              "\n",
              "<style>\n",
              "  .colab-df-quickchart {\n",
              "      --bg-color: #E8F0FE;\n",
              "      --fill-color: #1967D2;\n",
              "      --hover-bg-color: #E2EBFA;\n",
              "      --hover-fill-color: #174EA6;\n",
              "      --disabled-fill-color: #AAA;\n",
              "      --disabled-bg-color: #DDD;\n",
              "  }\n",
              "\n",
              "  [theme=dark] .colab-df-quickchart {\n",
              "      --bg-color: #3B4455;\n",
              "      --fill-color: #D2E3FC;\n",
              "      --hover-bg-color: #434B5C;\n",
              "      --hover-fill-color: #FFFFFF;\n",
              "      --disabled-bg-color: #3B4455;\n",
              "      --disabled-fill-color: #666;\n",
              "  }\n",
              "\n",
              "  .colab-df-quickchart {\n",
              "    background-color: var(--bg-color);\n",
              "    border: none;\n",
              "    border-radius: 50%;\n",
              "    cursor: pointer;\n",
              "    display: none;\n",
              "    fill: var(--fill-color);\n",
              "    height: 32px;\n",
              "    padding: 0;\n",
              "    width: 32px;\n",
              "  }\n",
              "\n",
              "  .colab-df-quickchart:hover {\n",
              "    background-color: var(--hover-bg-color);\n",
              "    box-shadow: 0 1px 2px rgba(60, 64, 67, 0.3), 0 1px 3px 1px rgba(60, 64, 67, 0.15);\n",
              "    fill: var(--button-hover-fill-color);\n",
              "  }\n",
              "\n",
              "  .colab-df-quickchart-complete:disabled,\n",
              "  .colab-df-quickchart-complete:disabled:hover {\n",
              "    background-color: var(--disabled-bg-color);\n",
              "    fill: var(--disabled-fill-color);\n",
              "    box-shadow: none;\n",
              "  }\n",
              "\n",
              "  .colab-df-spinner {\n",
              "    border: 2px solid var(--fill-color);\n",
              "    border-color: transparent;\n",
              "    border-bottom-color: var(--fill-color);\n",
              "    animation:\n",
              "      spin 1s steps(1) infinite;\n",
              "  }\n",
              "\n",
              "  @keyframes spin {\n",
              "    0% {\n",
              "      border-color: transparent;\n",
              "      border-bottom-color: var(--fill-color);\n",
              "      border-left-color: var(--fill-color);\n",
              "    }\n",
              "    20% {\n",
              "      border-color: transparent;\n",
              "      border-left-color: var(--fill-color);\n",
              "      border-top-color: var(--fill-color);\n",
              "    }\n",
              "    30% {\n",
              "      border-color: transparent;\n",
              "      border-left-color: var(--fill-color);\n",
              "      border-top-color: var(--fill-color);\n",
              "      border-right-color: var(--fill-color);\n",
              "    }\n",
              "    40% {\n",
              "      border-color: transparent;\n",
              "      border-right-color: var(--fill-color);\n",
              "      border-top-color: var(--fill-color);\n",
              "    }\n",
              "    60% {\n",
              "      border-color: transparent;\n",
              "      border-right-color: var(--fill-color);\n",
              "    }\n",
              "    80% {\n",
              "      border-color: transparent;\n",
              "      border-right-color: var(--fill-color);\n",
              "      border-bottom-color: var(--fill-color);\n",
              "    }\n",
              "    90% {\n",
              "      border-color: transparent;\n",
              "      border-bottom-color: var(--fill-color);\n",
              "    }\n",
              "  }\n",
              "</style>\n",
              "\n",
              "  <script>\n",
              "    async function quickchart(key) {\n",
              "      const quickchartButtonEl =\n",
              "        document.querySelector('#' + key + ' button');\n",
              "      quickchartButtonEl.disabled = true;  // To prevent multiple clicks.\n",
              "      quickchartButtonEl.classList.add('colab-df-spinner');\n",
              "      try {\n",
              "        const charts = await google.colab.kernel.invokeFunction(\n",
              "            'suggestCharts', [key], {});\n",
              "      } catch (error) {\n",
              "        console.error('Error during call to suggestCharts:', error);\n",
              "      }\n",
              "      quickchartButtonEl.classList.remove('colab-df-spinner');\n",
              "      quickchartButtonEl.classList.add('colab-df-quickchart-complete');\n",
              "    }\n",
              "    (() => {\n",
              "      let quickchartButtonEl =\n",
              "        document.querySelector('#df-19819ae5-6f31-4b58-80d0-95f87e11976b button');\n",
              "      quickchartButtonEl.style.display =\n",
              "        google.colab.kernel.accessAllowed ? 'block' : 'none';\n",
              "    })();\n",
              "  </script>\n",
              "</div>\n",
              "    </div>\n",
              "  </div>\n"
            ]
          },
          "metadata": {},
          "execution_count": 14
        }
      ]
    },
    {
      "cell_type": "code",
      "source": [
        "df = df.reindex(columns=['sentiment', 'text'])"
      ],
      "metadata": {
        "id": "fu197Yqwu7Ly"
      },
      "execution_count": null,
      "outputs": []
    },
    {
      "cell_type": "code",
      "source": [
        "df.sentiment = '__label__' + df.sentiment.apply(str)\n",
        "df.head()"
      ],
      "metadata": {
        "colab": {
          "base_uri": "https://localhost:8080/",
          "height": 206
        },
        "outputId": "a154867a-89fe-4f87-90c4-95ac3eb3999a",
        "id": "yPjy2qpfu7Ly"
      },
      "execution_count": null,
      "outputs": [
        {
          "output_type": "execute_result",
          "data": {
            "text/plain": [
              "    sentiment                                               text\n",
              "0  __label__0                                          безответа\n",
              "1  __label__0                                       здравствуйте\n",
              "2  __label__0  здравствуйте вы позвонили в компанию эмргрупп ...\n",
              "3  __label__0                                       здравствуйте\n",
              "4  __label__1  здравствуйте вы позвонили в группу компании ка..."
            ],
            "text/html": [
              "\n",
              "  <div id=\"df-6b728f6e-080c-42b7-b1ba-43792b7971f0\" class=\"colab-df-container\">\n",
              "    <div>\n",
              "<style scoped>\n",
              "    .dataframe tbody tr th:only-of-type {\n",
              "        vertical-align: middle;\n",
              "    }\n",
              "\n",
              "    .dataframe tbody tr th {\n",
              "        vertical-align: top;\n",
              "    }\n",
              "\n",
              "    .dataframe thead th {\n",
              "        text-align: right;\n",
              "    }\n",
              "</style>\n",
              "<table border=\"1\" class=\"dataframe\">\n",
              "  <thead>\n",
              "    <tr style=\"text-align: right;\">\n",
              "      <th></th>\n",
              "      <th>sentiment</th>\n",
              "      <th>text</th>\n",
              "    </tr>\n",
              "  </thead>\n",
              "  <tbody>\n",
              "    <tr>\n",
              "      <th>0</th>\n",
              "      <td>__label__0</td>\n",
              "      <td>безответа</td>\n",
              "    </tr>\n",
              "    <tr>\n",
              "      <th>1</th>\n",
              "      <td>__label__0</td>\n",
              "      <td>здравствуйте</td>\n",
              "    </tr>\n",
              "    <tr>\n",
              "      <th>2</th>\n",
              "      <td>__label__0</td>\n",
              "      <td>здравствуйте вы позвонили в компанию эмргрупп ...</td>\n",
              "    </tr>\n",
              "    <tr>\n",
              "      <th>3</th>\n",
              "      <td>__label__0</td>\n",
              "      <td>здравствуйте</td>\n",
              "    </tr>\n",
              "    <tr>\n",
              "      <th>4</th>\n",
              "      <td>__label__1</td>\n",
              "      <td>здравствуйте вы позвонили в группу компании ка...</td>\n",
              "    </tr>\n",
              "  </tbody>\n",
              "</table>\n",
              "</div>\n",
              "    <div class=\"colab-df-buttons\">\n",
              "\n",
              "  <div class=\"colab-df-container\">\n",
              "    <button class=\"colab-df-convert\" onclick=\"convertToInteractive('df-6b728f6e-080c-42b7-b1ba-43792b7971f0')\"\n",
              "            title=\"Convert this dataframe to an interactive table.\"\n",
              "            style=\"display:none;\">\n",
              "\n",
              "  <svg xmlns=\"http://www.w3.org/2000/svg\" height=\"24px\" viewBox=\"0 -960 960 960\">\n",
              "    <path d=\"M120-120v-720h720v720H120Zm60-500h600v-160H180v160Zm220 220h160v-160H400v160Zm0 220h160v-160H400v160ZM180-400h160v-160H180v160Zm440 0h160v-160H620v160ZM180-180h160v-160H180v160Zm440 0h160v-160H620v160Z\"/>\n",
              "  </svg>\n",
              "    </button>\n",
              "\n",
              "  <style>\n",
              "    .colab-df-container {\n",
              "      display:flex;\n",
              "      gap: 12px;\n",
              "    }\n",
              "\n",
              "    .colab-df-convert {\n",
              "      background-color: #E8F0FE;\n",
              "      border: none;\n",
              "      border-radius: 50%;\n",
              "      cursor: pointer;\n",
              "      display: none;\n",
              "      fill: #1967D2;\n",
              "      height: 32px;\n",
              "      padding: 0 0 0 0;\n",
              "      width: 32px;\n",
              "    }\n",
              "\n",
              "    .colab-df-convert:hover {\n",
              "      background-color: #E2EBFA;\n",
              "      box-shadow: 0px 1px 2px rgba(60, 64, 67, 0.3), 0px 1px 3px 1px rgba(60, 64, 67, 0.15);\n",
              "      fill: #174EA6;\n",
              "    }\n",
              "\n",
              "    .colab-df-buttons div {\n",
              "      margin-bottom: 4px;\n",
              "    }\n",
              "\n",
              "    [theme=dark] .colab-df-convert {\n",
              "      background-color: #3B4455;\n",
              "      fill: #D2E3FC;\n",
              "    }\n",
              "\n",
              "    [theme=dark] .colab-df-convert:hover {\n",
              "      background-color: #434B5C;\n",
              "      box-shadow: 0px 1px 3px 1px rgba(0, 0, 0, 0.15);\n",
              "      filter: drop-shadow(0px 1px 2px rgba(0, 0, 0, 0.3));\n",
              "      fill: #FFFFFF;\n",
              "    }\n",
              "  </style>\n",
              "\n",
              "    <script>\n",
              "      const buttonEl =\n",
              "        document.querySelector('#df-6b728f6e-080c-42b7-b1ba-43792b7971f0 button.colab-df-convert');\n",
              "      buttonEl.style.display =\n",
              "        google.colab.kernel.accessAllowed ? 'block' : 'none';\n",
              "\n",
              "      async function convertToInteractive(key) {\n",
              "        const element = document.querySelector('#df-6b728f6e-080c-42b7-b1ba-43792b7971f0');\n",
              "        const dataTable =\n",
              "          await google.colab.kernel.invokeFunction('convertToInteractive',\n",
              "                                                    [key], {});\n",
              "        if (!dataTable) return;\n",
              "\n",
              "        const docLinkHtml = 'Like what you see? Visit the ' +\n",
              "          '<a target=\"_blank\" href=https://colab.research.google.com/notebooks/data_table.ipynb>data table notebook</a>'\n",
              "          + ' to learn more about interactive tables.';\n",
              "        element.innerHTML = '';\n",
              "        dataTable['output_type'] = 'display_data';\n",
              "        await google.colab.output.renderOutput(dataTable, element);\n",
              "        const docLink = document.createElement('div');\n",
              "        docLink.innerHTML = docLinkHtml;\n",
              "        element.appendChild(docLink);\n",
              "      }\n",
              "    </script>\n",
              "  </div>\n",
              "\n",
              "\n",
              "<div id=\"df-ce8bd9bc-2048-4933-96bd-8858d2a9be38\">\n",
              "  <button class=\"colab-df-quickchart\" onclick=\"quickchart('df-ce8bd9bc-2048-4933-96bd-8858d2a9be38')\"\n",
              "            title=\"Suggest charts.\"\n",
              "            style=\"display:none;\">\n",
              "\n",
              "<svg xmlns=\"http://www.w3.org/2000/svg\" height=\"24px\"viewBox=\"0 0 24 24\"\n",
              "     width=\"24px\">\n",
              "    <g>\n",
              "        <path d=\"M19 3H5c-1.1 0-2 .9-2 2v14c0 1.1.9 2 2 2h14c1.1 0 2-.9 2-2V5c0-1.1-.9-2-2-2zM9 17H7v-7h2v7zm4 0h-2V7h2v10zm4 0h-2v-4h2v4z\"/>\n",
              "    </g>\n",
              "</svg>\n",
              "  </button>\n",
              "\n",
              "<style>\n",
              "  .colab-df-quickchart {\n",
              "      --bg-color: #E8F0FE;\n",
              "      --fill-color: #1967D2;\n",
              "      --hover-bg-color: #E2EBFA;\n",
              "      --hover-fill-color: #174EA6;\n",
              "      --disabled-fill-color: #AAA;\n",
              "      --disabled-bg-color: #DDD;\n",
              "  }\n",
              "\n",
              "  [theme=dark] .colab-df-quickchart {\n",
              "      --bg-color: #3B4455;\n",
              "      --fill-color: #D2E3FC;\n",
              "      --hover-bg-color: #434B5C;\n",
              "      --hover-fill-color: #FFFFFF;\n",
              "      --disabled-bg-color: #3B4455;\n",
              "      --disabled-fill-color: #666;\n",
              "  }\n",
              "\n",
              "  .colab-df-quickchart {\n",
              "    background-color: var(--bg-color);\n",
              "    border: none;\n",
              "    border-radius: 50%;\n",
              "    cursor: pointer;\n",
              "    display: none;\n",
              "    fill: var(--fill-color);\n",
              "    height: 32px;\n",
              "    padding: 0;\n",
              "    width: 32px;\n",
              "  }\n",
              "\n",
              "  .colab-df-quickchart:hover {\n",
              "    background-color: var(--hover-bg-color);\n",
              "    box-shadow: 0 1px 2px rgba(60, 64, 67, 0.3), 0 1px 3px 1px rgba(60, 64, 67, 0.15);\n",
              "    fill: var(--button-hover-fill-color);\n",
              "  }\n",
              "\n",
              "  .colab-df-quickchart-complete:disabled,\n",
              "  .colab-df-quickchart-complete:disabled:hover {\n",
              "    background-color: var(--disabled-bg-color);\n",
              "    fill: var(--disabled-fill-color);\n",
              "    box-shadow: none;\n",
              "  }\n",
              "\n",
              "  .colab-df-spinner {\n",
              "    border: 2px solid var(--fill-color);\n",
              "    border-color: transparent;\n",
              "    border-bottom-color: var(--fill-color);\n",
              "    animation:\n",
              "      spin 1s steps(1) infinite;\n",
              "  }\n",
              "\n",
              "  @keyframes spin {\n",
              "    0% {\n",
              "      border-color: transparent;\n",
              "      border-bottom-color: var(--fill-color);\n",
              "      border-left-color: var(--fill-color);\n",
              "    }\n",
              "    20% {\n",
              "      border-color: transparent;\n",
              "      border-left-color: var(--fill-color);\n",
              "      border-top-color: var(--fill-color);\n",
              "    }\n",
              "    30% {\n",
              "      border-color: transparent;\n",
              "      border-left-color: var(--fill-color);\n",
              "      border-top-color: var(--fill-color);\n",
              "      border-right-color: var(--fill-color);\n",
              "    }\n",
              "    40% {\n",
              "      border-color: transparent;\n",
              "      border-right-color: var(--fill-color);\n",
              "      border-top-color: var(--fill-color);\n",
              "    }\n",
              "    60% {\n",
              "      border-color: transparent;\n",
              "      border-right-color: var(--fill-color);\n",
              "    }\n",
              "    80% {\n",
              "      border-color: transparent;\n",
              "      border-right-color: var(--fill-color);\n",
              "      border-bottom-color: var(--fill-color);\n",
              "    }\n",
              "    90% {\n",
              "      border-color: transparent;\n",
              "      border-bottom-color: var(--fill-color);\n",
              "    }\n",
              "  }\n",
              "</style>\n",
              "\n",
              "  <script>\n",
              "    async function quickchart(key) {\n",
              "      const quickchartButtonEl =\n",
              "        document.querySelector('#' + key + ' button');\n",
              "      quickchartButtonEl.disabled = true;  // To prevent multiple clicks.\n",
              "      quickchartButtonEl.classList.add('colab-df-spinner');\n",
              "      try {\n",
              "        const charts = await google.colab.kernel.invokeFunction(\n",
              "            'suggestCharts', [key], {});\n",
              "      } catch (error) {\n",
              "        console.error('Error during call to suggestCharts:', error);\n",
              "      }\n",
              "      quickchartButtonEl.classList.remove('colab-df-spinner');\n",
              "      quickchartButtonEl.classList.add('colab-df-quickchart-complete');\n",
              "    }\n",
              "    (() => {\n",
              "      let quickchartButtonEl =\n",
              "        document.querySelector('#df-ce8bd9bc-2048-4933-96bd-8858d2a9be38 button');\n",
              "      quickchartButtonEl.style.display =\n",
              "        google.colab.kernel.accessAllowed ? 'block' : 'none';\n",
              "    })();\n",
              "  </script>\n",
              "</div>\n",
              "    </div>\n",
              "  </div>\n"
            ]
          },
          "metadata": {},
          "execution_count": 16
        }
      ]
    },
    {
      "cell_type": "code",
      "source": [
        "df.head()"
      ],
      "metadata": {
        "id": "iR3h8_Bau7Lz"
      },
      "execution_count": null,
      "outputs": []
    },
    {
      "cell_type": "code",
      "source": [
        "train, validate, test = train_validate_test_split(df, train_percent=.6, validate_percent=.2, seed=42)\n",
        "train.shape[0], validate.shape[0], test.shape[0]"
      ],
      "metadata": {
        "colab": {
          "base_uri": "https://localhost:8080/"
        },
        "outputId": "7ffc73d6-c46e-4d8a-c4ea-632ce90ce344",
        "id": "l4pGjse3u7MI"
      },
      "execution_count": null,
      "outputs": [
        {
          "output_type": "execute_result",
          "data": {
            "text/plain": [
              "(4152, 1384, 1385)"
            ]
          },
          "metadata": {},
          "execution_count": 17
        }
      ]
    },
    {
      "cell_type": "code",
      "source": [
        "path_txt = '/content/drive/MyDrive/Media108/TXT_DATA/'\n",
        "train.to_csv(path_txt +'sentiment.train.fasttext',\n",
        "             sep=' ',\n",
        "             index=False,\n",
        "             header=None)\n",
        "validate.to_csv(path_txt +'sentiment.validate.fasttext',\n",
        "                sep=' ',\n",
        "                index=False,\n",
        "                header=None)\n",
        "test.to_csv(path_txt +'sentiment.test.fasttext',\n",
        "            sep=' ',\n",
        "            index=False,\n",
        "            header=None)\n"
      ],
      "metadata": {
        "id": "K3kbWYBOu7MJ"
      },
      "execution_count": null,
      "outputs": []
    },
    {
      "cell_type": "code",
      "source": [
        "#del corpus\n",
        "corpus: Corpus = ClassificationCorpus(\n",
        "    path_txt,\n",
        "    train_file='sentiment.train.fasttext',\n",
        "    dev_file='sentiment.validate.fasttext',\n",
        "    test_file='sentiment.test.fasttext')\n",
        "#    in_memory=False)"
      ],
      "metadata": {
        "colab": {
          "base_uri": "https://localhost:8080/"
        },
        "outputId": "b1deb353-451c-4189-8fbe-e7d5f41b295a",
        "id": "yBb9hVlwu7MK"
      },
      "execution_count": null,
      "outputs": [
        {
          "output_type": "stream",
          "name": "stdout",
          "text": [
            "2023-11-02 11:25:22,620 Reading data from /content/drive/MyDrive/Media108/TXT_DATA\n",
            "2023-11-02 11:25:22,623 Train: /content/drive/MyDrive/Media108/TXT_DATA/sentiment.train.fasttext\n",
            "2023-11-02 11:25:22,624 Dev: /content/drive/MyDrive/Media108/TXT_DATA/sentiment.validate.fasttext\n",
            "2023-11-02 11:25:22,626 Test: /content/drive/MyDrive/Media108/TXT_DATA/sentiment.test.fasttext\n",
            "2023-11-02 11:25:23,343 Initialized corpus /content/drive/MyDrive/Media108/TXT_DATA/ (label type name is 'class')\n"
          ]
        }
      ]
    },
    {
      "cell_type": "code",
      "source": [
        "print(len(corpus.train), len(corpus.dev), len(corpus.test), sep=', ')"
      ],
      "metadata": {
        "colab": {
          "base_uri": "https://localhost:8080/"
        },
        "outputId": "f9835818-303b-4542-86cc-3cd5665467db",
        "id": "nD6vV7MTu7ML"
      },
      "execution_count": null,
      "outputs": [
        {
          "output_type": "stream",
          "name": "stdout",
          "text": [
            "4152, 1384, 1385\n"
          ]
        }
      ]
    },
    {
      "cell_type": "code",
      "source": [
        "corpus.train.tokenizer"
      ],
      "metadata": {
        "colab": {
          "base_uri": "https://localhost:8080/"
        },
        "outputId": "c52edb74-5cf7-4d4a-996d-f2de30987d81",
        "id": "AsisoCmPu7ML"
      },
      "execution_count": null,
      "outputs": [
        {
          "output_type": "execute_result",
          "data": {
            "text/plain": [
              "<flair.tokenization.SegtokTokenizer at 0x78936fd864d0>"
            ]
          },
          "metadata": {},
          "execution_count": 90
        }
      ]
    },
    {
      "cell_type": "code",
      "source": [
        "label_dict = corpus.make_label_dictionary(label_type='class')"
      ],
      "metadata": {
        "colab": {
          "base_uri": "https://localhost:8080/"
        },
        "outputId": "ad263c21-9f5a-4c78-d7a8-297f1d605406",
        "id": "--AnezGBu7MM"
      },
      "execution_count": null,
      "outputs": [
        {
          "output_type": "stream",
          "name": "stdout",
          "text": [
            "2023-11-02 11:25:39,770 Computing label dictionary. Progress:\n"
          ]
        },
        {
          "output_type": "stream",
          "name": "stderr",
          "text": [
            "0it [00:00, ?it/s]\n",
            "4152it [00:20, 198.33it/s]"
          ]
        },
        {
          "output_type": "stream",
          "name": "stdout",
          "text": [
            "2023-11-02 11:26:00,761 Dictionary created for label 'class' with 2 values: 0 (seen 2325 times), 1 (seen 1827 times)\n"
          ]
        },
        {
          "output_type": "stream",
          "name": "stderr",
          "text": [
            "\n"
          ]
        }
      ]
    },
    {
      "cell_type": "code",
      "source": [
        "bpe = BytePairEmbeddings(language='ru', dim=100, syllables=50000)"
      ],
      "metadata": {
        "colab": {
          "base_uri": "https://localhost:8080/"
        },
        "outputId": "e9931edd-bf07-4207-a846-d757f781bbef",
        "id": "_i57uxANu7MM"
      },
      "execution_count": null,
      "outputs": [
        {
          "output_type": "stream",
          "name": "stdout",
          "text": [
            "downloading https://nlp.h-its.org/bpemb/ru/ru.wiki.bpe.vs50000.model\n"
          ]
        },
        {
          "output_type": "stream",
          "name": "stderr",
          "text": [
            "100%|██████████| 1404906/1404906 [00:01<00:00, 1401430.08B/s]\n"
          ]
        },
        {
          "output_type": "stream",
          "name": "stdout",
          "text": [
            "downloading https://nlp.h-its.org/bpemb/ru/ru.wiki.bpe.vs50000.d100.w2v.bin.tar.gz\n"
          ]
        },
        {
          "output_type": "stream",
          "name": "stderr",
          "text": [
            "100%|██████████| 19076003/19076003 [00:02<00:00, 7778867.77B/s] \n"
          ]
        }
      ]
    },
    {
      "cell_type": "code",
      "source": [
        "document_emb = DocumentPoolEmbeddings([bpe], fine_tune_mode='nonlinear')"
      ],
      "metadata": {
        "id": "UQimlRZeu7MN"
      },
      "execution_count": null,
      "outputs": []
    },
    {
      "cell_type": "code",
      "source": [
        "print(document_emb)"
      ],
      "metadata": {
        "colab": {
          "base_uri": "https://localhost:8080/"
        },
        "outputId": "e72a7713-8233-4f7b-c0c4-cc4d584d26cd",
        "id": "oKDkVpIhu7MN"
      },
      "execution_count": null,
      "outputs": [
        {
          "output_type": "stream",
          "name": "stdout",
          "text": [
            "DocumentPoolEmbeddings(\n",
            "  fine_tune_mode=nonlinear, pooling=mean\n",
            "  (embeddings): StackedEmbeddings(\n",
            "    (list_embedding_0): BytePairEmbeddings(model=0-bpe-ru-50000-100)\n",
            "  )\n",
            "  (embedding_flex): Linear(in_features=200, out_features=200, bias=False)\n",
            "  (embedding_flex_nonlinear): ReLU()\n",
            "  (embedding_flex_nonlinear_map): Linear(in_features=200, out_features=200, bias=True)\n",
            ")\n"
          ]
        }
      ]
    },
    {
      "cell_type": "code",
      "source": [
        "# Инициализируем текстовый классификатор\n",
        "classifier = TextClassifier(document_emb, label_dictionary=label_dict,label_type='class')\n",
        "\n",
        "# По умолчанию в качестве оптимизатора используется SGD.\n",
        "# Мы будем использовать его, поэтому не указываем явно тип оптимизатора:\n",
        "trainer = ModelTrainer(classifier, corpus)\n",
        "\n",
        "# Если же нужно использовать какой-то иной алгоритм, его нужно указать:\n",
        "#\n",
        "# from torch.optim.adam import Adam\n",
        "# trainer = ModelTrainer(classifier, corpus, optimizer=Adam)\n"
      ],
      "metadata": {
        "id": "ek4bs3oBu7MO"
      },
      "execution_count": null,
      "outputs": []
    },
    {
      "cell_type": "code",
      "source": [
        "trainer.train(\n",
        "    path_dir+'model2',\n",
        "    learning_rate=0.1,\n",
        "    mini_batch_size=64,\n",
        "    anneal_factor=0.5,\n",
        "    patience=5,\n",
        "    max_epochs=10)\n",
        "#    monitor_train=True)"
      ],
      "metadata": {
        "colab": {
          "base_uri": "https://localhost:8080/"
        },
        "outputId": "3bc40185-640d-493f-9d2f-ce60b847a635",
        "id": "j3NvCpNru7MO"
      },
      "execution_count": null,
      "outputs": [
        {
          "output_type": "stream",
          "name": "stdout",
          "text": [
            "2023-11-02 11:27:02,007 ----------------------------------------------------------------------------------------------------\n",
            "2023-11-02 11:27:02,010 Model: \"TextClassifier(\n",
            "  (embeddings): DocumentPoolEmbeddings(\n",
            "    fine_tune_mode=nonlinear, pooling=mean\n",
            "    (embeddings): StackedEmbeddings(\n",
            "      (list_embedding_0): BytePairEmbeddings(model=0-bpe-ru-50000-100)\n",
            "    )\n",
            "    (embedding_flex): Linear(in_features=200, out_features=200, bias=False)\n",
            "    (embedding_flex_nonlinear): ReLU()\n",
            "    (embedding_flex_nonlinear_map): Linear(in_features=200, out_features=200, bias=True)\n",
            "  )\n",
            "  (decoder): Linear(in_features=200, out_features=2, bias=True)\n",
            "  (dropout): Dropout(p=0.0, inplace=False)\n",
            "  (locked_dropout): LockedDropout(p=0.0)\n",
            "  (word_dropout): WordDropout(p=0.0)\n",
            "  (loss_function): CrossEntropyLoss()\n",
            "  (weights): None\n",
            "  (weight_tensor) None\n",
            ")\"\n",
            "2023-11-02 11:27:02,013 ----------------------------------------------------------------------------------------------------\n",
            "2023-11-02 11:27:02,016 Corpus: 4152 train + 1384 dev + 1385 test sentences\n",
            "2023-11-02 11:27:02,019 ----------------------------------------------------------------------------------------------------\n",
            "2023-11-02 11:27:02,022 Train:  4152 sentences\n",
            "2023-11-02 11:27:02,025         (train_with_dev=False, train_with_test=False)\n",
            "2023-11-02 11:27:02,028 ----------------------------------------------------------------------------------------------------\n",
            "2023-11-02 11:27:02,031 Training Params:\n",
            "2023-11-02 11:27:02,033  - learning_rate: \"0.1\" \n",
            "2023-11-02 11:27:02,035  - mini_batch_size: \"64\"\n",
            "2023-11-02 11:27:02,038  - max_epochs: \"10\"\n",
            "2023-11-02 11:27:02,040  - shuffle: \"True\"\n",
            "2023-11-02 11:27:02,042 ----------------------------------------------------------------------------------------------------\n",
            "2023-11-02 11:27:02,044 Plugins:\n",
            "2023-11-02 11:27:02,045  - AnnealOnPlateau | patience: '5', anneal_factor: '0.5', min_learning_rate: '0.0001'\n",
            "2023-11-02 11:27:02,046 ----------------------------------------------------------------------------------------------------\n",
            "2023-11-02 11:27:02,047 Final evaluation on model from best epoch (best-model.pt)\n",
            "2023-11-02 11:27:02,048  - metric: \"('micro avg', 'f1-score')\"\n",
            "2023-11-02 11:27:02,050 ----------------------------------------------------------------------------------------------------\n",
            "2023-11-02 11:27:02,051 Computation:\n",
            "2023-11-02 11:27:02,052  - compute on device: cuda:0\n",
            "2023-11-02 11:27:02,053  - embedding storage: cpu\n",
            "2023-11-02 11:27:02,054 ----------------------------------------------------------------------------------------------------\n",
            "2023-11-02 11:27:02,056 Model training base path: \"/content/drive/MyDrive/Media108/model2\"\n",
            "2023-11-02 11:27:02,057 ----------------------------------------------------------------------------------------------------\n",
            "2023-11-02 11:27:02,058 ----------------------------------------------------------------------------------------------------\n",
            "2023-11-02 11:27:17,813 epoch 1 - iter 6/65 - loss 0.75225421 - time (sec): 15.75 - samples/sec: 24.38 - lr: 0.100000 - momentum: 0.000000\n",
            "2023-11-02 11:27:31,325 epoch 1 - iter 12/65 - loss 0.66073212 - time (sec): 29.27 - samples/sec: 26.24 - lr: 0.100000 - momentum: 0.000000\n",
            "2023-11-02 11:27:44,991 epoch 1 - iter 18/65 - loss 0.59578190 - time (sec): 42.93 - samples/sec: 26.83 - lr: 0.100000 - momentum: 0.000000\n",
            "2023-11-02 11:27:56,756 epoch 1 - iter 24/65 - loss 0.56339687 - time (sec): 54.70 - samples/sec: 28.08 - lr: 0.100000 - momentum: 0.000000\n",
            "2023-11-02 11:28:08,685 epoch 1 - iter 30/65 - loss 0.53365153 - time (sec): 66.63 - samples/sec: 28.82 - lr: 0.100000 - momentum: 0.000000\n",
            "2023-11-02 11:28:21,730 epoch 1 - iter 36/65 - loss 0.51754272 - time (sec): 79.67 - samples/sec: 28.92 - lr: 0.100000 - momentum: 0.000000\n",
            "2023-11-02 11:28:36,059 epoch 1 - iter 42/65 - loss 0.49825625 - time (sec): 94.00 - samples/sec: 28.60 - lr: 0.100000 - momentum: 0.000000\n",
            "2023-11-02 11:28:49,048 epoch 1 - iter 48/65 - loss 0.48663615 - time (sec): 106.99 - samples/sec: 28.71 - lr: 0.100000 - momentum: 0.000000\n",
            "2023-11-02 11:29:00,421 epoch 1 - iter 54/65 - loss 0.47970868 - time (sec): 118.36 - samples/sec: 29.20 - lr: 0.100000 - momentum: 0.000000\n",
            "2023-11-02 11:29:12,187 epoch 1 - iter 60/65 - loss 0.47324606 - time (sec): 130.13 - samples/sec: 29.51 - lr: 0.100000 - momentum: 0.000000\n",
            "2023-11-02 11:29:24,019 ----------------------------------------------------------------------------------------------------\n",
            "2023-11-02 11:29:24,020 EPOCH 1 done: loss 0.4704 - lr: 0.100000\n"
          ]
        },
        {
          "output_type": "stream",
          "name": "stderr",
          "text": [
            "100%|██████████| 22/22 [00:47<00:00,  2.15s/it]"
          ]
        },
        {
          "output_type": "stream",
          "name": "stdout",
          "text": [
            "2023-11-02 11:30:11,310 DEV : loss 0.397018700838089 - f1-score (micro avg)  0.836\n"
          ]
        },
        {
          "output_type": "stream",
          "name": "stderr",
          "text": [
            "\n"
          ]
        },
        {
          "output_type": "stream",
          "name": "stdout",
          "text": [
            "2023-11-02 11:30:18,029  - 0 epochs without improvement\n",
            "2023-11-02 11:30:18,041 saving best model\n",
            "2023-11-02 11:30:18,170 ----------------------------------------------------------------------------------------------------\n",
            "2023-11-02 11:30:30,777 epoch 2 - iter 6/65 - loss 0.33645856 - time (sec): 12.60 - samples/sec: 30.47 - lr: 0.100000 - momentum: 0.000000\n",
            "2023-11-02 11:30:46,806 epoch 2 - iter 12/65 - loss 0.35553564 - time (sec): 28.63 - samples/sec: 26.82 - lr: 0.100000 - momentum: 0.000000\n",
            "2023-11-02 11:30:59,584 epoch 2 - iter 18/65 - loss 0.36084770 - time (sec): 41.41 - samples/sec: 27.82 - lr: 0.100000 - momentum: 0.000000\n",
            "2023-11-02 11:31:12,265 epoch 2 - iter 24/65 - loss 0.37316604 - time (sec): 54.09 - samples/sec: 28.40 - lr: 0.100000 - momentum: 0.000000\n",
            "2023-11-02 11:31:25,418 epoch 2 - iter 30/65 - loss 0.36827486 - time (sec): 67.25 - samples/sec: 28.55 - lr: 0.100000 - momentum: 0.000000\n",
            "2023-11-02 11:31:36,262 epoch 2 - iter 36/65 - loss 0.36322405 - time (sec): 78.09 - samples/sec: 29.50 - lr: 0.100000 - momentum: 0.000000\n",
            "2023-11-02 11:31:49,416 epoch 2 - iter 42/65 - loss 0.38542201 - time (sec): 91.24 - samples/sec: 29.46 - lr: 0.100000 - momentum: 0.000000\n",
            "2023-11-02 11:32:04,066 epoch 2 - iter 48/65 - loss 0.37444961 - time (sec): 105.89 - samples/sec: 29.01 - lr: 0.100000 - momentum: 0.000000\n",
            "2023-11-02 11:32:15,983 epoch 2 - iter 54/65 - loss 0.37864840 - time (sec): 117.81 - samples/sec: 29.34 - lr: 0.100000 - momentum: 0.000000\n",
            "2023-11-02 11:32:29,910 epoch 2 - iter 60/65 - loss 0.37765360 - time (sec): 131.74 - samples/sec: 29.15 - lr: 0.100000 - momentum: 0.000000\n",
            "2023-11-02 11:32:39,019 ----------------------------------------------------------------------------------------------------\n",
            "2023-11-02 11:32:39,023 EPOCH 2 done: loss 0.3801 - lr: 0.100000\n"
          ]
        },
        {
          "output_type": "stream",
          "name": "stderr",
          "text": [
            "100%|██████████| 22/22 [00:47<00:00,  2.17s/it]"
          ]
        },
        {
          "output_type": "stream",
          "name": "stdout",
          "text": [
            "2023-11-02 11:33:26,885 DEV : loss 0.36462417244911194 - f1-score (micro avg)  0.8801\n"
          ]
        },
        {
          "output_type": "stream",
          "name": "stderr",
          "text": [
            "\n"
          ]
        },
        {
          "output_type": "stream",
          "name": "stdout",
          "text": [
            "2023-11-02 11:33:34,169  - 0 epochs without improvement\n",
            "2023-11-02 11:33:34,176 saving best model\n",
            "2023-11-02 11:33:34,275 ----------------------------------------------------------------------------------------------------\n",
            "2023-11-02 11:33:46,172 epoch 3 - iter 6/65 - loss 0.33875560 - time (sec): 11.88 - samples/sec: 32.31 - lr: 0.100000 - momentum: 0.000000\n",
            "2023-11-02 11:33:56,848 epoch 3 - iter 12/65 - loss 0.33576431 - time (sec): 22.56 - samples/sec: 34.04 - lr: 0.100000 - momentum: 0.000000\n",
            "2023-11-02 11:34:10,328 epoch 3 - iter 18/65 - loss 0.36568876 - time (sec): 36.04 - samples/sec: 31.96 - lr: 0.100000 - momentum: 0.000000\n",
            "2023-11-02 11:34:23,998 epoch 3 - iter 24/65 - loss 0.35944039 - time (sec): 49.71 - samples/sec: 30.90 - lr: 0.100000 - momentum: 0.000000\n",
            "2023-11-02 11:34:37,157 epoch 3 - iter 30/65 - loss 0.37680768 - time (sec): 62.87 - samples/sec: 30.54 - lr: 0.100000 - momentum: 0.000000\n",
            "2023-11-02 11:34:53,882 epoch 3 - iter 36/65 - loss 0.37792466 - time (sec): 79.59 - samples/sec: 28.95 - lr: 0.100000 - momentum: 0.000000\n",
            "2023-11-02 11:35:05,542 epoch 3 - iter 42/65 - loss 0.37351149 - time (sec): 91.25 - samples/sec: 29.46 - lr: 0.100000 - momentum: 0.000000\n",
            "2023-11-02 11:35:18,332 epoch 3 - iter 48/65 - loss 0.36914770 - time (sec): 104.04 - samples/sec: 29.53 - lr: 0.100000 - momentum: 0.000000\n",
            "2023-11-02 11:35:31,600 epoch 3 - iter 54/65 - loss 0.37469221 - time (sec): 117.31 - samples/sec: 29.46 - lr: 0.100000 - momentum: 0.000000\n",
            "2023-11-02 11:35:44,170 epoch 3 - iter 60/65 - loss 0.37465849 - time (sec): 129.88 - samples/sec: 29.57 - lr: 0.100000 - momentum: 0.000000\n",
            "2023-11-02 11:35:56,339 ----------------------------------------------------------------------------------------------------\n",
            "2023-11-02 11:35:56,344 EPOCH 3 done: loss 0.3711 - lr: 0.100000\n"
          ]
        },
        {
          "output_type": "stream",
          "name": "stderr",
          "text": [
            "100%|██████████| 22/22 [00:47<00:00,  2.17s/it]"
          ]
        },
        {
          "output_type": "stream",
          "name": "stdout",
          "text": [
            "2023-11-02 11:36:44,104 DEV : loss 0.4558561444282532 - f1-score (micro avg)  0.771\n"
          ]
        },
        {
          "output_type": "stream",
          "name": "stderr",
          "text": [
            "\n"
          ]
        },
        {
          "output_type": "stream",
          "name": "stdout",
          "text": [
            "2023-11-02 11:36:49,813  - 1 epochs without improvement\n",
            "2023-11-02 11:36:49,820 ----------------------------------------------------------------------------------------------------\n",
            "2023-11-02 11:37:03,597 epoch 4 - iter 6/65 - loss 0.40110785 - time (sec): 13.77 - samples/sec: 27.88 - lr: 0.100000 - momentum: 0.000000\n",
            "2023-11-02 11:37:16,782 epoch 4 - iter 12/65 - loss 0.38713170 - time (sec): 26.96 - samples/sec: 28.49 - lr: 0.100000 - momentum: 0.000000\n",
            "2023-11-02 11:37:29,917 epoch 4 - iter 18/65 - loss 0.37577303 - time (sec): 40.09 - samples/sec: 28.73 - lr: 0.100000 - momentum: 0.000000\n",
            "2023-11-02 11:37:43,103 epoch 4 - iter 24/65 - loss 0.38456238 - time (sec): 53.28 - samples/sec: 28.83 - lr: 0.100000 - momentum: 0.000000\n",
            "2023-11-02 11:37:52,916 epoch 4 - iter 30/65 - loss 0.37345233 - time (sec): 63.09 - samples/sec: 30.43 - lr: 0.100000 - momentum: 0.000000\n",
            "2023-11-02 11:38:08,248 epoch 4 - iter 36/65 - loss 0.37474818 - time (sec): 78.42 - samples/sec: 29.38 - lr: 0.100000 - momentum: 0.000000\n",
            "2023-11-02 11:38:24,144 epoch 4 - iter 42/65 - loss 0.37053803 - time (sec): 94.32 - samples/sec: 28.50 - lr: 0.100000 - momentum: 0.000000\n",
            "2023-11-02 11:38:37,110 epoch 4 - iter 48/65 - loss 0.36197743 - time (sec): 107.29 - samples/sec: 28.63 - lr: 0.100000 - momentum: 0.000000\n",
            "2023-11-02 11:38:52,309 epoch 4 - iter 54/65 - loss 0.36661658 - time (sec): 122.48 - samples/sec: 28.22 - lr: 0.100000 - momentum: 0.000000\n",
            "2023-11-02 11:39:08,403 epoch 4 - iter 60/65 - loss 0.36108020 - time (sec): 138.58 - samples/sec: 27.71 - lr: 0.100000 - momentum: 0.000000\n",
            "2023-11-02 11:39:19,243 ----------------------------------------------------------------------------------------------------\n",
            "2023-11-02 11:39:19,246 EPOCH 4 done: loss 0.3613 - lr: 0.100000\n"
          ]
        },
        {
          "output_type": "stream",
          "name": "stderr",
          "text": [
            "100%|██████████| 22/22 [00:48<00:00,  2.22s/it]"
          ]
        },
        {
          "output_type": "stream",
          "name": "stdout",
          "text": [
            "2023-11-02 11:40:08,111 DEV : loss 0.318513423204422 - f1-score (micro avg)  0.8786\n"
          ]
        },
        {
          "output_type": "stream",
          "name": "stderr",
          "text": [
            "\n"
          ]
        },
        {
          "output_type": "stream",
          "name": "stdout",
          "text": [
            "2023-11-02 11:40:13,841  - 2 epochs without improvement\n",
            "2023-11-02 11:40:13,849 ----------------------------------------------------------------------------------------------------\n",
            "2023-11-02 11:40:28,634 epoch 5 - iter 6/65 - loss 0.30609260 - time (sec): 14.78 - samples/sec: 25.98 - lr: 0.100000 - momentum: 0.000000\n",
            "2023-11-02 11:40:41,336 epoch 5 - iter 12/65 - loss 0.31529164 - time (sec): 27.48 - samples/sec: 27.95 - lr: 0.100000 - momentum: 0.000000\n",
            "2023-11-02 11:40:52,481 epoch 5 - iter 18/65 - loss 0.32831561 - time (sec): 38.63 - samples/sec: 29.82 - lr: 0.100000 - momentum: 0.000000\n",
            "2023-11-02 11:41:04,905 epoch 5 - iter 24/65 - loss 0.33115101 - time (sec): 51.05 - samples/sec: 30.09 - lr: 0.100000 - momentum: 0.000000\n",
            "2023-11-02 11:41:19,351 epoch 5 - iter 30/65 - loss 0.33349179 - time (sec): 65.50 - samples/sec: 29.31 - lr: 0.100000 - momentum: 0.000000\n",
            "2023-11-02 11:41:31,430 epoch 5 - iter 36/65 - loss 0.33874078 - time (sec): 77.58 - samples/sec: 29.70 - lr: 0.100000 - momentum: 0.000000\n",
            "2023-11-02 11:41:43,005 epoch 5 - iter 42/65 - loss 0.33559909 - time (sec): 89.15 - samples/sec: 30.15 - lr: 0.100000 - momentum: 0.000000\n",
            "2023-11-02 11:41:56,899 epoch 5 - iter 48/65 - loss 0.33695336 - time (sec): 103.05 - samples/sec: 29.81 - lr: 0.100000 - momentum: 0.000000\n",
            "2023-11-02 11:42:08,527 epoch 5 - iter 54/65 - loss 0.34214482 - time (sec): 114.67 - samples/sec: 30.14 - lr: 0.100000 - momentum: 0.000000\n",
            "2023-11-02 11:42:23,783 epoch 5 - iter 60/65 - loss 0.35017730 - time (sec): 129.93 - samples/sec: 29.55 - lr: 0.100000 - momentum: 0.000000\n",
            "2023-11-02 11:42:39,961 ----------------------------------------------------------------------------------------------------\n",
            "2023-11-02 11:42:39,967 EPOCH 5 done: loss 0.3468 - lr: 0.100000\n"
          ]
        },
        {
          "output_type": "stream",
          "name": "stderr",
          "text": [
            "100%|██████████| 22/22 [00:50<00:00,  2.31s/it]"
          ]
        },
        {
          "output_type": "stream",
          "name": "stdout",
          "text": [
            "2023-11-02 11:43:30,757 DEV : loss 0.3234602212905884 - f1-score (micro avg)  0.8945\n"
          ]
        },
        {
          "output_type": "stream",
          "name": "stderr",
          "text": [
            "\n"
          ]
        },
        {
          "output_type": "stream",
          "name": "stdout",
          "text": [
            "2023-11-02 11:43:39,953  - 0 epochs without improvement\n",
            "2023-11-02 11:43:39,962 saving best model\n",
            "2023-11-02 11:43:40,053 ----------------------------------------------------------------------------------------------------\n",
            "2023-11-02 11:43:53,663 epoch 6 - iter 6/65 - loss 0.27699604 - time (sec): 13.60 - samples/sec: 28.23 - lr: 0.100000 - momentum: 0.000000\n",
            "2023-11-02 11:44:06,482 epoch 6 - iter 12/65 - loss 0.33551319 - time (sec): 26.42 - samples/sec: 29.07 - lr: 0.100000 - momentum: 0.000000\n",
            "2023-11-02 11:44:20,922 epoch 6 - iter 18/65 - loss 0.33170405 - time (sec): 40.86 - samples/sec: 28.19 - lr: 0.100000 - momentum: 0.000000\n",
            "2023-11-02 11:44:33,553 epoch 6 - iter 24/65 - loss 0.35038703 - time (sec): 53.49 - samples/sec: 28.71 - lr: 0.100000 - momentum: 0.000000\n",
            "2023-11-02 11:44:46,065 epoch 6 - iter 30/65 - loss 0.34922795 - time (sec): 66.00 - samples/sec: 29.09 - lr: 0.100000 - momentum: 0.000000\n",
            "2023-11-02 11:44:59,636 epoch 6 - iter 36/65 - loss 0.33938521 - time (sec): 79.58 - samples/sec: 28.95 - lr: 0.100000 - momentum: 0.000000\n",
            "2023-11-02 11:45:11,230 epoch 6 - iter 42/65 - loss 0.34173285 - time (sec): 91.17 - samples/sec: 29.48 - lr: 0.100000 - momentum: 0.000000\n",
            "2023-11-02 11:45:22,703 epoch 6 - iter 48/65 - loss 0.34007753 - time (sec): 102.64 - samples/sec: 29.93 - lr: 0.100000 - momentum: 0.000000\n",
            "2023-11-02 11:45:35,382 epoch 6 - iter 54/65 - loss 0.34452719 - time (sec): 115.32 - samples/sec: 29.97 - lr: 0.100000 - momentum: 0.000000\n",
            "2023-11-02 11:45:48,556 epoch 6 - iter 60/65 - loss 0.34173017 - time (sec): 128.49 - samples/sec: 29.88 - lr: 0.100000 - momentum: 0.000000\n",
            "2023-11-02 11:45:58,723 ----------------------------------------------------------------------------------------------------\n",
            "2023-11-02 11:45:58,728 EPOCH 6 done: loss 0.3416 - lr: 0.100000\n"
          ]
        },
        {
          "output_type": "stream",
          "name": "stderr",
          "text": [
            "100%|██████████| 22/22 [00:47<00:00,  2.15s/it]"
          ]
        },
        {
          "output_type": "stream",
          "name": "stdout",
          "text": [
            "2023-11-02 11:46:46,049 DEV : loss 0.35377237200737 - f1-score (micro avg)  0.8692\n"
          ]
        },
        {
          "output_type": "stream",
          "name": "stderr",
          "text": [
            "\n"
          ]
        },
        {
          "output_type": "stream",
          "name": "stdout",
          "text": [
            "2023-11-02 11:46:51,811  - 1 epochs without improvement\n",
            "2023-11-02 11:46:51,819 ----------------------------------------------------------------------------------------------------\n",
            "2023-11-02 11:47:04,523 epoch 7 - iter 6/65 - loss 0.34015526 - time (sec): 12.70 - samples/sec: 30.23 - lr: 0.100000 - momentum: 0.000000\n",
            "2023-11-02 11:47:19,253 epoch 7 - iter 12/65 - loss 0.35806033 - time (sec): 27.43 - samples/sec: 28.00 - lr: 0.100000 - momentum: 0.000000\n",
            "2023-11-02 11:47:33,404 epoch 7 - iter 18/65 - loss 0.32673311 - time (sec): 41.58 - samples/sec: 27.70 - lr: 0.100000 - momentum: 0.000000\n",
            "2023-11-02 11:47:45,823 epoch 7 - iter 24/65 - loss 0.31594740 - time (sec): 54.00 - samples/sec: 28.44 - lr: 0.100000 - momentum: 0.000000\n",
            "2023-11-02 11:47:59,246 epoch 7 - iter 30/65 - loss 0.30593621 - time (sec): 67.42 - samples/sec: 28.48 - lr: 0.100000 - momentum: 0.000000\n",
            "2023-11-02 11:48:11,149 epoch 7 - iter 36/65 - loss 0.32656874 - time (sec): 79.33 - samples/sec: 29.04 - lr: 0.100000 - momentum: 0.000000\n",
            "2023-11-02 11:48:25,127 epoch 7 - iter 42/65 - loss 0.32332126 - time (sec): 93.31 - samples/sec: 28.81 - lr: 0.100000 - momentum: 0.000000\n",
            "2023-11-02 11:48:38,574 epoch 7 - iter 48/65 - loss 0.31660089 - time (sec): 106.75 - samples/sec: 28.78 - lr: 0.100000 - momentum: 0.000000\n",
            "2023-11-02 11:48:51,077 epoch 7 - iter 54/65 - loss 0.32496414 - time (sec): 119.26 - samples/sec: 28.98 - lr: 0.100000 - momentum: 0.000000\n",
            "2023-11-02 11:49:03,196 epoch 7 - iter 60/65 - loss 0.33325885 - time (sec): 131.37 - samples/sec: 29.23 - lr: 0.100000 - momentum: 0.000000\n",
            "2023-11-02 11:49:13,145 ----------------------------------------------------------------------------------------------------\n",
            "2023-11-02 11:49:13,147 EPOCH 7 done: loss 0.3336 - lr: 0.100000\n"
          ]
        },
        {
          "output_type": "stream",
          "name": "stderr",
          "text": [
            "100%|██████████| 22/22 [00:47<00:00,  2.16s/it]"
          ]
        },
        {
          "output_type": "stream",
          "name": "stdout",
          "text": [
            "2023-11-02 11:50:00,711 DEV : loss 0.30745401978492737 - f1-score (micro avg)  0.896\n"
          ]
        },
        {
          "output_type": "stream",
          "name": "stderr",
          "text": [
            "\n"
          ]
        },
        {
          "output_type": "stream",
          "name": "stdout",
          "text": [
            "2023-11-02 11:50:09,065  - 0 epochs without improvement\n",
            "2023-11-02 11:50:09,075 saving best model\n",
            "2023-11-02 11:50:09,187 ----------------------------------------------------------------------------------------------------\n",
            "2023-11-02 11:50:21,848 epoch 8 - iter 6/65 - loss 0.29554606 - time (sec): 12.66 - samples/sec: 30.34 - lr: 0.100000 - momentum: 0.000000\n",
            "2023-11-02 11:50:32,662 epoch 8 - iter 12/65 - loss 0.34624669 - time (sec): 23.47 - samples/sec: 32.72 - lr: 0.100000 - momentum: 0.000000\n",
            "2023-11-02 11:50:46,697 epoch 8 - iter 18/65 - loss 0.34097613 - time (sec): 37.51 - samples/sec: 30.72 - lr: 0.100000 - momentum: 0.000000\n",
            "2023-11-02 11:51:01,750 epoch 8 - iter 24/65 - loss 0.33526782 - time (sec): 52.56 - samples/sec: 29.22 - lr: 0.100000 - momentum: 0.000000\n",
            "2023-11-02 11:51:15,195 epoch 8 - iter 30/65 - loss 0.34532879 - time (sec): 66.00 - samples/sec: 29.09 - lr: 0.100000 - momentum: 0.000000\n",
            "2023-11-02 11:51:28,521 epoch 8 - iter 36/65 - loss 0.34004607 - time (sec): 79.33 - samples/sec: 29.04 - lr: 0.100000 - momentum: 0.000000\n",
            "2023-11-02 11:51:41,307 epoch 8 - iter 42/65 - loss 0.33237515 - time (sec): 92.12 - samples/sec: 29.18 - lr: 0.100000 - momentum: 0.000000\n",
            "2023-11-02 11:51:53,267 epoch 8 - iter 48/65 - loss 0.33650110 - time (sec): 104.08 - samples/sec: 29.52 - lr: 0.100000 - momentum: 0.000000\n",
            "2023-11-02 11:52:07,580 epoch 8 - iter 54/65 - loss 0.33621747 - time (sec): 118.39 - samples/sec: 29.19 - lr: 0.100000 - momentum: 0.000000\n",
            "2023-11-02 11:52:19,822 epoch 8 - iter 60/65 - loss 0.33732682 - time (sec): 130.63 - samples/sec: 29.40 - lr: 0.100000 - momentum: 0.000000\n",
            "2023-11-02 11:52:29,888 ----------------------------------------------------------------------------------------------------\n",
            "2023-11-02 11:52:29,891 EPOCH 8 done: loss 0.3319 - lr: 0.100000\n"
          ]
        },
        {
          "output_type": "stream",
          "name": "stderr",
          "text": [
            "100%|██████████| 22/22 [00:48<00:00,  2.18s/it]"
          ]
        },
        {
          "output_type": "stream",
          "name": "stdout",
          "text": [
            "2023-11-02 11:53:17,982 DEV : loss 0.30860140919685364 - f1-score (micro avg)  0.8902\n"
          ]
        },
        {
          "output_type": "stream",
          "name": "stderr",
          "text": [
            "\n"
          ]
        },
        {
          "output_type": "stream",
          "name": "stdout",
          "text": [
            "2023-11-02 11:53:23,904  - 1 epochs without improvement\n",
            "2023-11-02 11:53:23,911 ----------------------------------------------------------------------------------------------------\n",
            "2023-11-02 11:53:37,655 epoch 9 - iter 6/65 - loss 0.33135812 - time (sec): 13.74 - samples/sec: 27.95 - lr: 0.100000 - momentum: 0.000000\n",
            "2023-11-02 11:53:50,273 epoch 9 - iter 12/65 - loss 0.33163780 - time (sec): 26.36 - samples/sec: 29.14 - lr: 0.100000 - momentum: 0.000000\n",
            "2023-11-02 11:54:01,971 epoch 9 - iter 18/65 - loss 0.32322631 - time (sec): 38.06 - samples/sec: 30.27 - lr: 0.100000 - momentum: 0.000000\n",
            "2023-11-02 11:54:14,627 epoch 9 - iter 24/65 - loss 0.34330832 - time (sec): 50.71 - samples/sec: 30.29 - lr: 0.100000 - momentum: 0.000000\n",
            "2023-11-02 11:54:27,772 epoch 9 - iter 30/65 - loss 0.33575561 - time (sec): 63.86 - samples/sec: 30.07 - lr: 0.100000 - momentum: 0.000000\n",
            "2023-11-02 11:54:40,757 epoch 9 - iter 36/65 - loss 0.34805670 - time (sec): 76.84 - samples/sec: 29.98 - lr: 0.100000 - momentum: 0.000000\n",
            "2023-11-02 11:54:53,414 epoch 9 - iter 42/65 - loss 0.34223950 - time (sec): 89.50 - samples/sec: 30.03 - lr: 0.100000 - momentum: 0.000000\n",
            "2023-11-02 11:55:05,535 epoch 9 - iter 48/65 - loss 0.33420985 - time (sec): 101.62 - samples/sec: 30.23 - lr: 0.100000 - momentum: 0.000000\n",
            "2023-11-02 11:55:18,169 epoch 9 - iter 54/65 - loss 0.33220609 - time (sec): 114.25 - samples/sec: 30.25 - lr: 0.100000 - momentum: 0.000000\n",
            "2023-11-02 11:55:30,711 epoch 9 - iter 60/65 - loss 0.33469099 - time (sec): 126.80 - samples/sec: 30.28 - lr: 0.100000 - momentum: 0.000000\n",
            "2023-11-02 11:55:42,799 ----------------------------------------------------------------------------------------------------\n",
            "2023-11-02 11:55:42,805 EPOCH 9 done: loss 0.3307 - lr: 0.100000\n"
          ]
        },
        {
          "output_type": "stream",
          "name": "stderr",
          "text": [
            "100%|██████████| 22/22 [00:49<00:00,  2.26s/it]"
          ]
        },
        {
          "output_type": "stream",
          "name": "stdout",
          "text": [
            "2023-11-02 11:56:32,476 DEV : loss 0.3125089704990387 - f1-score (micro avg)  0.8967\n"
          ]
        },
        {
          "output_type": "stream",
          "name": "stderr",
          "text": [
            "\n"
          ]
        },
        {
          "output_type": "stream",
          "name": "stdout",
          "text": [
            "2023-11-02 11:56:39,077  - 0 epochs without improvement\n",
            "2023-11-02 11:56:39,087 saving best model\n",
            "2023-11-02 11:56:39,214 ----------------------------------------------------------------------------------------------------\n",
            "2023-11-02 11:56:52,142 epoch 10 - iter 6/65 - loss 0.27578872 - time (sec): 12.92 - samples/sec: 29.72 - lr: 0.100000 - momentum: 0.000000\n",
            "2023-11-02 11:57:05,519 epoch 10 - iter 12/65 - loss 0.27661531 - time (sec): 26.30 - samples/sec: 29.20 - lr: 0.100000 - momentum: 0.000000\n",
            "2023-11-02 11:57:18,882 epoch 10 - iter 18/65 - loss 0.28191450 - time (sec): 39.66 - samples/sec: 29.05 - lr: 0.100000 - momentum: 0.000000\n",
            "2023-11-02 11:57:32,043 epoch 10 - iter 24/65 - loss 0.28657441 - time (sec): 52.82 - samples/sec: 29.08 - lr: 0.100000 - momentum: 0.000000\n",
            "2023-11-02 11:57:46,055 epoch 10 - iter 30/65 - loss 0.29020804 - time (sec): 66.83 - samples/sec: 28.73 - lr: 0.100000 - momentum: 0.000000\n",
            "2023-11-02 11:57:58,057 epoch 10 - iter 36/65 - loss 0.30005703 - time (sec): 78.84 - samples/sec: 29.23 - lr: 0.100000 - momentum: 0.000000\n",
            "2023-11-02 11:58:10,614 epoch 10 - iter 42/65 - loss 0.29921411 - time (sec): 91.39 - samples/sec: 29.41 - lr: 0.100000 - momentum: 0.000000\n",
            "2023-11-02 11:58:22,308 epoch 10 - iter 48/65 - loss 0.30724382 - time (sec): 103.09 - samples/sec: 29.80 - lr: 0.100000 - momentum: 0.000000\n",
            "2023-11-02 11:58:36,899 epoch 10 - iter 54/65 - loss 0.31379827 - time (sec): 117.68 - samples/sec: 29.37 - lr: 0.100000 - momentum: 0.000000\n",
            "2023-11-02 11:58:48,926 epoch 10 - iter 60/65 - loss 0.32073398 - time (sec): 129.70 - samples/sec: 29.61 - lr: 0.100000 - momentum: 0.000000\n",
            "2023-11-02 11:58:56,806 ----------------------------------------------------------------------------------------------------\n",
            "2023-11-02 11:58:56,810 EPOCH 10 done: loss 0.3197 - lr: 0.100000\n"
          ]
        },
        {
          "output_type": "stream",
          "name": "stderr",
          "text": [
            "100%|██████████| 22/22 [00:48<00:00,  2.19s/it]"
          ]
        },
        {
          "output_type": "stream",
          "name": "stdout",
          "text": [
            "2023-11-02 11:59:45,086 DEV : loss 0.34775254130363464 - f1-score (micro avg)  0.8764\n"
          ]
        },
        {
          "output_type": "stream",
          "name": "stderr",
          "text": [
            "\n"
          ]
        },
        {
          "output_type": "stream",
          "name": "stdout",
          "text": [
            "2023-11-02 11:59:53,281  - 1 epochs without improvement\n",
            "2023-11-02 11:59:53,383 ----------------------------------------------------------------------------------------------------\n",
            "2023-11-02 11:59:53,388 Loading model from best epoch ...\n"
          ]
        },
        {
          "output_type": "stream",
          "name": "stderr",
          "text": [
            "100%|██████████| 22/22 [00:51<00:00,  2.33s/it]"
          ]
        },
        {
          "output_type": "stream",
          "name": "stdout",
          "text": [
            "2023-11-02 12:00:45,205 \n",
            "Results:\n",
            "- F-score (micro) 0.878\n",
            "- F-score (macro) 0.8753\n",
            "- Accuracy 0.878\n",
            "\n",
            "By class:\n",
            "              precision    recall  f1-score   support\n",
            "\n",
            "           0     0.8975    0.8896    0.8935       797\n",
            "           1     0.8521    0.8622    0.8571       588\n",
            "\n",
            "    accuracy                         0.8780      1385\n",
            "   macro avg     0.8748    0.8759    0.8753      1385\n",
            "weighted avg     0.8782    0.8780    0.8781      1385\n",
            "\n",
            "2023-11-02 12:00:45,209 ----------------------------------------------------------------------------------------------------\n"
          ]
        },
        {
          "output_type": "stream",
          "name": "stderr",
          "text": [
            "\n"
          ]
        },
        {
          "output_type": "execute_result",
          "data": {
            "text/plain": [
              "{'test_score': 0.8779783393501805}"
            ]
          },
          "metadata": {},
          "execution_count": 27
        }
      ]
    }
  ]
}