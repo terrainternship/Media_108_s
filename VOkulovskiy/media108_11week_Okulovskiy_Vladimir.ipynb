{
  "cells": [
    {
      "cell_type": "code",
      "execution_count": 1,
      "metadata": {
        "id": "RWy0CQsurrnK"
      },
      "outputs": [],
      "source": [
        "import os            # для работы с операционной системой\n",
        "import pickle        # для сохранения и загрузки переменных\n",
        "import pandas as pd  # для работы с таблицами\n",
        "import numpy  as np  # для работы с массивами\n",
        "import re            # для работы с регулярными выражениями\n",
        "import zlib\n",
        "from sklearn.model_selection import train_test_split\n",
        "from sklearn.metrics import mean_squared_error\n",
        "from sklearn.tree import DecisionTreeClassifier\n",
        "from sklearn.metrics import balanced_accuracy_score\n",
        "from sklearn.ensemble import RandomForestClassifier\n",
        "from sklearn.linear_model import LogisticRegression\n",
        "from sklearn.utils import class_weight\n",
        "from sklearn.metrics import roc_auc_score, roc_curve, classification_report\n",
        "\n",
        "import tensorflow as tf\n",
        "import random\n",
        "from tensorflow.keras.preprocessing.text import Tokenizer\n",
        "from tensorflow.keras.models import Sequential, Model, load_model\n",
        "from tensorflow.keras.layers import *\n",
        "from tensorflow.keras.optimizers import Adam, Adadelta, RMSprop\n",
        "from tensorflow.keras.callbacks import EarlyStopping, ModelCheckpoint, ReduceLROnPlateau\n",
        "from tensorflow.keras import utils\n",
        "from tensorflow.keras.models import load_model\n",
        "from tensorflow.keras.preprocessing.sequence import pad_sequences  # Заполнение последовательностей до определенной длины\n",
        "import matplotlib.pyplot as plt\n",
        "#from sklearn.feature_extraction.text import TfidfVectorizer\n",
        "# Сброс ограничений на количество выводимых рядов\n",
        "pd.set_option('display.max_rows', None)\n",
        "# Сброс ограничений на число столбцов\n",
        "pd.set_option('display.max_columns', None)\n",
        "# Сброс ограничений на количество символов в записи\n",
        "pd.set_option('display.max_colwidth', None)"
      ]
    },
    {
      "cell_type": "code",
      "execution_count": null,
      "metadata": {
        "colab": {
          "base_uri": "https://localhost:8080/"
        },
        "id": "IvNAOBk1tpG7",
        "outputId": "299fb1d1-c7dd-477a-b0cb-c559755617be"
      },
      "outputs": [
        {
          "name": "stdout",
          "output_type": "stream",
          "text": [
            "Mounted at /content/drive\n"
          ]
        }
      ],
      "source": [
        "from google.colab import drive\n",
        "drive.mount('/content/drive')"
      ]
    },
    {
      "cell_type": "code",
      "execution_count": null,
      "metadata": {
        "id": "qdYpAL-_rrnN"
      },
      "outputs": [],
      "source": [
        "# Загрузка датафрейма\n",
        "# with open( 'total_transcriptions_text_df.pkl', 'rb') as f:\n",
        "#    df = pkl.load(f)\n",
        "#f_dir = '/content/drive/MyDrive/Traineeships/media108/'\n",
        "f_dir = 'c:/Users/vokulovskiy/Documents/python/media108/'\n",
        "f_name = 'df_new_good.xlsx'\n",
        "f_name_mod = 'df_new_good_mod1.xlsx'\n",
        "f_name_mod_csv = 'df_new_good_mod1.csv'\n",
        "#df = pd.read_excel(f_dir+f_name_mod)\n",
        "df = pd.read_csv(f_dir+f_name_mod_csv, sep=';') # ,encoding='cp1251'\n",
        "#df = pd.read_csv(f_name)\n",
        "#df.to_excel('f_dir+f_name', index=False)"
      ]
    },
    {
      "cell_type": "markdown",
      "metadata": {
        "id": "x6W0Id1Ib0T_"
      },
      "source": [
        "# Подготовка данных"
      ]
    },
    {
      "cell_type": "code",
      "execution_count": null,
      "metadata": {
        "id": "bZkT7w5OrrnN",
        "outputId": "de3f04ca-88f0-45b7-d1ce-d40841155ece"
      },
      "outputs": [
        {
          "name": "stdout",
          "output_type": "stream",
          "text": [
            "Целевых звонков с длительностью < 30 сек: 0, всего звонков 0\n",
            "Целевых звонков с длительностью < 35 сек: 11, всего звонков 122\n",
            "Целевых звонков с длительностью < 40 сек: 22, всего звонков 261\n",
            "Целевых звонков с длительностью < 45 сек: 40, всего звонков 383\n",
            "Целевых звонков с длительностью < 50 сек: 53, всего звонков 516\n",
            "Целевых звонков с длительностью < 55 сек: 68, всего звонков 628\n",
            "Целевых звонков с длительностью < 60 сек: 81, всего звонков 759\n",
            "Целевых звонков с длительностью < 65 сек: 95, всего звонков 867\n",
            "Целевых звонков с длительностью < 70 сек: 109, всего звонков 966\n",
            "Целевых звонков с длительностью < 75 сек: 123, всего звонков 1090\n",
            "target\n",
            "0    2528\n",
            "1    2263\n",
            "Name: count, dtype: int64\n"
          ]
        },
        {
          "data": {
            "text/plain": [
              "'\\n0    2528\\n1    2263'"
            ]
          },
          "execution_count": 81,
          "metadata": {},
          "output_type": "execute_result"
        }
      ],
      "source": [
        "# оставим поля Name, Текст_whisper, Дата и время, Длительность звонка, Номер обращения, Признак, Теги\n",
        "new_col = {'Текст_whisper':'text','Дата и время':'date_time','Длительность звонка':'length','Номер обращения':'ref_num','Name':'name','Теги':'tags','Признак':'target'}\n",
        "df.rename(columns = new_col, inplace=True)\n",
        "df = df.loc[:,list(new_col.values())]\n",
        "#Удаляем из Текст_whisper все символы кроме русских букв и цифр\n",
        "df.text = df.text.apply(lambda s: re.sub(\"[^А-Яа-я0-9 ]\", \"\", s.lower()).strip())\n",
        "# Заменим буквы 'ё' на 'е'\n",
        "df.text = df.text.str.replace('ё', 'е', regex=False)\n",
        "# удаляем строки с пустым текстом\n",
        "df = df[df.text.str.len()>0]\n",
        "# поменяем тип столбца с датами\n",
        "df.date_time = pd.to_datetime(df.date_time, format='%Y-%m-%d %H:%M:%S')\n",
        "# Сколько целевых звонков длиной меньше х сек?\n",
        "for x in range(30,76,5):\n",
        "    print(f'Целевых звонков с длительностью < {x} сек: {df[(df.length<x)&(df.target==1)].target.count()}, всего звонков {df[df.length<x].target.count()}')\n",
        "# Целевых звонков с длительностью < 30 сек: 2, всего звонков 1737\n",
        "# Удаляем звонки с длительностью < 30 сек\n",
        "df = df[(df.length>30)]\n",
        "print(df.target.value_counts())\n",
        "\n",
        "# 0    2528\n",
        "# 1    2263"
      ]
    },
    {
      "cell_type": "code",
      "execution_count": null,
      "metadata": {
        "id": "oXmU4Xkv2LM2"
      },
      "outputs": [],
      "source": [
        "# Добавление колонки \"Признак\" и заполнение ее данными на основе колоки \"Теги\"\n",
        "#df.insert(7,'target1',value=np.NaN)\n",
        "list_teg = df.tags.str.strip().tolist()\n",
        "list_priz = []\n",
        "for i in range(len(list_teg)):\n",
        "    list_priz.append(1 if (re.search(r'\\bПервичный целевой\\b',list_teg[i],re.I) != None or re.search(r'\\bЦелевой_М108',list_teg[i]) != None) else 0)\n",
        "    if (re.search(r'\\b[Нн]ецелевой\\b',list_teg[i],re.I) != None or re.search(r'\\b[нН]ецелевой_',list_teg[i]) != None):\n",
        "        list_priz[i] = 0\n",
        "df.target1 = list_priz"
      ]
    },
    {
      "cell_type": "code",
      "execution_count": null,
      "metadata": {
        "id": "PiYHXP7u2LM2"
      },
      "outputs": [],
      "source": [
        "#df[df.tags.str.contains('торичный целевой') & ~df.tags.str.contains('остпродажное обслуживание')].tags\n",
        "#df[df.tags.str.contains('повторная покупка')].tags"
      ]
    },
    {
      "cell_type": "code",
      "execution_count": null,
      "metadata": {
        "id": "eJV3sL17rrnP",
        "outputId": "c87e7e56-2304-4582-9903-bb435fc45a22"
      },
      "outputs": [
        {
          "name": "stdout",
          "output_type": "stream",
          "text": [
            "<class 'pandas.core.frame.DataFrame'>\n",
            "RangeIndex: 4791 entries, 0 to 4790\n",
            "Data columns (total 9 columns):\n",
            " #   Column     Non-Null Count  Dtype \n",
            "---  ------     --------------  ----- \n",
            " 0   text       4791 non-null   object\n",
            " 1   date_time  4791 non-null   object\n",
            " 2   length     4791 non-null   int64 \n",
            " 3   ref_num    4791 non-null   int64 \n",
            " 4   name       4791 non-null   object\n",
            " 5   tags       4791 non-null   object\n",
            " 6   target     4791 non-null   int64 \n",
            " 7   text_bow   4791 non-null   object\n",
            " 8   text_emb   4791 non-null   object\n",
            "dtypes: int64(3), object(6)\n",
            "memory usage: 337.0+ KB\n"
          ]
        },
        {
          "data": {
            "text/plain": [
              "Index(['text', 'date_time', 'length', 'ref_num', 'name', 'tags', 'target',\n",
              "       'text_bow', 'text_emb'],\n",
              "      dtype='object')"
            ]
          },
          "execution_count": 101,
          "metadata": {},
          "output_type": "execute_result"
        }
      ],
      "source": [
        "# df.sample(5)\n",
        "df.info()\n",
        "df.columns\n",
        "# df.nunique()\n",
        "# df.to_excel(f_dir+f_name_mod, index=False)\n",
        "# df.target.value_counts()"
      ]
    },
    {
      "cell_type": "code",
      "execution_count": null,
      "metadata": {
        "id": "6ZgTEeb32LM3",
        "outputId": "721d942c-4b01-4bdf-a46b-b9a6276a5315"
      },
      "outputs": [
        {
          "name": "stdout",
          "output_type": "stream",
          "text": [
            "<class 'pandas.core.frame.DataFrame'>\n",
            "RangeIndex: 4791 entries, 0 to 4790\n",
            "Data columns (total 3 columns):\n",
            " #   Column    Non-Null Count  Dtype \n",
            "---  ------    --------------  ----- \n",
            " 0   target    4791 non-null   int64 \n",
            " 1   text_bow  4791 non-null   object\n",
            " 2   text_emb  4791 non-null   object\n",
            "dtypes: int64(1), object(2)\n",
            "memory usage: 112.4+ KB\n"
          ]
        }
      ],
      "source": [
        "df.drop(['text', 'date_time', 'length', 'ref_num', 'name', 'tags'],axis=1, inplace=True)\n",
        "df.info()\n"
      ]
    },
    {
      "cell_type": "code",
      "execution_count": null,
      "metadata": {
        "id": "LgM0ErDsrrnP"
      },
      "outputs": [],
      "source": [
        "'''\n",
        "from sklearn.feature_extraction.text import TfidfVectorizer\n",
        "vectorizer = TfidfVectorizer()\n",
        "tfidf_features = vectorizer.fit_transform(df.text).toarray()\n",
        "tfidf_features.shape\n",
        "# Мешок слов до обработки pymorphy2: 66787 после 66025 нет ни какого смысла в этой операции\n",
        "'''"
      ]
    },
    {
      "cell_type": "code",
      "execution_count": null,
      "metadata": {
        "id": "A0E8dVGMw_BH"
      },
      "outputs": [],
      "source": [
        "'''\n",
        "!pip install pymorphy2\n",
        "!pip install -U pymorphy2-dicts-ru\n",
        "import pymorphy2\n",
        "morph = pymorphy2.MorphAnalyzer()\n",
        "df['text_norm'] = df.text.apply(lambda x: ' '.join([morph.parse(s)[0].normal_form for s in x.split()]))\n",
        "df.loc[1:2,['text','text_norm']]\n",
        "'''"
      ]
    },
    {
      "cell_type": "markdown",
      "metadata": {
        "id": "sHpQBj0O2LM4"
      },
      "source": [
        "BoW wisper text"
      ]
    },
    {
      "cell_type": "code",
      "execution_count": null,
      "metadata": {
        "id": "W_3xUxPz2LM4",
        "outputId": "89fd724a-ef98-4035-cff0-a8838bdd7f20"
      },
      "outputs": [
        {
          "name": "stdout",
          "output_type": "stream",
          "text": [
            "66015\n"
          ]
        }
      ],
      "source": [
        "words_txt = 35000\n",
        "tokenizer_txt = Tokenizer(num_words=words_txt, filters='i!\"#$%&()*+,-–—/…:.;<=>?@[\\\\]^`{|}~«»\\t\\n\\xa0\\ufeff', lower=True, split=' ', oov_token='неизвестное_слово', char_level=False)\n",
        "tokenizer_txt.fit_on_texts(list(df.text))\n",
        "print(max(tokenizer_txt.word_index.values()))"
      ]
    },
    {
      "cell_type": "code",
      "execution_count": null,
      "metadata": {
        "id": "BFyuUeN32LM5",
        "outputId": "a6aa7d34-03cc-44aa-906c-9a5b73b4516b"
      },
      "outputs": [
        {
          "data": {
            "text/plain": [
              "(4791, 35000)"
            ]
          },
          "execution_count": 93,
          "metadata": {},
          "output_type": "execute_result"
        }
      ],
      "source": [
        "# Получение матрицы BOW для колонки с текстом\n",
        "bow_txt = tokenizer_txt.texts_to_matrix(df.text.tolist())\n",
        "# Создаем сжатую колонку с BoW\n",
        "df['text_bow'] = None\n",
        "for i in range(len(bow_txt)):\n",
        "    df.loc[i,'text_bow'] = zlib.compress(''.join([str(int(y)) for y in bow_txt[i]]).encode('utf-8'))\n",
        "bow_txt.shape\n",
        "# 35s"
      ]
    },
    {
      "cell_type": "code",
      "execution_count": null,
      "metadata": {
        "id": "7zhWwsga2LM5"
      },
      "outputs": [],
      "source": [
        "# Сохранение объекта-токенизатора в файл, для чтения используется pickle.dump()\n",
        "with open(f_dir+'model.pickle', 'wb') as f:\n",
        "    pickle.dump([tokenizer_txt,model], f)"
      ]
    },
    {
      "cell_type": "markdown",
      "metadata": {
        "id": "hHJyknYC870u"
      },
      "source": [
        "[BERT](https://habr.com/ru/articles/562064/)"
      ]
    },
    {
      "cell_type": "code",
      "execution_count": null,
      "metadata": {
        "id": "vx3wbnaR5h2l"
      },
      "outputs": [],
      "source": [
        "! pip install transformers sentencepiece\n",
        "import torch\n",
        "from transformers import AutoTokenizer, AutoModel\n",
        "tokenizer = AutoTokenizer.from_pretrained(\"cointegrated/rubert-tiny\")\n",
        "model_bert = AutoModel.from_pretrained(\"cointegrated/rubert-tiny\")\n",
        "# model.cuda()  # uncomment it if you have a GPU\n",
        "\n",
        "def embed_bert_cls(text, model, tokenizer):\n",
        "    t = tokenizer(text, padding=True, truncation=True, return_tensors='pt')\n",
        "    with torch.no_grad():\n",
        "        model_output = model(**{k: v.to(model.device) for k, v in t.items()})\n",
        "    embeddings = model_output.last_hidden_state[:, 0, :]\n",
        "    embeddings = torch.nn.functional.normalize(embeddings)\n",
        "    return embeddings[0].cpu().numpy()\n",
        "\n",
        "print(embed_bert_cls('привет мир', model_bert, tokenizer).shape)"
      ]
    },
    {
      "cell_type": "code",
      "execution_count": null,
      "metadata": {
        "id": "Gd6ma1Hb7hyN"
      },
      "outputs": [],
      "source": [
        "# Создаем колонку с эмбеддингами разговоров, размерность 312\n",
        "df['text_emb']=df.text.apply(lambda x: ','.join([str(y) for y in embed_bert_cls(x, model_bert, tokenizer)]))"
      ]
    },
    {
      "cell_type": "code",
      "execution_count": null,
      "metadata": {
        "id": "bbt0n1GDb0UE"
      },
      "outputs": [],
      "source": [
        "# Сохраняемся\n",
        "f_name_mod_csv = 'df_bow_emb1.csv'\n",
        "\n",
        "# df.to_excel(f_dir+f_name_mod, index=False)\n",
        "df.to_csv(f_dir+f_name_mod_csv, sep=';') # ,encoding='cp1251'\n",
        "# with open(f_dir+'token_encod.pkl', 'wb') as f:\n",
        "#     pkl.dump([tokenizer_txt], f)"
      ]
    },
    {
      "cell_type": "markdown",
      "metadata": {
        "id": "iPOmm2Tmb0UE"
      },
      "source": [
        "# Извлечение данных из CSV файла"
      ]
    },
    {
      "cell_type": "code",
      "execution_count": null,
      "metadata": {
        "id": "fe0YBxmO8QK6",
        "outputId": "a235e2c0-cfd1-431e-e6c9-10108d04cce7"
      },
      "outputs": [
        {
          "name": "stdout",
          "output_type": "stream",
          "text": [
            "(4791, 312) (4791, 35000) (4791,)\n"
          ]
        }
      ],
      "source": [
        "# Load from file\n",
        "#with open(pkl_filename, 'rb') as file:\n",
        "#pickle_model = pickle.load(file)\n",
        "#f_dir = '/content/drive/MyDrive/Traineeships/media108/'\n",
        "f_dir = 'c:/Users/vokulovskiy/Documents/python/media108/'\n",
        "f_name_mod_csv = 'df_bow_emb.csv'\n",
        "df = pd.read_csv(f_dir+f_name_mod_csv, sep=';')\n",
        "#Обратное преобразование, загрузка эмбеддингов/Bow из .csv\n",
        "x1 = []\n",
        "x2 = []\n",
        "for i,row in df.iterrows():\n",
        "    x1.append([float(j) for j in row.text_emb.split(',')])\n",
        "    x2.append(np.array(list(zlib.decompress(eval(row.text_bow)).decode('utf-8')), dtype=float))\n",
        "X1 = np.array(x1) # Embeddings\n",
        "X2 = np.array(x2) # Bow\n",
        "y = df.target.to_numpy()\n",
        "print(X1.shape,X2.shape,y.shape)\n",
        "# 23s"
      ]
    },
    {
      "cell_type": "code",
      "execution_count": null,
      "metadata": {
        "id": "3jFUH0Tf2LM6",
        "outputId": "ddcb8031-0198-41a2-d841-91a82da69246"
      },
      "outputs": [
        {
          "name": "stdout",
          "output_type": "stream",
          "text": [
            "(898,) (898,) 898\n",
            "(300,) (300,) 300\n"
          ]
        }
      ],
      "source": [
        "# Делим на выборки\n",
        "X1_train, X1_test, y1_train, y1_test = train_test_split(X1, y, train_size=0.75, test_size=0.25, random_state=313187, stratify=y)\n",
        "X1_val, X1_test, y1_val, y1_test = train_test_split(X1_test, y1_test, train_size=0.75, test_size=0.25, random_state=545212, stratify=y1_test)\n",
        "X2_train, X2_test, y2_train, y2_test = train_test_split(X2, y, train_size=0.75, test_size=0.25, random_state=313187, stratify=y)\n",
        "X2_val, X2_test, y2_val, y2_test = train_test_split(X2_test, y2_test, train_size=0.75, test_size=0.25, random_state=545212, stratify=y2_test)\n",
        "print(y1_val.shape, y2_val.shape, sum(y1_val==y2_val))\n",
        "print(y1_test.shape, y2_test.shape, sum(y1_test==y2_test))\n",
        "# 4s"
      ]
    },
    {
      "cell_type": "markdown",
      "metadata": {
        "id": "joyK1Tjf2LM6"
      },
      "source": [
        "# ML"
      ]
    },
    {
      "cell_type": "code",
      "execution_count": null,
      "metadata": {
        "id": "o7VRg8imb0UE",
        "outputId": "1f188b94-af7e-411f-be45-74e2dce4f1ef"
      },
      "outputs": [
        {
          "name": "stdout",
          "output_type": "stream",
          "text": [
            "Roc_auc_score embedding train: 0.8346758302688537   test: 0.8557675164913533\n",
            "Roc_auc_score BOW train: 0.8200375010256372   test: 0.7687644856480655\n"
          ]
        }
      ],
      "source": [
        "# LogisticRegression\n",
        "model1 = LogisticRegression()\n",
        "model1.fit(X1_train, y1_train)\n",
        "pred1_train = model1.predict(X1_train)\n",
        "pred1_test = model1.predict(X1_test)\n",
        "print('Roc_auc_score embedding train:',roc_auc_score(y1_train, pred1_train),'  test:', roc_auc_score(y1_test, pred1_test))\n",
        "\n",
        "model2 = LogisticRegression()\n",
        "model2.fit(X2_train, y2_train)\n",
        "pred2_train = model2.predict(X2_train)\n",
        "pred2_test = model2.predict(X2_test)\n",
        "print('Roc_auc_score BOW train:',roc_auc_score(y2_train, pred2_train),'  test:', roc_auc_score(y2_test, pred2_test))\n",
        "# 12s"
      ]
    },
    {
      "cell_type": "code",
      "execution_count": null,
      "metadata": {
        "id": "iphL3KLJb0UF",
        "outputId": "1136946f-a6db-4aa9-a20b-bcca33484c87"
      },
      "outputs": [
        {
          "name": "stdout",
          "output_type": "stream",
          "text": [
            "Roc_auc_score embedding train: 0.8440423843019078   test: 0.8093243002317705\n",
            "Roc_auc_score BOW train: 0.7352970245332417   test: 0.706810483152077\n"
          ]
        }
      ],
      "source": [
        "\n",
        "# DecisionTree\n",
        "model1 = DecisionTreeClassifier(max_depth=5, min_samples_leaf=9, random_state=10)\n",
        "model1.fit(X1_train, y1_train)\n",
        "pred1_train = model1.predict(X1_train)\n",
        "pred1_test = model1.predict(X1_test)\n",
        "print('Roc_auc_score embedding train:',roc_auc_score(y1_train, pred1_train),'  test:', roc_auc_score(y1_test, pred1_test))\n",
        "\n",
        "model2 = DecisionTreeClassifier(max_depth=5, min_samples_leaf=9, random_state=10)\n",
        "model2.fit(X2_train, y2_train)\n",
        "pred2_train = model2.predict(X2_train)\n",
        "pred2_test = model2.predict(X2_test)\n",
        "print('Roc_auc_score BOW train:',roc_auc_score(y2_train, pred2_train),'  test:', roc_auc_score(y2_test, pred2_test))\n",
        "# 4s"
      ]
    },
    {
      "cell_type": "code",
      "execution_count": null,
      "metadata": {
        "id": "w8qm8suYb0UF",
        "outputId": "0829d4e4-e1a3-40e2-fba9-91f6b004ff7a"
      },
      "outputs": [
        {
          "name": "stdout",
          "output_type": "stream",
          "text": [
            "Roc_auc_score embedding train: 0.911168163475381   test: 0.8251470850418969\n",
            "Roc_auc_score BOW train: 0.6869231567745513   test: 0.6708415047245497\n"
          ]
        }
      ],
      "source": [
        "# RandomForest\n",
        "\n",
        "model1 = RandomForestClassifier(min_samples_leaf=3, max_depth=8, n_estimators=13, random_state=10)\n",
        "model1.fit(X1_train, y1_train)\n",
        "pred1_train = model1.predict(X1_train)\n",
        "pred1_test = model1.predict(X1_test)\n",
        "print('Roc_auc_score embedding train:',roc_auc_score(y1_train, pred1_train),'  test:', roc_auc_score(y1_test, pred1_test))\n",
        "\n",
        "model2 = RandomForestClassifier(min_samples_leaf=3, max_depth=8, n_estimators=13, random_state=10)\n",
        "model2.fit(X2_train, y2_train)\n",
        "pred2_train = model2.predict(X2_train)\n",
        "pred2_test = model2.predict(X2_test)\n",
        "print('Roc_auc_score BOW train:',roc_auc_score(y2_train, pred2_train),'  test:', roc_auc_score(y2_test, pred2_test))\n",
        "# 2s"
      ]
    },
    {
      "cell_type": "code",
      "execution_count": null,
      "metadata": {
        "colab": {
          "base_uri": "https://localhost:8080/"
        },
        "id": "TZUHqo2sb0UF",
        "outputId": "85ddb3f9-1aa3-442f-d53f-7037471ac58e"
      },
      "outputs": [
        {
          "name": "stdout",
          "output_type": "stream",
          "text": [
            "Roc_auc_score train: 0.9479282439350653   val: 0.855097126024998   test: 0.8561240862898912\n",
            "Roc_auc_score train: 0.7941626946535086   val: 0.7788790701377278   test: 0.7811107149224461\n"
          ]
        }
      ],
      "source": [
        "#XGboost\n",
        "from xgboost import XGBClassifier\n",
        "from IPython.display import clear_output\n",
        "model1 = XGBClassifier(n_estimators=100, max_depth=5, learning_rate=0.09, early_stopping_rounds=5)\n",
        "model1.fit(X1_train, y1_train, eval_set=[(X1_train, y1_train,), (X1_val, y1_val)])\n",
        "pred1_train = model1.predict(X1_train)\n",
        "pred1_val = model1.predict(X1_val)\n",
        "pred1_test = model1.predict(X1_test)\n",
        "\n",
        "model2 = XGBClassifier(n_estimators=100, max_depth=5, learning_rate=0.09, early_stopping_rounds=5)\n",
        "model2.fit(X2_train, y2_train, eval_set=[(X2_train, y2_train,), (X2_val, y2_val)])\n",
        "pred2_train = model2.predict(X2_train)\n",
        "pred2_val = model2.predict(X2_val)\n",
        "pred2_test = model2.predict(X2_test)\n",
        "\n",
        "clear_output()\n",
        "print('Roc_auc_score embedding train:',roc_auc_score(y1_train, pred1_train),'  val:',roc_auc_score(y1_val, pred1_val),'  test:', roc_auc_score(y1_test, pred1_test))\n",
        "print('Roc_auc_score BoW train:',roc_auc_score(y2_train, pred2_train),'  val:',roc_auc_score(y2_val, pred2_val),'  test:', roc_auc_score(y2_test, pred2_test))\n"
      ]
    },
    {
      "cell_type": "code",
      "execution_count": null,
      "metadata": {
        "id": "Tiw2tobUcLTy"
      },
      "outputs": [],
      "source": [
        "!pip install tpot"
      ]
    },
    {
      "cell_type": "code",
      "execution_count": null,
      "metadata": {
        "colab": {
          "base_uri": "https://localhost:8080/",
          "height": 263,
          "referenced_widgets": [
            "d24bdb84e44546fc9266a46680b590e5",
            "d388038909e04f02ae5367564c38a567",
            "66e4c929a0ce43d7959e63787d4830be",
            "5bdd81e7f87e483399e3ac91082ebd4f",
            "2929e43f5c5e4dec986772e69d0900be",
            "63ed2405deb04317a7af4b102812ae52",
            "d3ee53528c1c48a8940e66f08396ae25",
            "a4b28c8177064daaaa1d73fef5601182",
            "22709a273a7d4a6da4886d26a5fb2b9f",
            "3db233bb7c8d4e22b7d571436de4cb19",
            "5aa6a12a8ef44183a7925310ad0d753b"
          ]
        },
        "id": "yYoC0juub0UF",
        "outputId": "bc57fc6e-77ac-44a5-b619-73972ea72d1d"
      },
      "outputs": [
        {
          "data": {
            "application/vnd.jupyter.widget-view+json": {
              "model_id": "d24bdb84e44546fc9266a46680b590e5",
              "version_major": 2,
              "version_minor": 0
            },
            "text/plain": [
              "Optimization Progress:   0%|          | 0/300 [00:00<?, ?pipeline/s]"
            ]
          },
          "metadata": {},
          "output_type": "display_data"
        },
        {
          "name": "stdout",
          "output_type": "stream",
          "text": [
            "\n",
            "Generation 1 - Current best internal CV score: 0.852878872100662\n",
            "\n",
            "Generation 2 - Current best internal CV score: 0.8549554466285985\n",
            "\n",
            "Generation 3 - Current best internal CV score: 0.8549554466285985\n",
            "\n",
            "Generation 4 - Current best internal CV score: 0.8549554466285985\n",
            "\n",
            "Generation 5 - Current best internal CV score: 0.8549554466285985\n",
            "\n",
            "Best pipeline: GradientBoostingClassifier(RFE(MinMaxScaler(input_matrix), criterion=entropy, max_features=0.15000000000000002, n_estimators=100, step=0.45), learning_rate=0.1, max_depth=10, max_features=0.15000000000000002, min_samples_leaf=14, min_samples_split=17, n_estimators=100, subsample=0.8)\n",
            "0.845136186770428\n"
          ]
        }
      ],
      "source": [
        "\"\"\"\n",
        "from tpot import TPOTClassifier\n",
        "\n",
        "tpot = TPOTClassifier(generations=5, population_size=50, verbosity=2)\n",
        "tpot.fit(X_train, y_train)\n",
        "print(tpot.score(X_test, y_test))\n",
        "tpot.export('tpot_digits_pipeline.py')\n",
        "\"\"\""
      ]
    },
    {
      "cell_type": "markdown",
      "metadata": {
        "id": "Sn5srjz22LM8"
      },
      "source": [
        "Проверим предложенную модель"
      ]
    },
    {
      "cell_type": "code",
      "execution_count": null,
      "metadata": {
        "id": "iOLHL6dk2LM8",
        "outputId": "822c18d3-95b1-42ae-dd21-f1a8a4eee355"
      },
      "outputs": [
        {
          "name": "stdout",
          "output_type": "stream",
          "text": [
            "Roc_auc_score embedding train: 1.0   test: 0.8416830094490997\n"
          ]
        }
      ],
      "source": [
        "from sklearn.ensemble import ExtraTreesClassifier, GradientBoostingClassifier\n",
        "from sklearn.feature_selection import RFE\n",
        "from sklearn.model_selection import train_test_split\n",
        "from sklearn.pipeline import make_pipeline\n",
        "from sklearn.preprocessing import MinMaxScaler\n",
        "\n",
        "\n",
        "# Average CV score on the training set was: 0.8549554466285985\n",
        "exported_pipeline = make_pipeline(\n",
        "    MinMaxScaler(),\n",
        "    RFE(estimator=ExtraTreesClassifier(criterion=\"entropy\", max_features=0.15000000000000002, n_estimators=100), step=0.45),\n",
        "    GradientBoostingClassifier(learning_rate=0.1, max_depth=10, max_features=0.15000000000000002, min_samples_leaf=14, min_samples_split=17, n_estimators=100, subsample=0.8)\n",
        ")\n",
        "\n",
        "exported_pipeline.fit(X1_train, y1_train)\n",
        "\n",
        "pred_train = exported_pipeline.predict(X1_train)\n",
        "pred_test = exported_pipeline.predict(X1_test)\n",
        "print('Roc_auc_score embedding train:',roc_auc_score(y1_train, pred_train),'  test:', roc_auc_score(y1_test, pred_test))\n",
        "# 20s"
      ]
    },
    {
      "cell_type": "code",
      "execution_count": null,
      "metadata": {
        "id": "LS7dhfDN2LM8",
        "outputId": "8adc521a-8fd0-4855-ddb3-df6bcbd06cb7"
      },
      "outputs": [
        {
          "name": "stdout",
          "output_type": "stream",
          "text": [
            "Roc_auc_score embedding train: 1.0   test: 0.835353895525049\n",
            "Roc_auc_score BOW train: 0.8194594146035818   test: 0.7885095382421108\n"
          ]
        }
      ],
      "source": [
        "model1 = GradientBoostingClassifier(learning_rate=0.1, max_depth=10, max_features=0.15, min_samples_leaf=14, min_samples_split=17, n_estimators=100, subsample=0.8)\n",
        "model1.fit(X1_train, y1_train)\n",
        "pred1_train = model1.predict(X1_train)\n",
        "pred1_test = model1.predict(X1_test)\n",
        "print('Roc_auc_score embedding train:',roc_auc_score(y1_train, pred1_train),'  test:', roc_auc_score(y1_test, pred1_test))\n",
        "\n",
        "model2 = GradientBoostingClassifier(learning_rate=0.1, max_depth=10, max_features=0.15, min_samples_leaf=14, min_samples_split=17, n_estimators=100, subsample=0.8)\n",
        "model2.fit(X2_train, y2_train)\n",
        "pred2_train = model2.predict(X2_train)\n",
        "pred2_test = model2.predict(X2_test)\n",
        "print('Roc_auc_score BOW train:',roc_auc_score(y2_train, pred2_train),'  test:', roc_auc_score(y2_test, pred2_test))\n",
        "# 1m 55s"
      ]
    },
    {
      "cell_type": "markdown",
      "metadata": {
        "id": "bu4zkhqr2LM8"
      },
      "source": [
        "# NN"
      ]
    },
    {
      "cell_type": "code",
      "execution_count": null,
      "metadata": {
        "id": "VDH-BUTw2LM8",
        "outputId": "91aa42c4-6666-4632-cda9-f712621e47e6"
      },
      "outputs": [
        {
          "data": {
            "text/plain": [
              "array([0, 1], dtype=int64)"
            ]
          },
          "execution_count": 11,
          "metadata": {},
          "output_type": "execute_result"
        }
      ],
      "source": [
        "pd.DataFrame(y1_train).value_counts()"
      ]
    },
    {
      "cell_type": "markdown",
      "metadata": {
        "id": "WPR9T6aQ2LM8"
      },
      "source": [
        "Немного не сбалансированные данные, расчитаем коэффициенты корреляции"
      ]
    },
    {
      "cell_type": "code",
      "execution_count": null,
      "metadata": {
        "id": "soXXl8VM2LM8",
        "outputId": "e4b3e0b0-2e71-4cc9-9336-bb196d2f02a2"
      },
      "outputs": [
        {
          "data": {
            "text/plain": [
              "array([0.9475211 , 1.05863288])"
            ]
          },
          "execution_count": 29,
          "metadata": {},
          "output_type": "execute_result"
        }
      ],
      "source": [
        "# Веса таргета\n",
        "class_weights = class_weight.compute_class_weight('balanced',classes=np.unique(y1_train),y=y1_train)\n",
        "class_weights"
      ]
    },
    {
      "cell_type": "code",
      "execution_count": null,
      "metadata": {
        "id": "9mMrqOR32LM9"
      },
      "outputs": [],
      "source": [
        "def plot_history(history,loss,metric):\n",
        "    fig, ax = plt.subplots(1, 2, figsize=(15, 5))\n",
        "    prm = [loss,metric]\n",
        "    lbl = ['Ошибка','Доля верных ответов']\n",
        "    for i in range(2):\n",
        "        ax[i].plot(history.history[prm[i]],\n",
        "                label=lbl[i]+' на обучающем наборе')\n",
        "\n",
        "        ax[i].plot(history.history['val_'+prm[i]],\n",
        "                label=lbl[i]+' на проверочном наборе')\n",
        "        ax[i].set_title(lbl[i])\n",
        "        ax[i].legend()\n",
        "    plt.show()"
      ]
    },
    {
      "cell_type": "code",
      "execution_count": null,
      "metadata": {
        "id": "NVcknkhY2LM9"
      },
      "outputs": [],
      "source": [
        "def create_model(shape1):\n",
        "\n",
        "    input_x = Input(shape=(shape1), name = 'input_x')\n",
        "    x = Dense(128, activation = 'relu') (input_x)\n",
        "    x = Dense(128, activation = 'relu') (x)\n",
        "    x = Dense(64, activation = 'relu') (x)\n",
        "     #x = Dropout(0.5) (x)\n",
        "    x = Dense(32, activation = 'relu') (x)\n",
        "    x = BatchNormalization() (x)\n",
        "    x = Dense(16, activation='relu') (x)\n",
        "    x = Dropout(0.4) (x)\n",
        "    output = Dense(1, activation='sigmoid', name = 'output') (x)\n",
        "    return Model([input_x], output)"
      ]
    },
    {
      "cell_type": "code",
      "execution_count": null,
      "metadata": {
        "id": "WoyvIkd12LM9",
        "outputId": "b9f2cbfa-2a0a-46c6-94a0-96836ffcbacf"
      },
      "outputs": [
        {
          "name": "stdout",
          "output_type": "stream",
          "text": [
            "Epoch 1/30\n",
            "57/57 [==============================] - 1s 7ms/step - loss: 0.6177 - auc: 0.7457 - val_loss: 0.6806 - val_auc: 0.8645\n",
            "Epoch 2/30\n",
            "57/57 [==============================] - 0s 4ms/step - loss: 0.5271 - auc: 0.8454 - val_loss: 0.6648 - val_auc: 0.8971\n",
            "Epoch 3/30\n",
            "57/57 [==============================] - 0s 4ms/step - loss: 0.4812 - auc: 0.8707 - val_loss: 0.6406 - val_auc: 0.9075\n",
            "Epoch 4/30\n",
            "57/57 [==============================] - 0s 5ms/step - loss: 0.4527 - auc: 0.8833 - val_loss: 0.6095 - val_auc: 0.9128\n",
            "Epoch 5/30\n",
            "57/57 [==============================] - 0s 4ms/step - loss: 0.4386 - auc: 0.8868 - val_loss: 0.5770 - val_auc: 0.9164\n",
            "Epoch 6/30\n",
            "57/57 [==============================] - 0s 5ms/step - loss: 0.4277 - auc: 0.8906 - val_loss: 0.5402 - val_auc: 0.9185\n",
            "Epoch 7/30\n",
            "57/57 [==============================] - 0s 4ms/step - loss: 0.4205 - auc: 0.8950 - val_loss: 0.5006 - val_auc: 0.9215\n",
            "Epoch 8/30\n",
            "57/57 [==============================] - 0s 4ms/step - loss: 0.4074 - auc: 0.8992 - val_loss: 0.4613 - val_auc: 0.9224\n",
            "Epoch 9/30\n",
            "57/57 [==============================] - 0s 4ms/step - loss: 0.3999 - auc: 0.9029 - val_loss: 0.4210 - val_auc: 0.9225\n",
            "Epoch 10/30\n",
            "57/57 [==============================] - 0s 4ms/step - loss: 0.4005 - auc: 0.9010 - val_loss: 0.4027 - val_auc: 0.9240\n",
            "Epoch 11/30\n",
            "57/57 [==============================] - 0s 4ms/step - loss: 0.3908 - auc: 0.9052 - val_loss: 0.3753 - val_auc: 0.9243\n",
            "Epoch 12/30\n",
            "57/57 [==============================] - 0s 4ms/step - loss: 0.3874 - auc: 0.9085 - val_loss: 0.3688 - val_auc: 0.9242\n",
            "Epoch 13/30\n",
            "57/57 [==============================] - 0s 3ms/step - loss: 0.3825 - auc: 0.9095 - val_loss: 0.3771 - val_auc: 0.9231\n",
            "Epoch 14/30\n",
            "57/57 [==============================] - 0s 4ms/step - loss: 0.3781 - auc: 0.9109 - val_loss: 0.3536 - val_auc: 0.9251\n",
            "Epoch 15/30\n",
            "57/57 [==============================] - 0s 3ms/step - loss: 0.3715 - auc: 0.9143 - val_loss: 0.3582 - val_auc: 0.9244\n",
            "Epoch 16/30\n",
            "57/57 [==============================] - 0s 4ms/step - loss: 0.3696 - auc: 0.9146 - val_loss: 0.3465 - val_auc: 0.9249\n",
            "Epoch 17/30\n",
            "57/57 [==============================] - 0s 4ms/step - loss: 0.3697 - auc: 0.9146 - val_loss: 0.3528 - val_auc: 0.9243\n",
            "Epoch 18/30\n",
            "57/57 [==============================] - 0s 4ms/step - loss: 0.3597 - auc: 0.9192 - val_loss: 0.3468 - val_auc: 0.9257\n",
            "Epoch 19/30\n",
            "57/57 [==============================] - 0s 4ms/step - loss: 0.3642 - auc: 0.9177 - val_loss: 0.3508 - val_auc: 0.9245\n",
            "Epoch 20/30\n",
            "57/57 [==============================] - 0s 3ms/step - loss: 0.3592 - auc: 0.9202 - val_loss: 0.3510 - val_auc: 0.9254\n",
            "Epoch 21/30\n",
            "57/57 [==============================] - 0s 3ms/step - loss: 0.3566 - auc: 0.9206 - val_loss: 0.3480 - val_auc: 0.9255\n",
            "Epoch 22/30\n",
            "57/57 [==============================] - 0s 3ms/step - loss: 0.3516 - auc: 0.9238 - val_loss: 0.3490 - val_auc: 0.9254\n",
            "Epoch 23/30\n",
            "57/57 [==============================] - 0s 4ms/step - loss: 0.3509 - auc: 0.9239 - val_loss: 0.3505 - val_auc: 0.9259\n",
            "Epoch 24/30\n",
            "57/57 [==============================] - 0s 3ms/step - loss: 0.3517 - auc: 0.9228 - val_loss: 0.3538 - val_auc: 0.9253\n",
            "Epoch 25/30\n",
            "57/57 [==============================] - 0s 3ms/step - loss: 0.3482 - auc: 0.9246 - val_loss: 0.3519 - val_auc: 0.9240\n",
            "Epoch 26/30\n",
            "57/57 [==============================] - 0s 3ms/step - loss: 0.3438 - auc: 0.9273 - val_loss: 0.3488 - val_auc: 0.9240\n",
            "Epoch 27/30\n",
            "57/57 [==============================] - 0s 3ms/step - loss: 0.3402 - auc: 0.9276 - val_loss: 0.3496 - val_auc: 0.9249\n",
            "Epoch 28/30\n",
            "57/57 [==============================] - 0s 3ms/step - loss: 0.3336 - auc: 0.9315 - val_loss: 0.3531 - val_auc: 0.9231\n",
            "Epoch 29/30\n",
            "57/57 [==============================] - 0s 5ms/step - loss: 0.3319 - auc: 0.9332 - val_loss: 0.3479 - val_auc: 0.9240\n",
            "Epoch 30/30\n",
            "57/57 [==============================] - 0s 4ms/step - loss: 0.3321 - auc: 0.9318 - val_loss: 0.3529 - val_auc: 0.9231\n",
            "10/10 [==============================] - 0s 2ms/step\n",
            "Точность на тестовой выборке по метрике roc_auc: 0.914\n",
            "              precision    recall  f1-score   support\n",
            "\n",
            "           0       0.95      0.78      0.86       158\n",
            "           1       0.80      0.95      0.87       142\n",
            "\n",
            "    accuracy                           0.86       300\n",
            "   macro avg       0.87      0.87      0.86       300\n",
            "weighted avg       0.88      0.86      0.86       300\n",
            "\n"
          ]
        },
        {
          "data": {
            "image/png": "[encoded data removed]",
            "text/plain": [
              "<Figure size 1500x500 with 2 Axes>"
            ]
          },
          "metadata": {},
          "output_type": "display_data"
        }
      ],
      "source": [
        "model = create_model(X1_train.shape[1])\n",
        "#utils.plot_model(model, show_shapes=True)\n",
        "e_stop = EarlyStopping(monitor='val_auc', patience=20)\n",
        "save_best_w = ModelCheckpoint(filepath='./', save_weights_only=True, monitor='val_auc', mode='max', save_best_only=True)\n",
        "model.compile(optimizer=Adam(learning_rate=0.0001), loss='binary_crossentropy', metrics=['AUC'])\n",
        "history1 = model.fit(X1_train, y1_train,\n",
        "                     validation_data=[X1_val, y1_val],\n",
        "                     batch_size=64, epochs=30, verbose=1, shuffle=True,\n",
        "                     class_weight={0:class_weights[0],1:class_weights[1]},\n",
        "                     callbacks = [e_stop, save_best_w]\n",
        "                     )\n",
        "model.load_weights('./')\n",
        "# with open('model.pickle', 'rb') as fp:\n",
        "#         tokenizer, model = pickle.load(fp)\n",
        "pred_test = model.predict(X1_test)\n",
        "auc = roc_auc_score(y1_test,pred_test)\n",
        "print(f'Точность на тестовой выборке по метрике roc_auc: {auc:5.3f}')\n",
        "threshold = 0.5\n",
        "y_pred_binary = (pred_test > threshold).astype(int)\n",
        "print(classification_report(y1_test,y_pred_binary))\n",
        "plot_history(history1,'loss','auc')"
      ]
    },
    {
      "cell_type": "code",
      "execution_count": null,
      "metadata": {
        "id": "Zx1F7xMC2LNA",
        "outputId": "f7c06b2a-545f-4419-a21e-c10fcd72504f"
      },
      "outputs": [
        {
          "data": {
            "image/png": "[encoded data removed]",
            "text/plain": [
              "<Figure size 640x480 with 1 Axes>"
            ]
          },
          "metadata": {},
          "output_type": "display_data"
        }
      ],
      "source": [
        "fpr, tpr, _ = roc_curve(y1_test, pred_test)\n",
        "\n",
        "#create ROC curve\n",
        "plt.plot (fpr,tpr,label=\" AUC= \"+str(auc))\n",
        "plt.ylabel('True Positive Rate')\n",
        "plt.xlabel('False Positive Rate')\n",
        "plt.legend(loc=4)\n",
        "plt.show()"
      ]
    },
    {
      "cell_type": "code",
      "execution_count": null,
      "metadata": {
        "id": "9TGVgAu22LNB",
        "outputId": "0a3dd023-34e7-40e2-805e-9621c4124ba6"
      },
      "outputs": [
        {
          "data": {
            "image/png": "[encoded data removed]",
            "text/plain": [
              "<Figure size 700x700 with 1 Axes>"
            ]
          },
          "metadata": {},
          "output_type": "display_data"
        }
      ],
      "source": [
        "from sklearn.metrics import confusion_matrix, ConfusionMatrixDisplay, classification_report\n",
        "# Построение матрицы ошибок\n",
        "cm = confusion_matrix(y1_test, y_pred_binary)\n",
        "\n",
        "# Отрисовка матрицы ошибок\n",
        "fig, ax = plt.subplots(figsize=(7, 7))\n",
        "ax.set_title(f'Матрица ошибок', fontsize=18)\n",
        "disp = ConfusionMatrixDisplay(confusion_matrix=cm, display_labels=['Нецелевой','Целевой'])\n",
        "disp.plot(ax=ax)\n",
        "plt.style.use('fivethirtyeight')\n",
        "plt.grid(None)\n",
        "plt.gca().images[-1].colorbar.remove()\n",
        "plt.xlabel('Предсказанные классы', fontsize=16)\n",
        "plt.ylabel('Верные классы', fontsize=16)\n",
        "fig.autofmt_xdate(rotation=45)\n",
        "plt.show()"
      ]
    },
    {
      "cell_type": "code",
      "execution_count": null,
      "metadata": {
        "id": "QODMIYD62LNB"
      },
      "outputs": [],
      "source": [
        "# Сохранение модели в файл, для чтения используется pickle.dump()\n",
        "with open(f_dir+'model.pkl', 'wb') as f:\n",
        "    pickle.dump([model], f)"
      ]
    },
    {
      "cell_type": "markdown",
      "metadata": {
        "id": "FdzAFWGF2LNB"
      },
      "source": [
        "# Функция предсказания"
      ]
    },
    {
      "cell_type": "code",
      "execution_count": null,
      "metadata": {
        "id": "2von6VMz2LNB"
      },
      "outputs": [],
      "source": [
        "# whisper\n",
        "! pip install git+https://github.com/openai/whisper.git\n",
        "! sudo apt update && sudo apt install ffmpeg\n",
        "# BERT\n",
        "! pip install transformers sentencepiece"
      ]
    },
    {
      "cell_type": "code",
      "execution_count": 11,
      "metadata": {
        "id": "HlBUCWCH2LNB"
      },
      "outputs": [],
      "source": [
        "import os\n",
        "import re\n",
        "import whisper\n",
        "import time\n",
        "import torch\n",
        "from transformers import AutoTokenizer, AutoModel\n",
        "import tensorflow as tf\n",
        "from tensorflow.keras.models import load_model\n",
        "import pandas as pd  # для работы с таблицами\n",
        "import numpy  as np  # для работы с массивами\n"
      ]
    },
    {
      "cell_type": "code",
      "source": [
        "from google.colab import drive\n",
        "drive.mount('/content/drive')"
      ],
      "metadata": {
        "colab": {
          "base_uri": "https://localhost:8080/"
        },
        "id": "P4WKZ2923WZI",
        "outputId": "2e4fe5f9-9a8d-4b10-f4b8-eb4fa6a95532"
      },
      "execution_count": 4,
      "outputs": [
        {
          "output_type": "stream",
          "name": "stdout",
          "text": [
            "Mounted at /content/drive\n"
          ]
        }
      ]
    },
    {
      "cell_type": "code",
      "source": [
        "# whisper_model = 'tiny' # Very fast and very inaccurate speech recognition\n",
        "# whisper_model = 'base' # Fast and fourius\n",
        "# whisper_model = 'small' # Worse than medium but still OK\n",
        "# whisper_model = 'medium' # Good recognition results but too slow on CPU\n",
        "whisper_model = 'large' # Use on GPU only\n",
        "text_language = 'ru'\n",
        "model_w = whisper.load_model(whisper_model)\n",
        "\n",
        "tokenizer = AutoTokenizer.from_pretrained(\"cointegrated/rubert-tiny\")\n",
        "model_bert = AutoModel.from_pretrained(\"cointegrated/rubert-tiny\")\n",
        "model_bert.cuda()  # uncomment it if you have a GPU\n",
        "f_dir = '/content/drive/MyDrive/Traineeships/media108/'\n",
        "#f_dir = 'c:/Users/vokulovskiy/Documents/python/media108/'\n"
      ],
      "metadata": {
        "colab": {
          "base_uri": "https://localhost:8080/"
        },
        "id": "4JMLwx5t3pVu",
        "outputId": "b2eb83fa-f20c-45f5-aadc-e11992fa1084"
      },
      "execution_count": 16,
      "outputs": [
        {
          "output_type": "stream",
          "name": "stderr",
          "text": [
            "100%|█████████████████████████████████████| 2.88G/2.88G [00:45<00:00, 68.6MiB/s]\n"
          ]
        }
      ]
    },
    {
      "cell_type": "code",
      "source": [
        "model_nn = load_model(f_dir+'model.h5')"
      ],
      "metadata": {
        "id": "snNIHcvI72CZ"
      },
      "execution_count": 8,
      "outputs": []
    },
    {
      "cell_type": "code",
      "execution_count": 13,
      "metadata": {
        "id": "-09kUE8r2LNB"
      },
      "outputs": [],
      "source": [
        "def predict_mp3(song_file):\n",
        "    result = model_w.transcribe(song_file, verbose = True, language = text_language)\n",
        "    rawtext = ' '.join([segment['text'].strip() for segment in result['segments']])\n",
        "    rawtext = re.sub(\" +\", \" \", rawtext)\n",
        "    alltext = re.sub(\"([\\.\\!\\?]) \", \"\\\\1\\n\", rawtext)\n",
        "    #Удаляем из Текст_whisper все символы кроме русских букв и цифр\n",
        "    alltext = re.sub(\"[^А-Яа-я0-9 ]\", \"\", alltext.lower()).strip()\n",
        "\n",
        "    t = tokenizer(alltext, padding=True, truncation=True, return_tensors='pt')\n",
        "    with torch.no_grad():\n",
        "        model_output = model_bert(**{k: v.to(model_bert.device) for k, v in t.items()})\n",
        "    embeddings = model_output.last_hidden_state[:, 0, :]\n",
        "    embeddings = torch.nn.functional.normalize(embeddings)\n",
        "    X = embeddings[0].cpu().numpy()\n",
        "    return model_nn.predict(X.reshape(1,X.shape[0]))"
      ]
    },
    {
      "cell_type": "code",
      "execution_count": 17,
      "metadata": {
        "colab": {
          "base_uri": "https://localhost:8080/"
        },
        "id": "ibnYR3Nx2LNC",
        "outputId": "ea236dc5-0b49-4a25-d37a-441b50ddc6d7"
      },
      "outputs": [
        {
          "output_type": "stream",
          "name": "stdout",
          "text": [
            "/content/drive/MyDrive/Traineeships/media108/audio/Записи звонков_хедлайнер/2023-07-04_12-23-35.372384_from_79265459973_to_74959339902_session_3075699925_talk.mp3\n",
            "[00:00.000 --> 00:07.900]  Здравствуйте. Вы позвонили в группу компании «Картрос». Благодарим вас за звонок. Пожалуйста, дождитесь ответа оператора.\n",
            "[00:19.740 --> 00:22.420]  Добрый день. Группа компании «Картрос». Меня зовут Любовь.\n",
            "[00:22.420 --> 00:33.840]  Добрый день. На линии Вячеслав. Интересует хедлайнер. Бюджет не ограничен. Четырехкомнатная квартира, террасы, верхние этажи. Могу соединить?\n",
            "[00:34.280 --> 00:35.040]  Да, спасибо.\n",
            "[00:36.660 --> 00:40.080]  Добрый день. Жилой комплекс «Хедлайнер». Соединяется делом продаж.\n",
            "[00:41.300 --> 00:41.680]  Да.\n",
            "[00:52.420 --> 01:22.400]  Добрый день. Жилой комплекс «Хедлайнер». Соединяется делом продаж.\n",
            "[01:22.420 --> 01:25.880]  Почему вы смотрите? Потому что у нас террасы невысокие, невысотные дома.\n",
            "[01:28.140 --> 01:29.700]  Нет, невысокие дома.\n",
            "[01:32.600 --> 01:42.560]  Так, ну давайте я сейчас проверю, вам на WhatsApp направлю, если найду планировку, если нет, я вам тогда отпишусь по поводу вот этого запроса, хорошо?\n",
            "[01:42.800 --> 01:46.940]  Потому что, насколько помню, тут не осталось. Ну, восьмой этаж вам подойдет.\n",
            "[01:46.960 --> 01:47.700]  Да, а где запрос?\n",
            "[01:50.600 --> 01:52.400]  Ну, я имею в виду там дом.\n",
            "[01:52.420 --> 01:53.340]  Где запрос?\n",
            "[01:54.540 --> 02:07.420]  Жилой комплекс у нас находится рядом с метро «Шелепиха», район Пресненский, центральный административный округ, 400 метров до Москвы, 10 минут пешком тут идти буквально.\n",
            "[02:07.740 --> 02:10.760]  И рядышком «Шелепихинская набережная» в 200 метрах.\n",
            "[02:12.900 --> 02:15.420]  Жилой комплекс у нас бизнес-класса.\n",
            "[02:17.700 --> 02:20.420]  Да, видите мне заданную в WhatsApp фотографию?\n",
            "[02:22.420 --> 02:26.240]  А можете номер телефона сказать, потому что у вас городское определение?\n",
            "[02:26.240 --> 02:36.640]  Да, полицейский, 926, 545, 79.\n",
            "[02:42.420 --> 02:47.380]  А площадь какую вообще рассматриваете, сколько метров, либо комнат?\n",
            "[02:48.980 --> 02:50.580]  Ну, 100 квадратов.\n",
            "[02:50.580 --> 02:51.900]  100 квадратов.\n",
            "[02:52.420 --> 02:54.540]  Ага, хорошо.\n",
            "[02:55.120 --> 03:00.360]  Ну, по бюджету это где-то в районе от 43 до 50 миллионов может выйти.\n",
            "[03:00.800 --> 03:01.400]  Да, хорошо.\n",
            "[03:01.420 --> 03:02.280]  Компортно для вас?\n",
            "[03:02.620 --> 03:03.740]  Да.\n",
            "[03:03.900 --> 03:08.320]  Хорошо, Вячеслав, тогда сейчас я посмотрю варианты вам направленного WhatsApp.\n",
            "[03:09.260 --> 03:10.020]  Да, спасибо.\n",
            "[03:10.960 --> 03:12.660]  Пожалуйста, хорошего дня вам.\n",
            "[03:13.140 --> 03:13.800]  Спасибо вам.\n",
            "1/1 [==============================] - 0s 135ms/step\n",
            "Файл: Записи звонков_хедлайнер/2023-07-04_12-23-35.372384_from_79265459973_to_74959339902_session_3075699925_talk.mp3, признак:Целевой, тег: Лид - Первичный целевой - 2 очередь - 3 очередь - 4-ком\n",
            "\tВероятность целевого звонка: 0.544\n"
          ]
        }
      ],
      "source": [
        "dfs = pd.read_csv(f_dir+'df_all.csv',encoding='cp1251')\n",
        "vib = dfs.loc[:,['Name','Имя файла','Признак','Теги']].sample(1)\n",
        "decode_dir = {'Павелецкая сити':'Записи звонков_павелецкая сити', 'Headliner':'Записи звонков_хедлайнер', 'Примавера':'Записи звонков_primavera'}\n",
        "\n",
        "for i,row in vib.iterrows():\n",
        "    fname = '/content/drive/MyDrive/Traineeships/media108/audio/'+ row['Имя файла']\n",
        "    print(fname)\n",
        "    try:\n",
        "        file = open(fname)\n",
        "    except IOError as e:\n",
        "        print(u'не удалось открыть файл')\n",
        "    else:\n",
        "        file.close()\n",
        "        v = predict_mp3(fname)\n",
        "        print(f\"Файл: {row['Имя файла']}, признак:{row['Признак']}, тег: {row['Теги']}\")\n",
        "        print(f'\\tВероятность целевого звонка: {v[0][0]:5.3f}')\n",
        "\n"
      ]
    }
  ],
  "metadata": {
    "colab": {
      "collapsed_sections": [
        "x6W0Id1Ib0T_",
        "iPOmm2Tmb0UE",
        "joyK1Tjf2LM6",
        "bu4zkhqr2LM8"
      ],
      "provenance": [],
      "gpuType": "T4"
    },
    "kernelspec": {
      "display_name": "Python 3",
      "name": "python3"
    },
    "language_info": {
      "codemirror_mode": {
        "name": "ipython",
        "version": 3
      },
      "file_extension": ".py",
      "mimetype": "text/x-python",
      "name": "python",
      "nbconvert_exporter": "python",
      "pygments_lexer": "ipython3",
      "version": "3.10.0"
    },
    "widgets": {
      "application/vnd.jupyter.widget-state+json": {
        "22709a273a7d4a6da4886d26a5fb2b9f": {
          "model_module": "@jupyter-widgets/controls",
          "model_module_version": "1.5.0",
          "model_name": "ProgressStyleModel",
          "state": {
            "_model_module": "@jupyter-widgets/controls",
            "_model_module_version": "1.5.0",
            "_model_name": "ProgressStyleModel",
            "_view_count": null,
            "_view_module": "@jupyter-widgets/base",
            "_view_module_version": "1.2.0",
            "_view_name": "StyleView",
            "bar_color": null,
            "description_width": ""
          }
        },
        "2929e43f5c5e4dec986772e69d0900be": {
          "model_module": "@jupyter-widgets/base",
          "model_module_version": "1.2.0",
          "model_name": "LayoutModel",
          "state": {
            "_model_module": "@jupyter-widgets/base",
            "_model_module_version": "1.2.0",
            "_model_name": "LayoutModel",
            "_view_count": null,
            "_view_module": "@jupyter-widgets/base",
            "_view_module_version": "1.2.0",
            "_view_name": "LayoutView",
            "align_content": null,
            "align_items": null,
            "align_self": null,
            "border": null,
            "bottom": null,
            "display": null,
            "flex": null,
            "flex_flow": null,
            "grid_area": null,
            "grid_auto_columns": null,
            "grid_auto_flow": null,
            "grid_auto_rows": null,
            "grid_column": null,
            "grid_gap": null,
            "grid_row": null,
            "grid_template_areas": null,
            "grid_template_columns": null,
            "grid_template_rows": null,
            "height": null,
            "justify_content": null,
            "justify_items": null,
            "left": null,
            "margin": null,
            "max_height": null,
            "max_width": null,
            "min_height": null,
            "min_width": null,
            "object_fit": null,
            "object_position": null,
            "order": null,
            "overflow": null,
            "overflow_x": null,
            "overflow_y": null,
            "padding": null,
            "right": null,
            "top": null,
            "visibility": "hidden",
            "width": null
          }
        },
        "3db233bb7c8d4e22b7d571436de4cb19": {
          "model_module": "@jupyter-widgets/base",
          "model_module_version": "1.2.0",
          "model_name": "LayoutModel",
          "state": {
            "_model_module": "@jupyter-widgets/base",
            "_model_module_version": "1.2.0",
            "_model_name": "LayoutModel",
            "_view_count": null,
            "_view_module": "@jupyter-widgets/base",
            "_view_module_version": "1.2.0",
            "_view_name": "LayoutView",
            "align_content": null,
            "align_items": null,
            "align_self": null,
            "border": null,
            "bottom": null,
            "display": null,
            "flex": null,
            "flex_flow": null,
            "grid_area": null,
            "grid_auto_columns": null,
            "grid_auto_flow": null,
            "grid_auto_rows": null,
            "grid_column": null,
            "grid_gap": null,
            "grid_row": null,
            "grid_template_areas": null,
            "grid_template_columns": null,
            "grid_template_rows": null,
            "height": null,
            "justify_content": null,
            "justify_items": null,
            "left": null,
            "margin": null,
            "max_height": null,
            "max_width": null,
            "min_height": null,
            "min_width": null,
            "object_fit": null,
            "object_position": null,
            "order": null,
            "overflow": null,
            "overflow_x": null,
            "overflow_y": null,
            "padding": null,
            "right": null,
            "top": null,
            "visibility": null,
            "width": null
          }
        },
        "5aa6a12a8ef44183a7925310ad0d753b": {
          "model_module": "@jupyter-widgets/controls",
          "model_module_version": "1.5.0",
          "model_name": "DescriptionStyleModel",
          "state": {
            "_model_module": "@jupyter-widgets/controls",
            "_model_module_version": "1.5.0",
            "_model_name": "DescriptionStyleModel",
            "_view_count": null,
            "_view_module": "@jupyter-widgets/base",
            "_view_module_version": "1.2.0",
            "_view_name": "StyleView",
            "description_width": ""
          }
        },
        "5bdd81e7f87e483399e3ac91082ebd4f": {
          "model_module": "@jupyter-widgets/controls",
          "model_module_version": "1.5.0",
          "model_name": "HTMLModel",
          "state": {
            "_dom_classes": [],
            "_model_module": "@jupyter-widgets/controls",
            "_model_module_version": "1.5.0",
            "_model_name": "HTMLModel",
            "_view_count": null,
            "_view_module": "@jupyter-widgets/controls",
            "_view_module_version": "1.5.0",
            "_view_name": "HTMLView",
            "description": "",
            "description_tooltip": null,
            "layout": "IPY_MODEL_3db233bb7c8d4e22b7d571436de4cb19",
            "placeholder": "​",
            "style": "IPY_MODEL_5aa6a12a8ef44183a7925310ad0d753b",
            "value": " 304/? [2:15:49&lt;00:00, 70.90s/pipeline]"
          }
        },
        "63ed2405deb04317a7af4b102812ae52": {
          "model_module": "@jupyter-widgets/base",
          "model_module_version": "1.2.0",
          "model_name": "LayoutModel",
          "state": {
            "_model_module": "@jupyter-widgets/base",
            "_model_module_version": "1.2.0",
            "_model_name": "LayoutModel",
            "_view_count": null,
            "_view_module": "@jupyter-widgets/base",
            "_view_module_version": "1.2.0",
            "_view_name": "LayoutView",
            "align_content": null,
            "align_items": null,
            "align_self": null,
            "border": null,
            "bottom": null,
            "display": null,
            "flex": null,
            "flex_flow": null,
            "grid_area": null,
            "grid_auto_columns": null,
            "grid_auto_flow": null,
            "grid_auto_rows": null,
            "grid_column": null,
            "grid_gap": null,
            "grid_row": null,
            "grid_template_areas": null,
            "grid_template_columns": null,
            "grid_template_rows": null,
            "height": null,
            "justify_content": null,
            "justify_items": null,
            "left": null,
            "margin": null,
            "max_height": null,
            "max_width": null,
            "min_height": null,
            "min_width": null,
            "object_fit": null,
            "object_position": null,
            "order": null,
            "overflow": null,
            "overflow_x": null,
            "overflow_y": null,
            "padding": null,
            "right": null,
            "top": null,
            "visibility": null,
            "width": null
          }
        },
        "66e4c929a0ce43d7959e63787d4830be": {
          "model_module": "@jupyter-widgets/controls",
          "model_module_version": "1.5.0",
          "model_name": "FloatProgressModel",
          "state": {
            "_dom_classes": [],
            "_model_module": "@jupyter-widgets/controls",
            "_model_module_version": "1.5.0",
            "_model_name": "FloatProgressModel",
            "_view_count": null,
            "_view_module": "@jupyter-widgets/controls",
            "_view_module_version": "1.5.0",
            "_view_name": "ProgressView",
            "bar_style": "",
            "description": "",
            "description_tooltip": null,
            "layout": "IPY_MODEL_a4b28c8177064daaaa1d73fef5601182",
            "max": 300,
            "min": 0,
            "orientation": "horizontal",
            "style": "IPY_MODEL_22709a273a7d4a6da4886d26a5fb2b9f",
            "value": 300
          }
        },
        "a4b28c8177064daaaa1d73fef5601182": {
          "model_module": "@jupyter-widgets/base",
          "model_module_version": "1.2.0",
          "model_name": "LayoutModel",
          "state": {
            "_model_module": "@jupyter-widgets/base",
            "_model_module_version": "1.2.0",
            "_model_name": "LayoutModel",
            "_view_count": null,
            "_view_module": "@jupyter-widgets/base",
            "_view_module_version": "1.2.0",
            "_view_name": "LayoutView",
            "align_content": null,
            "align_items": null,
            "align_self": null,
            "border": null,
            "bottom": null,
            "display": null,
            "flex": null,
            "flex_flow": null,
            "grid_area": null,
            "grid_auto_columns": null,
            "grid_auto_flow": null,
            "grid_auto_rows": null,
            "grid_column": null,
            "grid_gap": null,
            "grid_row": null,
            "grid_template_areas": null,
            "grid_template_columns": null,
            "grid_template_rows": null,
            "height": null,
            "justify_content": null,
            "justify_items": null,
            "left": null,
            "margin": null,
            "max_height": null,
            "max_width": null,
            "min_height": null,
            "min_width": null,
            "object_fit": null,
            "object_position": null,
            "order": null,
            "overflow": null,
            "overflow_x": null,
            "overflow_y": null,
            "padding": null,
            "right": null,
            "top": null,
            "visibility": null,
            "width": null
          }
        },
        "d24bdb84e44546fc9266a46680b590e5": {
          "model_module": "@jupyter-widgets/controls",
          "model_module_version": "1.5.0",
          "model_name": "HBoxModel",
          "state": {
            "_dom_classes": [],
            "_model_module": "@jupyter-widgets/controls",
            "_model_module_version": "1.5.0",
            "_model_name": "HBoxModel",
            "_view_count": null,
            "_view_module": "@jupyter-widgets/controls",
            "_view_module_version": "1.5.0",
            "_view_name": "HBoxView",
            "box_style": "",
            "children": [
              "IPY_MODEL_d388038909e04f02ae5367564c38a567",
              "IPY_MODEL_66e4c929a0ce43d7959e63787d4830be",
              "IPY_MODEL_5bdd81e7f87e483399e3ac91082ebd4f"
            ],
            "layout": "IPY_MODEL_2929e43f5c5e4dec986772e69d0900be"
          }
        },
        "d388038909e04f02ae5367564c38a567": {
          "model_module": "@jupyter-widgets/controls",
          "model_module_version": "1.5.0",
          "model_name": "HTMLModel",
          "state": {
            "_dom_classes": [],
            "_model_module": "@jupyter-widgets/controls",
            "_model_module_version": "1.5.0",
            "_model_name": "HTMLModel",
            "_view_count": null,
            "_view_module": "@jupyter-widgets/controls",
            "_view_module_version": "1.5.0",
            "_view_name": "HTMLView",
            "description": "",
            "description_tooltip": null,
            "layout": "IPY_MODEL_63ed2405deb04317a7af4b102812ae52",
            "placeholder": "​",
            "style": "IPY_MODEL_d3ee53528c1c48a8940e66f08396ae25",
            "value": "Optimization Progress: "
          }
        },
        "d3ee53528c1c48a8940e66f08396ae25": {
          "model_module": "@jupyter-widgets/controls",
          "model_module_version": "1.5.0",
          "model_name": "DescriptionStyleModel",
          "state": {
            "_model_module": "@jupyter-widgets/controls",
            "_model_module_version": "1.5.0",
            "_model_name": "DescriptionStyleModel",
            "_view_count": null,
            "_view_module": "@jupyter-widgets/base",
            "_view_module_version": "1.2.0",
            "_view_name": "StyleView",
            "description_width": ""
          }
        }
      }
    },
    "accelerator": "GPU"
  },
  "nbformat": 4,
  "nbformat_minor": 0
}